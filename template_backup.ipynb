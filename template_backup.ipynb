{
 "cells": [
  {
   "cell_type": "markdown",
   "metadata": {},
   "source": [
    "This is the template for DS3000 Final data analysis project. Once you finish, please remove all my instructions. You do not need to exactly follow the structure in the template but please make sure you have all the components. Write your report in paragraphs. Only use bullet points when list something (eg: functions) "
   ]
  },
  {
   "cell_type": "markdown",
   "metadata": {},
   "source": [
    "# Title \n",
    "#### Team number\n",
    "- Xavier Yu, Vilasini Nathan, Justin Lee"
   ]
  },
  {
   "cell_type": "code",
   "execution_count": 27,
   "metadata": {},
   "outputs": [
    {
     "ename": "ModuleNotFoundError",
     "evalue": "No module named 'selenium'",
     "output_type": "error",
     "traceback": [
      "\u001b[0;31m---------------------------------------------------------------------------\u001b[0m",
      "\u001b[0;31mModuleNotFoundError\u001b[0m                       Traceback (most recent call last)",
      "Cell \u001b[0;32mIn[27], line 24\u001b[0m\n\u001b[1;32m     22\u001b[0m \u001b[38;5;28;01mimport\u001b[39;00m \u001b[38;5;21;01mrequests\u001b[39;00m\n\u001b[1;32m     23\u001b[0m \u001b[38;5;28;01mfrom\u001b[39;00m \u001b[38;5;21;01mbs4\u001b[39;00m \u001b[38;5;28;01mimport\u001b[39;00m BeautifulSoup\n\u001b[0;32m---> 24\u001b[0m \u001b[38;5;28;01mfrom\u001b[39;00m \u001b[38;5;21;01mselenium\u001b[39;00m \u001b[38;5;28;01mimport\u001b[39;00m webdriver\n\u001b[1;32m     25\u001b[0m \u001b[38;5;28;01mfrom\u001b[39;00m \u001b[38;5;21;01mselenium\u001b[39;00m\u001b[38;5;21;01m.\u001b[39;00m\u001b[38;5;21;01mwebdriver\u001b[39;00m\u001b[38;5;21;01m.\u001b[39;00m\u001b[38;5;21;01mcommon\u001b[39;00m\u001b[38;5;21;01m.\u001b[39;00m\u001b[38;5;21;01mby\u001b[39;00m \u001b[38;5;28;01mimport\u001b[39;00m By\n\u001b[1;32m     26\u001b[0m \u001b[38;5;28;01mfrom\u001b[39;00m \u001b[38;5;21;01mselenium\u001b[39;00m\u001b[38;5;21;01m.\u001b[39;00m\u001b[38;5;21;01mwebdriver\u001b[39;00m\u001b[38;5;21;01m.\u001b[39;00m\u001b[38;5;21;01msupport\u001b[39;00m\u001b[38;5;21;01m.\u001b[39;00m\u001b[38;5;21;01mui\u001b[39;00m \u001b[38;5;28;01mimport\u001b[39;00m WebDriverWait, Select\n",
      "\u001b[0;31mModuleNotFoundError\u001b[0m: No module named 'selenium'"
     ]
    }
   ],
   "source": [
    "from __future__ import annotations\n",
    "\n",
    "import warnings\n",
    "warnings.simplefilter(action='ignore', category=FutureWarning)\n",
    "\n",
    "import time\n",
    "from typing import List, Dict, Optional, Tuple, Iterable\n",
    "\n",
    "import pandas as pd\n",
    "import numpy as np\n",
    "\n",
    "\n",
    "import matplotlib.pyplot as plt\n",
    "import seaborn as sns\n",
    "import plotly.express as px\n",
    "import plotly.graph_objects as go\n",
    "from plotly.subplots import make_subplots\n",
    "import ipywidgets as w\n",
    "from IPython.display import display, clear_output, HTML, FileLink\n",
    "\n",
    "\n",
    "import requests\n",
    "from bs4 import BeautifulSoup\n",
    "from selenium import webdriver\n",
    "from selenium.webdriver.common.by import By\n",
    "from selenium.webdriver.support.ui import WebDriverWait, Select\n",
    "from selenium.webdriver.support import expected_conditions as EC\n",
    "from selenium.common.exceptions import TimeoutException, NoSuchElementException\n",
    "\n",
    "import scipy.stats as stats\n",
    "import pylab as py\n",
    "\n",
    "from sklearn import tree\n",
    "from sklearn.linear_model import LinearRegression\n",
    "from sklearn.cluster import KMeans\n",
    "from sklearn.decomposition import PCA\n",
    "from sklearn.model_selection import StratifiedKFold, KFold, train_test_split, cross_val_score\n",
    "from sklearn.metrics import (\n",
    "    confusion_matrix, ConfusionMatrixDisplay, accuracy_score, r2_score\n",
    ")\n",
    "from sklearn.ensemble import RandomForestClassifier, RandomForestRegressor\n",
    "from sklearn.pipeline import Pipeline\n",
    "from sklearn.impute import SimpleImputer\n",
    "from sklearn.preprocessing import StandardScaler\n",
    "from sklearn.compose import ColumnTransformer\n",
    "from sklearn.inspection import permutation_importance\n"
   ]
  },
  {
   "cell_type": "markdown",
   "metadata": {},
   "source": [
    "## Introdunction\n",
    "\n",
    "- One or two paragraphs about the background of the project. eg: the backgound of PalWorld and why your analysis can be interesting\n",
    "- State your research questions. Limit the number of research questions to be one or two. "
   ]
  },
  {
   "cell_type": "markdown",
   "metadata": {},
   "source": [
    "## Data \n",
    "\n",
    "### Data Source\n",
    "\n",
    "- List the website you have scraped the data from.\n",
    "- List which information you have scraped\n",
    "- Describe what kind of cleaning you have done to the data\n",
    "\n",
    "### Webscraping and cleaning functions overview\n",
    "\n",
    "List all the functions you have written for webscraping and data cleaning. For each one, write one sentence to describe it. \n",
    "- `extract_soup()`\n",
    "    - build url and return soup object\n",
    "\n",
    "### Data overview\n",
    "\n",
    "- Show a couple of rows of the cleaned data you are going to use for the analysis\n",
    "- Which is your target value (if exists)\n",
    "- Give a general summary about the other features\n",
    "- Discuss if there is any potential problems about the data (eg: missing values, any features that you did not collect but may be important, any other concerns)"
   ]
  },
  {
   "cell_type": "markdown",
   "metadata": {},
   "source": [
    "## Webscraping and cleaning"
   ]
  },
  {
   "cell_type": "code",
   "execution_count": 3,
   "metadata": {},
   "outputs": [],
   "source": [
    "def get_html(url):\n",
    "    \"\"\"\n",
    "    Retrieve HTML content from a given URL\n",
    "\n",
    "    Args:\n",
    "        url (str): The webpage URL to fetch HTML from\n",
    "\n",
    "    Returns:\n",
    "        str: HTML content as a string.\n",
    "    \"\"\"\n",
    "    response = requests.get(url)\n",
    "    return response.text\n",
    "\n",
    "\n",
    "def extract_pal_links(html):\n",
    "    \"\"\"\n",
    "    Extracts and returns a list of links to pals from the HTML soup object.\n",
    "    \n",
    "    Args:\n",
    "        html (string): html text of a webpage\n",
    "        \n",
    "    Returns:\n",
    "        pal_links (list): A list of full URLs to individual pal pages.\n",
    "    \"\"\"\n",
    "    # parse HTML content to create soup\n",
    "    soup = BeautifulSoup(html)\n",
    "    \n",
    "    pal_links = []  # Create an empty list to store full URLs\n",
    "\n",
    "    # Find all <div> elements with class pal\n",
    "    for pal_div in soup.find_all('div', class_='pal'):\n",
    "        \n",
    "        # Inside each <div class='pal'>, find the first <a> tag\n",
    "        a_tag = pal_div.find('a')\n",
    "        \n",
    "        # Check if the <a> tag exists and has an 'href' attribute\n",
    "        if a_tag and a_tag.has_attr('href'):\n",
    "            # Build the full link by appending the relative path to the base URL\n",
    "            full_link = 'https://palworld.gg' + a_tag['href']\n",
    "            pal_links.append(full_link)\n",
    "\n",
    "    return pal_links\n",
    "\n",
    "\n",
    "def fetch_pal_data(pal_links):\n",
    "    \"\"\"\n",
    "    Given a list of Palworld page links, fetch each page and extract the pal's name and stats.\n",
    "\n",
    "    Args:\n",
    "        pal_links (list): A list of full URLs to individual pal pages.\n",
    "\n",
    "    Returns:\n",
    "        pal_data (dictionary): dictionary containing a pal's name, link, and stats.\n",
    "    \"\"\"    \n",
    "    name, href, stats = [], [], []\n",
    "\n",
    "    for link in pal_links:\n",
    "        # Request the HTML content of each pal's page\n",
    "        response = requests.get(link)\n",
    "        if response.status_code != 200:\n",
    "            continue\n",
    "\n",
    "        # Parse the HTML using BeautifulSoup\n",
    "        pal_soup = BeautifulSoup(response.text, 'html.parser')\n",
    "\n",
    "        # Get the pal's name from the <h1> tag\n",
    "        name_tag = pal_soup.find('h1')\n",
    "        pal_name = name_tag.text.strip() if name_tag else 'Unknown'\n",
    "\n",
    "        # Dictionary to store stats like HP, Attack, etc.\n",
    "        stats_dict = {}\n",
    "\n",
    "        # Look for the section containing stats\n",
    "        stats_div = pal_soup.find('div', class_='stats')\n",
    "        if stats_div:\n",
    "            items_div = stats_div.find('div', class_='items')\n",
    "            if items_div:\n",
    "                # Loop through all stat items\n",
    "                for item in items_div.find_all('div', class_='item'):\n",
    "                    stat_name_tag = item.find('div', class_='name')\n",
    "                    stat_value_tag = item.find('div', class_='value')\n",
    "                    if stat_name_tag and stat_value_tag:\n",
    "                        stat_name = stat_name_tag.text.strip()\n",
    "                        stat_value = stat_value_tag.text.strip()\n",
    "                        stats_dict[stat_name] = stat_value\n",
    "\n",
    "        # Save the collected data into corresponding lists\n",
    "        name.append(pal_name)\n",
    "        href.append(link)\n",
    "        stats.append(stats_dict)\n",
    "        \n",
    "    pal_data = {'Name': name, 'Link': href, 'Stats': stats}\n",
    "\n",
    "\n",
    "    return pal_data\n",
    "\n",
    "\n",
    "\n",
    "\n",
    "def add_rarity_info(pal_data):\n",
    "    \"\"\"\n",
    "    Adds rarity_level and rarity_name to each pal dictionary\n",
    "    \n",
    "    Args:\n",
    "        pal_data (dictionary): contains pal info with at least a 'Link' key.\n",
    "        \n",
    "    Returns:\n",
    "        pal_data (dictionary): 'Rarity Level' and 'Rarity Name' fields added\n",
    "    \"\"\"\n",
    "    # empty lists to store rarity level and rarity name\n",
    "    rar_level, rar_name = [], []\n",
    "    \n",
    "    for link in pal_data['Link']:\n",
    "        html = get_html(link)  # FIXED: now using each Pal's page\n",
    "        soup = BeautifulSoup(html, 'html.parser')\n",
    "\n",
    "        # Find the rarity div\n",
    "        rarity_div = soup.find('div', class_='rarity')\n",
    "        rarity_level, rarity_name = None, None\n",
    "        if rarity_div:\n",
    "            lv_tag = rarity_div.find('div', class_='lv')\n",
    "            name_tag = rarity_div.find('div', class_='name')\n",
    "            if lv_tag and name_tag:\n",
    "                rarity_level = lv_tag.text.strip()\n",
    "                rarity_name = name_tag.text.strip()\n",
    "\n",
    "        rar_level.append(rarity_level)\n",
    "        rar_name.append(rarity_name)\n",
    "        \n",
    "    pal_data['Rarity Level'] = rar_level\n",
    "    pal_data['Rarity Name'] = rar_name\n",
    "\n",
    "    return pal_data\n",
    "\n",
    "\n",
    "\n",
    "def add_element_work(pal_data):\n",
    "    \"\"\"\n",
    "    Adds element and work suitability to pal_data\n",
    "    \n",
    "    Args:\n",
    "        pal_data (dictionary): Dictionary, with at least a 'Link' key.\n",
    "        \n",
    "    Returns:\n",
    "        pal_data (dictionary): 'Element', 'Work Suitability' added\n",
    "    \n",
    "    \"\"\"\n",
    "    # empty lists to store element and work suitability\n",
    "    element, work = [], []\n",
    "    \n",
    "    # iterate through all links\n",
    "    for link in pal_data['Link']:\n",
    "        \n",
    "        # get HTML\n",
    "        html = get_html(link)\n",
    "        # Parse the HTML content\n",
    "        soup = BeautifulSoup(html)\n",
    "        \n",
    "        # to store all elements of each pal\n",
    "        pal_element = []\n",
    "        \n",
    "        # get contents of first div with class elements\n",
    "        elements_div = soup.find('div', class_='elements')\n",
    "\n",
    "        # get text from each element and append to pal_element\n",
    "        for el in elements_div.find_all('div', class_='name'):\n",
    "                    element_text = el.text.strip()\n",
    "                    pal_element.append(element_text)\n",
    "        \n",
    "        # empty dict to store work suitability and level\n",
    "        work_level = {}\n",
    "\n",
    "        # get contents of first div with class works\n",
    "        works_div = soup.find('div', class_='works')\n",
    "\n",
    "        # iterates through contents of work_div with div and class item\n",
    "        for item in works_div.find_all('div', class_='item'):\n",
    "            \n",
    "            # only extracts displayed items\n",
    "            if 'display:none' not in item.get('style', ''):\n",
    "                if 'Lv' in item.text:\n",
    "                    work_suit, level = item.text.split('Lv')\n",
    "                    work_level[work_suit] = int(level)\n",
    "                else:\n",
    "                    work_suit = item.text.strip()\n",
    "                    work_level[work_suit] = ''\n",
    "        \n",
    "        # appends pal_element and work_level to the larger element and work lists\n",
    "        element.append(pal_element)\n",
    "        work.append(work_level)\n",
    "    \n",
    "    # adds to dictionary\n",
    "    pal_data['Element'] = element\n",
    "    pal_data['Work Suitability'] = work\n",
    "    \n",
    "    return pal_data\n",
    "\n",
    "\n"
   ]
  },
  {
   "cell_type": "code",
   "execution_count": 4,
   "metadata": {},
   "outputs": [],
   "source": [
    "url = 'https://palworld.gg/pals'\n",
    "html = get_html(url)\n",
    "pal_links = extract_pal_links(html)\n",
    "\n",
    "pal_data = fetch_pal_data(pal_links)"
   ]
  },
  {
   "cell_type": "code",
   "execution_count": 5,
   "metadata": {},
   "outputs": [],
   "source": [
    "pal_data = add_rarity_info(pal_data)"
   ]
  },
  {
   "cell_type": "code",
   "execution_count": 6,
   "metadata": {},
   "outputs": [],
   "source": [
    "pal_data = add_element_work(pal_data)"
   ]
  },
  {
   "cell_type": "code",
   "execution_count": 20,
   "metadata": {},
   "outputs": [],
   "source": [
    "\"\"\"\n",
    "Palworld Weapons Scraper with Selenium\n",
    "=====================================\n",
    "\n",
    "Utilities to scrape weapon data from https://palworld.gg/items by\n",
    "interacting with the site's filter controls via Selenium, with an\n",
    "HTML-parsing fallback using BeautifulSoup.\n",
    "\n",
    "The primary entry point is `scrape_palworld_weapons()` which attempts a\n",
    "Selenium-driven scrape and returns a tidy pandas DataFrame with columns:\n",
    "['Name', 'Price', 'Physical Attack', 'Durability'].\n",
    "\"\"\"\n",
    "\n",
    "from __future__ import annotations\n",
    "\n",
    "import time\n",
    "from typing import Optional\n",
    "\n",
    "import pandas as pd\n",
    "from bs4 import BeautifulSoup\n",
    "from selenium import webdriver\n",
    "from selenium.common.exceptions import TimeoutException, NoSuchElementException\n",
    "from selenium.webdriver.common.by import By\n",
    "from selenium.webdriver.support import expected_conditions as EC\n",
    "from selenium.webdriver.support.ui import WebDriverWait, Select  # noqa: F401  (Select kept as alternative)\n",
    "\n",
    "BASE_URL = \"https://palworld.gg/items\"\n",
    "\n",
    "\n",
    "def setup_driver(headless: bool = False) -> webdriver.Chrome:\n",
    "    \"\"\"\n",
    "    Configure and instantiate a Chrome WebDriver.\n",
    "\n",
    "    Parameters\n",
    "    ----------\n",
    "    headless : bool, default False\n",
    "        Whether to run Chrome in headless mode.\n",
    "\n",
    "    Returns\n",
    "    -------\n",
    "    selenium.webdriver.Chrome\n",
    "        A configured Chrome WebDriver instance.\n",
    "\n",
    "    Notes\n",
    "    -----\n",
    "    - Requires a compatible ChromeDriver on PATH.\n",
    "    - Adds sensible defaults for containerized/CI environments\n",
    "      (e.g., '--no-sandbox', '--disable-dev-shm-usage').\n",
    "    \"\"\"\n",
    "    from selenium.webdriver.chrome.options import Options\n",
    "\n",
    "    chrome_options = Options()\n",
    "    if headless:\n",
    "        # For newer Chrome versions, consider: \"--headless=new\"\n",
    "        chrome_options.add_argument(\"--headless\")\n",
    "    chrome_options.add_argument(\"--no-sandbox\")\n",
    "    chrome_options.add_argument(\"--disable-dev-shm-usage\")\n",
    "    chrome_options.add_argument(\"--disable-gpu\")\n",
    "    chrome_options.add_argument(\"--window-size=1920,1080\")\n",
    "\n",
    "    driver = webdriver.Chrome(options=chrome_options)\n",
    "    return driver\n",
    "\n",
    "\n",
    "def scrape_palworld_weapons_selenium(headless: bool = False) -> pd.DataFrame:\n",
    "    \"\"\"\n",
    "    Scrape weapon data from Palworld using Selenium to apply the \"Weapon\" filter.\n",
    "\n",
    "    Parameters\n",
    "    ----------\n",
    "    headless : bool, default False\n",
    "        Whether to run the browser in headless mode.\n",
    "\n",
    "    Returns\n",
    "    -------\n",
    "    pandas.DataFrame\n",
    "        A DataFrame with columns:\n",
    "        - 'Name' : str\n",
    "        - 'Price' : int or str (non-numeric preserved if present)\n",
    "        - 'Physical Attack' : int or str\n",
    "        - 'Durability' : int or str\n",
    "\n",
    "    Raises\n",
    "    ------\n",
    "    selenium.common.exceptions.TimeoutException\n",
    "        If critical elements fail to load within the wait time.\n",
    "    Exception\n",
    "        Any unexpected runtime error during scraping.\n",
    "\n",
    "    Notes\n",
    "    -----\n",
    "    - Uses JavaScript to set the filter value and dispatch a change event.\n",
    "    - Performs a simple verification step by sampling the first few results.\n",
    "    - If parsing yields no rows, an empty DataFrame is returned.\n",
    "    \"\"\"\n",
    "    driver: Optional[webdriver.Chrome] = None\n",
    "    try:\n",
    "        print(\"Setting up browser driver...\")\n",
    "        driver = setup_driver(headless)\n",
    "\n",
    "        print(f\"Navigating to Palworld items page: {BASE_URL}\")\n",
    "        driver.get(BASE_URL)\n",
    "\n",
    "        wait = WebDriverWait(driver, 15)\n",
    "\n",
    "        print(\"Waiting for initial page load...\")\n",
    "        wait.until(EC.presence_of_element_located((By.CLASS_NAME, \"item\")))\n",
    "        time.sleep(2)\n",
    "\n",
    "        print(\"Waiting for filter dropdown to load...\")\n",
    "        dropdown = wait.until(EC.element_to_be_clickable((By.ID, \"item_type\")))\n",
    "\n",
    "        initial_items = len(driver.find_elements(By.CLASS_NAME, \"item\"))\n",
    "        print(f\"Initial items on page: {initial_items}\")\n",
    "\n",
    "        print(\"Selecting 'Weapon' from filter...\")\n",
    "        # JS approach tends to be more reliable against custom components\n",
    "        driver.execute_script(\n",
    "            \"\"\"\n",
    "            const dropdown = document.getElementById('item_type');\n",
    "            if (dropdown) {\n",
    "                dropdown.value = 'EPalItemTypeA::Weapon';\n",
    "                dropdown.dispatchEvent(new Event('change', { bubbles: true }));\n",
    "            }\n",
    "            \"\"\"\n",
    "        )\n",
    "\n",
    "        # Alternative if needed:\n",
    "        # select = Select(dropdown)\n",
    "        # select.select_by_value(\"EPalItemTypeA::Weapon\")\n",
    "\n",
    "        print(\"Waiting for page to update with ALL weapons...\")\n",
    "        time.sleep(3)\n",
    "\n",
    "        # Best-effort check: wait until item count changes (if it does)\n",
    "        try:\n",
    "            previous_count = initial_items\n",
    "\n",
    "            def items_count_changed(driver_):\n",
    "                current = len(driver_.find_elements(By.CLASS_NAME, \"item\"))\n",
    "                return current != previous_count and current > 0\n",
    "\n",
    "            WebDriverWait(driver, 5).until(items_count_changed)\n",
    "        except TimeoutException:\n",
    "            # It's okay if the count didn't change; continue to parse\n",
    "            pass\n",
    "\n",
    "        # Trigger any lazy-loading by scrolling\n",
    "        driver.execute_script(\"window.scrollTo(0, document.body.scrollHeight);\")\n",
    "        time.sleep(2)\n",
    "\n",
    "        weapon_items = driver.find_elements(By.CLASS_NAME, \"item\")\n",
    "        print(f\"Found {len(weapon_items)} items after filtering for weapons\")\n",
    "\n",
    "        # Quick verification: confirm at least one item displays \"Weapon\"\n",
    "        weapon_count = 0\n",
    "        for item in weapon_items[:5]:\n",
    "            try:\n",
    "                type_div = item.find_element(By.CLASS_NAME, \"type\")\n",
    "                if \"Weapon\" in type_div.text:\n",
    "                    weapon_count += 1\n",
    "            except Exception:\n",
    "                pass\n",
    "\n",
    "        if weapon_count > 0:\n",
    "            print(\"Confirmed: Found weapons in the filtered results\")\n",
    "        else:\n",
    "            print(\"Warning: Sample check did not confirm 'Weapon' type; continuing...\")\n",
    "\n",
    "        print(\"Extracting weapon data...\")\n",
    "        page_source = driver.page_source\n",
    "        weapons_df = parse_weapons_from_selenium(page_source)\n",
    "\n",
    "        print(f\"Successfully scraped {len(weapons_df)} weapons\")\n",
    "        return weapons_df\n",
    "\n",
    "    except TimeoutException as e:\n",
    "        print(f\"Timeout: {e}\")\n",
    "        return pd.DataFrame()\n",
    "    except Exception as e:\n",
    "        print(f\"Error during scraping: {e}\")\n",
    "        import traceback\n",
    "\n",
    "        traceback.print_exc()\n",
    "        return pd.DataFrame()\n",
    "    finally:\n",
    "        if driver:\n",
    "            driver.quit()\n",
    "            print(\"Browser closed\")\n",
    "\n",
    "\n",
    "def wait_until_not(condition, timeout: int = 10) -> bool:\n",
    "    \"\"\"\n",
    "    Wait until a callable 'condition' raises an exception (i.e., becomes NOT true).\n",
    "\n",
    "    Parameters\n",
    "    ----------\n",
    "    condition : callable\n",
    "        A zero-argument callable that completes without error while the condition\n",
    "        is considered \"true\", and raises once it becomes \"false\".\n",
    "    timeout : int, default 10\n",
    "        Maximum number of seconds to wait.\n",
    "\n",
    "    Returns\n",
    "    -------\n",
    "    bool\n",
    "        True if the condition became false before the timeout; False otherwise.\n",
    "\n",
    "    Notes\n",
    "    -----\n",
    "    This helper is not used by the main flow (kept for reference). Prefer\n",
    "    Selenium's `WebDriverWait(...).until` with explicit conditions where possible.\n",
    "    \"\"\"\n",
    "    start_time = time.time()\n",
    "    while time.time() - start_time < timeout:\n",
    "        try:\n",
    "            condition()\n",
    "            time.sleep(0.5)\n",
    "        except Exception:\n",
    "            return True\n",
    "    return False\n",
    "\n",
    "\n",
    "def parse_weapons_from_selenium(html_content: str) -> pd.DataFrame:\n",
    "    \"\"\"\n",
    "    Parse weapon entries from the filtered page HTML.\n",
    "\n",
    "    Parameters\n",
    "    ----------\n",
    "    html_content : str\n",
    "        The HTML source captured *after* applying the \"Weapon\" filter.\n",
    "\n",
    "    Returns\n",
    "    -------\n",
    "    pandas.DataFrame\n",
    "        DataFrame with columns:\n",
    "        - 'Name'\n",
    "        - 'Price'\n",
    "        - 'Physical Attack'\n",
    "        - 'Durability'\n",
    "\n",
    "    Notes\n",
    "    -----\n",
    "    - Non-numeric values are preserved as strings if parsing fails.\n",
    "    - Missing columns are added and filled with None.\n",
    "    \"\"\"\n",
    "    soup = BeautifulSoup(html_content, \"html.parser\")\n",
    "    weapons_data = []\n",
    "\n",
    "    items = soup.find_all(\"div\", class_=\"item\")\n",
    "    for item in items:\n",
    "        weapon_info: dict[str, object] = {}\n",
    "\n",
    "        # Name\n",
    "        name_div = item.find(\"div\", class_=\"text\")\n",
    "        if name_div:\n",
    "            weapon_info[\"Name\"] = name_div.text.strip()\n",
    "\n",
    "        # Detailed metrics\n",
    "        item_card = item.find(\"div\", class_=\"item-card\")\n",
    "        if item_card:\n",
    "            for key in item_card.find_all(\"div\", class_=\"key\"):\n",
    "                key_text = key.find(\"div\", class_=\"text\")\n",
    "                value_div = key.find(\"div\", class_=\"value\")\n",
    "                if not (key_text and value_div):\n",
    "                    continue\n",
    "\n",
    "                key_name = key_text.text.strip()\n",
    "                value_raw = value_div.text.strip()\n",
    "\n",
    "                if key_name == \"Price\":\n",
    "                    try:\n",
    "                        weapon_info[\"Price\"] = int(value_raw)\n",
    "                    except Exception:\n",
    "                        weapon_info[\"Price\"] = value_raw\n",
    "                elif key_name == \"Physical Attack\":\n",
    "                    try:\n",
    "                        weapon_info[\"Physical Attack\"] = int(value_raw)\n",
    "                    except Exception:\n",
    "                        weapon_info[\"Physical Attack\"] = value_raw\n",
    "                elif key_name == \"Durability\":\n",
    "                    try:\n",
    "                        weapon_info[\"Durability\"] = int(value_raw)\n",
    "                    except Exception:\n",
    "                        weapon_info[\"Durability\"] = value_raw\n",
    "\n",
    "        if \"Name\" in weapon_info:\n",
    "            weapons_data.append(weapon_info)\n",
    "\n",
    "    df = pd.DataFrame(weapons_data)\n",
    "\n",
    "    # Ensure canonical columns exist\n",
    "    for col in [\"Name\", \"Price\", \"Physical Attack\", \"Durability\"]:\n",
    "        if col not in df.columns:\n",
    "            df[col] = None\n",
    "\n",
    "    # Reorder columns\n",
    "    df = df[[\"Name\", \"Price\", \"Physical Attack\", \"Durability\"]]\n",
    "    return df\n",
    "\n",
    "\n",
    "def save_weapons_to_csv(df: pd.DataFrame, filename: str = \"palworld_weapons.csv\") -> None:\n",
    "    \"\"\"\n",
    "    Persist the scraped weapons DataFrame to CSV.\n",
    "\n",
    "    Parameters\n",
    "    ----------\n",
    "    df : pandas.DataFrame\n",
    "        DataFrame returned by the scraper.\n",
    "    filename : str, default \"palworld_weapons.csv\"\n",
    "        Output CSV filename.\n",
    "\n",
    "    Returns\n",
    "    -------\n",
    "    None\n",
    "    \"\"\"\n",
    "    df.to_csv(filename, index=False)\n",
    "    print(f\"Data saved to {filename}\")\n",
    "\n",
    "\n",
    "def extract_weapons_from_saved_html(html_file_path: str) -> pd.DataFrame:\n",
    "    \"\"\"\n",
    "    Parse weapons from a *locally saved* HTML file of the items page\n",
    "    (saved *after* applying the Weapon filter in the browser).\n",
    "\n",
    "    Parameters\n",
    "    ----------\n",
    "    html_file_path : str\n",
    "        Path to the saved HTML file.\n",
    "\n",
    "    Returns\n",
    "    -------\n",
    "    pandas.DataFrame\n",
    "        Parsed DataFrame with the standard columns.\n",
    "\n",
    "    Raises\n",
    "    ------\n",
    "    FileNotFoundError\n",
    "        If the provided path is invalid.\n",
    "    \"\"\"\n",
    "    with open(html_file_path, \"r\", encoding=\"utf-8\") as file:\n",
    "        html_content = file.read()\n",
    "    return parse_weapons_from_selenium(html_content)\n",
    "\n",
    "\n",
    "def scrape_palworld_weapons() -> pd.DataFrame:\n",
    "    \"\"\"\n",
    "    High-level entry point to scrape Palworld weapons.\n",
    "\n",
    "    Returns\n",
    "    -------\n",
    "    pandas.DataFrame\n",
    "        Scraped DataFrame with columns ['Name', 'Price', 'Physical Attack', 'Durability'].\n",
    "\n",
    "    Notes\n",
    "    -----\n",
    "    - Attempts Selenium-based scraping first.\n",
    "    - If Selenium is unavailable, prints guidance for the offline HTML parsing fallback.\n",
    "    \"\"\"\n",
    "    try:\n",
    "        return scrape_palworld_weapons_selenium(headless=False)\n",
    "    except ImportError:\n",
    "        print(\"Selenium not installed. Install via: pip install selenium\")\n",
    "        print(\"Ensure ChromeDriver is installed and on PATH.\")\n",
    "        print(\"\")\n",
    "        print(\"Fallback: Save the filtered page as HTML and call:\")\n",
    "        print(\"  extract_weapons_from_saved_html('path/to/file.html')\")\n",
    "        return pd.DataFrame()\n",
    "    except Exception as e:\n",
    "        print(f\"Error with Selenium: {e}\")\n",
    "        print(\"\")\n",
    "        print(\"Fallback: Save the filtered page as HTML and call:\")\n",
    "        print(\"  extract_weapons_from_saved_html('path/to/file.html')\")\n",
    "        return pd.DataFrame()"
   ]
  },
  {
   "cell_type": "code",
   "execution_count": 24,
   "metadata": {},
   "outputs": [
    {
     "name": "stdout",
     "output_type": "stream",
     "text": [
      "Setting up browser driver...\n",
      "Navigating to Palworld items page: https://palworld.gg/items\n",
      "Waiting for initial page load...\n",
      "Waiting for filter dropdown to load...\n",
      "Initial items on page: 227\n",
      "Selecting 'Weapon' from filter...\n",
      "Waiting for page to update with ALL weapons...\n",
      "Found 1119 items after filtering for weapons\n",
      "Confirmed: Found weapons in the filtered results\n",
      "Extracting weapon data...\n",
      "Successfully scraped 248 weapons\n",
      "Browser closed\n",
      "============================================================\n",
      "TOTAL WEAPONS SCRAPED: 248\n",
      "============================================================\n",
      "\n",
      "BASIC STATISTICS:\n",
      "----------------------------------------\n",
      "          Price  Physical Attack  Durability\n",
      "count     248.0            230.0       220.0\n",
      "mean    87413.0           1887.0      2405.0\n",
      "std    116745.0           3405.0      4190.0\n",
      "min        10.0             10.0       100.0\n",
      "25%     10000.0            216.0       400.0\n",
      "50%     33000.0            450.0       900.0\n",
      "75%     82400.0           1395.0      2625.0\n",
      "max    460000.0          15000.0     32000.0\n",
      "\n",
      "============================================================\n",
      "FIRST 5 WEAPONS (HEAD):\n",
      "----------------------------------------\n"
     ]
    },
    {
     "data": {
      "text/html": [
       "<div>\n",
       "<style scoped>\n",
       "    .dataframe tbody tr th:only-of-type {\n",
       "        vertical-align: middle;\n",
       "    }\n",
       "\n",
       "    .dataframe tbody tr th {\n",
       "        vertical-align: top;\n",
       "    }\n",
       "\n",
       "    .dataframe thead th {\n",
       "        text-align: right;\n",
       "    }\n",
       "</style>\n",
       "<table border=\"1\" class=\"dataframe\">\n",
       "  <thead>\n",
       "    <tr style=\"text-align: right;\">\n",
       "      <th></th>\n",
       "      <th>Name</th>\n",
       "      <th>Price</th>\n",
       "      <th>Physical Attack</th>\n",
       "      <th>Durability</th>\n",
       "    </tr>\n",
       "  </thead>\n",
       "  <tbody>\n",
       "    <tr>\n",
       "      <th>0</th>\n",
       "      <td>Assault Rifle</td>\n",
       "      <td>82400</td>\n",
       "      <td>320.0</td>\n",
       "      <td>3000.0</td>\n",
       "    </tr>\n",
       "    <tr>\n",
       "      <th>1</th>\n",
       "      <td>Stone Axe</td>\n",
       "      <td>200</td>\n",
       "      <td>20.0</td>\n",
       "      <td>150.0</td>\n",
       "    </tr>\n",
       "    <tr>\n",
       "      <th>2</th>\n",
       "      <td>Metal Axe</td>\n",
       "      <td>2800</td>\n",
       "      <td>30.0</td>\n",
       "      <td>250.0</td>\n",
       "    </tr>\n",
       "    <tr>\n",
       "      <th>3</th>\n",
       "      <td>Refined Metal Axe</td>\n",
       "      <td>7000</td>\n",
       "      <td>60.0</td>\n",
       "      <td>300.0</td>\n",
       "    </tr>\n",
       "    <tr>\n",
       "      <th>4</th>\n",
       "      <td>Axe4</td>\n",
       "      <td>33000</td>\n",
       "      <td>75.0</td>\n",
       "      <td>400.0</td>\n",
       "    </tr>\n",
       "  </tbody>\n",
       "</table>\n",
       "</div>"
      ],
      "text/plain": [
       "                Name  Price  Physical Attack  Durability\n",
       "0      Assault Rifle  82400            320.0      3000.0\n",
       "1          Stone Axe    200             20.0       150.0\n",
       "2          Metal Axe   2800             30.0       250.0\n",
       "3  Refined Metal Axe   7000             60.0       300.0\n",
       "4               Axe4  33000             75.0       400.0"
      ]
     },
     "metadata": {},
     "output_type": "display_data"
    },
    {
     "name": "stdout",
     "output_type": "stream",
     "text": [
      "\n",
      "============================================================\n",
      "LAST 5 WEAPONS (TAIL):\n",
      "----------------------------------------\n"
     ]
    },
    {
     "data": {
      "text/html": [
       "<div>\n",
       "<style scoped>\n",
       "    .dataframe tbody tr th:only-of-type {\n",
       "        vertical-align: middle;\n",
       "    }\n",
       "\n",
       "    .dataframe tbody tr th {\n",
       "        vertical-align: top;\n",
       "    }\n",
       "\n",
       "    .dataframe thead th {\n",
       "        text-align: right;\n",
       "    }\n",
       "</style>\n",
       "<table border=\"1\" class=\"dataframe\">\n",
       "  <thead>\n",
       "    <tr style=\"text-align: right;\">\n",
       "      <th></th>\n",
       "      <th>Name</th>\n",
       "      <th>Price</th>\n",
       "      <th>Physical Attack</th>\n",
       "      <th>Durability</th>\n",
       "    </tr>\n",
       "  </thead>\n",
       "  <tbody>\n",
       "    <tr>\n",
       "      <th>243</th>\n",
       "      <td>Excalibur</td>\n",
       "      <td>200</td>\n",
       "      <td>396.0</td>\n",
       "      <td>900.0</td>\n",
       "    </tr>\n",
       "    <tr>\n",
       "      <th>244</th>\n",
       "      <td>Excalibur</td>\n",
       "      <td>200</td>\n",
       "      <td>432.0</td>\n",
       "      <td>1200.0</td>\n",
       "    </tr>\n",
       "    <tr>\n",
       "      <th>245</th>\n",
       "      <td>Excalibur</td>\n",
       "      <td>200</td>\n",
       "      <td>468.0</td>\n",
       "      <td>1800.0</td>\n",
       "    </tr>\n",
       "    <tr>\n",
       "      <th>246</th>\n",
       "      <td>Excalibur</td>\n",
       "      <td>200</td>\n",
       "      <td>540.0</td>\n",
       "      <td>2400.0</td>\n",
       "    </tr>\n",
       "    <tr>\n",
       "      <th>247</th>\n",
       "      <td>Meteor Launcher</td>\n",
       "      <td>324000</td>\n",
       "      <td>10500.0</td>\n",
       "      <td>450.0</td>\n",
       "    </tr>\n",
       "  </tbody>\n",
       "</table>\n",
       "</div>"
      ],
      "text/plain": [
       "                Name   Price  Physical Attack  Durability\n",
       "243        Excalibur     200            396.0       900.0\n",
       "244        Excalibur     200            432.0      1200.0\n",
       "245        Excalibur     200            468.0      1800.0\n",
       "246        Excalibur     200            540.0      2400.0\n",
       "247  Meteor Launcher  324000          10500.0       450.0"
      ]
     },
     "metadata": {},
     "output_type": "display_data"
    },
    {
     "name": "stdout",
     "output_type": "stream",
     "text": [
      "\n",
      "============================================================\n",
      "MISSING VALUES:\n",
      "----------------------------------------\n",
      "Name                0\n",
      "Price               0\n",
      "Physical Attack    18\n",
      "Durability         28\n",
      "dtype: int64\n",
      "\n",
      "Saved 248 rows to: palworld_weapons.csv\n"
     ]
    }
   ],
   "source": [
    "\"\"\"\n",
    "Palworld Weapons Summary + Export\n",
    "=================================\n",
    "Quick summary, validation, and CSV export of the scraped weapons data\n",
    "\"\"\"\n",
    "\n",
    "# 0) Run the scraper\n",
    "weapons_df = scrape_palworld_weapons()\n",
    "\n",
    "# 1) OPTIONAL: enforce numeric types for clean stats / export\n",
    "numeric_cols = [\"Price\", \"Physical Attack\", \"Durability\"]\n",
    "for c in numeric_cols:\n",
    "    if c in weapons_df.columns:\n",
    "        weapons_df[c] = pd.to_numeric(weapons_df[c], errors=\"coerce\")\n",
    "\n",
    "# 2) Summary\n",
    "print(\"=\" * 60)\n",
    "print(f\"TOTAL WEAPONS SCRAPED: {len(weapons_df)}\")\n",
    "print(\"=\" * 60)\n",
    "\n",
    "if not weapons_df.empty:\n",
    "    print(\"\\nBASIC STATISTICS:\")\n",
    "    print(\"-\" * 40)\n",
    "    print(weapons_df[numeric_cols].describe().round(0))\n",
    "\n",
    "    print(\"\\n\" + \"=\" * 60)\n",
    "    print(\"FIRST 5 WEAPONS (HEAD):\")\n",
    "    print(\"-\" * 40)\n",
    "    display(weapons_df.head())\n",
    "\n",
    "    print(\"\\n\" + \"=\" * 60)\n",
    "    print(\"LAST 5 WEAPONS (TAIL):\")\n",
    "    print(\"-\" * 40)\n",
    "    display(weapons_df.tail())\n",
    "\n",
    "    print(\"\\n\" + \"=\" * 60)\n",
    "    print(\"MISSING VALUES:\")\n",
    "    print(\"-\" * 40)\n",
    "    print(weapons_df.isnull().sum())\n",
    "\n",
    "    # 3) EXPORT — write exactly what this dataframe contains\n",
    "    export_path = \"palworld_weapons.csv\"  # change if you want a different name/folder\n",
    "    weapons_df.to_csv(export_path, index=False)\n",
    "    print(f\"\\nSaved {len(weapons_df)} rows to: {export_path}\")"
   ]
  },
  {
   "cell_type": "markdown",
   "metadata": {},
   "source": [
    "## Visualizations\n",
    "\n",
    "### Visualization functions overview\n",
    "List all the functions you have written for visualization. For each one, write one sentence to describe it. \n",
    "- `make_hist()`\n",
    "    - Generate a histogram with given data and feature\n",
    " \n",
    "### Visualization results\n",
    "- Present 3-4 data visualizations.\n",
    "- For each visualization, you need to include title, xlabel, ylabel, legend (if necessary)\n",
    "- For each visualization, explain why you make this data visualization (how it related to your research question) and explain what you have learned from this visualization"
   ]
  },
  {
   "cell_type": "markdown",
   "metadata": {},
   "source": [
    "#### visualization 1"
   ]
  },
  {
   "cell_type": "code",
   "execution_count": 5,
   "metadata": {},
   "outputs": [],
   "source": [
    "df = pd.DataFrame(pal_data)\n",
    "\n",
    "stats_df = df[\"Stats\"].apply(pd.Series)\n",
    "\n",
    "\n",
    "df = pd.concat([df.drop(columns=[\"Stats\"]), stats_df], axis=1)\n",
    "\n",
    "stat_cols = stats_df.columns.tolist()\n",
    "for c in stat_cols:\n",
    "    df[c] = pd.to_numeric(df[c], errors=\"coerce\")\n",
    "df[\"Rarity Level\"] = pd.to_numeric(df[\"Rarity Level\"], errors=\"coerce\")\n",
    "\n",
    "\n",
    "stat_cols = [col for col in stat_cols if col.lower() != \"price\"]\n",
    "\n",
    "\n",
    "df[\"Total Stats\"] = df[stat_cols].sum(axis=1)\n",
    "\n",
    "df = df.dropna(subset=[\"Rarity Level\"])"
   ]
  },
  {
   "cell_type": "markdown",
   "metadata": {},
   "source": [
    "Definition of Total Stats\n",
    "\n",
    "Total Stats is defined as the sum of all base numeric stats for a Pal (HP, Attack, Defense, Stamina, Speed, Food, etc.) while explicitly excluding Price.\n",
    "\t•\tI excluded Price because it does not reflect combat or performance attributes and would bias the metric.\n",
    "\t•\tThis is currently an unscaled sum, meaning that the magnitude of Total Stats is dependent on the original units of each attribute.\n",
    " \n",
    " \n",
    " For this analysis, the units are consistent enough that scaling was not required, but if one stat had a much larger \n",
    "numeric range than others, scaling or weighting could be considered to avoid one stat dominating the metric."
   ]
  },
  {
   "cell_type": "code",
   "execution_count": 24,
   "metadata": {},
   "outputs": [
    {
     "data": {
      "application/vnd.plotly.v1+json": {
       "config": {
        "plotlyServerURL": "https://plot.ly"
       },
       "data": [
        {
         "customdata": [
          [
           120,
           100,
           100,
           130,
           130,
           100,
           100,
           800,
           1000,
           80,
           [
            "Earth"
           ]
          ],
          [
           100,
           125,
           100,
           100,
           125,
           300,
           100,
           700,
           1100,
           100,
           [
            "Dragon",
            "Dark"
           ]
          ],
          [
           115,
           105,
           100,
           100,
           105,
           160,
           100,
           600,
           900,
           75,
           [
            "Ice",
            "Dragon"
           ]
          ],
          [
           140,
           120,
           100,
           100,
           130,
           270,
           100,
           750,
           1100,
           120,
           [
            "Ice"
           ]
          ],
          [
           100,
           120,
           100,
           150,
           125,
           190,
           50,
           800,
           1200,
           150,
           [
            "Fire"
           ]
          ],
          [
           105,
           125,
           100,
           150,
           130,
           190,
           50,
           800,
           1200,
           150,
           [
            "Dragon",
            "Fire"
           ]
          ],
          [
           105,
           80,
           100,
           100,
           115,
           150,
           100,
           800,
           1200,
           60,
           [
            "Fire",
            "Dark"
           ]
          ],
          [
           120,
           100,
           100,
           80,
           95,
           150,
           120,
           550,
           1020,
           50,
           [
            "Leaf",
            "Water"
           ]
          ],
          [
           90,
           100,
           100,
           100,
           105,
           100,
           100,
           450,
           550,
           150,
           [
            "Leaf"
           ]
          ],
          [
           115,
           95,
           100,
           80,
           80,
           130,
           100,
           630,
           800,
           83,
           [
            "Dragon",
            "Water"
           ]
          ],
          [
           100,
           110,
           100,
           100,
           105,
           230,
           90,
           1000,
           1400,
           150,
           [
            "Fire"
           ]
          ],
          [
           100,
           110,
           100,
           100,
           110,
           230,
           90,
           1000,
           1400,
           150,
           [
            "Water"
           ]
          ],
          [
           120,
           110,
           100,
           100,
           110,
           200,
           100,
           840,
           1260,
           170,
           [
            "Earth"
           ]
          ],
          [
           105,
           100,
           100,
           120,
           100,
           180,
           100,
           600,
           1000,
           80,
           [
            "Electricity"
           ]
          ],
          [
           105,
           100,
           100,
           100,
           125,
           170,
           100,
           700,
           1100,
           100,
           [
            "Dark",
            "Electricity"
           ]
          ],
          [
           130,
           100,
           100,
           150,
           120,
           150,
           100,
           600,
           1000,
           100,
           [
            "Dragon",
            "Water"
           ]
          ],
          [
           130,
           100,
           100,
           150,
           130,
           150,
           100,
           600,
           1000,
           100,
           [
            "Dragon",
            "Fire"
           ]
          ],
          [
           120,
           90,
           100,
           100,
           85,
           170,
           100,
           700,
           1040,
           80,
           [
            "Normal"
           ]
          ],
          [
           120,
           90,
           100,
           100,
           85,
           170,
           100,
           700,
           1040,
           80,
           [
            "Ice"
           ]
          ],
          [
           105,
           135,
           100,
           100,
           110,
           100,
           100,
           550,
           700,
           100,
           [
            "Earth"
           ]
          ],
          [
           110,
           105,
           100,
           100,
           110,
           100,
           100,
           450,
           550,
           60,
           [
            "Leaf"
           ]
          ],
          [
           110,
           115,
           100,
           100,
           110,
           100,
           100,
           450,
           550,
           60,
           [
            "Dark"
           ]
          ],
          [
           150,
           90,
           100,
           100,
           85,
           180,
           30,
           600,
           1030,
           100,
           [
            "Leaf",
            "Earth"
           ]
          ],
          [
           150,
           90,
           100,
           100,
           85,
           180,
           30,
           600,
           1030,
           100,
           [
            "Ice",
            "Earth"
           ]
          ],
          [
           100,
           130,
           100,
           100,
           100,
           100,
           100,
           1000,
           1200,
           100,
           [
            "Dark",
            "Earth"
           ]
          ],
          [
           100,
           130,
           100,
           100,
           105,
           100,
           100,
           1000,
           1200,
           100,
           [
            "Earth"
           ]
          ],
          [
           100,
           100,
           100,
           100,
           130,
           100,
           100,
           900,
           1200,
           100,
           [
            "Dragon",
            "Electricity"
           ]
          ],
          [
           100,
           100,
           100,
           100,
           95,
           100,
           100,
           550,
           700,
           100,
           [
            "Leaf"
           ]
          ],
          [
           105,
           100,
           100,
           100,
           105,
           220,
           100,
           800,
           950,
           120,
           [
            "Dragon",
            "Leaf"
           ]
          ],
          [
           110,
           70,
           100,
           110,
           100,
           200,
           100,
           650,
           1000,
           40,
           [
            "Dragon",
            "Water"
           ]
          ],
          [
           110,
           75,
           100,
           110,
           110,
           200,
           100,
           650,
           1000,
           40,
           [
            "Dragon",
            "Electricity"
           ]
          ],
          [
           130,
           110,
           100,
           100,
           115,
           300,
           100,
           1000,
           1600,
           60,
           [
            "Dark",
            "Normal"
           ]
          ],
          [
           120,
           140,
           100,
           130,
           120,
           250,
           90,
           850,
           1200,
           80,
           [
            "Dark"
           ]
          ],
          [
           120,
           115,
           100,
           100,
           110,
           280,
           100,
           700,
           1050,
           90,
           [
            "Dragon"
           ]
          ],
          [
           120,
           105,
           100,
           100,
           105,
           350,
           100,
           850,
           1100,
           100,
           [
            "Fire"
           ]
          ],
          [
           125,
           105,
           100,
           100,
           105,
           350,
           100,
           850,
           1100,
           100,
           [
            "Water"
           ]
          ],
          [
           100,
           120,
           100,
           100,
           100,
           100,
           100,
           400,
           550,
           100,
           [
            "Leaf"
           ]
          ],
          [
           90,
           90,
           100,
           100,
           115,
           100,
           100,
           500,
           700,
           50,
           [
            "Leaf"
           ]
          ],
          [
           120,
           120,
           100,
           100,
           100,
           100,
           100,
           500,
           600,
           55,
           [
            "Earth",
            "Leaf"
           ]
          ],
          [
           120,
           120,
           100,
           100,
           105,
           100,
           100,
           500,
           600,
           55,
           [
            "Earth"
           ]
          ],
          [
           105,
           110,
           100,
           100,
           120,
           200,
           100,
           550,
           660,
           125,
           [
            "Ice",
            "Fire"
           ]
          ],
          [
           140,
           110,
           100,
           100,
           80,
           240,
           100,
           600,
           1050,
           70,
           [
            "Leaf"
           ]
          ],
          [
           110,
           130,
           100,
           100,
           120,
           250,
           100,
           790,
           1200,
           115,
           [
            "Dragon"
           ]
          ],
          [
           130,
           120,
           100,
           100,
           120,
           300,
           100,
           550,
           660,
           100,
           [
            "Dark",
            "Dragon"
           ]
          ]
         ],
         "hovertemplate": "<b>%{hovertext}</b><br><br>Rarity=Epic<br>Total Stats=%{x}<br>Rarity Level=%{y}<br>HP=%{customdata[0]}<br>Defense=%{customdata[1]}<br>Crafting Speed=%{customdata[2]}<br>Melee Attack=%{customdata[3]}<br>Shot Attack=%{customdata[4]}<br>Stamina=%{customdata[5]}<br>Support=%{customdata[6]}<br>Running Speed=%{customdata[7]}<br>Sprinting Speed=%{customdata[8]}<br>Slow Walk Speed=%{customdata[9]}<br>Element=%{customdata[10]}<extra></extra>",
         "hovertext": [
          "Anubis",
          "Astegon",
          "Azurobe Cryst",
          "Bastigor",
          "Blazamut",
          "Blazamut Ryu",
          "Blazehowl Noct",
          "Broncherry Aqua",
          "Elizabee",
          "Elphidran Aqua",
          "Faleris",
          "Faleris Aqua",
          "Gildane",
          "Grizzbolt",
          "Helzephyr Lux",
          "Jormuntide",
          "Jormuntide Ignis",
          "Kingpaca",
          "Kingpaca Cryst",
          "Knocklem",
          "Lyleen",
          "Lyleen Noct",
          "Mammorest",
          "Mammorest Cryst",
          "Menasting",
          "Menasting Terra",
          "Orserk",
          "Petallia",
          "Quivern Botan",
          "Relaxaurus",
          "Relaxaurus Lux",
          "Selyne",
          "Shadowbeak",
          "Silvegis",
          "Suzaku",
          "Suzaku Aqua",
          "Vaelet",
          "Verdash",
          "Warsect",
          "Warsect Terra",
          "Whalaska Ignis",
          "Wumpo Botan",
          "Xenogard",
          "Xenolord"
         ],
         "legendgroup": "Epic",
         "marker": {
          "color": "#636efa",
          "opacity": 0.85,
          "size": 9,
          "symbol": "circle"
         },
         "mode": "markers",
         "name": "Epic",
         "orientation": "v",
         "showlegend": true,
         "type": "scatter",
         "x": [
          2660,
          2850,
          2360,
          2930,
          2985,
          3000,
          2810,
          2385,
          1845,
          2213,
          3385,
          3390,
          3110,
          2485,
          2700,
          2550,
          2560,
          2585,
          2585,
          2100,
          1785,
          1795,
          2465,
          2465,
          3030,
          3035,
          2930,
          2045,
          2700,
          2480,
          2495,
          3615,
          3080,
          2765,
          3030,
          3035,
          1770,
          1945,
          1895,
          1900,
          2170,
          2590,
          3015,
          2280
         ],
         "xaxis": "x",
         "y": [
          10,
          9,
          8,
          8,
          9,
          10,
          8,
          8,
          8,
          8,
          9,
          9,
          8,
          8,
          8,
          8,
          9,
          8,
          9,
          9,
          9,
          10,
          8,
          9,
          9,
          10,
          9,
          8,
          8,
          8,
          9,
          9,
          10,
          8,
          8,
          9,
          8,
          8,
          8,
          9,
          8,
          8,
          9,
          8
         ],
         "yaxis": "y"
        },
        {
         "customdata": [
          [
           85,
           95,
           100,
           100,
           95,
           120,
           100,
           700,
           1050,
           87,
           [
            "Fire"
           ]
          ],
          [
           80,
           90,
           100,
           100,
           90,
           100,
           100,
           450,
           550,
           125,
           [
            "Leaf"
           ]
          ],
          [
           70,
           80,
           100,
           100,
           70,
           100,
           100,
           300,
           450,
           25,
           [
            "Water"
           ]
          ],
          [
           80,
           80,
           100,
           80,
           80,
           100,
           100,
           400,
           550,
           50,
           [
            "Leaf"
           ]
          ],
          [
           100,
           90,
           100,
           70,
           70,
           100,
           120,
           400,
           550,
           70,
           [
            "Leaf"
           ]
          ],
          [
           100,
           90,
           100,
           70,
           75,
           100,
           120,
           400,
           550,
           70,
           [
            "Dark"
           ]
          ],
          [
           70,
           70,
           100,
           70,
           70,
           100,
           100,
           400,
           550,
           30,
           [
            "Normal"
           ]
          ],
          [
           65,
           80,
           100,
           100,
           75,
           100,
           100,
           300,
           450,
           25,
           [
            "Normal"
           ]
          ],
          [
           75,
           80,
           100,
           80,
           95,
           100,
           100,
           920,
           1200,
           85,
           [
            "Dark"
           ]
          ],
          [
           80,
           80,
           100,
           100,
           70,
           100,
           100,
           550,
           700,
           30,
           [
            "Water"
           ]
          ],
          [
           80,
           80,
           100,
           100,
           75,
           100,
           100,
           550,
           700,
           30,
           [
            "Water",
            "Electricity"
           ]
          ],
          [
           60,
           60,
           100,
           70,
           60,
           100,
           70,
           375,
           550,
           50,
           [
            "Normal"
           ]
          ],
          [
           90,
           80,
           100,
           100,
           80,
           100,
           100,
           750,
           1050,
           100,
           [
            "Ice",
            "Dragon"
           ]
          ],
          [
           70,
           80,
           100,
           100,
           80,
           100,
           100,
           550,
           700,
           30,
           [
            "Leaf"
           ]
          ],
          [
           70,
           75,
           100,
           100,
           70,
           100,
           100,
           300,
           450,
           20,
           [
            "Normal"
           ]
          ],
          [
           80,
           85,
           100,
           100,
           100,
           100,
           100,
           300,
           450,
           33,
           [
            "Water"
           ]
          ],
          [
           70,
           60,
           100,
           100,
           75,
           100,
           100,
           300,
           550,
           70,
           [
            "Dark"
           ]
          ],
          [
           70,
           70,
           100,
           110,
           80,
           100,
           100,
           400,
           550,
           120,
           [
            "Electricity"
           ]
          ],
          [
           70,
           75,
           100,
           110,
           80,
           100,
           100,
           400,
           550,
           120,
           [
            "Dark",
            "Electricity"
           ]
          ],
          [
           105,
           95,
           100,
           100,
           110,
           100,
           100,
           300,
           450,
           25,
           [
            "Dark"
           ]
          ],
          [
           70,
           70,
           100,
           70,
           70,
           100,
           100,
           300,
           400,
           20,
           [
            "Dark"
           ]
          ],
          [
           80,
           75,
           100,
           110,
           90,
           70,
           100,
           800,
           1050,
           90,
           [
            "Normal"
           ]
          ],
          [
           100,
           95,
           100,
           100,
           70,
           100,
           100,
           450,
           600,
           100,
           [
            "Earth",
            "Water"
           ]
          ],
          [
           95,
           80,
           100,
           70,
           80,
           100,
           100,
           700,
           900,
           80,
           [
            "Normal"
           ]
          ],
          [
           95,
           90,
           100,
           100,
           105,
           100,
           100,
           600,
           900,
           50,
           [
            "Normal"
           ]
          ],
          [
           110,
           90,
           100,
           110,
           110,
           140,
           100,
           750,
           1050,
           85,
           [
            "Normal"
           ]
          ],
          [
           110,
           90,
           100,
           110,
           115,
           140,
           100,
           750,
           1050,
           85,
           [
            "Electricity"
           ]
          ],
          [
           75,
           80,
           100,
           100,
           85,
           100,
           100,
           250,
           400,
           25,
           [
            "Water"
           ]
          ],
          [
           75,
           80,
           100,
           100,
           90,
           100,
           100,
           250,
           400,
           25,
           [
            "Water",
            "Fire"
           ]
          ],
          [
           60,
           80,
           100,
           100,
           70,
           100,
           100,
           250,
           375,
           65,
           [
            "Fire"
           ]
          ],
          [
           75,
           70,
           100,
           100,
           65,
           100,
           100,
           400,
           550,
           100,
           [
            "Leaf"
           ]
          ],
          [
           65,
           70,
           100,
           70,
           75,
           100,
           100,
           400,
           550,
           40,
           [
            "Fire"
           ]
          ],
          [
           65,
           70,
           100,
           70,
           80,
           100,
           100,
           400,
           550,
           40,
           [
            "Ice"
           ]
          ],
          [
           110,
           100,
           100,
           100,
           100,
           100,
           100,
           500,
           750,
           50,
           [
            "Ice"
           ]
          ],
          [
           60,
           60,
           100,
           80,
           80,
           100,
           100,
           300,
           400,
           70,
           [
            "Water"
           ]
          ],
          [
           60,
           60,
           100,
           100,
           85,
           100,
           100,
           300,
           400,
           70,
           [
            "Water",
            "Fire"
           ]
          ],
          [
           65,
           50,
           100,
           100,
           80,
           100,
           100,
           300,
           550,
           30,
           [
            "Earth"
           ]
          ],
          [
           75,
           60,
           100,
           120,
           85,
           100,
           100,
           600,
           700,
           100,
           [
            "Normal"
           ]
          ],
          [
           90,
           75,
           100,
           90,
           90,
           100,
           100,
           400,
           500,
           50,
           [
            "Water"
           ]
          ],
          [
           90,
           75,
           100,
           90,
           90,
           100,
           100,
           400,
           500,
           50,
           [
            "Fire"
           ]
          ],
          [
           65,
           80,
           100,
           100,
           70,
           100,
           100,
           300,
           450,
           25,
           [
            "Leaf"
           ]
          ],
          [
           70,
           70,
           100,
           100,
           70,
           100,
           100,
           300,
           400,
           50,
           [
            "Leaf",
            "Earth"
           ]
          ],
          [
           80,
           70,
           100,
           70,
           70,
           100,
           100,
           400,
           550,
           50,
           [
            "Earth"
           ]
          ],
          [
           80,
           70,
           100,
           70,
           80,
           100,
           100,
           400,
           550,
           50,
           [
            "Ice"
           ]
          ],
          [
           80,
           75,
           100,
           100,
           75,
           100,
           100,
           350,
           600,
           15,
           [
            "Leaf",
            "Normal"
           ]
          ],
          [
           70,
           80,
           100,
           70,
           70,
           100,
           100,
           380,
           550,
           26,
           [
            "Dark"
           ]
          ],
          [
           95,
           105,
           100,
           100,
           115,
           100,
           100,
           400,
           600,
           100,
           [
            "Ice"
           ]
          ],
          [
           80,
           95,
           100,
           100,
           80,
           100,
           100,
           300,
           450,
           25,
           [
            "Normal"
           ]
          ],
          [
           80,
           85,
           100,
           100,
           75,
           100,
           100,
           300,
           450,
           25,
           [
            "Normal"
           ]
          ],
          [
           95,
           85,
           100,
           150,
           100,
           100,
           100,
           700,
           960,
           80,
           [
            "Fire",
            "Dark"
           ]
          ],
          [
           75,
           70,
           100,
           100,
           90,
           100,
           100,
           240,
           450,
           40,
           [
            "Water"
           ]
          ],
          [
           90,
           75,
           100,
           100,
           75,
           100,
           100,
           400,
           600,
           100,
           [
            "Water",
            "Dark"
           ]
          ],
          [
           70,
           70,
           100,
           70,
           75,
           100,
           100,
           400,
           550,
           30,
           [
            "Electricity"
           ]
          ],
          [
           70,
           80,
           100,
           70,
           75,
           100,
           100,
           400,
           550,
           30,
           [
            "Ice"
           ]
          ],
          [
           70,
           70,
           100,
           100,
           70,
           100,
           100,
           700,
           900,
           50,
           [
            "Water"
           ]
          ],
          [
           70,
           70,
           100,
           100,
           70,
           100,
           100,
           700,
           900,
           50,
           [
            "Fire"
           ]
          ],
          [
           75,
           90,
           100,
           100,
           70,
           100,
           100,
           800,
           900,
           50,
           [
            "Earth"
           ]
          ],
          [
           60,
           70,
           100,
           100,
           60,
           100,
           100,
           400,
           550,
           60,
           [
            "Dark",
            "Water"
           ]
          ],
          [
           70,
           70,
           100,
           100,
           60,
           100,
           100,
           400,
           550,
           60,
           [
            "Normal",
            "Water"
           ]
          ],
          [
           70,
           70,
           100,
           70,
           70,
           100,
           100,
           400,
           550,
           23,
           [
            "Normal"
           ]
          ],
          [
           80,
           50,
           100,
           90,
           80,
           100,
           100,
           600,
           800,
           100,
           [
            "Dark"
           ]
          ],
          [
           80,
           50,
           100,
           90,
           80,
           100,
           100,
           400,
           550,
           100,
           [
            "Fire"
           ]
          ],
          [
           75,
           70,
           100,
           70,
           70,
           100,
           100,
           400,
           550,
           20,
           [
            "Leaf"
           ]
          ],
          [
           80,
           80,
           100,
           130,
           100,
           100,
           100,
           600,
           800,
           100,
           [
            "Dark"
           ]
          ],
          [
           80,
           80,
           100,
           130,
           105,
           100,
           100,
           600,
           800,
           100,
           [
            "Ice"
           ]
          ],
          [
           90,
           80,
           100,
           100,
           90,
           100,
           100,
           400,
           800,
           50,
           [
            "Leaf"
           ]
          ],
          [
           70,
           70,
           100,
           70,
           60,
           100,
           100,
           475,
           550,
           52,
           [
            "Dark"
           ]
          ],
          [
           70,
           70,
           100,
           70,
           65,
           100,
           100,
           475,
           550,
           52,
           [
            "Ice"
           ]
          ],
          [
           90,
           90,
           100,
           90,
           75,
           100,
           100,
           500,
           900,
           62,
           [
            "Normal"
           ]
          ],
          [
           90,
           80,
           100,
           100,
           50,
           100,
           100,
           580,
           700,
           55,
           [
            "Normal"
           ]
          ],
          [
           75,
           85,
           100,
           100,
           80,
           100,
           100,
           300,
           450,
           20,
           [
            "Ice",
            "Water"
           ]
          ],
          [
           100,
           80,
           100,
           100,
           95,
           100,
           100,
           600,
           750,
           150,
           [
            "Normal"
           ]
          ],
          [
           110,
           100,
           100,
           100,
           100,
           100,
           100,
           600,
           900,
           50,
           [
            "Dark"
           ]
          ],
          [
           95,
           100,
           100,
           100,
           105,
           100,
           100,
           400,
           520,
           40,
           [
            "Dark"
           ]
          ],
          [
           105,
           115,
           100,
           100,
           110,
           180,
           100,
           550,
           1000,
           150,
           [
            "Leaf"
           ]
          ],
          [
           70,
           70,
           100,
           70,
           75,
           100,
           100,
           500,
           650,
           30,
           [
            "Water",
            "Ice"
           ]
          ],
          [
           70,
           70,
           100,
           100,
           80,
           100,
           100,
           500,
           650,
           30,
           [
            "Water",
            "Electricity"
           ]
          ],
          [
           75,
           80,
           100,
           100,
           70,
           100,
           100,
           300,
           450,
           25,
           [
            "Dark"
           ]
          ],
          [
           105,
           105,
           100,
           100,
           95,
           100,
           100,
           300,
           450,
           25,
           [
            "Normal"
           ]
          ],
          [
           70,
           85,
           100,
           100,
           75,
           100,
           100,
           300,
           450,
           25,
           [
            "Fire"
           ]
          ],
          [
           100,
           110,
           100,
           80,
           85,
           140,
           100,
           700,
           1070,
           35,
           [
            "Ice"
           ]
          ],
          [
           75,
           70,
           100,
           100,
           65,
           100,
           100,
           245,
           350,
           50,
           [
            "Normal"
           ]
          ],
          [
           80,
           70,
           100,
           100,
           65,
           100,
           100,
           245,
           350,
           50,
           [
            "Leaf"
           ]
          ],
          [
           75,
           75,
           100,
           100,
           70,
           100,
           100,
           400,
           550,
           70,
           [
            "Fire"
           ]
          ],
          [
           80,
           70,
           100,
           100,
           70,
           100,
           100,
           500,
           800,
           70,
           [
            "Earth"
           ]
          ],
          [
           110,
           90,
           100,
           100,
           80,
           220,
           100,
           740,
           1050,
           50,
           [
            "Leaf"
           ]
          ],
          [
           85,
           85,
           100,
           100,
           90,
           100,
           100,
           550,
           700,
           40,
           [
            "Dark"
           ]
          ],
          [
           60,
           70,
           100,
           60,
           75,
           100,
           80,
           350,
           500,
           40,
           [
            "Electricity"
           ]
          ],
          [
           95,
           105,
           100,
           100,
           115,
           100,
           100,
           550,
           660,
           60,
           [
            "Dark"
           ]
          ],
          [
           90,
           80,
           100,
           70,
           90,
           100,
           100,
           500,
           800,
           100,
           [
            "Water"
           ]
          ],
          [
           60,
           60,
           100,
           100,
           60,
           100,
           100,
           250,
           400,
           55,
           [
            "Ice"
           ]
          ],
          [
           80,
           70,
           100,
           100,
           70,
           100,
           100,
           300,
           400,
           48,
           [
            "Leaf"
           ]
          ],
          [
           110,
           100,
           100,
           100,
           100,
           100,
           100,
           640,
           1000,
           80,
           [
            "Dark"
           ]
          ],
          [
           70,
           70,
           100,
           70,
           60,
           100,
           100,
           300,
           400,
           30,
           [
            "Water"
           ]
          ],
          [
           60,
           70,
           100,
           80,
           75,
           100,
           70,
           300,
           550,
           30,
           [
            "Normal"
           ]
          ],
          [
           75,
           115,
           100,
           100,
           75,
           100,
           100,
           320,
           500,
           100,
           [
            "Water"
           ]
          ],
          [
           85,
           125,
           100,
           100,
           85,
           100,
           100,
           320,
           500,
           100,
           [
            "Water",
            "Earth"
           ]
          ],
          [
           90,
           90,
           100,
           100,
           115,
           150,
           100,
           700,
           850,
           100,
           [
            "Fire",
            "Dark"
           ]
          ],
          [
           70,
           70,
           100,
           70,
           70,
           100,
           140,
           350,
           450,
           30,
           [
            "Normal"
           ]
          ],
          [
           70,
           90,
           100,
           70,
           70,
           100,
           100,
           300,
           400,
           50,
           [
            "Normal"
           ]
          ],
          [
           85,
           85,
           100,
           80,
           85,
           140,
           110,
           750,
           1080,
           70,
           [
            "Normal"
           ]
          ]
         ],
         "hovertemplate": "<b>%{hovertext}</b><br><br>Rarity=Common<br>Total Stats=%{x}<br>Rarity Level=%{y}<br>HP=%{customdata[0]}<br>Defense=%{customdata[1]}<br>Crafting Speed=%{customdata[2]}<br>Melee Attack=%{customdata[3]}<br>Shot Attack=%{customdata[4]}<br>Stamina=%{customdata[5]}<br>Support=%{customdata[6]}<br>Running Speed=%{customdata[7]}<br>Sprinting Speed=%{customdata[8]}<br>Slow Walk Speed=%{customdata[9]}<br>Element=%{customdata[10]}<extra></extra>",
         "hovertext": [
          "Arsox",
          "Beegarde",
          "Blue Slime",
          "Bristla",
          "Caprity",
          "Caprity Noct",
          "Cattiva",
          "Cave Bat",
          "Cawgnito",
          "Celaray",
          "Celaray Lux",
          "Chikipi",
          "Chillet",
          "Cinnamoth",
          "Cremis",
          "Croajiro",
          "Daedream",
          "Dazzi",
          "Dazzi Noct",
          "Demon Eye",
          "Depresso",
          "Direhowl",
          "Dumud",
          "Eikthyrdeer",
          "Enchanted Sword",
          "Fenglope",
          "Fenglope Lux",
          "Finsider",
          "Finsider Ignis",
          "Flambelle",
          "Flopie",
          "Foxparks",
          "Foxparks Cryst",
          "Frostplume",
          "Fuack",
          "Fuack Ignis",
          "Fuddler",
          "Galeclaw",
          "Gobfin",
          "Gobfin Ignis",
          "Green Slime",
          "Gumoss",
          "Hangyu",
          "Hangyu Cryst",
          "Herbil",
          "Hoocrates",
          "Icelyn",
          "Illuminant Bat",
          "Illuminant Slime",
          "Incineram",
          "Jelliette",
          "Jellroy",
          "Jolthog",
          "Jolthog Cryst",
          "Kelpsea",
          "Kelpsea Ignis",
          "Kikit",
          "Killamari",
          "Killamari Primo",
          "Lamball",
          "Leezpunk",
          "Leezpunk Ignis",
          "Lifmunk",
          "Loupmoon",
          "Loupmoon Cryst",
          "Lullu",
          "Mau",
          "Mau Cryst",
          "Melpaca",
          "Mozzarina",
          "Munchill",
          "Nitewing",
          "Nyafia",
          "Omascul",
          "Palumba",
          "Pengullet",
          "Pengullet Lux",
          "Purple Slime",
          "Rainbow Slime",
          "Red Slime",
          "Reindrix",
          "Ribbuny",
          "Ribbuny Botan",
          "Rooby",
          "Rushoar",
          "Shroomer",
          "Smokie",
          "Sparkit",
          "Splatterina",
          "Surfent",
          "Swee",
          "Tanzee",
          "Tarantriss",
          "Teafant",
          "Tocotoco",
          "Turtacle",
          "Turtacle Terra",
          "Vanwyrm",
          "Vixy",
          "Woolipop",
          "Yakumo"
         ],
         "legendgroup": "Common",
         "marker": {
          "color": "#EF553B",
          "opacity": 0.85,
          "size": 9,
          "symbol": "circle"
         },
         "mode": "markers",
         "name": "Common",
         "orientation": "v",
         "showlegend": true,
         "type": "scatter",
         "x": [
          2532,
          1785,
          1395,
          1620,
          1670,
          1675,
          1560,
          1395,
          2835,
          1910,
          1915,
          1495,
          2550,
          1910,
          1385,
          1448,
          1525,
          1700,
          1705,
          1485,
          1300,
          2565,
          1815,
          2305,
          2240,
          2645,
          2650,
          1315,
          1320,
          1300,
          1660,
          1570,
          1575,
          2010,
          1350,
          1375,
          1475,
          2040,
          1595,
          1595,
          1390,
          1360,
          1590,
          1600,
          1595,
          1546,
          1815,
          1430,
          1415,
          2470,
          1365,
          1740,
          1565,
          1575,
          2260,
          2260,
          2385,
          1600,
          1610,
          1553,
          2100,
          1650,
          1555,
          2190,
          2195,
          1910,
          1647,
          1652,
          2107,
          1955,
          1410,
          2175,
          2260,
          1660,
          2510,
          1765,
          1800,
          1400,
          1480,
          1405,
          2520,
          1255,
          1260,
          1640,
          1990,
          2640,
          1950,
          1435,
          1985,
          2030,
          1285,
          1368,
          2430,
          1300,
          1435,
          1585,
          1615,
          2395,
          1450,
          1350,
          2585
         ],
         "xaxis": "x",
         "y": [
          4,
          4,
          3,
          1,
          3,
          3,
          1,
          3,
          3,
          3,
          4,
          1,
          4,
          4,
          1,
          4,
          1,
          2,
          2,
          3,
          1,
          2,
          4,
          4,
          3,
          3,
          3,
          3,
          4,
          1,
          1,
          1,
          1,
          4,
          1,
          2,
          1,
          2,
          2,
          3,
          3,
          1,
          1,
          2,
          3,
          1,
          4,
          4,
          4,
          4,
          3,
          3,
          1,
          2,
          1,
          2,
          4,
          1,
          2,
          1,
          2,
          3,
          1,
          3,
          3,
          4,
          1,
          2,
          3,
          2,
          3,
          3,
          4,
          4,
          4,
          1,
          2,
          3,
          4,
          3,
          4,
          1,
          1,
          2,
          1,
          4,
          2,
          1,
          4,
          4,
          1,
          1,
          3,
          1,
          1,
          3,
          4,
          4,
          2,
          3,
          4
         ],
         "yaxis": "y"
        },
        {
         "customdata": [
          [
           130,
           110,
           100,
           100,
           120,
           220,
           100,
           900,
           1260,
           90,
           [
            "Electricity"
           ]
          ],
          [
           110,
           100,
           100,
           70,
           100,
           160,
           100,
           600,
           900,
           75,
           [
            "Water",
            "Dragon"
           ]
          ],
          [
           105,
           80,
           100,
           100,
           115,
           160,
           100,
           750,
           1200,
           100,
           [
            "Electricity"
           ]
          ],
          [
           105,
           80,
           100,
           100,
           110,
           150,
           100,
           800,
           1200,
           90,
           [
            "Fire"
           ]
          ],
          [
           130,
           120,
           100,
           100,
           95,
           270,
           100,
           600,
           1020,
           70,
           [
            "Leaf",
            "Earth"
           ]
          ],
          [
           120,
           100,
           100,
           80,
           90,
           150,
           120,
           550,
           1020,
           50,
           [
            "Leaf"
           ]
          ],
          [
           80,
           80,
           100,
           100,
           125,
           100,
           100,
           600,
           900,
           80,
           [
            "Fire"
           ]
          ],
          [
           80,
           80,
           100,
           100,
           130,
           100,
           100,
           600,
           900,
           80,
           [
            "Fire",
            "Dark"
           ]
          ],
          [
           120,
           100,
           100,
           100,
           110,
           260,
           100,
           800,
           1200,
           70,
           [
            "Normal"
           ]
          ],
          [
           90,
           80,
           100,
           100,
           85,
           100,
           100,
           750,
           1050,
           100,
           [
            "Fire",
            "Dragon"
           ]
          ],
          [
           85,
           90,
           100,
           100,
           110,
           100,
           100,
           300,
           450,
           33,
           [
            "Water",
            "Dark"
           ]
          ],
          [
           100,
           110,
           100,
           140,
           100,
           100,
           100,
           720,
           900,
           100,
           [
            "Ice"
           ]
          ],
          [
           100,
           110,
           100,
           140,
           105,
           100,
           100,
           720,
           900,
           100,
           [
            "Earth"
           ]
          ],
          [
           95,
           80,
           100,
           100,
           90,
           100,
           100,
           900,
           1200,
           80,
           [
            "Earth"
           ]
          ],
          [
           80,
           120,
           100,
           80,
           95,
           100,
           100,
           300,
           420,
           75,
           [
            "Earth"
           ]
          ],
          [
           110,
           90,
           100,
           90,
           85,
           130,
           150,
           700,
           1030,
           70,
           [
            "Leaf",
            "Dragon"
           ]
          ],
          [
           110,
           90,
           100,
           90,
           90,
           130,
           150,
           700,
           1030,
           70,
           [
            "Electricity",
            "Dragon"
           ]
          ],
          [
           90,
           100,
           100,
           100,
           100,
           100,
           100,
           300,
           550,
           45,
           [
            "Normal"
           ]
          ],
          [
           105,
           100,
           100,
           100,
           75,
           100,
           100,
           450,
           600,
           100,
           [
            "Earth",
            "Water"
           ]
          ],
          [
           95,
           80,
           100,
           70,
           80,
           100,
           100,
           700,
           900,
           80,
           [
            "Earth"
           ]
          ],
          [
           110,
           90,
           100,
           80,
           80,
           130,
           100,
           630,
           800,
           83,
           [
            "Dragon"
           ]
          ],
          [
           110,
           95,
           100,
           100,
           105,
           100,
           100,
           900,
           1200,
           100,
           [
            "Dark"
           ]
          ],
          [
           100,
           110,
           100,
           100,
           105,
           100,
           110,
           550,
           700,
           60,
           [
            "Dark"
           ]
          ],
          [
           90,
           105,
           100,
           100,
           95,
           100,
           100,
           600,
           750,
           65,
           [
            "Ice"
           ]
          ],
          [
           90,
           105,
           100,
           100,
           125,
           320,
           100,
           400,
           600,
           100,
           [
            "Dark",
            "Water"
           ]
          ],
          [
           90,
           105,
           100,
           100,
           130,
           320,
           100,
           400,
           600,
           100,
           [
            "Fire",
            "Water"
           ]
          ],
          [
           70,
           70,
           100,
           100,
           85,
           100,
           100,
           300,
           500,
           50,
           [
            "Water",
            "Dark"
           ]
          ],
          [
           90,
           90,
           100,
           110,
           95,
           100,
           100,
           550,
           720,
           66,
           [
            "Normal"
           ]
          ],
          [
           90,
           90,
           100,
           110,
           100,
           100,
           100,
           550,
           720,
           66,
           [
            "Earth"
           ]
          ],
          [
           110,
           80,
           100,
           100,
           80,
           100,
           100,
           650,
           1000,
           32,
           [
            "Normal"
           ]
          ],
          [
           100,
           100,
           100,
           100,
           125,
           170,
           100,
           700,
           1100,
           100,
           [
            "Dark"
           ]
          ],
          [
           95,
           85,
           100,
           150,
           105,
           100,
           100,
           700,
           960,
           80,
           [
            "Dark"
           ]
          ],
          [
           90,
           90,
           100,
           100,
           105,
           100,
           100,
           440,
           620,
           70,
           [
            "Dark"
           ]
          ],
          [
           95,
           90,
           100,
           100,
           105,
           100,
           100,
           440,
           620,
           70,
           [
            "Dark",
            "Fire"
           ]
          ],
          [
           100,
           100,
           100,
           70,
           115,
           140,
           110,
           700,
           1100,
           80,
           [
            "Fire"
           ]
          ],
          [
           100,
           105,
           100,
           70,
           115,
           140,
           110,
           700,
           1100,
           80,
           [
            "Dark"
           ]
          ],
          [
           120,
           70,
           100,
           70,
           70,
           100,
           140,
           750,
           850,
           90,
           [
            "Normal"
           ]
          ],
          [
           90,
           90,
           100,
           80,
           100,
           100,
           100,
           500,
           650,
           80,
           [
            "Normal"
           ]
          ],
          [
           75,
           80,
           100,
           50,
           105,
           130,
           100,
           700,
           1100,
           100,
           [
            "Dark"
           ]
          ],
          [
           60,
           130,
           100,
           100,
           60,
           100,
           100,
           2000,
           -1,
           40,
           [
            "Normal"
           ]
          ],
          [
           100,
           90,
           100,
           100,
           90,
           130,
           100,
           600,
           1000,
           50,
           [
            "Leaf"
           ]
          ],
          [
           100,
           100,
           100,
           100,
           100,
           130,
           100,
           600,
           1000,
           50,
           [
            "Electricity"
           ]
          ],
          [
           105,
           105,
           100,
           100,
           95,
           100,
           100,
           380,
           500,
           70,
           [
            "Dark"
           ]
          ],
          [
           75,
           70,
           100,
           70,
           85,
           100,
           140,
           300,
           500,
           30,
           [
            "Dark"
           ]
          ],
          [
           95,
           95,
           100,
           70,
           95,
           100,
           100,
           450,
           600,
           50,
           [
            "Water",
            "Ice"
           ]
          ],
          [
           100,
           100,
           100,
           100,
           100,
           100,
           100,
           450,
           600,
           50,
           [
            "Water",
            "Electricity"
           ]
          ],
          [
           95,
           105,
           100,
           100,
           105,
           120,
           100,
           250,
           375,
           20,
           [
            "Ice",
            "Water"
           ]
          ],
          [
           90,
           90,
           100,
           100,
           110,
           100,
           100,
           720,
           -1,
           90,
           [
            "Dark",
            "Earth"
           ]
          ],
          [
           105,
           100,
           100,
           100,
           95,
           100,
           100,
           550,
           700,
           100,
           [
            "Leaf",
            "Dark"
           ]
          ],
          [
           100,
           90,
           100,
           110,
           95,
           100,
           100,
           850,
           1300,
           100,
           [
            "Fire"
           ]
          ],
          [
           100,
           90,
           100,
           110,
           95,
           100,
           100,
           850,
           1300,
           100,
           [
            "Fire",
            "Dark"
           ]
          ],
          [
           105,
           100,
           100,
           100,
           100,
           220,
           100,
           800,
           950,
           120,
           [
            "Dragon"
           ]
          ],
          [
           95,
           120,
           100,
           100,
           105,
           150,
           100,
           800,
           1300,
           100,
           [
            "Fire"
           ]
          ],
          [
           90,
           80,
           100,
           100,
           100,
           100,
           100,
           700,
           1150,
           110,
           [
            "Electricity"
           ]
          ],
          [
           110,
           120,
           100,
           100,
           105,
           220,
           100,
           550,
           1000,
           50,
           [
            "Fire",
            "Earth"
           ]
          ],
          [
           110,
           130,
           100,
           100,
           105,
           220,
           100,
           550,
           1000,
           50,
           [
            "Ice",
            "Earth"
           ]
          ],
          [
           90,
           80,
           100,
           100,
           105,
           100,
           100,
           600,
           750,
           100,
           [
            "Leaf"
           ]
          ],
          [
           90,
           80,
           100,
           100,
           105,
           100,
           100,
           600,
           750,
           100,
           [
            "Leaf",
            "Earth"
           ]
          ],
          [
           110,
           90,
           100,
           100,
           85,
           220,
           100,
           740,
           1050,
           50,
           [
            "Leaf",
            "Dark"
           ]
          ],
          [
           110,
           100,
           100,
           90,
           90,
           100,
           90,
           400,
           550,
           50,
           [
            "Ice"
           ]
          ],
          [
           105,
           90,
           100,
           100,
           125,
           100,
           100,
           800,
           1000,
           100,
           [
            "Dark",
            "Fire"
           ]
          ],
          [
           110,
           100,
           100,
           100,
           100,
           230,
           100,
           900,
           1200,
           150,
           [
            "Dark"
           ]
          ],
          [
           90,
           100,
           100,
           70,
           90,
           100,
           100,
           500,
           800,
           100,
           [
            "Earth"
           ]
          ],
          [
           100,
           90,
           100,
           100,
           90,
           120,
           100,
           650,
           1020,
           60,
           [
            "Ice"
           ]
          ],
          [
           95,
           80,
           100,
           100,
           95,
           100,
           100,
           400,
           550,
           80,
           [
            "Dark"
           ]
          ],
          [
           80,
           105,
           100,
           110,
           105,
           100,
           100,
           720,
           1100,
           80,
           [
            "Electricity"
           ]
          ],
          [
           90,
           95,
           100,
           100,
           120,
           150,
           100,
           700,
           850,
           100,
           [
            "Ice",
            "Dark"
           ]
          ],
          [
           105,
           110,
           100,
           100,
           115,
           200,
           100,
           550,
           660,
           125,
           [
            "Ice",
            "Water"
           ]
          ],
          [
           90,
           80,
           100,
           50,
           110,
           100,
           120,
           440,
           620,
           70,
           [
            "Fire"
           ]
          ],
          [
           90,
           85,
           100,
           50,
           110,
           100,
           120,
           440,
           620,
           70,
           [
            "Fire",
            "Dark"
           ]
          ],
          [
           140,
           100,
           100,
           100,
           80,
           240,
           100,
           600,
           1050,
           70,
           [
            "Ice"
           ]
          ],
          [
           90,
           85,
           100,
           100,
           125,
           100,
           100,
           550,
           700,
           125,
           [
            "Dark"
           ]
          ]
         ],
         "hovertemplate": "<b>%{hovertext}</b><br><br>Rarity=Rare<br>Total Stats=%{x}<br>Rarity Level=%{y}<br>HP=%{customdata[0]}<br>Defense=%{customdata[1]}<br>Crafting Speed=%{customdata[2]}<br>Melee Attack=%{customdata[3]}<br>Shot Attack=%{customdata[4]}<br>Stamina=%{customdata[5]}<br>Support=%{customdata[6]}<br>Running Speed=%{customdata[7]}<br>Sprinting Speed=%{customdata[8]}<br>Slow Walk Speed=%{customdata[9]}<br>Element=%{customdata[10]}<extra></extra>",
         "hovertext": [
          "Azurmane",
          "Azurobe",
          "Beakon",
          "Blazehowl",
          "Braloha",
          "Broncherry",
          "Bushi",
          "Bushi Noct",
          "Celesdir",
          "Chillet Ignis",
          "Croajiro Noct",
          "Cryolinx",
          "Cryolinx Terra",
          "Dazemu",
          "Digtoise",
          "Dinossom",
          "Dinossom Lux",
          "Dogen",
          "Dumud Gild",
          "Eikthyrdeer Terra",
          "Elphidran",
          "Eye of Cthulhu",
          "Felbat",
          "Foxcicle",
          "Ghangler",
          "Ghangler Ignis",
          "Gloopie",
          "Gorirat",
          "Gorirat Terra",
          "Grintale",
          "Helzephyr",
          "Incineram Noct",
          "Katress",
          "Katress Ignis",
          "Kitsun",
          "Kitsun Noct",
          "Lovander",
          "Lunaris",
          "Maraith",
          "Mimog",
          "Mossanda",
          "Mossanda Lux",
          "Nitemary",
          "Nox",
          "Penking",
          "Penking Lux",
          "Polapup",
          "Prixter",
          "Prunelia",
          "Pyrin",
          "Pyrin Noct",
          "Quivern",
          "Ragnahawk",
          "Rayhound",
          "Reptyro",
          "Reptyro Cryst",
          "Robinquill",
          "Robinquill Terra",
          "Shroomer Noct",
          "Sibelyx",
          "Sootseer",
          "Starryon",
          "Surfent Terra",
          "Sweepa",
          "Tombat",
          "Univolt",
          "Vanwyrm Cryst",
          "Whalaska",
          "Wixen",
          "Wixen Noct",
          "Wumpo",
          "Xenovader"
         ],
         "legendgroup": "Rare",
         "marker": {
          "color": "#00cc96",
          "opacity": 0.85,
          "size": 9,
          "symbol": "circle"
         },
         "mode": "markers",
         "name": "Rare",
         "orientation": "v",
         "showlegend": true,
         "type": "scatter",
         "x": [
          3130,
          2315,
          2810,
          2835,
          2605,
          2380,
          2265,
          2270,
          2960,
          2555,
          1468,
          2470,
          2475,
          2845,
          1470,
          2555,
          2560,
          1585,
          1830,
          2305,
          2203,
          2910,
          2035,
          2105,
          2040,
          2045,
          1475,
          2021,
          2026,
          2352,
          2695,
          2475,
          1815,
          1820,
          2615,
          2620,
          2360,
          1890,
          2540,
          2689,
          2360,
          2380,
          1655,
          1470,
          1755,
          1800,
          1370,
          1499,
          2050,
          2945,
          2945,
          2695,
          2970,
          2630,
          2455,
          2465,
          2125,
          2125,
          2645,
          1680,
          2620,
          3090,
          2050,
          2430,
          1700,
          2600,
          2405,
          2165,
          1780,
          1785,
          2580,
          2075
         ],
         "xaxis": "x",
         "y": [
          7,
          7,
          6,
          7,
          6,
          7,
          7,
          7,
          6,
          5,
          5,
          7,
          7,
          5,
          5,
          6,
          7,
          6,
          5,
          6,
          7,
          6,
          6,
          5,
          5,
          6,
          5,
          5,
          5,
          6,
          7,
          5,
          6,
          6,
          6,
          6,
          5,
          6,
          6,
          7,
          6,
          7,
          6,
          6,
          6,
          7,
          5,
          5,
          5,
          6,
          7,
          7,
          7,
          5,
          6,
          7,
          5,
          6,
          5,
          7,
          7,
          7,
          5,
          6,
          5,
          5,
          5,
          7,
          6,
          6,
          7,
          7
         ],
         "yaxis": "y"
        },
        {
         "customdata": [
          [
           120,
           100,
           100,
           100,
           150,
           100,
           100,
           600,
           800,
           100,
           [
            "Dark"
           ]
          ],
          [
           120,
           100,
           100,
           100,
           150,
           100,
           100,
           600,
           800,
           100,
           [
            "Dark"
           ]
          ],
          [
           140,
           120,
           100,
           100,
           140,
           300,
           70,
           1200,
           1800,
           120,
           [
            "Ice"
           ]
          ],
          [
           140,
           135,
           100,
           100,
           140,
           300,
           70,
           1200,
           1800,
           120,
           [
            "Dark"
           ]
          ],
          [
           110,
           110,
           100,
           100,
           140,
           100,
           100,
           1700,
           3300,
           200,
           [
            "Dragon"
           ]
          ],
          [
           130,
           120,
           100,
           100,
           145,
           350,
           100,
           1300,
           1900,
           100,
           [
            "Dark"
           ]
          ],
          [
           105,
           125,
           100,
           100,
           145,
           410,
           100,
           750,
           1120,
           150,
           [
            "Water"
           ]
          ],
          [
           130,
           145,
           100,
           110,
           120,
           400,
           100,
           800,
           1800,
           50,
           [
            "Normal"
           ]
          ]
         ],
         "hovertemplate": "<b>%{hovertext}</b><br><br>Rarity=Legendary<br>Total Stats=%{x}<br>Rarity Level=%{y}<br>HP=%{customdata[0]}<br>Defense=%{customdata[1]}<br>Crafting Speed=%{customdata[2]}<br>Melee Attack=%{customdata[3]}<br>Shot Attack=%{customdata[4]}<br>Stamina=%{customdata[5]}<br>Support=%{customdata[6]}<br>Running Speed=%{customdata[7]}<br>Sprinting Speed=%{customdata[8]}<br>Slow Walk Speed=%{customdata[9]}<br>Element=%{customdata[10]}<extra></extra>",
         "hovertext": [
          "Bellanoir",
          "Bellanoir Libero",
          "Frostallion",
          "Frostallion Noct",
          "Jetragon",
          "Necromus",
          "Neptilius",
          "Paladius"
         ],
         "legendgroup": "Legendary",
         "marker": {
          "color": "#ab63fa",
          "opacity": 0.85,
          "size": 9,
          "symbol": "circle"
         },
         "mode": "markers",
         "name": "Legendary",
         "orientation": "v",
         "showlegend": true,
         "type": "scatter",
         "x": [
          2270,
          2270,
          4090,
          4105,
          5960,
          4345,
          3105,
          3755
         ],
         "xaxis": "x",
         "y": [
          20,
          20,
          20,
          20,
          20,
          20,
          20,
          20
         ],
         "yaxis": "y"
        }
       ],
       "layout": {
        "autosize": true,
        "legend": {
         "title": {
          "text": "Rarity"
         },
         "tracegroupgap": 0
        },
        "template": {
         "data": {
          "bar": [
           {
            "error_x": {
             "color": "#2a3f5f"
            },
            "error_y": {
             "color": "#2a3f5f"
            },
            "marker": {
             "line": {
              "color": "#E5ECF6",
              "width": 0.5
             },
             "pattern": {
              "fillmode": "overlay",
              "size": 10,
              "solidity": 0.2
             }
            },
            "type": "bar"
           }
          ],
          "barpolar": [
           {
            "marker": {
             "line": {
              "color": "#E5ECF6",
              "width": 0.5
             },
             "pattern": {
              "fillmode": "overlay",
              "size": 10,
              "solidity": 0.2
             }
            },
            "type": "barpolar"
           }
          ],
          "carpet": [
           {
            "aaxis": {
             "endlinecolor": "#2a3f5f",
             "gridcolor": "white",
             "linecolor": "white",
             "minorgridcolor": "white",
             "startlinecolor": "#2a3f5f"
            },
            "baxis": {
             "endlinecolor": "#2a3f5f",
             "gridcolor": "white",
             "linecolor": "white",
             "minorgridcolor": "white",
             "startlinecolor": "#2a3f5f"
            },
            "type": "carpet"
           }
          ],
          "choropleth": [
           {
            "colorbar": {
             "outlinewidth": 0,
             "ticks": ""
            },
            "type": "choropleth"
           }
          ],
          "contour": [
           {
            "colorbar": {
             "outlinewidth": 0,
             "ticks": ""
            },
            "colorscale": [
             [
              0,
              "#0d0887"
             ],
             [
              0.1111111111111111,
              "#46039f"
             ],
             [
              0.2222222222222222,
              "#7201a8"
             ],
             [
              0.3333333333333333,
              "#9c179e"
             ],
             [
              0.4444444444444444,
              "#bd3786"
             ],
             [
              0.5555555555555556,
              "#d8576b"
             ],
             [
              0.6666666666666666,
              "#ed7953"
             ],
             [
              0.7777777777777778,
              "#fb9f3a"
             ],
             [
              0.8888888888888888,
              "#fdca26"
             ],
             [
              1,
              "#f0f921"
             ]
            ],
            "type": "contour"
           }
          ],
          "contourcarpet": [
           {
            "colorbar": {
             "outlinewidth": 0,
             "ticks": ""
            },
            "type": "contourcarpet"
           }
          ],
          "heatmap": [
           {
            "colorbar": {
             "outlinewidth": 0,
             "ticks": ""
            },
            "colorscale": [
             [
              0,
              "#0d0887"
             ],
             [
              0.1111111111111111,
              "#46039f"
             ],
             [
              0.2222222222222222,
              "#7201a8"
             ],
             [
              0.3333333333333333,
              "#9c179e"
             ],
             [
              0.4444444444444444,
              "#bd3786"
             ],
             [
              0.5555555555555556,
              "#d8576b"
             ],
             [
              0.6666666666666666,
              "#ed7953"
             ],
             [
              0.7777777777777778,
              "#fb9f3a"
             ],
             [
              0.8888888888888888,
              "#fdca26"
             ],
             [
              1,
              "#f0f921"
             ]
            ],
            "type": "heatmap"
           }
          ],
          "heatmapgl": [
           {
            "colorbar": {
             "outlinewidth": 0,
             "ticks": ""
            },
            "colorscale": [
             [
              0,
              "#0d0887"
             ],
             [
              0.1111111111111111,
              "#46039f"
             ],
             [
              0.2222222222222222,
              "#7201a8"
             ],
             [
              0.3333333333333333,
              "#9c179e"
             ],
             [
              0.4444444444444444,
              "#bd3786"
             ],
             [
              0.5555555555555556,
              "#d8576b"
             ],
             [
              0.6666666666666666,
              "#ed7953"
             ],
             [
              0.7777777777777778,
              "#fb9f3a"
             ],
             [
              0.8888888888888888,
              "#fdca26"
             ],
             [
              1,
              "#f0f921"
             ]
            ],
            "type": "heatmapgl"
           }
          ],
          "histogram": [
           {
            "marker": {
             "pattern": {
              "fillmode": "overlay",
              "size": 10,
              "solidity": 0.2
             }
            },
            "type": "histogram"
           }
          ],
          "histogram2d": [
           {
            "colorbar": {
             "outlinewidth": 0,
             "ticks": ""
            },
            "colorscale": [
             [
              0,
              "#0d0887"
             ],
             [
              0.1111111111111111,
              "#46039f"
             ],
             [
              0.2222222222222222,
              "#7201a8"
             ],
             [
              0.3333333333333333,
              "#9c179e"
             ],
             [
              0.4444444444444444,
              "#bd3786"
             ],
             [
              0.5555555555555556,
              "#d8576b"
             ],
             [
              0.6666666666666666,
              "#ed7953"
             ],
             [
              0.7777777777777778,
              "#fb9f3a"
             ],
             [
              0.8888888888888888,
              "#fdca26"
             ],
             [
              1,
              "#f0f921"
             ]
            ],
            "type": "histogram2d"
           }
          ],
          "histogram2dcontour": [
           {
            "colorbar": {
             "outlinewidth": 0,
             "ticks": ""
            },
            "colorscale": [
             [
              0,
              "#0d0887"
             ],
             [
              0.1111111111111111,
              "#46039f"
             ],
             [
              0.2222222222222222,
              "#7201a8"
             ],
             [
              0.3333333333333333,
              "#9c179e"
             ],
             [
              0.4444444444444444,
              "#bd3786"
             ],
             [
              0.5555555555555556,
              "#d8576b"
             ],
             [
              0.6666666666666666,
              "#ed7953"
             ],
             [
              0.7777777777777778,
              "#fb9f3a"
             ],
             [
              0.8888888888888888,
              "#fdca26"
             ],
             [
              1,
              "#f0f921"
             ]
            ],
            "type": "histogram2dcontour"
           }
          ],
          "mesh3d": [
           {
            "colorbar": {
             "outlinewidth": 0,
             "ticks": ""
            },
            "type": "mesh3d"
           }
          ],
          "parcoords": [
           {
            "line": {
             "colorbar": {
              "outlinewidth": 0,
              "ticks": ""
             }
            },
            "type": "parcoords"
           }
          ],
          "pie": [
           {
            "automargin": true,
            "type": "pie"
           }
          ],
          "scatter": [
           {
            "fillpattern": {
             "fillmode": "overlay",
             "size": 10,
             "solidity": 0.2
            },
            "type": "scatter"
           }
          ],
          "scatter3d": [
           {
            "line": {
             "colorbar": {
              "outlinewidth": 0,
              "ticks": ""
             }
            },
            "marker": {
             "colorbar": {
              "outlinewidth": 0,
              "ticks": ""
             }
            },
            "type": "scatter3d"
           }
          ],
          "scattercarpet": [
           {
            "marker": {
             "colorbar": {
              "outlinewidth": 0,
              "ticks": ""
             }
            },
            "type": "scattercarpet"
           }
          ],
          "scattergeo": [
           {
            "marker": {
             "colorbar": {
              "outlinewidth": 0,
              "ticks": ""
             }
            },
            "type": "scattergeo"
           }
          ],
          "scattergl": [
           {
            "marker": {
             "colorbar": {
              "outlinewidth": 0,
              "ticks": ""
             }
            },
            "type": "scattergl"
           }
          ],
          "scattermapbox": [
           {
            "marker": {
             "colorbar": {
              "outlinewidth": 0,
              "ticks": ""
             }
            },
            "type": "scattermapbox"
           }
          ],
          "scatterpolar": [
           {
            "marker": {
             "colorbar": {
              "outlinewidth": 0,
              "ticks": ""
             }
            },
            "type": "scatterpolar"
           }
          ],
          "scatterpolargl": [
           {
            "marker": {
             "colorbar": {
              "outlinewidth": 0,
              "ticks": ""
             }
            },
            "type": "scatterpolargl"
           }
          ],
          "scatterternary": [
           {
            "marker": {
             "colorbar": {
              "outlinewidth": 0,
              "ticks": ""
             }
            },
            "type": "scatterternary"
           }
          ],
          "surface": [
           {
            "colorbar": {
             "outlinewidth": 0,
             "ticks": ""
            },
            "colorscale": [
             [
              0,
              "#0d0887"
             ],
             [
              0.1111111111111111,
              "#46039f"
             ],
             [
              0.2222222222222222,
              "#7201a8"
             ],
             [
              0.3333333333333333,
              "#9c179e"
             ],
             [
              0.4444444444444444,
              "#bd3786"
             ],
             [
              0.5555555555555556,
              "#d8576b"
             ],
             [
              0.6666666666666666,
              "#ed7953"
             ],
             [
              0.7777777777777778,
              "#fb9f3a"
             ],
             [
              0.8888888888888888,
              "#fdca26"
             ],
             [
              1,
              "#f0f921"
             ]
            ],
            "type": "surface"
           }
          ],
          "table": [
           {
            "cells": {
             "fill": {
              "color": "#EBF0F8"
             },
             "line": {
              "color": "white"
             }
            },
            "header": {
             "fill": {
              "color": "#C8D4E3"
             },
             "line": {
              "color": "white"
             }
            },
            "type": "table"
           }
          ]
         },
         "layout": {
          "annotationdefaults": {
           "arrowcolor": "#2a3f5f",
           "arrowhead": 0,
           "arrowwidth": 1
          },
          "autotypenumbers": "strict",
          "coloraxis": {
           "colorbar": {
            "outlinewidth": 0,
            "ticks": ""
           }
          },
          "colorscale": {
           "diverging": [
            [
             0,
             "#8e0152"
            ],
            [
             0.1,
             "#c51b7d"
            ],
            [
             0.2,
             "#de77ae"
            ],
            [
             0.3,
             "#f1b6da"
            ],
            [
             0.4,
             "#fde0ef"
            ],
            [
             0.5,
             "#f7f7f7"
            ],
            [
             0.6,
             "#e6f5d0"
            ],
            [
             0.7,
             "#b8e186"
            ],
            [
             0.8,
             "#7fbc41"
            ],
            [
             0.9,
             "#4d9221"
            ],
            [
             1,
             "#276419"
            ]
           ],
           "sequential": [
            [
             0,
             "#0d0887"
            ],
            [
             0.1111111111111111,
             "#46039f"
            ],
            [
             0.2222222222222222,
             "#7201a8"
            ],
            [
             0.3333333333333333,
             "#9c179e"
            ],
            [
             0.4444444444444444,
             "#bd3786"
            ],
            [
             0.5555555555555556,
             "#d8576b"
            ],
            [
             0.6666666666666666,
             "#ed7953"
            ],
            [
             0.7777777777777778,
             "#fb9f3a"
            ],
            [
             0.8888888888888888,
             "#fdca26"
            ],
            [
             1,
             "#f0f921"
            ]
           ],
           "sequentialminus": [
            [
             0,
             "#0d0887"
            ],
            [
             0.1111111111111111,
             "#46039f"
            ],
            [
             0.2222222222222222,
             "#7201a8"
            ],
            [
             0.3333333333333333,
             "#9c179e"
            ],
            [
             0.4444444444444444,
             "#bd3786"
            ],
            [
             0.5555555555555556,
             "#d8576b"
            ],
            [
             0.6666666666666666,
             "#ed7953"
            ],
            [
             0.7777777777777778,
             "#fb9f3a"
            ],
            [
             0.8888888888888888,
             "#fdca26"
            ],
            [
             1,
             "#f0f921"
            ]
           ]
          },
          "colorway": [
           "#636efa",
           "#EF553B",
           "#00cc96",
           "#ab63fa",
           "#FFA15A",
           "#19d3f3",
           "#FF6692",
           "#B6E880",
           "#FF97FF",
           "#FECB52"
          ],
          "font": {
           "color": "#2a3f5f"
          },
          "geo": {
           "bgcolor": "white",
           "lakecolor": "white",
           "landcolor": "#E5ECF6",
           "showlakes": true,
           "showland": true,
           "subunitcolor": "white"
          },
          "hoverlabel": {
           "align": "left"
          },
          "hovermode": "closest",
          "mapbox": {
           "style": "light"
          },
          "paper_bgcolor": "white",
          "plot_bgcolor": "#E5ECF6",
          "polar": {
           "angularaxis": {
            "gridcolor": "white",
            "linecolor": "white",
            "ticks": ""
           },
           "bgcolor": "#E5ECF6",
           "radialaxis": {
            "gridcolor": "white",
            "linecolor": "white",
            "ticks": ""
           }
          },
          "scene": {
           "xaxis": {
            "backgroundcolor": "#E5ECF6",
            "gridcolor": "white",
            "gridwidth": 2,
            "linecolor": "white",
            "showbackground": true,
            "ticks": "",
            "zerolinecolor": "white"
           },
           "yaxis": {
            "backgroundcolor": "#E5ECF6",
            "gridcolor": "white",
            "gridwidth": 2,
            "linecolor": "white",
            "showbackground": true,
            "ticks": "",
            "zerolinecolor": "white"
           },
           "zaxis": {
            "backgroundcolor": "#E5ECF6",
            "gridcolor": "white",
            "gridwidth": 2,
            "linecolor": "white",
            "showbackground": true,
            "ticks": "",
            "zerolinecolor": "white"
           }
          },
          "shapedefaults": {
           "line": {
            "color": "#2a3f5f"
           }
          },
          "ternary": {
           "aaxis": {
            "gridcolor": "white",
            "linecolor": "white",
            "ticks": ""
           },
           "baxis": {
            "gridcolor": "white",
            "linecolor": "white",
            "ticks": ""
           },
           "bgcolor": "#E5ECF6",
           "caxis": {
            "gridcolor": "white",
            "linecolor": "white",
            "ticks": ""
           }
          },
          "title": {
           "x": 0.05
          },
          "xaxis": {
           "automargin": true,
           "gridcolor": "white",
           "linecolor": "white",
           "ticks": "",
           "title": {
            "standoff": 15
           },
           "zerolinecolor": "white",
           "zerolinewidth": 2
          },
          "yaxis": {
           "automargin": true,
           "gridcolor": "white",
           "linecolor": "white",
           "ticks": "",
           "title": {
            "standoff": 15
           },
           "zerolinecolor": "white",
           "zerolinewidth": 2
          }
         }
        },
        "title": {
         "text": "Total Stats vs Rarity Level"
        },
        "xaxis": {
         "anchor": "y",
         "autorange": true,
         "domain": [
          0,
          1
         ],
         "range": [
          966.9496577360713,
          6248.0503422639285
         ],
         "title": {
          "text": "Total Stats"
         },
         "type": "linear"
        },
        "yaxis": {
         "anchor": "x",
         "autorange": true,
         "domain": [
          0,
          1
         ],
         "range": [
          -0.8432835820895523,
          21.84328358208955
         ],
         "title": {
          "text": "Rarity Level"
         },
         "type": "linear"
        }
       }
      },
      "image/png": "[encoded data removed]",
      "text/html": [
       "<div>                            <div id=\"f3aab97a-2e86-4e29-b6c9-4c0058ab20a5\" class=\"plotly-graph-div\" style=\"height:525px; width:100%;\"></div>            <script type=\"text/javascript\">                require([\"plotly\"], function(Plotly) {                    window.PLOTLYENV=window.PLOTLYENV || {};                                    if (document.getElementById(\"f3aab97a-2e86-4e29-b6c9-4c0058ab20a5\")) {                    Plotly.newPlot(                        \"f3aab97a-2e86-4e29-b6c9-4c0058ab20a5\",                        [{\"customdata\":[[120,100,100,130,130,100,100,800,1000,80,[\"Earth\"]],[100,125,100,100,125,300,100,700,1100,100,[\"Dragon\",\"Dark\"]],[115,105,100,100,105,160,100,600,900,75,[\"Ice\",\"Dragon\"]],[140,120,100,100,130,270,100,750,1100,120,[\"Ice\"]],[100,120,100,150,125,190,50,800,1200,150,[\"Fire\"]],[105,125,100,150,130,190,50,800,1200,150,[\"Dragon\",\"Fire\"]],[105,80,100,100,115,150,100,800,1200,60,[\"Fire\",\"Dark\"]],[120,100,100,80,95,150,120,550,1020,50,[\"Leaf\",\"Water\"]],[90,100,100,100,105,100,100,450,550,150,[\"Leaf\"]],[115,95,100,80,80,130,100,630,800,83,[\"Dragon\",\"Water\"]],[100,110,100,100,105,230,90,1000,1400,150,[\"Fire\"]],[100,110,100,100,110,230,90,1000,1400,150,[\"Water\"]],[120,110,100,100,110,200,100,840,1260,170,[\"Earth\"]],[105,100,100,120,100,180,100,600,1000,80,[\"Electricity\"]],[105,100,100,100,125,170,100,700,1100,100,[\"Dark\",\"Electricity\"]],[130,100,100,150,120,150,100,600,1000,100,[\"Dragon\",\"Water\"]],[130,100,100,150,130,150,100,600,1000,100,[\"Dragon\",\"Fire\"]],[120,90,100,100,85,170,100,700,1040,80,[\"Normal\"]],[120,90,100,100,85,170,100,700,1040,80,[\"Ice\"]],[105,135,100,100,110,100,100,550,700,100,[\"Earth\"]],[110,105,100,100,110,100,100,450,550,60,[\"Leaf\"]],[110,115,100,100,110,100,100,450,550,60,[\"Dark\"]],[150,90,100,100,85,180,30,600,1030,100,[\"Leaf\",\"Earth\"]],[150,90,100,100,85,180,30,600,1030,100,[\"Ice\",\"Earth\"]],[100,130,100,100,100,100,100,1000,1200,100,[\"Dark\",\"Earth\"]],[100,130,100,100,105,100,100,1000,1200,100,[\"Earth\"]],[100,100,100,100,130,100,100,900,1200,100,[\"Dragon\",\"Electricity\"]],[100,100,100,100,95,100,100,550,700,100,[\"Leaf\"]],[105,100,100,100,105,220,100,800,950,120,[\"Dragon\",\"Leaf\"]],[110,70,100,110,100,200,100,650,1000,40,[\"Dragon\",\"Water\"]],[110,75,100,110,110,200,100,650,1000,40,[\"Dragon\",\"Electricity\"]],[130,110,100,100,115,300,100,1000,1600,60,[\"Dark\",\"Normal\"]],[120,140,100,130,120,250,90,850,1200,80,[\"Dark\"]],[120,115,100,100,110,280,100,700,1050,90,[\"Dragon\"]],[120,105,100,100,105,350,100,850,1100,100,[\"Fire\"]],[125,105,100,100,105,350,100,850,1100,100,[\"Water\"]],[100,120,100,100,100,100,100,400,550,100,[\"Leaf\"]],[90,90,100,100,115,100,100,500,700,50,[\"Leaf\"]],[120,120,100,100,100,100,100,500,600,55,[\"Earth\",\"Leaf\"]],[120,120,100,100,105,100,100,500,600,55,[\"Earth\"]],[105,110,100,100,120,200,100,550,660,125,[\"Ice\",\"Fire\"]],[140,110,100,100,80,240,100,600,1050,70,[\"Leaf\"]],[110,130,100,100,120,250,100,790,1200,115,[\"Dragon\"]],[130,120,100,100,120,300,100,550,660,100,[\"Dark\",\"Dragon\"]]],\"hovertemplate\":\"\\u003cb\\u003e%{hovertext}\\u003c\\u002fb\\u003e\\u003cbr\\u003e\\u003cbr\\u003eRarity=Epic\\u003cbr\\u003eTotal Stats=%{x}\\u003cbr\\u003eRarity Level=%{y}\\u003cbr\\u003eHP=%{customdata[0]}\\u003cbr\\u003eDefense=%{customdata[1]}\\u003cbr\\u003eCrafting Speed=%{customdata[2]}\\u003cbr\\u003eMelee Attack=%{customdata[3]}\\u003cbr\\u003eShot Attack=%{customdata[4]}\\u003cbr\\u003eStamina=%{customdata[5]}\\u003cbr\\u003eSupport=%{customdata[6]}\\u003cbr\\u003eRunning Speed=%{customdata[7]}\\u003cbr\\u003eSprinting Speed=%{customdata[8]}\\u003cbr\\u003eSlow Walk Speed=%{customdata[9]}\\u003cbr\\u003eElement=%{customdata[10]}\\u003cextra\\u003e\\u003c\\u002fextra\\u003e\",\"hovertext\":[\"Anubis\",\"Astegon\",\"Azurobe Cryst\",\"Bastigor\",\"Blazamut\",\"Blazamut Ryu\",\"Blazehowl Noct\",\"Broncherry Aqua\",\"Elizabee\",\"Elphidran Aqua\",\"Faleris\",\"Faleris Aqua\",\"Gildane\",\"Grizzbolt\",\"Helzephyr Lux\",\"Jormuntide\",\"Jormuntide Ignis\",\"Kingpaca\",\"Kingpaca Cryst\",\"Knocklem\",\"Lyleen\",\"Lyleen Noct\",\"Mammorest\",\"Mammorest Cryst\",\"Menasting\",\"Menasting Terra\",\"Orserk\",\"Petallia\",\"Quivern Botan\",\"Relaxaurus\",\"Relaxaurus Lux\",\"Selyne\",\"Shadowbeak\",\"Silvegis\",\"Suzaku\",\"Suzaku Aqua\",\"Vaelet\",\"Verdash\",\"Warsect\",\"Warsect Terra\",\"Whalaska Ignis\",\"Wumpo Botan\",\"Xenogard\",\"Xenolord\"],\"legendgroup\":\"Epic\",\"marker\":{\"color\":\"#636efa\",\"symbol\":\"circle\",\"opacity\":0.85,\"size\":9},\"mode\":\"markers\",\"name\":\"Epic\",\"orientation\":\"v\",\"showlegend\":true,\"x\":[2660,2850,2360,2930,2985,3000,2810,2385,1845,2213,3385,3390,3110,2485,2700,2550,2560,2585,2585,2100,1785,1795,2465,2465,3030,3035,2930,2045,2700,2480,2495,3615,3080,2765,3030,3035,1770,1945,1895,1900,2170,2590,3015,2280],\"xaxis\":\"x\",\"y\":[10,9,8,8,9,10,8,8,8,8,9,9,8,8,8,8,9,8,9,9,9,10,8,9,9,10,9,8,8,8,9,9,10,8,8,9,8,8,8,9,8,8,9,8],\"yaxis\":\"y\",\"type\":\"scatter\"},{\"customdata\":[[85,95,100,100,95,120,100,700,1050,87,[\"Fire\"]],[80,90,100,100,90,100,100,450,550,125,[\"Leaf\"]],[70,80,100,100,70,100,100,300,450,25,[\"Water\"]],[80,80,100,80,80,100,100,400,550,50,[\"Leaf\"]],[100,90,100,70,70,100,120,400,550,70,[\"Leaf\"]],[100,90,100,70,75,100,120,400,550,70,[\"Dark\"]],[70,70,100,70,70,100,100,400,550,30,[\"Normal\"]],[65,80,100,100,75,100,100,300,450,25,[\"Normal\"]],[75,80,100,80,95,100,100,920,1200,85,[\"Dark\"]],[80,80,100,100,70,100,100,550,700,30,[\"Water\"]],[80,80,100,100,75,100,100,550,700,30,[\"Water\",\"Electricity\"]],[60,60,100,70,60,100,70,375,550,50,[\"Normal\"]],[90,80,100,100,80,100,100,750,1050,100,[\"Ice\",\"Dragon\"]],[70,80,100,100,80,100,100,550,700,30,[\"Leaf\"]],[70,75,100,100,70,100,100,300,450,20,[\"Normal\"]],[80,85,100,100,100,100,100,300,450,33,[\"Water\"]],[70,60,100,100,75,100,100,300,550,70,[\"Dark\"]],[70,70,100,110,80,100,100,400,550,120,[\"Electricity\"]],[70,75,100,110,80,100,100,400,550,120,[\"Dark\",\"Electricity\"]],[105,95,100,100,110,100,100,300,450,25,[\"Dark\"]],[70,70,100,70,70,100,100,300,400,20,[\"Dark\"]],[80,75,100,110,90,70,100,800,1050,90,[\"Normal\"]],[100,95,100,100,70,100,100,450,600,100,[\"Earth\",\"Water\"]],[95,80,100,70,80,100,100,700,900,80,[\"Normal\"]],[95,90,100,100,105,100,100,600,900,50,[\"Normal\"]],[110,90,100,110,110,140,100,750,1050,85,[\"Normal\"]],[110,90,100,110,115,140,100,750,1050,85,[\"Electricity\"]],[75,80,100,100,85,100,100,250,400,25,[\"Water\"]],[75,80,100,100,90,100,100,250,400,25,[\"Water\",\"Fire\"]],[60,80,100,100,70,100,100,250,375,65,[\"Fire\"]],[75,70,100,100,65,100,100,400,550,100,[\"Leaf\"]],[65,70,100,70,75,100,100,400,550,40,[\"Fire\"]],[65,70,100,70,80,100,100,400,550,40,[\"Ice\"]],[110,100,100,100,100,100,100,500,750,50,[\"Ice\"]],[60,60,100,80,80,100,100,300,400,70,[\"Water\"]],[60,60,100,100,85,100,100,300,400,70,[\"Water\",\"Fire\"]],[65,50,100,100,80,100,100,300,550,30,[\"Earth\"]],[75,60,100,120,85,100,100,600,700,100,[\"Normal\"]],[90,75,100,90,90,100,100,400,500,50,[\"Water\"]],[90,75,100,90,90,100,100,400,500,50,[\"Fire\"]],[65,80,100,100,70,100,100,300,450,25,[\"Leaf\"]],[70,70,100,100,70,100,100,300,400,50,[\"Leaf\",\"Earth\"]],[80,70,100,70,70,100,100,400,550,50,[\"Earth\"]],[80,70,100,70,80,100,100,400,550,50,[\"Ice\"]],[80,75,100,100,75,100,100,350,600,15,[\"Leaf\",\"Normal\"]],[70,80,100,70,70,100,100,380,550,26,[\"Dark\"]],[95,105,100,100,115,100,100,400,600,100,[\"Ice\"]],[80,95,100,100,80,100,100,300,450,25,[\"Normal\"]],[80,85,100,100,75,100,100,300,450,25,[\"Normal\"]],[95,85,100,150,100,100,100,700,960,80,[\"Fire\",\"Dark\"]],[75,70,100,100,90,100,100,240,450,40,[\"Water\"]],[90,75,100,100,75,100,100,400,600,100,[\"Water\",\"Dark\"]],[70,70,100,70,75,100,100,400,550,30,[\"Electricity\"]],[70,80,100,70,75,100,100,400,550,30,[\"Ice\"]],[70,70,100,100,70,100,100,700,900,50,[\"Water\"]],[70,70,100,100,70,100,100,700,900,50,[\"Fire\"]],[75,90,100,100,70,100,100,800,900,50,[\"Earth\"]],[60,70,100,100,60,100,100,400,550,60,[\"Dark\",\"Water\"]],[70,70,100,100,60,100,100,400,550,60,[\"Normal\",\"Water\"]],[70,70,100,70,70,100,100,400,550,23,[\"Normal\"]],[80,50,100,90,80,100,100,600,800,100,[\"Dark\"]],[80,50,100,90,80,100,100,400,550,100,[\"Fire\"]],[75,70,100,70,70,100,100,400,550,20,[\"Leaf\"]],[80,80,100,130,100,100,100,600,800,100,[\"Dark\"]],[80,80,100,130,105,100,100,600,800,100,[\"Ice\"]],[90,80,100,100,90,100,100,400,800,50,[\"Leaf\"]],[70,70,100,70,60,100,100,475,550,52,[\"Dark\"]],[70,70,100,70,65,100,100,475,550,52,[\"Ice\"]],[90,90,100,90,75,100,100,500,900,62,[\"Normal\"]],[90,80,100,100,50,100,100,580,700,55,[\"Normal\"]],[75,85,100,100,80,100,100,300,450,20,[\"Ice\",\"Water\"]],[100,80,100,100,95,100,100,600,750,150,[\"Normal\"]],[110,100,100,100,100,100,100,600,900,50,[\"Dark\"]],[95,100,100,100,105,100,100,400,520,40,[\"Dark\"]],[105,115,100,100,110,180,100,550,1000,150,[\"Leaf\"]],[70,70,100,70,75,100,100,500,650,30,[\"Water\",\"Ice\"]],[70,70,100,100,80,100,100,500,650,30,[\"Water\",\"Electricity\"]],[75,80,100,100,70,100,100,300,450,25,[\"Dark\"]],[105,105,100,100,95,100,100,300,450,25,[\"Normal\"]],[70,85,100,100,75,100,100,300,450,25,[\"Fire\"]],[100,110,100,80,85,140,100,700,1070,35,[\"Ice\"]],[75,70,100,100,65,100,100,245,350,50,[\"Normal\"]],[80,70,100,100,65,100,100,245,350,50,[\"Leaf\"]],[75,75,100,100,70,100,100,400,550,70,[\"Fire\"]],[80,70,100,100,70,100,100,500,800,70,[\"Earth\"]],[110,90,100,100,80,220,100,740,1050,50,[\"Leaf\"]],[85,85,100,100,90,100,100,550,700,40,[\"Dark\"]],[60,70,100,60,75,100,80,350,500,40,[\"Electricity\"]],[95,105,100,100,115,100,100,550,660,60,[\"Dark\"]],[90,80,100,70,90,100,100,500,800,100,[\"Water\"]],[60,60,100,100,60,100,100,250,400,55,[\"Ice\"]],[80,70,100,100,70,100,100,300,400,48,[\"Leaf\"]],[110,100,100,100,100,100,100,640,1000,80,[\"Dark\"]],[70,70,100,70,60,100,100,300,400,30,[\"Water\"]],[60,70,100,80,75,100,70,300,550,30,[\"Normal\"]],[75,115,100,100,75,100,100,320,500,100,[\"Water\"]],[85,125,100,100,85,100,100,320,500,100,[\"Water\",\"Earth\"]],[90,90,100,100,115,150,100,700,850,100,[\"Fire\",\"Dark\"]],[70,70,100,70,70,100,140,350,450,30,[\"Normal\"]],[70,90,100,70,70,100,100,300,400,50,[\"Normal\"]],[85,85,100,80,85,140,110,750,1080,70,[\"Normal\"]]],\"hovertemplate\":\"\\u003cb\\u003e%{hovertext}\\u003c\\u002fb\\u003e\\u003cbr\\u003e\\u003cbr\\u003eRarity=Common\\u003cbr\\u003eTotal Stats=%{x}\\u003cbr\\u003eRarity Level=%{y}\\u003cbr\\u003eHP=%{customdata[0]}\\u003cbr\\u003eDefense=%{customdata[1]}\\u003cbr\\u003eCrafting Speed=%{customdata[2]}\\u003cbr\\u003eMelee Attack=%{customdata[3]}\\u003cbr\\u003eShot Attack=%{customdata[4]}\\u003cbr\\u003eStamina=%{customdata[5]}\\u003cbr\\u003eSupport=%{customdata[6]}\\u003cbr\\u003eRunning Speed=%{customdata[7]}\\u003cbr\\u003eSprinting Speed=%{customdata[8]}\\u003cbr\\u003eSlow Walk Speed=%{customdata[9]}\\u003cbr\\u003eElement=%{customdata[10]}\\u003cextra\\u003e\\u003c\\u002fextra\\u003e\",\"hovertext\":[\"Arsox\",\"Beegarde\",\"Blue Slime\",\"Bristla\",\"Caprity\",\"Caprity Noct\",\"Cattiva\",\"Cave Bat\",\"Cawgnito\",\"Celaray\",\"Celaray Lux\",\"Chikipi\",\"Chillet\",\"Cinnamoth\",\"Cremis\",\"Croajiro\",\"Daedream\",\"Dazzi\",\"Dazzi Noct\",\"Demon Eye\",\"Depresso\",\"Direhowl\",\"Dumud\",\"Eikthyrdeer\",\"Enchanted Sword\",\"Fenglope\",\"Fenglope Lux\",\"Finsider\",\"Finsider Ignis\",\"Flambelle\",\"Flopie\",\"Foxparks\",\"Foxparks Cryst\",\"Frostplume\",\"Fuack\",\"Fuack Ignis\",\"Fuddler\",\"Galeclaw\",\"Gobfin\",\"Gobfin Ignis\",\"Green Slime\",\"Gumoss\",\"Hangyu\",\"Hangyu Cryst\",\"Herbil\",\"Hoocrates\",\"Icelyn\",\"Illuminant Bat\",\"Illuminant Slime\",\"Incineram\",\"Jelliette\",\"Jellroy\",\"Jolthog\",\"Jolthog Cryst\",\"Kelpsea\",\"Kelpsea Ignis\",\"Kikit\",\"Killamari\",\"Killamari Primo\",\"Lamball\",\"Leezpunk\",\"Leezpunk Ignis\",\"Lifmunk\",\"Loupmoon\",\"Loupmoon Cryst\",\"Lullu\",\"Mau\",\"Mau Cryst\",\"Melpaca\",\"Mozzarina\",\"Munchill\",\"Nitewing\",\"Nyafia\",\"Omascul\",\"Palumba\",\"Pengullet\",\"Pengullet Lux\",\"Purple Slime\",\"Rainbow Slime\",\"Red Slime\",\"Reindrix\",\"Ribbuny\",\"Ribbuny Botan\",\"Rooby\",\"Rushoar\",\"Shroomer\",\"Smokie\",\"Sparkit\",\"Splatterina\",\"Surfent\",\"Swee\",\"Tanzee\",\"Tarantriss\",\"Teafant\",\"Tocotoco\",\"Turtacle\",\"Turtacle Terra\",\"Vanwyrm\",\"Vixy\",\"Woolipop\",\"Yakumo\"],\"legendgroup\":\"Common\",\"marker\":{\"color\":\"#EF553B\",\"symbol\":\"circle\",\"opacity\":0.85,\"size\":9},\"mode\":\"markers\",\"name\":\"Common\",\"orientation\":\"v\",\"showlegend\":true,\"x\":[2532,1785,1395,1620,1670,1675,1560,1395,2835,1910,1915,1495,2550,1910,1385,1448,1525,1700,1705,1485,1300,2565,1815,2305,2240,2645,2650,1315,1320,1300,1660,1570,1575,2010,1350,1375,1475,2040,1595,1595,1390,1360,1590,1600,1595,1546,1815,1430,1415,2470,1365,1740,1565,1575,2260,2260,2385,1600,1610,1553,2100,1650,1555,2190,2195,1910,1647,1652,2107,1955,1410,2175,2260,1660,2510,1765,1800,1400,1480,1405,2520,1255,1260,1640,1990,2640,1950,1435,1985,2030,1285,1368,2430,1300,1435,1585,1615,2395,1450,1350,2585],\"xaxis\":\"x\",\"y\":[4,4,3,1,3,3,1,3,3,3,4,1,4,4,1,4,1,2,2,3,1,2,4,4,3,3,3,3,4,1,1,1,1,4,1,2,1,2,2,3,3,1,1,2,3,1,4,4,4,4,3,3,1,2,1,2,4,1,2,1,2,3,1,3,3,4,1,2,3,2,3,3,4,4,4,1,2,3,4,3,4,1,1,2,1,4,2,1,4,4,1,1,3,1,1,3,4,4,2,3,4],\"yaxis\":\"y\",\"type\":\"scatter\"},{\"customdata\":[[130,110,100,100,120,220,100,900,1260,90,[\"Electricity\"]],[110,100,100,70,100,160,100,600,900,75,[\"Water\",\"Dragon\"]],[105,80,100,100,115,160,100,750,1200,100,[\"Electricity\"]],[105,80,100,100,110,150,100,800,1200,90,[\"Fire\"]],[130,120,100,100,95,270,100,600,1020,70,[\"Leaf\",\"Earth\"]],[120,100,100,80,90,150,120,550,1020,50,[\"Leaf\"]],[80,80,100,100,125,100,100,600,900,80,[\"Fire\"]],[80,80,100,100,130,100,100,600,900,80,[\"Fire\",\"Dark\"]],[120,100,100,100,110,260,100,800,1200,70,[\"Normal\"]],[90,80,100,100,85,100,100,750,1050,100,[\"Fire\",\"Dragon\"]],[85,90,100,100,110,100,100,300,450,33,[\"Water\",\"Dark\"]],[100,110,100,140,100,100,100,720,900,100,[\"Ice\"]],[100,110,100,140,105,100,100,720,900,100,[\"Earth\"]],[95,80,100,100,90,100,100,900,1200,80,[\"Earth\"]],[80,120,100,80,95,100,100,300,420,75,[\"Earth\"]],[110,90,100,90,85,130,150,700,1030,70,[\"Leaf\",\"Dragon\"]],[110,90,100,90,90,130,150,700,1030,70,[\"Electricity\",\"Dragon\"]],[90,100,100,100,100,100,100,300,550,45,[\"Normal\"]],[105,100,100,100,75,100,100,450,600,100,[\"Earth\",\"Water\"]],[95,80,100,70,80,100,100,700,900,80,[\"Earth\"]],[110,90,100,80,80,130,100,630,800,83,[\"Dragon\"]],[110,95,100,100,105,100,100,900,1200,100,[\"Dark\"]],[100,110,100,100,105,100,110,550,700,60,[\"Dark\"]],[90,105,100,100,95,100,100,600,750,65,[\"Ice\"]],[90,105,100,100,125,320,100,400,600,100,[\"Dark\",\"Water\"]],[90,105,100,100,130,320,100,400,600,100,[\"Fire\",\"Water\"]],[70,70,100,100,85,100,100,300,500,50,[\"Water\",\"Dark\"]],[90,90,100,110,95,100,100,550,720,66,[\"Normal\"]],[90,90,100,110,100,100,100,550,720,66,[\"Earth\"]],[110,80,100,100,80,100,100,650,1000,32,[\"Normal\"]],[100,100,100,100,125,170,100,700,1100,100,[\"Dark\"]],[95,85,100,150,105,100,100,700,960,80,[\"Dark\"]],[90,90,100,100,105,100,100,440,620,70,[\"Dark\"]],[95,90,100,100,105,100,100,440,620,70,[\"Dark\",\"Fire\"]],[100,100,100,70,115,140,110,700,1100,80,[\"Fire\"]],[100,105,100,70,115,140,110,700,1100,80,[\"Dark\"]],[120,70,100,70,70,100,140,750,850,90,[\"Normal\"]],[90,90,100,80,100,100,100,500,650,80,[\"Normal\"]],[75,80,100,50,105,130,100,700,1100,100,[\"Dark\"]],[60,130,100,100,60,100,100,2000,-1,40,[\"Normal\"]],[100,90,100,100,90,130,100,600,1000,50,[\"Leaf\"]],[100,100,100,100,100,130,100,600,1000,50,[\"Electricity\"]],[105,105,100,100,95,100,100,380,500,70,[\"Dark\"]],[75,70,100,70,85,100,140,300,500,30,[\"Dark\"]],[95,95,100,70,95,100,100,450,600,50,[\"Water\",\"Ice\"]],[100,100,100,100,100,100,100,450,600,50,[\"Water\",\"Electricity\"]],[95,105,100,100,105,120,100,250,375,20,[\"Ice\",\"Water\"]],[90,90,100,100,110,100,100,720,-1,90,[\"Dark\",\"Earth\"]],[105,100,100,100,95,100,100,550,700,100,[\"Leaf\",\"Dark\"]],[100,90,100,110,95,100,100,850,1300,100,[\"Fire\"]],[100,90,100,110,95,100,100,850,1300,100,[\"Fire\",\"Dark\"]],[105,100,100,100,100,220,100,800,950,120,[\"Dragon\"]],[95,120,100,100,105,150,100,800,1300,100,[\"Fire\"]],[90,80,100,100,100,100,100,700,1150,110,[\"Electricity\"]],[110,120,100,100,105,220,100,550,1000,50,[\"Fire\",\"Earth\"]],[110,130,100,100,105,220,100,550,1000,50,[\"Ice\",\"Earth\"]],[90,80,100,100,105,100,100,600,750,100,[\"Leaf\"]],[90,80,100,100,105,100,100,600,750,100,[\"Leaf\",\"Earth\"]],[110,90,100,100,85,220,100,740,1050,50,[\"Leaf\",\"Dark\"]],[110,100,100,90,90,100,90,400,550,50,[\"Ice\"]],[105,90,100,100,125,100,100,800,1000,100,[\"Dark\",\"Fire\"]],[110,100,100,100,100,230,100,900,1200,150,[\"Dark\"]],[90,100,100,70,90,100,100,500,800,100,[\"Earth\"]],[100,90,100,100,90,120,100,650,1020,60,[\"Ice\"]],[95,80,100,100,95,100,100,400,550,80,[\"Dark\"]],[80,105,100,110,105,100,100,720,1100,80,[\"Electricity\"]],[90,95,100,100,120,150,100,700,850,100,[\"Ice\",\"Dark\"]],[105,110,100,100,115,200,100,550,660,125,[\"Ice\",\"Water\"]],[90,80,100,50,110,100,120,440,620,70,[\"Fire\"]],[90,85,100,50,110,100,120,440,620,70,[\"Fire\",\"Dark\"]],[140,100,100,100,80,240,100,600,1050,70,[\"Ice\"]],[90,85,100,100,125,100,100,550,700,125,[\"Dark\"]]],\"hovertemplate\":\"\\u003cb\\u003e%{hovertext}\\u003c\\u002fb\\u003e\\u003cbr\\u003e\\u003cbr\\u003eRarity=Rare\\u003cbr\\u003eTotal Stats=%{x}\\u003cbr\\u003eRarity Level=%{y}\\u003cbr\\u003eHP=%{customdata[0]}\\u003cbr\\u003eDefense=%{customdata[1]}\\u003cbr\\u003eCrafting Speed=%{customdata[2]}\\u003cbr\\u003eMelee Attack=%{customdata[3]}\\u003cbr\\u003eShot Attack=%{customdata[4]}\\u003cbr\\u003eStamina=%{customdata[5]}\\u003cbr\\u003eSupport=%{customdata[6]}\\u003cbr\\u003eRunning Speed=%{customdata[7]}\\u003cbr\\u003eSprinting Speed=%{customdata[8]}\\u003cbr\\u003eSlow Walk Speed=%{customdata[9]}\\u003cbr\\u003eElement=%{customdata[10]}\\u003cextra\\u003e\\u003c\\u002fextra\\u003e\",\"hovertext\":[\"Azurmane\",\"Azurobe\",\"Beakon\",\"Blazehowl\",\"Braloha\",\"Broncherry\",\"Bushi\",\"Bushi Noct\",\"Celesdir\",\"Chillet Ignis\",\"Croajiro Noct\",\"Cryolinx\",\"Cryolinx Terra\",\"Dazemu\",\"Digtoise\",\"Dinossom\",\"Dinossom Lux\",\"Dogen\",\"Dumud Gild\",\"Eikthyrdeer Terra\",\"Elphidran\",\"Eye of Cthulhu\",\"Felbat\",\"Foxcicle\",\"Ghangler\",\"Ghangler Ignis\",\"Gloopie\",\"Gorirat\",\"Gorirat Terra\",\"Grintale\",\"Helzephyr\",\"Incineram Noct\",\"Katress\",\"Katress Ignis\",\"Kitsun\",\"Kitsun Noct\",\"Lovander\",\"Lunaris\",\"Maraith\",\"Mimog\",\"Mossanda\",\"Mossanda Lux\",\"Nitemary\",\"Nox\",\"Penking\",\"Penking Lux\",\"Polapup\",\"Prixter\",\"Prunelia\",\"Pyrin\",\"Pyrin Noct\",\"Quivern\",\"Ragnahawk\",\"Rayhound\",\"Reptyro\",\"Reptyro Cryst\",\"Robinquill\",\"Robinquill Terra\",\"Shroomer Noct\",\"Sibelyx\",\"Sootseer\",\"Starryon\",\"Surfent Terra\",\"Sweepa\",\"Tombat\",\"Univolt\",\"Vanwyrm Cryst\",\"Whalaska\",\"Wixen\",\"Wixen Noct\",\"Wumpo\",\"Xenovader\"],\"legendgroup\":\"Rare\",\"marker\":{\"color\":\"#00cc96\",\"symbol\":\"circle\",\"opacity\":0.85,\"size\":9},\"mode\":\"markers\",\"name\":\"Rare\",\"orientation\":\"v\",\"showlegend\":true,\"x\":[3130,2315,2810,2835,2605,2380,2265,2270,2960,2555,1468,2470,2475,2845,1470,2555,2560,1585,1830,2305,2203,2910,2035,2105,2040,2045,1475,2021,2026,2352,2695,2475,1815,1820,2615,2620,2360,1890,2540,2689,2360,2380,1655,1470,1755,1800,1370,1499,2050,2945,2945,2695,2970,2630,2455,2465,2125,2125,2645,1680,2620,3090,2050,2430,1700,2600,2405,2165,1780,1785,2580,2075],\"xaxis\":\"x\",\"y\":[7,7,6,7,6,7,7,7,6,5,5,7,7,5,5,6,7,6,5,6,7,6,6,5,5,6,5,5,5,6,7,5,6,6,6,6,5,6,6,7,6,7,6,6,6,7,5,5,5,6,7,7,7,5,6,7,5,6,5,7,7,7,5,6,5,5,5,7,6,6,7,7],\"yaxis\":\"y\",\"type\":\"scatter\"},{\"customdata\":[[120,100,100,100,150,100,100,600,800,100,[\"Dark\"]],[120,100,100,100,150,100,100,600,800,100,[\"Dark\"]],[140,120,100,100,140,300,70,1200,1800,120,[\"Ice\"]],[140,135,100,100,140,300,70,1200,1800,120,[\"Dark\"]],[110,110,100,100,140,100,100,1700,3300,200,[\"Dragon\"]],[130,120,100,100,145,350,100,1300,1900,100,[\"Dark\"]],[105,125,100,100,145,410,100,750,1120,150,[\"Water\"]],[130,145,100,110,120,400,100,800,1800,50,[\"Normal\"]]],\"hovertemplate\":\"\\u003cb\\u003e%{hovertext}\\u003c\\u002fb\\u003e\\u003cbr\\u003e\\u003cbr\\u003eRarity=Legendary\\u003cbr\\u003eTotal Stats=%{x}\\u003cbr\\u003eRarity Level=%{y}\\u003cbr\\u003eHP=%{customdata[0]}\\u003cbr\\u003eDefense=%{customdata[1]}\\u003cbr\\u003eCrafting Speed=%{customdata[2]}\\u003cbr\\u003eMelee Attack=%{customdata[3]}\\u003cbr\\u003eShot Attack=%{customdata[4]}\\u003cbr\\u003eStamina=%{customdata[5]}\\u003cbr\\u003eSupport=%{customdata[6]}\\u003cbr\\u003eRunning Speed=%{customdata[7]}\\u003cbr\\u003eSprinting Speed=%{customdata[8]}\\u003cbr\\u003eSlow Walk Speed=%{customdata[9]}\\u003cbr\\u003eElement=%{customdata[10]}\\u003cextra\\u003e\\u003c\\u002fextra\\u003e\",\"hovertext\":[\"Bellanoir\",\"Bellanoir Libero\",\"Frostallion\",\"Frostallion Noct\",\"Jetragon\",\"Necromus\",\"Neptilius\",\"Paladius\"],\"legendgroup\":\"Legendary\",\"marker\":{\"color\":\"#ab63fa\",\"symbol\":\"circle\",\"opacity\":0.85,\"size\":9},\"mode\":\"markers\",\"name\":\"Legendary\",\"orientation\":\"v\",\"showlegend\":true,\"x\":[2270,2270,4090,4105,5960,4345,3105,3755],\"xaxis\":\"x\",\"y\":[20,20,20,20,20,20,20,20],\"yaxis\":\"y\",\"type\":\"scatter\"}],                        {\"template\":{\"data\":{\"histogram2dcontour\":[{\"type\":\"histogram2dcontour\",\"colorbar\":{\"outlinewidth\":0,\"ticks\":\"\"},\"colorscale\":[[0.0,\"#0d0887\"],[0.1111111111111111,\"#46039f\"],[0.2222222222222222,\"#7201a8\"],[0.3333333333333333,\"#9c179e\"],[0.4444444444444444,\"#bd3786\"],[0.5555555555555556,\"#d8576b\"],[0.6666666666666666,\"#ed7953\"],[0.7777777777777778,\"#fb9f3a\"],[0.8888888888888888,\"#fdca26\"],[1.0,\"#f0f921\"]]}],\"choropleth\":[{\"type\":\"choropleth\",\"colorbar\":{\"outlinewidth\":0,\"ticks\":\"\"}}],\"histogram2d\":[{\"type\":\"histogram2d\",\"colorbar\":{\"outlinewidth\":0,\"ticks\":\"\"},\"colorscale\":[[0.0,\"#0d0887\"],[0.1111111111111111,\"#46039f\"],[0.2222222222222222,\"#7201a8\"],[0.3333333333333333,\"#9c179e\"],[0.4444444444444444,\"#bd3786\"],[0.5555555555555556,\"#d8576b\"],[0.6666666666666666,\"#ed7953\"],[0.7777777777777778,\"#fb9f3a\"],[0.8888888888888888,\"#fdca26\"],[1.0,\"#f0f921\"]]}],\"heatmap\":[{\"type\":\"heatmap\",\"colorbar\":{\"outlinewidth\":0,\"ticks\":\"\"},\"colorscale\":[[0.0,\"#0d0887\"],[0.1111111111111111,\"#46039f\"],[0.2222222222222222,\"#7201a8\"],[0.3333333333333333,\"#9c179e\"],[0.4444444444444444,\"#bd3786\"],[0.5555555555555556,\"#d8576b\"],[0.6666666666666666,\"#ed7953\"],[0.7777777777777778,\"#fb9f3a\"],[0.8888888888888888,\"#fdca26\"],[1.0,\"#f0f921\"]]}],\"heatmapgl\":[{\"type\":\"heatmapgl\",\"colorbar\":{\"outlinewidth\":0,\"ticks\":\"\"},\"colorscale\":[[0.0,\"#0d0887\"],[0.1111111111111111,\"#46039f\"],[0.2222222222222222,\"#7201a8\"],[0.3333333333333333,\"#9c179e\"],[0.4444444444444444,\"#bd3786\"],[0.5555555555555556,\"#d8576b\"],[0.6666666666666666,\"#ed7953\"],[0.7777777777777778,\"#fb9f3a\"],[0.8888888888888888,\"#fdca26\"],[1.0,\"#f0f921\"]]}],\"contourcarpet\":[{\"type\":\"contourcarpet\",\"colorbar\":{\"outlinewidth\":0,\"ticks\":\"\"}}],\"contour\":[{\"type\":\"contour\",\"colorbar\":{\"outlinewidth\":0,\"ticks\":\"\"},\"colorscale\":[[0.0,\"#0d0887\"],[0.1111111111111111,\"#46039f\"],[0.2222222222222222,\"#7201a8\"],[0.3333333333333333,\"#9c179e\"],[0.4444444444444444,\"#bd3786\"],[0.5555555555555556,\"#d8576b\"],[0.6666666666666666,\"#ed7953\"],[0.7777777777777778,\"#fb9f3a\"],[0.8888888888888888,\"#fdca26\"],[1.0,\"#f0f921\"]]}],\"surface\":[{\"type\":\"surface\",\"colorbar\":{\"outlinewidth\":0,\"ticks\":\"\"},\"colorscale\":[[0.0,\"#0d0887\"],[0.1111111111111111,\"#46039f\"],[0.2222222222222222,\"#7201a8\"],[0.3333333333333333,\"#9c179e\"],[0.4444444444444444,\"#bd3786\"],[0.5555555555555556,\"#d8576b\"],[0.6666666666666666,\"#ed7953\"],[0.7777777777777778,\"#fb9f3a\"],[0.8888888888888888,\"#fdca26\"],[1.0,\"#f0f921\"]]}],\"mesh3d\":[{\"type\":\"mesh3d\",\"colorbar\":{\"outlinewidth\":0,\"ticks\":\"\"}}],\"scatter\":[{\"fillpattern\":{\"fillmode\":\"overlay\",\"size\":10,\"solidity\":0.2},\"type\":\"scatter\"}],\"parcoords\":[{\"type\":\"parcoords\",\"line\":{\"colorbar\":{\"outlinewidth\":0,\"ticks\":\"\"}}}],\"scatterpolargl\":[{\"type\":\"scatterpolargl\",\"marker\":{\"colorbar\":{\"outlinewidth\":0,\"ticks\":\"\"}}}],\"bar\":[{\"error_x\":{\"color\":\"#2a3f5f\"},\"error_y\":{\"color\":\"#2a3f5f\"},\"marker\":{\"line\":{\"color\":\"#E5ECF6\",\"width\":0.5},\"pattern\":{\"fillmode\":\"overlay\",\"size\":10,\"solidity\":0.2}},\"type\":\"bar\"}],\"scattergeo\":[{\"type\":\"scattergeo\",\"marker\":{\"colorbar\":{\"outlinewidth\":0,\"ticks\":\"\"}}}],\"scatterpolar\":[{\"type\":\"scatterpolar\",\"marker\":{\"colorbar\":{\"outlinewidth\":0,\"ticks\":\"\"}}}],\"histogram\":[{\"marker\":{\"pattern\":{\"fillmode\":\"overlay\",\"size\":10,\"solidity\":0.2}},\"type\":\"histogram\"}],\"scattergl\":[{\"type\":\"scattergl\",\"marker\":{\"colorbar\":{\"outlinewidth\":0,\"ticks\":\"\"}}}],\"scatter3d\":[{\"type\":\"scatter3d\",\"line\":{\"colorbar\":{\"outlinewidth\":0,\"ticks\":\"\"}},\"marker\":{\"colorbar\":{\"outlinewidth\":0,\"ticks\":\"\"}}}],\"scattermapbox\":[{\"type\":\"scattermapbox\",\"marker\":{\"colorbar\":{\"outlinewidth\":0,\"ticks\":\"\"}}}],\"scatterternary\":[{\"type\":\"scatterternary\",\"marker\":{\"colorbar\":{\"outlinewidth\":0,\"ticks\":\"\"}}}],\"scattercarpet\":[{\"type\":\"scattercarpet\",\"marker\":{\"colorbar\":{\"outlinewidth\":0,\"ticks\":\"\"}}}],\"carpet\":[{\"aaxis\":{\"endlinecolor\":\"#2a3f5f\",\"gridcolor\":\"white\",\"linecolor\":\"white\",\"minorgridcolor\":\"white\",\"startlinecolor\":\"#2a3f5f\"},\"baxis\":{\"endlinecolor\":\"#2a3f5f\",\"gridcolor\":\"white\",\"linecolor\":\"white\",\"minorgridcolor\":\"white\",\"startlinecolor\":\"#2a3f5f\"},\"type\":\"carpet\"}],\"table\":[{\"cells\":{\"fill\":{\"color\":\"#EBF0F8\"},\"line\":{\"color\":\"white\"}},\"header\":{\"fill\":{\"color\":\"#C8D4E3\"},\"line\":{\"color\":\"white\"}},\"type\":\"table\"}],\"barpolar\":[{\"marker\":{\"line\":{\"color\":\"#E5ECF6\",\"width\":0.5},\"pattern\":{\"fillmode\":\"overlay\",\"size\":10,\"solidity\":0.2}},\"type\":\"barpolar\"}],\"pie\":[{\"automargin\":true,\"type\":\"pie\"}]},\"layout\":{\"autotypenumbers\":\"strict\",\"colorway\":[\"#636efa\",\"#EF553B\",\"#00cc96\",\"#ab63fa\",\"#FFA15A\",\"#19d3f3\",\"#FF6692\",\"#B6E880\",\"#FF97FF\",\"#FECB52\"],\"font\":{\"color\":\"#2a3f5f\"},\"hovermode\":\"closest\",\"hoverlabel\":{\"align\":\"left\"},\"paper_bgcolor\":\"white\",\"plot_bgcolor\":\"#E5ECF6\",\"polar\":{\"bgcolor\":\"#E5ECF6\",\"angularaxis\":{\"gridcolor\":\"white\",\"linecolor\":\"white\",\"ticks\":\"\"},\"radialaxis\":{\"gridcolor\":\"white\",\"linecolor\":\"white\",\"ticks\":\"\"}},\"ternary\":{\"bgcolor\":\"#E5ECF6\",\"aaxis\":{\"gridcolor\":\"white\",\"linecolor\":\"white\",\"ticks\":\"\"},\"baxis\":{\"gridcolor\":\"white\",\"linecolor\":\"white\",\"ticks\":\"\"},\"caxis\":{\"gridcolor\":\"white\",\"linecolor\":\"white\",\"ticks\":\"\"}},\"coloraxis\":{\"colorbar\":{\"outlinewidth\":0,\"ticks\":\"\"}},\"colorscale\":{\"sequential\":[[0.0,\"#0d0887\"],[0.1111111111111111,\"#46039f\"],[0.2222222222222222,\"#7201a8\"],[0.3333333333333333,\"#9c179e\"],[0.4444444444444444,\"#bd3786\"],[0.5555555555555556,\"#d8576b\"],[0.6666666666666666,\"#ed7953\"],[0.7777777777777778,\"#fb9f3a\"],[0.8888888888888888,\"#fdca26\"],[1.0,\"#f0f921\"]],\"sequentialminus\":[[0.0,\"#0d0887\"],[0.1111111111111111,\"#46039f\"],[0.2222222222222222,\"#7201a8\"],[0.3333333333333333,\"#9c179e\"],[0.4444444444444444,\"#bd3786\"],[0.5555555555555556,\"#d8576b\"],[0.6666666666666666,\"#ed7953\"],[0.7777777777777778,\"#fb9f3a\"],[0.8888888888888888,\"#fdca26\"],[1.0,\"#f0f921\"]],\"diverging\":[[0,\"#8e0152\"],[0.1,\"#c51b7d\"],[0.2,\"#de77ae\"],[0.3,\"#f1b6da\"],[0.4,\"#fde0ef\"],[0.5,\"#f7f7f7\"],[0.6,\"#e6f5d0\"],[0.7,\"#b8e186\"],[0.8,\"#7fbc41\"],[0.9,\"#4d9221\"],[1,\"#276419\"]]},\"xaxis\":{\"gridcolor\":\"white\",\"linecolor\":\"white\",\"ticks\":\"\",\"title\":{\"standoff\":15},\"zerolinecolor\":\"white\",\"automargin\":true,\"zerolinewidth\":2},\"yaxis\":{\"gridcolor\":\"white\",\"linecolor\":\"white\",\"ticks\":\"\",\"title\":{\"standoff\":15},\"zerolinecolor\":\"white\",\"automargin\":true,\"zerolinewidth\":2},\"scene\":{\"xaxis\":{\"backgroundcolor\":\"#E5ECF6\",\"gridcolor\":\"white\",\"linecolor\":\"white\",\"showbackground\":true,\"ticks\":\"\",\"zerolinecolor\":\"white\",\"gridwidth\":2},\"yaxis\":{\"backgroundcolor\":\"#E5ECF6\",\"gridcolor\":\"white\",\"linecolor\":\"white\",\"showbackground\":true,\"ticks\":\"\",\"zerolinecolor\":\"white\",\"gridwidth\":2},\"zaxis\":{\"backgroundcolor\":\"#E5ECF6\",\"gridcolor\":\"white\",\"linecolor\":\"white\",\"showbackground\":true,\"ticks\":\"\",\"zerolinecolor\":\"white\",\"gridwidth\":2}},\"shapedefaults\":{\"line\":{\"color\":\"#2a3f5f\"}},\"annotationdefaults\":{\"arrowcolor\":\"#2a3f5f\",\"arrowhead\":0,\"arrowwidth\":1},\"geo\":{\"bgcolor\":\"white\",\"landcolor\":\"#E5ECF6\",\"subunitcolor\":\"white\",\"showland\":true,\"showlakes\":true,\"lakecolor\":\"white\"},\"title\":{\"x\":0.05},\"mapbox\":{\"style\":\"light\"}}},\"xaxis\":{\"anchor\":\"y\",\"domain\":[0.0,1.0],\"title\":{\"text\":\"Total Stats\"}},\"yaxis\":{\"anchor\":\"x\",\"domain\":[0.0,1.0],\"title\":{\"text\":\"Rarity Level\"}},\"legend\":{\"title\":{\"text\":\"Rarity\"},\"tracegroupgap\":0},\"title\":{\"text\":\"Total Stats vs Rarity Level\"}},                        {\"responsive\": true}                    ).then(function(){\n",
       "                            \n",
       "var gd = document.getElementById('f3aab97a-2e86-4e29-b6c9-4c0058ab20a5');\n",
       "var x = new MutationObserver(function (mutations, observer) {{\n",
       "        var display = window.getComputedStyle(gd).display;\n",
       "        if (!display || display === 'none') {{\n",
       "            console.log([gd, 'removed!']);\n",
       "            Plotly.purge(gd);\n",
       "            observer.disconnect();\n",
       "        }}\n",
       "}});\n",
       "\n",
       "// Listen for the removal of the full notebook cells\n",
       "var notebookContainer = gd.closest('#notebook-container');\n",
       "if (notebookContainer) {{\n",
       "    x.observe(notebookContainer, {childList: true});\n",
       "}}\n",
       "\n",
       "// Listen for the clearing of the current output cell\n",
       "var outputEl = gd.closest('.output');\n",
       "if (outputEl) {{\n",
       "    x.observe(outputEl, {childList: true});\n",
       "}}\n",
       "\n",
       "                        })                };                });            </script>        </div>"
      ]
     },
     "metadata": {},
     "output_type": "display_data"
    }
   ],
   "source": [
    "import plotly.express as px\n",
    "\n",
    "def plot_total_stats_vs_rarity(df, stat_cols, save_path=None):\n",
    "    \"\"\"\n",
    "    Creates an interactive scatterplot of Total Stats vs Rarity Level.\n",
    "\n",
    "    Parameters\n",
    "    ----------\n",
    "    df : pd.DataFrame\n",
    "        Must contain:\n",
    "        - \"Total Stats\" (numeric)\n",
    "        - \"Rarity Level\" (numeric)\n",
    "        - \"Rarity Name\" (categorical)\n",
    "        - \"Name\" (Pal name)\n",
    "        - All columns in stat_cols\n",
    "    stat_cols : list\n",
    "        List of stat column names to display in hover tooltip.\n",
    "    save_path : str, optional\n",
    "        If provided, saves the figure to this path (e.g., 'plot.png').\n",
    "        Requires kaleido for static export.\n",
    "    \"\"\"\n",
    "    fig = px.scatter(\n",
    "        df,\n",
    "        x=\"Total Stats\",\n",
    "        y=\"Rarity Level\",\n",
    "        color=\"Rarity Name\",\n",
    "        hover_name=\"Name\",\n",
    "        hover_data=stat_cols + [\"Element\"] if \"Element\" in df.columns else stat_cols,\n",
    "        labels={\n",
    "            \"Total Stats\": \"Total Stats\",\n",
    "            \"Rarity Level\": \"Rarity Level\",\n",
    "            \"Rarity Name\": \"Rarity\"\n",
    "        },\n",
    "        title=\"Total Stats vs Rarity Level\"\n",
    "    )\n",
    "    fig.update_traces(marker=dict(size=9, opacity=0.85))\n",
    "\n",
    "    if save_path:\n",
    "        fig.write_image(save_path)\n",
    "\n",
    "    fig.show()\n",
    "\n",
    "plot_total_stats_vs_rarity(df, stat_cols) "
   ]
  },
  {
   "cell_type": "markdown",
   "metadata": {},
   "source": [
    "I chose to create an interactive scatterplot with Total Stats on the x-axis and Rarity Level on the y-axis, with each Pal represented as a point. The points are color-coded by rarity group, and hovering over a point reveals the Pal’s name and its individual stat breakdown.\n",
    "The visualization directly supports my research question: Which Pal’s stats best predict rarity, and which Pal is the strongest within each rarity group?\n",
    "\n",
    "By plotting Total Statsagainst rarity, I can evaluate whether rarity meaningfully reflects the stats and also spot which individual Pals stand out in their rarity class."
   ]
  },
  {
   "cell_type": "markdown",
   "metadata": {},
   "source": [
    "What I learned from this visualization\n",
    "\n",
    "\t1.\tStats vs. rarity relationship:\n",
    "Higher-rarity Pals generally cluster toward higher Total Stats, supporting the idea that rarity is tied to overall strength. However, there are exceptions where mid-rarity Pals overlap with higher rarities, suggesting that rarity is influenced by more than just raw stat totals.\n",
    "\n",
    "\t2.\tBest Pal in each rarity group:\n",
    "Within each rarity color group, the Pal at the far-right end of the cluster represents the one with the highest Total Stats. This makes it easy to identify the “best” Pal in each rarity group. Hovering over points confirms exactly which Pal stands out.\n",
    "\n",
    "\t3.\tOutliers and nuance:\n",
    "A few lower-rarity Pals appear with unexpectedly high Total Stats. This indicates that rarity might also incorporate non-numeric factors (like abilities or special traits) beyond the visible stats."
   ]
  },
  {
   "cell_type": "markdown",
   "metadata": {},
   "source": [
    "#### visualization 2"
   ]
  },
  {
   "cell_type": "code",
   "execution_count": 6,
   "metadata": {},
   "outputs": [],
   "source": [
    "# Write the code to run functions to get each data visualization in separate code chunks. \n",
    "# Interpret the figures. "
   ]
  },
  {
   "cell_type": "markdown",
   "metadata": {},
   "source": [
    "#### visualization 3"
   ]
  },
  {
   "cell_type": "code",
   "execution_count": 55,
   "metadata": {},
   "outputs": [
    {
     "data": {
      "application/vnd.plotly.v1+json": {
       "config": {
        "plotlyServerURL": "https://plot.ly"
       },
       "data": [
        {
         "customdata": [
          [
           "Assault Rifle",
           3000
          ],
          [
           "Stone Axe",
           150
          ],
          [
           "Metal Axe",
           250
          ],
          [
           "Refined Metal Axe",
           300
          ],
          [
           "Axe4",
           400
          ],
          [
           "Wooden Club",
           150
          ],
          [
           "Bat",
           150
          ],
          [
           "Meat Cleaver",
           300
          ],
          [
           "Stun Baton",
           300
          ],
          [
           "Crossbow",
           300
          ],
          [
           "Double-Barreled Shotgun",
           200
          ],
          [
           "Handgun",
           400
          ],
          [
           "Laser Rifle",
           3000
          ],
          [
           "Rocket Launcher",
           300
          ],
          [
           "Stone Pickaxe",
           150
          ],
          [
           "Metal Pickaxe",
           250
          ],
          [
           "Refined Metal Pickaxe",
           300
          ],
          [
           "Pump-Action Shotgun",
           150
          ],
          [
           "Single-Shot Rifle",
           1000
          ],
          [
           "Sword",
           500
          ],
          [
           "Frag Grenade",
           null
          ],
          [
           "Incendiary Grenade",
           null
          ],
          [
           "Shock Grenade",
           null
          ],
          [
           "Ice Grenade",
           null
          ],
          [
           "Old Bow",
           150
          ],
          [
           "Poison Bow",
           150
          ],
          [
           "Fire Bow",
           150
          ],
          [
           "Poison Arrow Crossbow",
           300
          ],
          [
           "Fire Arrow Crossbow",
           300
          ],
          [
           "Three Shot Bow",
           250
          ],
          [
           "Five Shot Bow",
           350
          ],
          [
           "Hand-Held Torch",
           100
          ],
          [
           "Makeshift Handgun",
           300
          ],
          [
           "Stone Spear",
           200
          ],
          [
           "Metal Spear",
           250
          ],
          [
           "Refined Metal Spear",
           300
          ],
          [
           "Elizabee's Staff",
           300
          ],
          [
           "Beegarde's Spear",
           400
          ],
          [
           "Lily's Spear",
           500
          ],
          [
           "Musket",
           200
          ],
          [
           "Old Bow",
           400
          ],
          [
           "Old Bow",
           500
          ],
          [
           "Old Bow",
           600
          ],
          [
           "Old Bow",
           700
          ],
          [
           "Crossbow",
           800
          ],
          [
           "Crossbow",
           1000
          ],
          [
           "Crossbow",
           1200
          ],
          [
           "Crossbow",
           1400
          ],
          [
           "Assault Rifle",
           3000
          ],
          [
           "Assault Rifle",
           4000
          ],
          [
           "Assault Rifle",
           5000
          ],
          [
           "Assault Rifle",
           6000
          ],
          [
           "Pump-Action Shotgun",
           500
          ],
          [
           "Pump-Action Shotgun",
           600
          ],
          [
           "Pump-Action Shotgun",
           700
          ],
          [
           "Pump-Action Shotgun",
           800
          ],
          [
           "Handgun",
           1200
          ],
          [
           "Handgun",
           1600
          ],
          [
           "Handgun",
           2000
          ],
          [
           "Handgun",
           2400
          ],
          [
           "Rocket Launcher",
           800
          ],
          [
           "Rocket Launcher",
           1000
          ],
          [
           "Rocket Launcher",
           1200
          ],
          [
           "Rocket Launcher",
           1400
          ],
          [
           "Musket",
           400
          ],
          [
           "Musket",
           500
          ],
          [
           "Musket",
           600
          ],
          [
           "Musket",
           800
          ],
          [
           "Double-Barreled Shotgun",
           400
          ],
          [
           "Double-Barreled Shotgun",
           500
          ],
          [
           "Double-Barreled Shotgun",
           600
          ],
          [
           "Double-Barreled Shotgun",
           800
          ],
          [
           "Single-Shot Rifle",
           2000
          ],
          [
           "Single-Shot Rifle",
           2500
          ],
          [
           "Single-Shot Rifle",
           3000
          ],
          [
           "Single-Shot Rifle",
           4000
          ],
          [
           "Gatling Gun",
           6000
          ],
          [
           "Grenade Launcher",
           600
          ],
          [
           "Guided Missile Launcher",
           300
          ],
          [
           "Multi Guided Missile Launcher",
           300
          ],
          [
           "Laser Gatling Gun",
           8000
          ],
          [
           "Frag Grenade Mk2",
           null
          ],
          [
           "Makeshift Handgun",
           600
          ],
          [
           "Makeshift Handgun",
           900
          ],
          [
           "Makeshift Handgun",
           1200
          ],
          [
           "Makeshift Handgun",
           1500
          ],
          [
           "Laser Rifle",
           4500
          ],
          [
           "Laser Rifle",
           6000
          ],
          [
           "Laser Rifle",
           9000
          ],
          [
           "Laser Rifle",
           12000
          ],
          [
           "Grenade Launcher",
           900
          ],
          [
           "Grenade Launcher",
           1200
          ],
          [
           "Grenade Launcher",
           1800
          ],
          [
           "Grenade Launcher",
           2400
          ],
          [
           "Guided Missile Launcher",
           450
          ],
          [
           "Guided Missile Launcher",
           600
          ],
          [
           "Guided Missile Launcher",
           900
          ],
          [
           "Guided Missile Launcher",
           1200
          ],
          [
           "Multi Guided Missile Launcher",
           450
          ],
          [
           "Multi Guided Missile Launcher",
           600
          ],
          [
           "Multi Guided Missile Launcher",
           900
          ],
          [
           "Multi Guided Missile Launcher",
           1200
          ],
          [
           "Gatling Gun",
           9000
          ],
          [
           "Gatling Gun",
           12000
          ],
          [
           "Gatling Gun",
           18000
          ],
          [
           "Gatling Gun",
           24000
          ],
          [
           "Meteor Launcher",
           300
          ],
          [
           "Dark Grenade",
           null
          ],
          [
           "Dragon Grenade",
           null
          ],
          [
           "Ground Grenade",
           null
          ],
          [
           "Grass Grenade",
           null
          ],
          [
           "Water Grenade",
           null
          ],
          [
           "Katana",
           500
          ],
          [
           "Beam Sword",
           500
          ],
          [
           "Semi-Auto Shotgun",
           300
          ],
          [
           "Plasma Cannon",
           300
          ],
          [
           "Poison Arrow Crossbow",
           800
          ],
          [
           "Poison Arrow Crossbow",
           1000
          ],
          [
           "Poison Arrow Crossbow",
           1200
          ],
          [
           "Poison Arrow Crossbow",
           1400
          ],
          [
           "Fire Arrow Crossbow",
           800
          ],
          [
           "Fire Arrow Crossbow",
           1000
          ],
          [
           "Fire Arrow Crossbow",
           1200
          ],
          [
           "Fire Arrow Crossbow",
           1400
          ],
          [
           "Old Revolver",
           400
          ],
          [
           "Pal Metal Pickaxe",
           400
          ],
          [
           "Pal Metal Axe",
           400
          ],
          [
           "Makeshift Assault Rifle",
           1500
          ],
          [
           "Semi-Auto Rifle",
           1000
          ],
          [
           "Makeshift SMG",
           1000
          ],
          [
           "SMG",
           2000
          ],
          [
           "Makeshift Shotgun",
           200
          ],
          [
           "Laser Gatling Gun",
           12000
          ],
          [
           "Laser Gatling Gun",
           16000
          ],
          [
           "Laser Gatling Gun",
           24000
          ],
          [
           "Laser Gatling Gun",
           32000
          ],
          [
           "Plasma Cannon",
           450
          ],
          [
           "Plasma Cannon",
           600
          ],
          [
           "Plasma Cannon",
           900
          ],
          [
           "Plasma Cannon",
           1200
          ],
          [
           "Compound Bow",
           400
          ],
          [
           "Advanced Bow",
           500
          ],
          [
           "Semi-Auto Shotgun",
           450
          ],
          [
           "Semi-Auto Shotgun",
           600
          ],
          [
           "Semi-Auto Shotgun",
           900
          ],
          [
           "Semi-Auto Shotgun",
           1200
          ],
          [
           "Old Revolver",
           600
          ],
          [
           "Old Revolver",
           800
          ],
          [
           "Old Revolver",
           1200
          ],
          [
           "Old Revolver",
           1600
          ],
          [
           "Makeshift Assault Rifle",
           2250
          ],
          [
           "Makeshift Assault Rifle",
           3000
          ],
          [
           "Makeshift Assault Rifle",
           4500
          ],
          [
           "Makeshift Assault Rifle",
           6000
          ],
          [
           "Semi-Auto Rifle",
           1500
          ],
          [
           "Semi-Auto Rifle",
           2000
          ],
          [
           "Semi-Auto Rifle",
           3000
          ],
          [
           "Semi-Auto Rifle",
           4000
          ],
          [
           "Makeshift SMG",
           1500
          ],
          [
           "Makeshift SMG",
           2000
          ],
          [
           "Makeshift SMG",
           3000
          ],
          [
           "Makeshift SMG",
           4000
          ],
          [
           "SMG",
           3000
          ],
          [
           "SMG",
           4000
          ],
          [
           "SMG",
           6000
          ],
          [
           "SMG",
           8000
          ],
          [
           "Makeshift Shotgun",
           300
          ],
          [
           "Makeshift Shotgun",
           400
          ],
          [
           "Makeshift Shotgun",
           600
          ],
          [
           "Makeshift Shotgun",
           800
          ],
          [
           "Meowmere",
           2222
          ],
          [
           "Advanced Bow",
           750
          ],
          [
           "Advanced Bow",
           1000
          ],
          [
           "Advanced Bow",
           1500
          ],
          [
           "Advanced Bow",
           2000
          ],
          [
           "Compound Bow",
           600
          ],
          [
           "Compound Bow",
           800
          ],
          [
           "Compound Bow",
           1200
          ],
          [
           "Compound Bow",
           1600
          ],
          [
           "Charge Rifle",
           200
          ],
          [
           "Overheat Rifle",
           3000
          ],
          [
           "Energy Shotgun",
           300
          ],
          [
           "Boost Gun",
           400
          ],
          [
           "Megaboost Gun",
           400
          ],
          [
           "Pal Recovery Grenade",
           null
          ],
          [
           "Energy Shotgun",
           450
          ],
          [
           "Energy Shotgun",
           600
          ],
          [
           "Energy Shotgun",
           900
          ],
          [
           "Energy Shotgun",
           1200
          ],
          [
           "Charge Rifle",
           300
          ],
          [
           "Charge Rifle",
           400
          ],
          [
           "Charge Rifle",
           600
          ],
          [
           "Charge Rifle",
           800
          ],
          [
           "Overheat Rifle",
           3000
          ],
          [
           "Overheat Rifle",
           4000
          ],
          [
           "Overheat Rifle",
           5000
          ],
          [
           "Overheat Rifle",
           6000
          ],
          [
           "Terra Blade",
           757
          ],
          [
           "Terraprisma",
           5000
          ],
          [
           "Vortex Beater",
           3000
          ],
          [
           "Nightglow",
           3000
          ],
          [
           "Excalibur",
           600
          ],
          [
           "Legendary Meowmere",
           22222
          ],
          [
           "Beginner Fishing Rod (Chillet)",
           120
          ],
          [
           "Beginner Fishing Rod (Gumoss)",
           180
          ],
          [
           "Intermediate Fishing Rod (Cattiva)",
           240
          ],
          [
           "Intermediate Fishing Rod (Croajiro)",
           360
          ],
          [
           "Advanced Fishing Rod (Pengullet)",
           480
          ],
          [
           "Advanced Fishing Rod (Depresso)",
           720
          ],
          [
           "Terra Blade",
           1135
          ],
          [
           "Terra Blade",
           1514
          ],
          [
           "Terra Blade",
           2271
          ],
          [
           "Terra Blade",
           3028
          ],
          [
           "Terraprisma",
           6000
          ],
          [
           "Terraprisma",
           7200
          ],
          [
           "Terraprisma",
           8640
          ],
          [
           "Terraprisma",
           10368
          ],
          [
           "Vortex Beater",
           3000
          ],
          [
           "Vortex Beater",
           4000
          ],
          [
           "Vortex Beater",
           5000
          ],
          [
           "Vortex Beater",
           6000
          ],
          [
           "Nightglow",
           3000
          ],
          [
           "Nightglow",
           4000
          ],
          [
           "Nightglow",
           5000
          ],
          [
           "Nightglow",
           6000
          ],
          [
           "Excalibur",
           900
          ],
          [
           "Excalibur",
           1200
          ],
          [
           "Excalibur",
           1800
          ],
          [
           "Excalibur",
           2400
          ],
          [
           "Meteor Launcher",
           450
          ]
         ],
         "hovertemplate": "Physical Attack=%{x}<br>Price=%{y}<br>Name=%{customdata[0]}<br>Durability=%{customdata[1]}<extra></extra>",
         "legendgroup": "",
         "marker": {
          "color": "#1F77B4",
          "opacity": 0.85,
          "size": 8,
          "symbol": "circle"
         },
         "mode": "markers",
         "name": "",
         "orientation": "v",
         "showlegend": false,
         "type": "scatter",
         "x": {
          "_inputArray": {
           "0": 320,
           "1": 20,
           "10": 190,
           "100": 7965,
           "101": 8850,
           "102": 431,
           "103": 468,
           "104": 506,
           "105": 562,
           "106": 2000,
           "107": 750,
           "108": 750,
           "109": 750,
           "11": 250,
           "110": 750,
           "111": 750,
           "112": 525,
           "113": 2000,
           "114": 195,
           "115": 10000,
           "116": 364,
           "117": 406,
           "118": 448,
           "119": 490,
           "12": 1250,
           "120": 364,
           "121": 406,
           "122": 448,
           "123": 490,
           "124": 600,
           "125": 120,
           "126": 120,
           "127": 170,
           "128": 1150,
           "129": 100,
           "13": 10000,
           "130": 130,
           "131": 215,
           "132": 583,
           "133": 609,
           "134": 636,
           "135": 689,
           "136": 11000,
           "137": 11500,
           "138": 12000,
           "139": 13000,
           "14": 20,
           "140": 1100,
           "141": 5800,
           "142": 214,
           "143": 234,
           "144": 253,
           "145": 282,
           "146": 1050,
           "147": 1200,
           "148": 1350,
           "149": 1500,
           "15": 30,
           "150": 204,
           "151": 229,
           "152": 255,
           "153": 297,
           "154": 1265,
           "155": 1380,
           "156": 1495,
           "157": 1610,
           "158": 120,
           "159": 135,
           "16": 60,
           "160": 150,
           "161": 175,
           "162": 156,
           "163": 175,
           "164": 195,
           "165": 227,
           "166": 258,
           "167": 290,
           "168": 322,
           "169": 376,
           "17": 220,
           "170": 200,
           "171": 6670,
           "172": 7250,
           "173": 7830,
           "174": 8700,
           "175": 1265,
           "176": 1375,
           "177": 1485,
           "178": 1650,
           "179": 12500,
           "18": 1100,
           "180": 1225,
           "181": 402,
           "182": 250,
           "183": 250,
           "184": 750,
           "185": 422,
           "186": 442,
           "187": 462,
           "188": 482,
           "189": 13125,
           "19": 525,
           "190": 13750,
           "191": 14375,
           "192": 15000,
           "193": 1286,
           "194": 1347,
           "195": 1408,
           "196": 1470,
           "197": 425,
           "198": 90,
           "199": 300,
           "2": 30,
           "20": 750,
           "200": 50,
           "201": 360,
           "202": 222,
           "203": 25,
           "204": 25,
           "205": 25,
           "206": 25,
           "207": 25,
           "208": 25,
           "209": 467,
           "21": 750,
           "210": 510,
           "211": 552,
           "212": 637,
           "213": 100,
           "214": 110,
           "215": 125,
           "216": 150,
           "217": 330,
           "218": 360,
           "219": 390,
           "22": 750,
           "220": 450,
           "221": 60,
           "222": 70,
           "223": 80,
           "224": 100,
           "225": 396,
           "226": 432,
           "227": 468,
           "228": 540,
           "229": 10500,
           "23": 750,
           "24": 65,
           "25": 65,
           "26": 65,
           "27": 280,
           "28": 280,
           "29": 40,
           "3": 60,
           "30": 30,
           "31": 10,
           "32": 320,
           "33": 35,
           "34": 80,
           "35": 310,
           "36": 150,
           "37": 150,
           "38": 450,
           "39": 1000,
           "4": 75,
           "40": 130,
           "41": 169,
           "42": 208,
           "43": 247,
           "44": 364,
           "45": 406,
           "46": 448,
           "47": 490,
           "48": 400,
           "49": 448,
           "5": 25,
           "50": 512,
           "51": 560,
           "52": 275,
           "53": 308,
           "54": 352,
           "55": 385,
           "56": 437,
           "57": 500,
           "58": 562,
           "59": 625,
           "6": 50,
           "60": 11000,
           "61": 12000,
           "62": 13000,
           "63": 14000,
           "64": 1400,
           "65": 1600,
           "66": 1800,
           "67": 2000,
           "68": 285,
           "69": 323,
           "7": 25,
           "70": 361,
           "71": 399,
           "72": 1650,
           "73": 1870,
           "74": 2090,
           "75": 2310,
           "76": 375,
           "77": 3000,
           "78": 5900,
           "79": 5900,
           "8": 10,
           "80": 530,
           "81": 4000,
           "82": 560,
           "83": 640,
           "84": 720,
           "85": 800,
           "86": 1437,
           "87": 1562,
           "88": 1687,
           "89": 1875,
           "9": 280,
           "90": 3450,
           "91": 3750,
           "92": 4050,
           "93": 4500,
           "94": 6785,
           "95": 7375,
           "96": 7965,
           "97": 8850,
           "98": 6785,
           "99": 7375,
           "bdata": "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",
           "dtype": "f8",
           "shape": "230"
          },
          "bdata": "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",
          "dtype": "f8"
         },
         "xaxis": "x",
         "y": {
          "_inputArray": {
           "0": 82400,
           "1": 200,
           "10": 55200,
           "100": 324000,
           "101": 324000,
           "102": 324000,
           "103": 324000,
           "104": 324000,
           "105": 324000,
           "106": 324000,
           "107": 10,
           "108": 10,
           "109": 10,
           "11": 33000,
           "110": 10,
           "111": 10,
           "112": 10440,
           "113": 10440,
           "114": 153600,
           "115": 324000,
           "116": 25200,
           "117": 25200,
           "118": 25200,
           "119": 25200,
           "12": 324000,
           "120": 25200,
           "121": 25200,
           "122": 25200,
           "123": 25200,
           "124": 33000,
           "125": 33000,
           "126": 33000,
           "127": 82400,
           "128": 37600,
           "129": 82400,
           "13": 324000,
           "130": 82400,
           "131": 55200,
           "132": 324000,
           "133": 324000,
           "134": 324000,
           "135": 324000,
           "136": 324000,
           "137": 324000,
           "138": 324000,
           "139": 324000,
           "14": 200,
           "140": 25200,
           "141": 25200,
           "142": 153600,
           "143": 153600,
           "144": 153600,
           "145": 153600,
           "146": 33000,
           "147": 33000,
           "148": 33000,
           "149": 33000,
           "15": 2800,
           "150": 82400,
           "151": 82400,
           "152": 82400,
           "153": 82400,
           "154": 37600,
           "155": 37600,
           "156": 37600,
           "157": 37600,
           "158": 82400,
           "159": 82400,
           "16": 7000,
           "160": 82400,
           "161": 82400,
           "162": 82400,
           "163": 82400,
           "164": 82400,
           "165": 82400,
           "166": 55200,
           "167": 55200,
           "168": 55200,
           "169": 55200,
           "17": 153600,
           "170": 200,
           "171": 25200,
           "172": 25200,
           "173": 25200,
           "174": 25200,
           "175": 25200,
           "176": 25200,
           "177": 25200,
           "178": 25200,
           "179": 37600,
           "18": 37600,
           "180": 82400,
           "181": 153600,
           "182": 33000,
           "183": 33000,
           "184": 10,
           "185": 153600,
           "186": 153600,
           "187": 153600,
           "188": 153600,
           "189": 37600,
           "19": 10440,
           "190": 37600,
           "191": 37600,
           "192": 37600,
           "193": 82400,
           "194": 82400,
           "195": 82400,
           "196": 82400,
           "197": 10000,
           "198": 10000,
           "199": 10000,
           "2": 2800,
           "20": 10,
           "200": 10000,
           "201": 10000,
           "202": 10000,
           "203": 350,
           "204": 520,
           "205": 800,
           "206": 840,
           "207": 980,
           "208": 1050,
           "209": 10000,
           "21": 10,
           "210": 10000,
           "211": 10000,
           "212": 10000,
           "213": 10000,
           "214": 10000,
           "215": 10000,
           "216": 10000,
           "217": 10000,
           "218": 10000,
           "219": 10000,
           "22": 10,
           "220": 10000,
           "221": 10000,
           "222": 10000,
           "223": 10000,
           "224": 10000,
           "225": 200,
           "226": 200,
           "227": 200,
           "228": 200,
           "229": 324000,
           "23": 10,
           "24": 360,
           "25": 480,
           "26": 480,
           "27": 25200,
           "28": 25200,
           "29": 1000,
           "3": 7000,
           "30": 10,
           "31": 80,
           "32": 16600,
           "33": 480,
           "34": 8780,
           "35": 13880,
           "36": 20000,
           "37": 20000,
           "38": 20000,
           "39": 37600,
           "4": 33000,
           "40": 360,
           "41": 360,
           "42": 360,
           "43": 360,
           "44": 25200,
           "45": 25200,
           "46": 25200,
           "47": 25200,
           "48": 82400,
           "49": 82400,
           "5": 80,
           "50": 82400,
           "51": 82400,
           "52": 153600,
           "53": 153600,
           "54": 153600,
           "55": 153600,
           "56": 33000,
           "57": 33000,
           "58": 33000,
           "59": 33000,
           "6": 80,
           "60": 324000,
           "61": 324000,
           "62": 324000,
           "63": 324000,
           "64": 37600,
           "65": 37600,
           "66": 37600,
           "67": 37600,
           "68": 55200,
           "69": 55200,
           "7": 100,
           "70": 55200,
           "71": 55200,
           "72": 37600,
           "73": 37600,
           "74": 37600,
           "75": 37600,
           "76": 324000,
           "77": 324000,
           "78": 324000,
           "79": 324000,
           "8": 19000,
           "80": 324000,
           "81": 10,
           "82": 16600,
           "83": 16600,
           "84": 16600,
           "85": 16600,
           "86": 324000,
           "87": 324000,
           "88": 324000,
           "89": 324000,
           "9": 25200,
           "90": 324000,
           "91": 324000,
           "92": 324000,
           "93": 324000,
           "94": 324000,
           "95": 324000,
           "96": 324000,
           "97": 324000,
           "98": 324000,
           "99": 324000,
           "bdata": "4EEBAMgAAADwCgAAWBsAAOiAAABQAAAAUAAAAGQAAAA4SgAAcGIAAKDXAADogAAAoPEEAKDxBADIAAAA8AoAAFgbAAAAWAIA4JIAAMgoAAAKAAAACgAAAAoAAAAKAAAAaAEAAOABAADgAQAAcGIAAHBiAADoAwAACgAAAFAAAADYQAAA4AEAAEwiAAA4NgAAIE4AACBOAAAgTgAA4JIAAGgBAABoAQAAaAEAAGgBAABwYgAAcGIAAHBiAABwYgAA4EEBAOBBAQDgQQEA4EEBAABYAgAAWAIAAFgCAABYAgDogAAA6IAAAOiAAADogAAAoPEEAKDxBACg8QQAoPEEAOCSAADgkgAA4JIAAOCSAACg1wAAoNcAAKDXAACg1wAA4JIAAOCSAADgkgAA4JIAAKDxBACg8QQAoPEEAKDxBACg8QQACgAAANhAAADYQAAA2EAAANhAAACg8QQAoPEEAKDxBACg8QQAoPEEAKDxBACg8QQAoPEEAKDxBACg8QQAoPEEAKDxBACg8QQAoPEEAKDxBACg8QQAoPEEAKDxBACg8QQAoPEEAKDxBAAKAAAACgAAAAoAAAAKAAAACgAAAMgoAADIKAAAAFgCAKDxBABwYgAAcGIAAHBiAABwYgAAcGIAAHBiAABwYgAAcGIAAOiAAADogAAA6IAAAOBBAQDgkgAA4EEBAOBBAQCg1wAAoPEEAKDxBACg8QQAoPEEAKDxBACg8QQAoPEEAKDxBABwYgAAcGIAAABYAgAAWAIAAFgCAABYAgDogAAA6IAAAOiAAADogAAA4EEBAOBBAQDgQQEA4EEBAOCSAADgkgAA4JIAAOCSAADgQQEA4EEBAOBBAQDgQQEA4EEBAOBBAQDgQQEA4EEBAKDXAACg1wAAoNcAAKDXAADIAAAAcGIAAHBiAABwYgAAcGIAAHBiAABwYgAAcGIAAHBiAADgkgAA4EEBAABYAgDogAAA6IAAAAoAAAAAWAIAAFgCAABYAgAAWAIA4JIAAOCSAADgkgAA4JIAAOBBAQDgQQEA4EEBAOBBAQAQJwAAECcAABAnAAAQJwAAECcAABAnAABeAQAACAIAACADAABIAwAA1AMAABoEAAAQJwAAECcAABAnAAAQJwAAECcAABAnAAAQJwAAECcAABAnAAAQJwAAECcAABAnAAAQJwAAECcAABAnAAAQJwAAyAAAAMgAAADIAAAAyAAAAKDxBAA=",
           "dtype": "i4",
           "shape": "230"
          },
          "bdata": "4EEBAMgAAADwCgAAWBsAAOiAAABQAAAAUAAAAGQAAAA4SgAAcGIAAKDXAADogAAAoPEEAKDxBADIAAAA8AoAAFgbAAAAWAIA4JIAAMgoAAAKAAAACgAAAAoAAAAKAAAAaAEAAOABAADgAQAAcGIAAHBiAADoAwAACgAAAFAAAADYQAAA4AEAAEwiAAA4NgAAIE4AACBOAAAgTgAA4JIAAGgBAABoAQAAaAEAAGgBAABwYgAAcGIAAHBiAABwYgAA4EEBAOBBAQDgQQEA4EEBAABYAgAAWAIAAFgCAABYAgDogAAA6IAAAOiAAADogAAAoPEEAKDxBACg8QQAoPEEAOCSAADgkgAA4JIAAOCSAACg1wAAoNcAAKDXAACg1wAA4JIAAOCSAADgkgAA4JIAAKDxBACg8QQAoPEEAKDxBACg8QQACgAAANhAAADYQAAA2EAAANhAAACg8QQAoPEEAKDxBACg8QQAoPEEAKDxBACg8QQAoPEEAKDxBACg8QQAoPEEAKDxBACg8QQAoPEEAKDxBACg8QQAoPEEAKDxBACg8QQAoPEEAKDxBAAKAAAACgAAAAoAAAAKAAAACgAAAMgoAADIKAAAAFgCAKDxBABwYgAAcGIAAHBiAABwYgAAcGIAAHBiAABwYgAAcGIAAOiAAADogAAA6IAAAOBBAQDgkgAA4EEBAOBBAQCg1wAAoPEEAKDxBACg8QQAoPEEAKDxBACg8QQAoPEEAKDxBABwYgAAcGIAAABYAgAAWAIAAFgCAABYAgDogAAA6IAAAOiAAADogAAA4EEBAOBBAQDgQQEA4EEBAOCSAADgkgAA4JIAAOCSAADgQQEA4EEBAOBBAQDgQQEA4EEBAOBBAQDgQQEA4EEBAKDXAACg1wAAoNcAAKDXAADIAAAAcGIAAHBiAABwYgAAcGIAAHBiAABwYgAAcGIAAHBiAADgkgAA4EEBAABYAgDogAAA6IAAAAoAAAAAWAIAAFgCAABYAgAAWAIA4JIAAOCSAADgkgAA4JIAAOBBAQDgQQEA4EEBAOBBAQAQJwAAECcAABAnAAAQJwAAECcAABAnAABeAQAACAIAACADAABIAwAA1AMAABoEAAAQJwAAECcAABAnAAAQJwAAECcAABAnAAAQJwAAECcAABAnAAAQJwAAECcAABAnAAAQJwAAECcAABAnAAAQJwAAyAAAAMgAAADIAAAAyAAAAKDxBAA=",
          "dtype": "i4"
         },
         "yaxis": "y"
        },
        {
         "hoverinfo": "skip",
         "mode": "lines",
         "name": "Best fit",
         "type": "scatter",
         "x": {
          "_inputArray": {
           "0": 10,
           "1": 10,
           "10": 25,
           "100": 402,
           "101": 406,
           "102": 406,
           "103": 406,
           "104": 422,
           "105": 425,
           "106": 431,
           "107": 432,
           "108": 437,
           "109": 442,
           "11": 25,
           "110": 448,
           "111": 448,
           "112": 448,
           "113": 448,
           "114": 450,
           "115": 450,
           "116": 462,
           "117": 467,
           "118": 468,
           "119": 468,
           "12": 30,
           "120": 482,
           "121": 490,
           "122": 490,
           "123": 490,
           "124": 500,
           "125": 506,
           "126": 510,
           "127": 512,
           "128": 525,
           "129": 525,
           "13": 30,
           "130": 530,
           "131": 540,
           "132": 552,
           "133": 560,
           "134": 560,
           "135": 562,
           "136": 562,
           "137": 583,
           "138": 600,
           "139": 609,
           "14": 30,
           "140": 625,
           "141": 636,
           "142": 637,
           "143": 640,
           "144": 689,
           "145": 720,
           "146": 750,
           "147": 750,
           "148": 750,
           "149": 750,
           "15": 35,
           "150": 750,
           "151": 750,
           "152": 750,
           "153": 750,
           "154": 750,
           "155": 750,
           "156": 800,
           "157": 1000,
           "158": 1050,
           "159": 1100,
           "16": 40,
           "160": 1100,
           "161": 1150,
           "162": 1200,
           "163": 1225,
           "164": 1250,
           "165": 1265,
           "166": 1265,
           "167": 1286,
           "168": 1347,
           "169": 1350,
           "17": 50,
           "170": 1375,
           "171": 1380,
           "172": 1400,
           "173": 1408,
           "174": 1437,
           "175": 1470,
           "176": 1485,
           "177": 1495,
           "178": 1500,
           "179": 1562,
           "18": 50,
           "180": 1600,
           "181": 1610,
           "182": 1650,
           "183": 1650,
           "184": 1687,
           "185": 1800,
           "186": 1870,
           "187": 1875,
           "188": 2000,
           "189": 2000,
           "19": 60,
           "190": 2000,
           "191": 2090,
           "192": 2310,
           "193": 3000,
           "194": 3450,
           "195": 3750,
           "196": 4000,
           "197": 4050,
           "198": 4500,
           "199": 5800,
           "2": 20,
           "20": 60,
           "200": 5900,
           "201": 5900,
           "202": 6670,
           "203": 6785,
           "204": 6785,
           "205": 7250,
           "206": 7375,
           "207": 7375,
           "208": 7830,
           "209": 7965,
           "21": 60,
           "210": 7965,
           "211": 8700,
           "212": 8850,
           "213": 8850,
           "214": 10000,
           "215": 10000,
           "216": 10500,
           "217": 11000,
           "218": 11000,
           "219": 11500,
           "22": 65,
           "220": 12000,
           "221": 12000,
           "222": 12500,
           "223": 13000,
           "224": 13000,
           "225": 13125,
           "226": 13750,
           "227": 14000,
           "228": 14375,
           "229": 15000,
           "23": 65,
           "24": 65,
           "25": 70,
           "26": 75,
           "27": 80,
           "28": 80,
           "29": 90,
           "3": 20,
           "30": 100,
           "31": 100,
           "32": 100,
           "33": 110,
           "34": 120,
           "35": 120,
           "36": 120,
           "37": 125,
           "38": 130,
           "39": 130,
           "4": 25,
           "40": 135,
           "41": 150,
           "42": 150,
           "43": 150,
           "44": 150,
           "45": 156,
           "46": 169,
           "47": 170,
           "48": 175,
           "49": 175,
           "5": 25,
           "50": 190,
           "51": 195,
           "52": 195,
           "53": 200,
           "54": 204,
           "55": 208,
           "56": 214,
           "57": 215,
           "58": 220,
           "59": 222,
           "6": 25,
           "60": 227,
           "61": 229,
           "62": 234,
           "63": 247,
           "64": 250,
           "65": 250,
           "66": 250,
           "67": 253,
           "68": 255,
           "69": 258,
           "7": 25,
           "70": 275,
           "71": 280,
           "72": 280,
           "73": 280,
           "74": 282,
           "75": 285,
           "76": 290,
           "77": 297,
           "78": 300,
           "79": 308,
           "8": 25,
           "80": 310,
           "81": 320,
           "82": 320,
           "83": 322,
           "84": 323,
           "85": 330,
           "86": 352,
           "87": 360,
           "88": 360,
           "89": 361,
           "9": 25,
           "90": 364,
           "91": 364,
           "92": 364,
           "93": 375,
           "94": 376,
           "95": 385,
           "96": 390,
           "97": 396,
           "98": 399,
           "99": 400,
           "bdata": "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",
           "dtype": "f8",
           "shape": "230"
          },
          "bdata": "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",
          "dtype": "f8"
         },
         "y": {
          "_inputArray": {
           "0": 1162.73578883229,
           "1": 1162.73578883229,
           "10": 2226.8632103232067,
           "100": 15965.10341418984,
           "101": 16077.599699288625,
           "102": 16077.599699288625,
           "103": 16077.599699288625,
           "104": 16524.40619763011,
           "105": 16607.629608353225,
           "106": 16773.56596468962,
           "107": 16801.156515694274,
           "108": 16938.8318627717,
           "109": 17076.049856101912,
           "11": 2226.8632103232067,
           "110": 17240.117117038884,
           "111": 17240.117117038884,
           "112": 17240.117117038884,
           "113": 17240.117117038884,
           "114": 17294.663927886417,
           "115": 17294.663927886417,
           "116": 17620.479121887416,
           "117": 17755.507039906563,
           "118": 17782.46206361532,
           "119": 17782.46206361532,
           "12": 2534.2390346387224,
           "120": 18158.09485914502,
           "121": 18371.315823743884,
           "122": 18371.315823743884,
           "123": 18371.315823743884,
           "124": 18636.424140658015,
           "125": 18794.748560086842,
           "126": 18899.99485877803,
           "127": 18952.527936631035,
           "128": 19292.552368215955,
           "129": 19292.552368215955,
           "13": 2534.2390346387224,
           "130": 19422.677037643738,
           "131": 19681.861110205646,
           "132": 19991.047221751454,
           "133": 20196.085329261427,
           "134": 20196.085329261427,
           "135": 20247.21141672291,
           "136": 20247.21141672291,
           "137": 20780.88788611322,
           "138": 21208.8256271853,
           "139": 21433.950931132145,
           "14": 2534.2390346387224,
           "140": 21831.80135157245,
           "141": 22103.60568076111,
           "142": 22128.24708272886,
           "143": 22202.103896098964,
           "144": 23394.611503088196,
           "145": 24136.297880397444,
           "146": 24845.263474267544,
           "147": 24845.263474267544,
           "148": 24845.263474267544,
           "149": 24845.263474267544,
           "15": 2826.995626697887,
           "150": 24845.263474267544,
           "151": 24845.263474267544,
           "152": 24845.263474267544,
           "153": 24845.263474267544,
           "154": 24845.263474267544,
           "155": 24845.263474267544,
           "156": 26008.847952174325,
           "157": 30468.291427020144,
           "158": 31540.981439859897,
           "159": 32598.91244647611,
           "16": 3107.792901173052,
           "160": 32598.91244647611,
           "161": 33642.94531379544,
           "162": 34673.85562577774,
           "163": 35184.611780299,
           "164": 35692.34531990189,
           "165": 35995.56710795394,
           "166": 35995.56710795394,
           "167": 36418.327468079595,
           "168": 37635.13421731508,
           "169": 37694.55867615835,
           "17": 3640.651057743179,
           "170": 38188.27986727934,
           "171": 38286.70969065126,
           "172": 38679.397197747596,
           "173": 38836.014654630075,
           "174": 39401.59907929348,
           "175": 40041.1736917157,
           "176": 40330.50625552657,
           "177": 40522.92245350379,
           "178": 40618.99012394738,
           "179": 41802.61951704055,
           "18": 3640.651057743179,
           "180": 42521.30951232599,
           "181": 42709.61001575478,
           "182": 43459.44064131401,
           "183": 43459.44064131401,
           "184": 44148.33984556442,
           "185": 46225.663903608955,
           "186": 47493.44700256255,
           "187": 47583.469703978946,
           "188": 49811.95831750651,
           "189": 49811.95831750651,
           "19": 4143.1732219835885,
           "190": 49811.95831750651,
           "191": 51391.41485062427,
           "192": 55171.61901197302,
           "193": 66407.118620342,
           "194": 73326.43071050587,
           "195": 77793.19740242965,
           "196": 81436.50579712456,
           "197": 82157.11850285086,
           "198": 88531.05865356638,
           "199": 105988.4791932432,
           "2": 1900.931884753591,
           "20": 4143.1732219835885,
           "200": 107281.20722595943,
           "201": 107281.20722595943,
           "202": 117031.98447906421,
           "203": 118459.40874453232,
           "204": 118459.40874453232,
           "205": 124161.1269328224,
           "206": 125675.50444424093,
           "207": 125675.50444424093,
           "208": 131126.1236133329,
           "209": 132725.4523055326,
           "21": 4143.1732219835885,
           "210": 132725.4523055326,
           "211": 141299.19296310208,
           "212": 143022.6012913841,
           "213": 143022.6012913841,
           "214": 155966.6095072321,
           "215": 155966.6095072321,
           "216": 161457.68946344242,
           "217": 166873.2183449922,
           "218": 166873.2183449922,
           "219": 172217.60291345225,
           "22": 4385.163638829747,
           "220": 177494.81336849375,
           "221": 177494.81336849375,
           "222": 182708.44291484004,
           "223": 187861.75715138225,
           "224": 187861.75715138225,
           "225": 189141.01634763984,
           "226": 195485.0848161054,
           "227": 197999.10517352683,
           "228": 201745.81065945426,
           "229": 207927.84480266515,
           "23": 4385.163638829747,
           "24": 4385.163638829747,
           "25": 4621.794715931028,
           "26": 4853.556350982811,
           "27": 5080.864177220947,
           "28": 5080.864177220947,
           "29": 5523.4968652134185,
           "3": 1900.931884753591,
           "30": 5952.022586211208,
           "31": 5952.022586211208,
           "32": 5952.022586211208,
           "33": 6368.242329311472,
           "34": 6773.585329849918,
           "35": 6773.585329849918,
           "36": 6773.585329849918,
           "37": 6972.54869075155,
           "38": 7169.210289196572,
           "39": 7169.210289196572,
           "4": 2226.8632103232067,
           "40": 7363.683820445224,
           "41": 7934.975521220748,
           "42": 7934.975521220748,
           "43": 7934.975521220748,
           "44": 7934.975521220748,
           "45": 8158.782487487655,
           "46": 8635.312690142091,
           "47": 8671.51840480601,
           "48": 8851.627960045109,
           "49": 8851.627960045109,
           "5": 2226.8632103232067,
           "50": 9383.222904460154,
           "51": 9557.676794279567,
           "52": 9557.676794279567,
           "53": 9730.834486711043,
           "54": 9868.455470984205,
           "55": 10005.293877277776,
           "56": 10209.126304751318,
           "57": 10242.935812148133,
           "58": 10411.303246959516,
           "59": 10478.337815528537,
           "6": 2226.8632103232067,
           "60": 10645.161261600342,
           "61": 10711.59066952092,
           "62": 10876.931057210502,
           "63": 11302.090544535708,
           "64": 11399.270798706188,
           "65": 11399.270798706188,
           "66": 11399.270798706188,
           "67": 11496.112495240652,
           "68": 11560.488099180948,
           "69": 11656.776960573672,
           "7": 2226.8632103232067,
           "70": 12196.411853640931,
           "71": 12353.262836499256,
           "72": 12353.262836499256,
           "73": 12353.262836499256,
           "74": 12415.774688224352,
           "75": 12509.301330532131,
           "76": 12664.545690319674,
           "77": 12880.587087655269,
           "78": 12972.721849540852,
           "79": 13217.11572176371,
           "8": 2226.8632103232067,
           "80": 13277.924390663675,
           "81": 13580.276597187692,
           "82": 13580.276597187692,
           "83": 13640.41521825277,
           "84": 13670.443775015641,
           "85": 13879.892962774838,
           "86": 14529.93348350506,
           "87": 14763.357688165073,
           "88": 14763.357688165073,
           "89": 14792.429094398154,
           "9": 2226.8632103232067,
           "90": 14879.503185648264,
           "91": 14879.503185648264,
           "92": 14879.503185648264,
           "93": 15197.00798129504,
           "94": 15225.736764065125,
           "95": 15483.305311171258,
           "96": 15625.641471534766,
           "97": 15795.746402297433,
           "98": 15880.517487792931,
           "99": 15908.733281208843,
           "bdata": "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",
           "dtype": "f8",
           "shape": "230"
          },
          "bdata": "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",
          "dtype": "f8"
         }
        }
       ],
       "layout": {
        "autosize": true,
        "legend": {
         "tracegroupgap": 0
        },
        "template": {
         "data": {
          "bar": [
           {
            "error_x": {
             "color": "rgb(36,36,36)"
            },
            "error_y": {
             "color": "rgb(36,36,36)"
            },
            "marker": {
             "line": {
              "color": "white",
              "width": 0.5
             },
             "pattern": {
              "fillmode": "overlay",
              "size": 10,
              "solidity": 0.2
             }
            },
            "type": "bar"
           }
          ],
          "barpolar": [
           {
            "marker": {
             "line": {
              "color": "white",
              "width": 0.5
             },
             "pattern": {
              "fillmode": "overlay",
              "size": 10,
              "solidity": 0.2
             }
            },
            "type": "barpolar"
           }
          ],
          "carpet": [
           {
            "aaxis": {
             "endlinecolor": "rgb(36,36,36)",
             "gridcolor": "white",
             "linecolor": "white",
             "minorgridcolor": "white",
             "startlinecolor": "rgb(36,36,36)"
            },
            "baxis": {
             "endlinecolor": "rgb(36,36,36)",
             "gridcolor": "white",
             "linecolor": "white",
             "minorgridcolor": "white",
             "startlinecolor": "rgb(36,36,36)"
            },
            "type": "carpet"
           }
          ],
          "choropleth": [
           {
            "colorbar": {
             "outlinewidth": 1,
             "tickcolor": "rgb(36,36,36)",
             "ticks": "outside"
            },
            "type": "choropleth"
           }
          ],
          "contour": [
           {
            "colorbar": {
             "outlinewidth": 1,
             "tickcolor": "rgb(36,36,36)",
             "ticks": "outside"
            },
            "colorscale": [
             [
              0,
              "#440154"
             ],
             [
              0.1111111111111111,
              "#482878"
             ],
             [
              0.2222222222222222,
              "#3e4989"
             ],
             [
              0.3333333333333333,
              "#31688e"
             ],
             [
              0.4444444444444444,
              "#26828e"
             ],
             [
              0.5555555555555556,
              "#1f9e89"
             ],
             [
              0.6666666666666666,
              "#35b779"
             ],
             [
              0.7777777777777778,
              "#6ece58"
             ],
             [
              0.8888888888888888,
              "#b5de2b"
             ],
             [
              1,
              "#fde725"
             ]
            ],
            "type": "contour"
           }
          ],
          "contourcarpet": [
           {
            "colorbar": {
             "outlinewidth": 1,
             "tickcolor": "rgb(36,36,36)",
             "ticks": "outside"
            },
            "type": "contourcarpet"
           }
          ],
          "heatmap": [
           {
            "colorbar": {
             "outlinewidth": 1,
             "tickcolor": "rgb(36,36,36)",
             "ticks": "outside"
            },
            "colorscale": [
             [
              0,
              "#440154"
             ],
             [
              0.1111111111111111,
              "#482878"
             ],
             [
              0.2222222222222222,
              "#3e4989"
             ],
             [
              0.3333333333333333,
              "#31688e"
             ],
             [
              0.4444444444444444,
              "#26828e"
             ],
             [
              0.5555555555555556,
              "#1f9e89"
             ],
             [
              0.6666666666666666,
              "#35b779"
             ],
             [
              0.7777777777777778,
              "#6ece58"
             ],
             [
              0.8888888888888888,
              "#b5de2b"
             ],
             [
              1,
              "#fde725"
             ]
            ],
            "type": "heatmap"
           }
          ],
          "histogram": [
           {
            "marker": {
             "line": {
              "color": "white",
              "width": 0.6
             }
            },
            "type": "histogram"
           }
          ],
          "histogram2d": [
           {
            "colorbar": {
             "outlinewidth": 1,
             "tickcolor": "rgb(36,36,36)",
             "ticks": "outside"
            },
            "colorscale": [
             [
              0,
              "#440154"
             ],
             [
              0.1111111111111111,
              "#482878"
             ],
             [
              0.2222222222222222,
              "#3e4989"
             ],
             [
              0.3333333333333333,
              "#31688e"
             ],
             [
              0.4444444444444444,
              "#26828e"
             ],
             [
              0.5555555555555556,
              "#1f9e89"
             ],
             [
              0.6666666666666666,
              "#35b779"
             ],
             [
              0.7777777777777778,
              "#6ece58"
             ],
             [
              0.8888888888888888,
              "#b5de2b"
             ],
             [
              1,
              "#fde725"
             ]
            ],
            "type": "histogram2d"
           }
          ],
          "histogram2dcontour": [
           {
            "colorbar": {
             "outlinewidth": 1,
             "tickcolor": "rgb(36,36,36)",
             "ticks": "outside"
            },
            "colorscale": [
             [
              0,
              "#440154"
             ],
             [
              0.1111111111111111,
              "#482878"
             ],
             [
              0.2222222222222222,
              "#3e4989"
             ],
             [
              0.3333333333333333,
              "#31688e"
             ],
             [
              0.4444444444444444,
              "#26828e"
             ],
             [
              0.5555555555555556,
              "#1f9e89"
             ],
             [
              0.6666666666666666,
              "#35b779"
             ],
             [
              0.7777777777777778,
              "#6ece58"
             ],
             [
              0.8888888888888888,
              "#b5de2b"
             ],
             [
              1,
              "#fde725"
             ]
            ],
            "type": "histogram2dcontour"
           }
          ],
          "mesh3d": [
           {
            "colorbar": {
             "outlinewidth": 1,
             "tickcolor": "rgb(36,36,36)",
             "ticks": "outside"
            },
            "type": "mesh3d"
           }
          ],
          "parcoords": [
           {
            "line": {
             "colorbar": {
              "outlinewidth": 1,
              "tickcolor": "rgb(36,36,36)",
              "ticks": "outside"
             }
            },
            "type": "parcoords"
           }
          ],
          "pie": [
           {
            "automargin": true,
            "type": "pie"
           }
          ],
          "scatter": [
           {
            "fillpattern": {
             "fillmode": "overlay",
             "size": 10,
             "solidity": 0.2
            },
            "type": "scatter"
           }
          ],
          "scatter3d": [
           {
            "line": {
             "colorbar": {
              "outlinewidth": 1,
              "tickcolor": "rgb(36,36,36)",
              "ticks": "outside"
             }
            },
            "marker": {
             "colorbar": {
              "outlinewidth": 1,
              "tickcolor": "rgb(36,36,36)",
              "ticks": "outside"
             }
            },
            "type": "scatter3d"
           }
          ],
          "scattercarpet": [
           {
            "marker": {
             "colorbar": {
              "outlinewidth": 1,
              "tickcolor": "rgb(36,36,36)",
              "ticks": "outside"
             }
            },
            "type": "scattercarpet"
           }
          ],
          "scattergeo": [
           {
            "marker": {
             "colorbar": {
              "outlinewidth": 1,
              "tickcolor": "rgb(36,36,36)",
              "ticks": "outside"
             }
            },
            "type": "scattergeo"
           }
          ],
          "scattergl": [
           {
            "marker": {
             "colorbar": {
              "outlinewidth": 1,
              "tickcolor": "rgb(36,36,36)",
              "ticks": "outside"
             }
            },
            "type": "scattergl"
           }
          ],
          "scattermap": [
           {
            "marker": {
             "colorbar": {
              "outlinewidth": 1,
              "tickcolor": "rgb(36,36,36)",
              "ticks": "outside"
             }
            },
            "type": "scattermap"
           }
          ],
          "scattermapbox": [
           {
            "marker": {
             "colorbar": {
              "outlinewidth": 1,
              "tickcolor": "rgb(36,36,36)",
              "ticks": "outside"
             }
            },
            "type": "scattermapbox"
           }
          ],
          "scatterpolar": [
           {
            "marker": {
             "colorbar": {
              "outlinewidth": 1,
              "tickcolor": "rgb(36,36,36)",
              "ticks": "outside"
             }
            },
            "type": "scatterpolar"
           }
          ],
          "scatterpolargl": [
           {
            "marker": {
             "colorbar": {
              "outlinewidth": 1,
              "tickcolor": "rgb(36,36,36)",
              "ticks": "outside"
             }
            },
            "type": "scatterpolargl"
           }
          ],
          "scatterternary": [
           {
            "marker": {
             "colorbar": {
              "outlinewidth": 1,
              "tickcolor": "rgb(36,36,36)",
              "ticks": "outside"
             }
            },
            "type": "scatterternary"
           }
          ],
          "surface": [
           {
            "colorbar": {
             "outlinewidth": 1,
             "tickcolor": "rgb(36,36,36)",
             "ticks": "outside"
            },
            "colorscale": [
             [
              0,
              "#440154"
             ],
             [
              0.1111111111111111,
              "#482878"
             ],
             [
              0.2222222222222222,
              "#3e4989"
             ],
             [
              0.3333333333333333,
              "#31688e"
             ],
             [
              0.4444444444444444,
              "#26828e"
             ],
             [
              0.5555555555555556,
              "#1f9e89"
             ],
             [
              0.6666666666666666,
              "#35b779"
             ],
             [
              0.7777777777777778,
              "#6ece58"
             ],
             [
              0.8888888888888888,
              "#b5de2b"
             ],
             [
              1,
              "#fde725"
             ]
            ],
            "type": "surface"
           }
          ],
          "table": [
           {
            "cells": {
             "fill": {
              "color": "rgb(237,237,237)"
             },
             "line": {
              "color": "white"
             }
            },
            "header": {
             "fill": {
              "color": "rgb(217,217,217)"
             },
             "line": {
              "color": "white"
             }
            },
            "type": "table"
           }
          ]
         },
         "layout": {
          "annotationdefaults": {
           "arrowhead": 0,
           "arrowwidth": 1
          },
          "autotypenumbers": "strict",
          "coloraxis": {
           "colorbar": {
            "outlinewidth": 1,
            "tickcolor": "rgb(36,36,36)",
            "ticks": "outside"
           }
          },
          "colorscale": {
           "diverging": [
            [
             0,
             "rgb(103,0,31)"
            ],
            [
             0.1,
             "rgb(178,24,43)"
            ],
            [
             0.2,
             "rgb(214,96,77)"
            ],
            [
             0.3,
             "rgb(244,165,130)"
            ],
            [
             0.4,
             "rgb(253,219,199)"
            ],
            [
             0.5,
             "rgb(247,247,247)"
            ],
            [
             0.6,
             "rgb(209,229,240)"
            ],
            [
             0.7,
             "rgb(146,197,222)"
            ],
            [
             0.8,
             "rgb(67,147,195)"
            ],
            [
             0.9,
             "rgb(33,102,172)"
            ],
            [
             1,
             "rgb(5,48,97)"
            ]
           ],
           "sequential": [
            [
             0,
             "#440154"
            ],
            [
             0.1111111111111111,
             "#482878"
            ],
            [
             0.2222222222222222,
             "#3e4989"
            ],
            [
             0.3333333333333333,
             "#31688e"
            ],
            [
             0.4444444444444444,
             "#26828e"
            ],
            [
             0.5555555555555556,
             "#1f9e89"
            ],
            [
             0.6666666666666666,
             "#35b779"
            ],
            [
             0.7777777777777778,
             "#6ece58"
            ],
            [
             0.8888888888888888,
             "#b5de2b"
            ],
            [
             1,
             "#fde725"
            ]
           ],
           "sequentialminus": [
            [
             0,
             "#440154"
            ],
            [
             0.1111111111111111,
             "#482878"
            ],
            [
             0.2222222222222222,
             "#3e4989"
            ],
            [
             0.3333333333333333,
             "#31688e"
            ],
            [
             0.4444444444444444,
             "#26828e"
            ],
            [
             0.5555555555555556,
             "#1f9e89"
            ],
            [
             0.6666666666666666,
             "#35b779"
            ],
            [
             0.7777777777777778,
             "#6ece58"
            ],
            [
             0.8888888888888888,
             "#b5de2b"
            ],
            [
             1,
             "#fde725"
            ]
           ]
          },
          "colorway": [
           "#1F77B4",
           "#FF7F0E",
           "#2CA02C",
           "#D62728",
           "#9467BD",
           "#8C564B",
           "#E377C2",
           "#7F7F7F",
           "#BCBD22",
           "#17BECF"
          ],
          "font": {
           "color": "rgb(36,36,36)"
          },
          "geo": {
           "bgcolor": "white",
           "lakecolor": "white",
           "landcolor": "white",
           "showlakes": true,
           "showland": true,
           "subunitcolor": "white"
          },
          "hoverlabel": {
           "align": "left"
          },
          "hovermode": "closest",
          "mapbox": {
           "style": "light"
          },
          "paper_bgcolor": "white",
          "plot_bgcolor": "white",
          "polar": {
           "angularaxis": {
            "gridcolor": "rgb(232,232,232)",
            "linecolor": "rgb(36,36,36)",
            "showgrid": false,
            "showline": true,
            "ticks": "outside"
           },
           "bgcolor": "white",
           "radialaxis": {
            "gridcolor": "rgb(232,232,232)",
            "linecolor": "rgb(36,36,36)",
            "showgrid": false,
            "showline": true,
            "ticks": "outside"
           }
          },
          "scene": {
           "xaxis": {
            "backgroundcolor": "white",
            "gridcolor": "rgb(232,232,232)",
            "gridwidth": 2,
            "linecolor": "rgb(36,36,36)",
            "showbackground": true,
            "showgrid": false,
            "showline": true,
            "ticks": "outside",
            "zeroline": false,
            "zerolinecolor": "rgb(36,36,36)"
           },
           "yaxis": {
            "backgroundcolor": "white",
            "gridcolor": "rgb(232,232,232)",
            "gridwidth": 2,
            "linecolor": "rgb(36,36,36)",
            "showbackground": true,
            "showgrid": false,
            "showline": true,
            "ticks": "outside",
            "zeroline": false,
            "zerolinecolor": "rgb(36,36,36)"
           },
           "zaxis": {
            "backgroundcolor": "white",
            "gridcolor": "rgb(232,232,232)",
            "gridwidth": 2,
            "linecolor": "rgb(36,36,36)",
            "showbackground": true,
            "showgrid": false,
            "showline": true,
            "ticks": "outside",
            "zeroline": false,
            "zerolinecolor": "rgb(36,36,36)"
           }
          },
          "shapedefaults": {
           "fillcolor": "black",
           "line": {
            "width": 0
           },
           "opacity": 0.3
          },
          "ternary": {
           "aaxis": {
            "gridcolor": "rgb(232,232,232)",
            "linecolor": "rgb(36,36,36)",
            "showgrid": false,
            "showline": true,
            "ticks": "outside"
           },
           "baxis": {
            "gridcolor": "rgb(232,232,232)",
            "linecolor": "rgb(36,36,36)",
            "showgrid": false,
            "showline": true,
            "ticks": "outside"
           },
           "bgcolor": "white",
           "caxis": {
            "gridcolor": "rgb(232,232,232)",
            "linecolor": "rgb(36,36,36)",
            "showgrid": false,
            "showline": true,
            "ticks": "outside"
           }
          },
          "title": {
           "x": 0.05
          },
          "xaxis": {
           "automargin": true,
           "gridcolor": "rgb(232,232,232)",
           "linecolor": "rgb(36,36,36)",
           "showgrid": false,
           "showline": true,
           "ticks": "outside",
           "title": {
            "standoff": 15
           },
           "zeroline": false,
           "zerolinecolor": "rgb(36,36,36)"
          },
          "yaxis": {
           "automargin": true,
           "gridcolor": "rgb(232,232,232)",
           "linecolor": "rgb(36,36,36)",
           "showgrid": false,
           "showline": true,
           "ticks": "outside",
           "title": {
            "standoff": 15
           },
           "zeroline": false,
           "zerolinecolor": "rgb(36,36,36)"
          }
         }
        },
        "title": {
         "text": "Price vs Physical Attack"
        },
        "xaxis": {
         "anchor": "y",
         "autorange": true,
         "domain": [
          0,
          1
         ],
         "range": [
          0.8078269501961497,
          4.368264308859532
         ],
         "title": {
          "text": "Physical Attack"
         },
         "type": "log"
        },
        "yaxis": {
         "anchor": "x",
         "autorange": true,
         "domain": [
          0,
          1
         ],
         "range": [
          0.5845550648493911,
          5.9259899453572205
         ],
         "title": {
          "text": "Price"
         },
         "type": "log"
        }
       }
      },
      "image/png": "[encoded data removed]"
     },
     "metadata": {},
     "output_type": "display_data"
    },
    {
     "data": {
      "application/vnd.plotly.v1+json": {
       "config": {
        "plotlyServerURL": "https://plot.ly"
       },
       "data": [
        {
         "customdata": [
          [
           "Assault Rifle",
           320
          ],
          [
           "Stone Axe",
           20
          ],
          [
           "Metal Axe",
           30
          ],
          [
           "Refined Metal Axe",
           60
          ],
          [
           "Axe4",
           75
          ],
          [
           "Metal Detector",
           null
          ],
          [
           "Wooden Club",
           25
          ],
          [
           "Bat",
           50
          ],
          [
           "Meat Cleaver",
           25
          ],
          [
           "Stun Baton",
           10
          ],
          [
           "Crossbow",
           280
          ],
          [
           "Double-Barreled Shotgun",
           190
          ],
          [
           "Handgun",
           250
          ],
          [
           "Laser Rifle",
           1250
          ],
          [
           "Rocket Launcher",
           10000
          ],
          [
           "Stone Pickaxe",
           20
          ],
          [
           "Metal Pickaxe",
           30
          ],
          [
           "Refined Metal Pickaxe",
           60
          ],
          [
           "Pump-Action Shotgun",
           220
          ],
          [
           "Single-Shot Rifle",
           1100
          ],
          [
           "Sword",
           525
          ],
          [
           "Old Bow",
           65
          ],
          [
           "Poison Bow",
           65
          ],
          [
           "Fire Bow",
           65
          ],
          [
           "Poison Arrow Crossbow",
           280
          ],
          [
           "Fire Arrow Crossbow",
           280
          ],
          [
           "Three Shot Bow",
           40
          ],
          [
           "Five Shot Bow",
           30
          ],
          [
           "Hand-Held Torch",
           10
          ],
          [
           "Makeshift Handgun",
           320
          ],
          [
           "Stone Spear",
           35
          ],
          [
           "Metal Spear",
           80
          ],
          [
           "Refined Metal Spear",
           310
          ],
          [
           "Elizabee's Staff",
           150
          ],
          [
           "Beegarde's Spear",
           150
          ],
          [
           "Lily's Spear",
           450
          ],
          [
           "Musket",
           1000
          ],
          [
           "Old Bow",
           130
          ],
          [
           "Old Bow",
           169
          ],
          [
           "Old Bow",
           208
          ],
          [
           "Old Bow",
           247
          ],
          [
           "Crossbow",
           364
          ],
          [
           "Crossbow",
           406
          ],
          [
           "Crossbow",
           448
          ],
          [
           "Crossbow",
           490
          ],
          [
           "Assault Rifle",
           400
          ],
          [
           "Assault Rifle",
           448
          ],
          [
           "Assault Rifle",
           512
          ],
          [
           "Assault Rifle",
           560
          ],
          [
           "Pump-Action Shotgun",
           275
          ],
          [
           "Pump-Action Shotgun",
           308
          ],
          [
           "Pump-Action Shotgun",
           352
          ],
          [
           "Pump-Action Shotgun",
           385
          ],
          [
           "Handgun",
           437
          ],
          [
           "Handgun",
           500
          ],
          [
           "Handgun",
           562
          ],
          [
           "Handgun",
           625
          ],
          [
           "Rocket Launcher",
           11000
          ],
          [
           "Rocket Launcher",
           12000
          ],
          [
           "Rocket Launcher",
           13000
          ],
          [
           "Rocket Launcher",
           14000
          ],
          [
           "Musket",
           1400
          ],
          [
           "Musket",
           1600
          ],
          [
           "Musket",
           1800
          ],
          [
           "Musket",
           2000
          ],
          [
           "Double-Barreled Shotgun",
           285
          ],
          [
           "Double-Barreled Shotgun",
           323
          ],
          [
           "Double-Barreled Shotgun",
           361
          ],
          [
           "Double-Barreled Shotgun",
           399
          ],
          [
           "Single-Shot Rifle",
           1650
          ],
          [
           "Single-Shot Rifle",
           1870
          ],
          [
           "Single-Shot Rifle",
           2090
          ],
          [
           "Single-Shot Rifle",
           2310
          ],
          [
           "Gatling Gun",
           375
          ],
          [
           "Grenade Launcher",
           3000
          ],
          [
           "Guided Missile Launcher",
           5900
          ],
          [
           "Multi Guided Missile Launcher",
           5900
          ],
          [
           "Laser Gatling Gun",
           530
          ],
          [
           "Makeshift Handgun",
           560
          ],
          [
           "Makeshift Handgun",
           640
          ],
          [
           "Makeshift Handgun",
           720
          ],
          [
           "Makeshift Handgun",
           800
          ],
          [
           "Laser Rifle",
           1437
          ],
          [
           "Laser Rifle",
           1562
          ],
          [
           "Laser Rifle",
           1687
          ],
          [
           "Laser Rifle",
           1875
          ],
          [
           "Grenade Launcher",
           3450
          ],
          [
           "Grenade Launcher",
           3750
          ],
          [
           "Grenade Launcher",
           4050
          ],
          [
           "Grenade Launcher",
           4500
          ],
          [
           "Guided Missile Launcher",
           6785
          ],
          [
           "Guided Missile Launcher",
           7375
          ],
          [
           "Guided Missile Launcher",
           7965
          ],
          [
           "Guided Missile Launcher",
           8850
          ],
          [
           "Multi Guided Missile Launcher",
           6785
          ],
          [
           "Multi Guided Missile Launcher",
           7375
          ],
          [
           "Multi Guided Missile Launcher",
           7965
          ],
          [
           "Multi Guided Missile Launcher",
           8850
          ],
          [
           "Gatling Gun",
           431
          ],
          [
           "Gatling Gun",
           468
          ],
          [
           "Gatling Gun",
           506
          ],
          [
           "Gatling Gun",
           562
          ],
          [
           "Meteor Launcher",
           2000
          ],
          [
           "Katana",
           525
          ],
          [
           "Beam Sword",
           2000
          ],
          [
           "Semi-Auto Shotgun",
           195
          ],
          [
           "Plasma Cannon",
           10000
          ],
          [
           "Poison Arrow Crossbow",
           364
          ],
          [
           "Poison Arrow Crossbow",
           406
          ],
          [
           "Poison Arrow Crossbow",
           448
          ],
          [
           "Poison Arrow Crossbow",
           490
          ],
          [
           "Fire Arrow Crossbow",
           364
          ],
          [
           "Fire Arrow Crossbow",
           406
          ],
          [
           "Fire Arrow Crossbow",
           448
          ],
          [
           "Fire Arrow Crossbow",
           490
          ],
          [
           "Old Revolver",
           600
          ],
          [
           "Pal Metal Pickaxe",
           120
          ],
          [
           "Pal Metal Axe",
           120
          ],
          [
           "Makeshift Assault Rifle",
           170
          ],
          [
           "Semi-Auto Rifle",
           1150
          ],
          [
           "Makeshift SMG",
           100
          ],
          [
           "SMG",
           130
          ],
          [
           "Makeshift Shotgun",
           215
          ],
          [
           "Laser Gatling Gun",
           583
          ],
          [
           "Laser Gatling Gun",
           609
          ],
          [
           "Laser Gatling Gun",
           636
          ],
          [
           "Laser Gatling Gun",
           689
          ],
          [
           "Plasma Cannon",
           11000
          ],
          [
           "Plasma Cannon",
           11500
          ],
          [
           "Plasma Cannon",
           12000
          ],
          [
           "Plasma Cannon",
           13000
          ],
          [
           "Compound Bow",
           1100
          ],
          [
           "Advanced Bow",
           5800
          ],
          [
           "Semi-Auto Shotgun",
           214
          ],
          [
           "Semi-Auto Shotgun",
           234
          ],
          [
           "Semi-Auto Shotgun",
           253
          ],
          [
           "Semi-Auto Shotgun",
           282
          ],
          [
           "Old Revolver",
           1050
          ],
          [
           "Old Revolver",
           1200
          ],
          [
           "Old Revolver",
           1350
          ],
          [
           "Old Revolver",
           1500
          ],
          [
           "Makeshift Assault Rifle",
           204
          ],
          [
           "Makeshift Assault Rifle",
           229
          ],
          [
           "Makeshift Assault Rifle",
           255
          ],
          [
           "Makeshift Assault Rifle",
           297
          ],
          [
           "Semi-Auto Rifle",
           1265
          ],
          [
           "Semi-Auto Rifle",
           1380
          ],
          [
           "Semi-Auto Rifle",
           1495
          ],
          [
           "Semi-Auto Rifle",
           1610
          ],
          [
           "Makeshift SMG",
           120
          ],
          [
           "Makeshift SMG",
           135
          ],
          [
           "Makeshift SMG",
           150
          ],
          [
           "Makeshift SMG",
           175
          ],
          [
           "SMG",
           156
          ],
          [
           "SMG",
           175
          ],
          [
           "SMG",
           195
          ],
          [
           "SMG",
           227
          ],
          [
           "Makeshift Shotgun",
           258
          ],
          [
           "Makeshift Shotgun",
           290
          ],
          [
           "Makeshift Shotgun",
           322
          ],
          [
           "Makeshift Shotgun",
           376
          ],
          [
           "Meowmere",
           200
          ],
          [
           "Advanced Bow",
           6670
          ],
          [
           "Advanced Bow",
           7250
          ],
          [
           "Advanced Bow",
           7830
          ],
          [
           "Advanced Bow",
           8700
          ],
          [
           "Compound Bow",
           1265
          ],
          [
           "Compound Bow",
           1375
          ],
          [
           "Compound Bow",
           1485
          ],
          [
           "Compound Bow",
           1650
          ],
          [
           "Charge Rifle",
           12500
          ],
          [
           "Overheat Rifle",
           1225
          ],
          [
           "Energy Shotgun",
           402
          ],
          [
           "Boost Gun",
           250
          ],
          [
           "Megaboost Gun",
           250
          ],
          [
           "Energy Shotgun",
           422
          ],
          [
           "Energy Shotgun",
           442
          ],
          [
           "Energy Shotgun",
           462
          ],
          [
           "Energy Shotgun",
           482
          ],
          [
           "Charge Rifle",
           13125
          ],
          [
           "Charge Rifle",
           13750
          ],
          [
           "Charge Rifle",
           14375
          ],
          [
           "Charge Rifle",
           15000
          ],
          [
           "Overheat Rifle",
           1286
          ],
          [
           "Overheat Rifle",
           1347
          ],
          [
           "Overheat Rifle",
           1408
          ],
          [
           "Overheat Rifle",
           1470
          ],
          [
           "Terra Blade",
           425
          ],
          [
           "Terraprisma",
           90
          ],
          [
           "Vortex Beater",
           300
          ],
          [
           "Nightglow",
           50
          ],
          [
           "Excalibur",
           360
          ],
          [
           "Legendary Meowmere",
           222
          ],
          [
           "Beginner Fishing Rod (Chillet)",
           25
          ],
          [
           "Beginner Fishing Rod (Gumoss)",
           25
          ],
          [
           "Intermediate Fishing Rod (Cattiva)",
           25
          ],
          [
           "Intermediate Fishing Rod (Croajiro)",
           25
          ],
          [
           "Advanced Fishing Rod (Pengullet)",
           25
          ],
          [
           "Advanced Fishing Rod (Depresso)",
           25
          ],
          [
           "Terra Blade",
           467
          ],
          [
           "Terra Blade",
           510
          ],
          [
           "Terra Blade",
           552
          ],
          [
           "Terra Blade",
           637
          ],
          [
           "Terraprisma",
           100
          ],
          [
           "Terraprisma",
           110
          ],
          [
           "Terraprisma",
           125
          ],
          [
           "Terraprisma",
           150
          ],
          [
           "Vortex Beater",
           330
          ],
          [
           "Vortex Beater",
           360
          ],
          [
           "Vortex Beater",
           390
          ],
          [
           "Vortex Beater",
           450
          ],
          [
           "Nightglow",
           60
          ],
          [
           "Nightglow",
           70
          ],
          [
           "Nightglow",
           80
          ],
          [
           "Nightglow",
           100
          ],
          [
           "Excalibur",
           396
          ],
          [
           "Excalibur",
           432
          ],
          [
           "Excalibur",
           468
          ],
          [
           "Excalibur",
           540
          ],
          [
           "Meteor Launcher",
           10500
          ]
         ],
         "hovertemplate": "Durability=%{x}<br>Price=%{y}<br>Name=%{customdata[0]}<br>Physical Attack=%{customdata[1]}<extra></extra>",
         "legendgroup": "",
         "marker": {
          "color": "#1F77B4",
          "opacity": 0.85,
          "size": 8,
          "symbol": "circle"
         },
         "mode": "markers",
         "name": "",
         "orientation": "v",
         "showlegend": false,
         "type": "scatter",
         "x": {
          "_inputArray": {
           "0": 3000,
           "1": 150,
           "10": 300,
           "100": 18000,
           "101": 24000,
           "102": 300,
           "103": 500,
           "104": 500,
           "105": 300,
           "106": 300,
           "107": 800,
           "108": 1000,
           "109": 1200,
           "11": 200,
           "110": 1400,
           "111": 800,
           "112": 1000,
           "113": 1200,
           "114": 1400,
           "115": 400,
           "116": 400,
           "117": 400,
           "118": 1500,
           "119": 1000,
           "12": 400,
           "120": 1000,
           "121": 2000,
           "122": 200,
           "123": 12000,
           "124": 16000,
           "125": 24000,
           "126": 32000,
           "127": 450,
           "128": 600,
           "129": 900,
           "13": 3000,
           "130": 1200,
           "131": 400,
           "132": 500,
           "133": 450,
           "134": 600,
           "135": 900,
           "136": 1200,
           "137": 600,
           "138": 800,
           "139": 1200,
           "14": 300,
           "140": 1600,
           "141": 2250,
           "142": 3000,
           "143": 4500,
           "144": 6000,
           "145": 1500,
           "146": 2000,
           "147": 3000,
           "148": 4000,
           "149": 1500,
           "15": 150,
           "150": 2000,
           "151": 3000,
           "152": 4000,
           "153": 3000,
           "154": 4000,
           "155": 6000,
           "156": 8000,
           "157": 300,
           "158": 400,
           "159": 600,
           "16": 250,
           "160": 800,
           "161": 2222,
           "162": 750,
           "163": 1000,
           "164": 1500,
           "165": 2000,
           "166": 600,
           "167": 800,
           "168": 1200,
           "169": 1600,
           "17": 300,
           "170": 200,
           "171": 3000,
           "172": 300,
           "173": 400,
           "174": 400,
           "175": 450,
           "176": 600,
           "177": 900,
           "178": 1200,
           "179": 300,
           "18": 150,
           "180": 400,
           "181": 600,
           "182": 800,
           "183": 3000,
           "184": 4000,
           "185": 5000,
           "186": 6000,
           "187": 757,
           "188": 5000,
           "189": 3000,
           "19": 1000,
           "190": 3000,
           "191": 600,
           "192": 22222,
           "193": 120,
           "194": 180,
           "195": 240,
           "196": 360,
           "197": 480,
           "198": 720,
           "199": 1135,
           "2": 250,
           "20": 500,
           "200": 1514,
           "201": 2271,
           "202": 3028,
           "203": 6000,
           "204": 7200,
           "205": 8640,
           "206": 10368,
           "207": 3000,
           "208": 4000,
           "209": 5000,
           "21": 150,
           "210": 6000,
           "211": 3000,
           "212": 4000,
           "213": 5000,
           "214": 6000,
           "215": 900,
           "216": 1200,
           "217": 1800,
           "218": 2400,
           "219": 450,
           "22": 150,
           "23": 150,
           "24": 300,
           "25": 300,
           "26": 250,
           "27": 350,
           "28": 100,
           "29": 300,
           "3": 300,
           "30": 200,
           "31": 250,
           "32": 300,
           "33": 300,
           "34": 400,
           "35": 500,
           "36": 200,
           "37": 400,
           "38": 500,
           "39": 600,
           "4": 400,
           "40": 700,
           "41": 800,
           "42": 1000,
           "43": 1200,
           "44": 1400,
           "45": 3000,
           "46": 4000,
           "47": 5000,
           "48": 6000,
           "49": 500,
           "5": 400,
           "50": 600,
           "51": 700,
           "52": 800,
           "53": 1200,
           "54": 1600,
           "55": 2000,
           "56": 2400,
           "57": 800,
           "58": 1000,
           "59": 1200,
           "6": 150,
           "60": 1400,
           "61": 400,
           "62": 500,
           "63": 600,
           "64": 800,
           "65": 400,
           "66": 500,
           "67": 600,
           "68": 800,
           "69": 2000,
           "7": 150,
           "70": 2500,
           "71": 3000,
           "72": 4000,
           "73": 6000,
           "74": 600,
           "75": 300,
           "76": 300,
           "77": 8000,
           "78": 600,
           "79": 900,
           "8": 300,
           "80": 1200,
           "81": 1500,
           "82": 4500,
           "83": 6000,
           "84": 9000,
           "85": 12000,
           "86": 900,
           "87": 1200,
           "88": 1800,
           "89": 2400,
           "9": 300,
           "90": 450,
           "91": 600,
           "92": 900,
           "93": 1200,
           "94": 450,
           "95": 600,
           "96": 900,
           "97": 1200,
           "98": 9000,
           "99": 12000,
           "bdata": "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",
           "dtype": "f8",
           "shape": "220"
          },
          "bdata": "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",
          "dtype": "f8"
         },
         "xaxis": "x",
         "y": {
          "_inputArray": {
           "0": 82400,
           "1": 200,
           "10": 25200,
           "100": 324000,
           "101": 324000,
           "102": 324000,
           "103": 10440,
           "104": 10440,
           "105": 153600,
           "106": 324000,
           "107": 25200,
           "108": 25200,
           "109": 25200,
           "11": 55200,
           "110": 25200,
           "111": 25200,
           "112": 25200,
           "113": 25200,
           "114": 25200,
           "115": 33000,
           "116": 33000,
           "117": 33000,
           "118": 82400,
           "119": 37600,
           "12": 33000,
           "120": 82400,
           "121": 82400,
           "122": 55200,
           "123": 324000,
           "124": 324000,
           "125": 324000,
           "126": 324000,
           "127": 324000,
           "128": 324000,
           "129": 324000,
           "13": 324000,
           "130": 324000,
           "131": 25200,
           "132": 25200,
           "133": 153600,
           "134": 153600,
           "135": 153600,
           "136": 153600,
           "137": 33000,
           "138": 33000,
           "139": 33000,
           "14": 324000,
           "140": 33000,
           "141": 82400,
           "142": 82400,
           "143": 82400,
           "144": 82400,
           "145": 37600,
           "146": 37600,
           "147": 37600,
           "148": 37600,
           "149": 82400,
           "15": 200,
           "150": 82400,
           "151": 82400,
           "152": 82400,
           "153": 82400,
           "154": 82400,
           "155": 82400,
           "156": 82400,
           "157": 55200,
           "158": 55200,
           "159": 55200,
           "16": 2800,
           "160": 55200,
           "161": 200,
           "162": 25200,
           "163": 25200,
           "164": 25200,
           "165": 25200,
           "166": 25200,
           "167": 25200,
           "168": 25200,
           "169": 25200,
           "17": 7000,
           "170": 37600,
           "171": 82400,
           "172": 153600,
           "173": 33000,
           "174": 33000,
           "175": 153600,
           "176": 153600,
           "177": 153600,
           "178": 153600,
           "179": 37600,
           "18": 153600,
           "180": 37600,
           "181": 37600,
           "182": 37600,
           "183": 82400,
           "184": 82400,
           "185": 82400,
           "186": 82400,
           "187": 10000,
           "188": 10000,
           "189": 10000,
           "19": 37600,
           "190": 10000,
           "191": 10000,
           "192": 10000,
           "193": 350,
           "194": 520,
           "195": 800,
           "196": 840,
           "197": 980,
           "198": 1050,
           "199": 10000,
           "2": 2800,
           "20": 10440,
           "200": 10000,
           "201": 10000,
           "202": 10000,
           "203": 10000,
           "204": 10000,
           "205": 10000,
           "206": 10000,
           "207": 10000,
           "208": 10000,
           "209": 10000,
           "21": 360,
           "210": 10000,
           "211": 10000,
           "212": 10000,
           "213": 10000,
           "214": 10000,
           "215": 200,
           "216": 200,
           "217": 200,
           "218": 200,
           "219": 324000,
           "22": 480,
           "23": 480,
           "24": 25200,
           "25": 25200,
           "26": 1000,
           "27": 10,
           "28": 80,
           "29": 16600,
           "3": 7000,
           "30": 480,
           "31": 8780,
           "32": 13880,
           "33": 20000,
           "34": 20000,
           "35": 20000,
           "36": 37600,
           "37": 360,
           "38": 360,
           "39": 360,
           "4": 33000,
           "40": 360,
           "41": 25200,
           "42": 25200,
           "43": 25200,
           "44": 25200,
           "45": 82400,
           "46": 82400,
           "47": 82400,
           "48": 82400,
           "49": 153600,
           "5": 33000,
           "50": 153600,
           "51": 153600,
           "52": 153600,
           "53": 33000,
           "54": 33000,
           "55": 33000,
           "56": 33000,
           "57": 324000,
           "58": 324000,
           "59": 324000,
           "6": 80,
           "60": 324000,
           "61": 37600,
           "62": 37600,
           "63": 37600,
           "64": 37600,
           "65": 55200,
           "66": 55200,
           "67": 55200,
           "68": 55200,
           "69": 37600,
           "7": 80,
           "70": 37600,
           "71": 37600,
           "72": 37600,
           "73": 324000,
           "74": 324000,
           "75": 324000,
           "76": 324000,
           "77": 324000,
           "78": 16600,
           "79": 16600,
           "8": 100,
           "80": 16600,
           "81": 16600,
           "82": 324000,
           "83": 324000,
           "84": 324000,
           "85": 324000,
           "86": 324000,
           "87": 324000,
           "88": 324000,
           "89": 324000,
           "9": 19000,
           "90": 324000,
           "91": 324000,
           "92": 324000,
           "93": 324000,
           "94": 324000,
           "95": 324000,
           "96": 324000,
           "97": 324000,
           "98": 324000,
           "99": 324000,
           "bdata": "4EEBAMgAAADwCgAAWBsAAOiAAADogAAAUAAAAFAAAABkAAAAOEoAAHBiAACg1wAA6IAAAKDxBACg8QQAyAAAAPAKAABYGwAAAFgCAOCSAADIKAAAaAEAAOABAADgAQAAcGIAAHBiAADoAwAACgAAAFAAAADYQAAA4AEAAEwiAAA4NgAAIE4AACBOAAAgTgAA4JIAAGgBAABoAQAAaAEAAGgBAABwYgAAcGIAAHBiAABwYgAA4EEBAOBBAQDgQQEA4EEBAABYAgAAWAIAAFgCAABYAgDogAAA6IAAAOiAAADogAAAoPEEAKDxBACg8QQAoPEEAOCSAADgkgAA4JIAAOCSAACg1wAAoNcAAKDXAACg1wAA4JIAAOCSAADgkgAA4JIAAKDxBACg8QQAoPEEAKDxBACg8QQA2EAAANhAAADYQAAA2EAAAKDxBACg8QQAoPEEAKDxBACg8QQAoPEEAKDxBACg8QQAoPEEAKDxBACg8QQAoPEEAKDxBACg8QQAoPEEAKDxBACg8QQAoPEEAKDxBACg8QQAoPEEAMgoAADIKAAAAFgCAKDxBABwYgAAcGIAAHBiAABwYgAAcGIAAHBiAABwYgAAcGIAAOiAAADogAAA6IAAAOBBAQDgkgAA4EEBAOBBAQCg1wAAoPEEAKDxBACg8QQAoPEEAKDxBACg8QQAoPEEAKDxBABwYgAAcGIAAABYAgAAWAIAAFgCAABYAgDogAAA6IAAAOiAAADogAAA4EEBAOBBAQDgQQEA4EEBAOCSAADgkgAA4JIAAOCSAADgQQEA4EEBAOBBAQDgQQEA4EEBAOBBAQDgQQEA4EEBAKDXAACg1wAAoNcAAKDXAADIAAAAcGIAAHBiAABwYgAAcGIAAHBiAABwYgAAcGIAAHBiAADgkgAA4EEBAABYAgDogAAA6IAAAABYAgAAWAIAAFgCAABYAgDgkgAA4JIAAOCSAADgkgAA4EEBAOBBAQDgQQEA4EEBABAnAAAQJwAAECcAABAnAAAQJwAAECcAAF4BAAAIAgAAIAMAAEgDAADUAwAAGgQAABAnAAAQJwAAECcAABAnAAAQJwAAECcAABAnAAAQJwAAECcAABAnAAAQJwAAECcAABAnAAAQJwAAECcAABAnAADIAAAAyAAAAMgAAADIAAAAoPEEAA==",
           "dtype": "i4",
           "shape": "220"
          },
          "bdata": "4EEBAMgAAADwCgAAWBsAAOiAAADogAAAUAAAAFAAAABkAAAAOEoAAHBiAACg1wAA6IAAAKDxBACg8QQAyAAAAPAKAABYGwAAAFgCAOCSAADIKAAAaAEAAOABAADgAQAAcGIAAHBiAADoAwAACgAAAFAAAADYQAAA4AEAAEwiAAA4NgAAIE4AACBOAAAgTgAA4JIAAGgBAABoAQAAaAEAAGgBAABwYgAAcGIAAHBiAABwYgAA4EEBAOBBAQDgQQEA4EEBAABYAgAAWAIAAFgCAABYAgDogAAA6IAAAOiAAADogAAAoPEEAKDxBACg8QQAoPEEAOCSAADgkgAA4JIAAOCSAACg1wAAoNcAAKDXAACg1wAA4JIAAOCSAADgkgAA4JIAAKDxBACg8QQAoPEEAKDxBACg8QQA2EAAANhAAADYQAAA2EAAAKDxBACg8QQAoPEEAKDxBACg8QQAoPEEAKDxBACg8QQAoPEEAKDxBACg8QQAoPEEAKDxBACg8QQAoPEEAKDxBACg8QQAoPEEAKDxBACg8QQAoPEEAMgoAADIKAAAAFgCAKDxBABwYgAAcGIAAHBiAABwYgAAcGIAAHBiAABwYgAAcGIAAOiAAADogAAA6IAAAOBBAQDgkgAA4EEBAOBBAQCg1wAAoPEEAKDxBACg8QQAoPEEAKDxBACg8QQAoPEEAKDxBABwYgAAcGIAAABYAgAAWAIAAFgCAABYAgDogAAA6IAAAOiAAADogAAA4EEBAOBBAQDgQQEA4EEBAOCSAADgkgAA4JIAAOCSAADgQQEA4EEBAOBBAQDgQQEA4EEBAOBBAQDgQQEA4EEBAKDXAACg1wAAoNcAAKDXAADIAAAAcGIAAHBiAABwYgAAcGIAAHBiAABwYgAAcGIAAHBiAADgkgAA4EEBAABYAgDogAAA6IAAAABYAgAAWAIAAFgCAABYAgDgkgAA4JIAAOCSAADgkgAA4EEBAOBBAQDgQQEA4EEBABAnAAAQJwAAECcAABAnAAAQJwAAECcAAF4BAAAIAgAAIAMAAEgDAADUAwAAGgQAABAnAAAQJwAAECcAABAnAAAQJwAAECcAABAnAAAQJwAAECcAABAnAAAQJwAAECcAABAnAAAQJwAAECcAABAnAADIAAAAyAAAAMgAAADIAAAAoPEEAA==",
          "dtype": "i4"
         },
         "yaxis": "y"
        },
        {
         "hoverinfo": "skip",
         "mode": "lines",
         "name": "Best fit",
         "type": "scatter",
         "x": {
          "_inputArray": {
           "0": 100,
           "1": 120,
           "10": 180,
           "100": 800,
           "101": 800,
           "102": 800,
           "103": 800,
           "104": 800,
           "105": 900,
           "106": 900,
           "107": 900,
           "108": 900,
           "109": 900,
           "11": 200,
           "110": 900,
           "111": 900,
           "112": 900,
           "113": 1000,
           "114": 1000,
           "115": 1000,
           "116": 1000,
           "117": 1000,
           "118": 1000,
           "119": 1000,
           "12": 200,
           "120": 1000,
           "121": 1135,
           "122": 1200,
           "123": 1200,
           "124": 1200,
           "125": 1200,
           "126": 1200,
           "127": 1200,
           "128": 1200,
           "129": 1200,
           "13": 200,
           "130": 1200,
           "131": 1200,
           "132": 1200,
           "133": 1200,
           "134": 1200,
           "135": 1200,
           "136": 1200,
           "137": 1400,
           "138": 1400,
           "139": 1400,
           "14": 200,
           "140": 1400,
           "141": 1500,
           "142": 1500,
           "143": 1500,
           "144": 1500,
           "145": 1500,
           "146": 1514,
           "147": 1600,
           "148": 1600,
           "149": 1600,
           "15": 200,
           "150": 1800,
           "151": 1800,
           "152": 2000,
           "153": 2000,
           "154": 2000,
           "155": 2000,
           "156": 2000,
           "157": 2000,
           "158": 2222,
           "159": 2250,
           "16": 240,
           "160": 2271,
           "161": 2400,
           "162": 2400,
           "163": 2400,
           "164": 2500,
           "165": 3000,
           "166": 3000,
           "167": 3000,
           "168": 3000,
           "169": 3000,
           "17": 250,
           "170": 3000,
           "171": 3000,
           "172": 3000,
           "173": 3000,
           "174": 3000,
           "175": 3000,
           "176": 3000,
           "177": 3000,
           "178": 3000,
           "179": 3028,
           "18": 250,
           "180": 4000,
           "181": 4000,
           "182": 4000,
           "183": 4000,
           "184": 4000,
           "185": 4000,
           "186": 4000,
           "187": 4000,
           "188": 4500,
           "189": 4500,
           "19": 250,
           "190": 5000,
           "191": 5000,
           "192": 5000,
           "193": 5000,
           "194": 5000,
           "195": 6000,
           "196": 6000,
           "197": 6000,
           "198": 6000,
           "199": 6000,
           "2": 150,
           "20": 250,
           "200": 6000,
           "201": 6000,
           "202": 6000,
           "203": 6000,
           "204": 7200,
           "205": 8000,
           "206": 8000,
           "207": 8640,
           "208": 9000,
           "209": 9000,
           "21": 300,
           "210": 10368,
           "211": 12000,
           "212": 12000,
           "213": 12000,
           "214": 16000,
           "215": 18000,
           "216": 22222,
           "217": 24000,
           "218": 24000,
           "219": 32000,
           "22": 300,
           "23": 300,
           "24": 300,
           "25": 300,
           "26": 300,
           "27": 300,
           "28": 300,
           "29": 300,
           "3": 150,
           "30": 300,
           "31": 300,
           "32": 300,
           "33": 300,
           "34": 300,
           "35": 300,
           "36": 300,
           "37": 300,
           "38": 300,
           "39": 300,
           "4": 150,
           "40": 350,
           "41": 360,
           "42": 400,
           "43": 400,
           "44": 400,
           "45": 400,
           "46": 400,
           "47": 400,
           "48": 400,
           "49": 400,
           "5": 150,
           "50": 400,
           "51": 400,
           "52": 400,
           "53": 400,
           "54": 400,
           "55": 400,
           "56": 400,
           "57": 450,
           "58": 450,
           "59": 450,
           "6": 150,
           "60": 450,
           "61": 450,
           "62": 450,
           "63": 480,
           "64": 500,
           "65": 500,
           "66": 500,
           "67": 500,
           "68": 500,
           "69": 500,
           "7": 150,
           "70": 500,
           "71": 500,
           "72": 500,
           "73": 600,
           "74": 600,
           "75": 600,
           "76": 600,
           "77": 600,
           "78": 600,
           "79": 600,
           "8": 150,
           "80": 600,
           "81": 600,
           "82": 600,
           "83": 600,
           "84": 600,
           "85": 600,
           "86": 600,
           "87": 600,
           "88": 600,
           "89": 700,
           "9": 150,
           "90": 700,
           "91": 720,
           "92": 750,
           "93": 757,
           "94": 800,
           "95": 800,
           "96": 800,
           "97": 800,
           "98": 800,
           "99": 800,
           "bdata": "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",
           "dtype": "f8",
           "shape": "220"
          },
          "bdata": "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",
          "dtype": "f8"
         },
         "y": {
          "_inputArray": {
           "0": 6708.51362289299,
           "1": 7497.829596570966,
           "10": 9602.196333220287,
           "100": 23856.702949580686,
           "101": 23856.702949580686,
           "102": 23856.702949580686,
           "103": 23856.702949580686,
           "104": 23856.702949580686,
           "105": 25634.15948323269,
           "106": 25634.15948323269,
           "107": 25634.15948323269,
           "108": 25634.15948323269,
           "109": 25634.15948323269,
           "11": 10239.710500838486,
           "110": 25634.15948323269,
           "111": 25634.15948323269,
           "112": 25634.15948323269,
           "113": 27336.07634458732,
           "114": 27336.07634458732,
           "115": 27336.07634458732,
           "116": 27336.07634458732,
           "117": 27336.07634458732,
           "118": 27336.07634458732,
           "119": 27336.07634458732,
           "12": 10239.710500838486,
           "120": 27336.07634458732,
           "121": 29531.784918368234,
           "122": 30552.40755137387,
           "123": 30552.40755137387,
           "124": 30552.40755137387,
           "125": 30552.40755137387,
           "126": 30552.40755137387,
           "127": 30552.40755137387,
           "128": 30552.40755137387,
           "129": 30552.40755137387,
           "13": 10239.710500838486,
           "130": 30552.40755137387,
           "131": 30552.40755137387,
           "132": 30552.40755137387,
           "133": 30552.40755137387,
           "134": 30552.40755137387,
           "135": 30552.40755137387,
           "136": 30552.40755137387,
           "137": 33565.28475598797,
           "138": 33565.28475598797,
           "139": 33565.28475598797,
           "14": 10239.710500838486,
           "140": 33565.28475598797,
           "141": 35008.313894019535,
           "142": 35008.313894019535,
           "143": 35008.313894019535,
           "144": 35008.313894019535,
           "145": 35008.313894019535,
           "146": 35207.30263983928,
           "147": 36414.28570325533,
           "148": 36414.28570325533,
           "149": 36414.28570325533,
           "15": 10239.710500838486,
           "150": 39127.35171989279,
           "151": 39127.35171989279,
           "152": 41725.11583522476,
           "153": 41725.11583522476,
           "154": 41725.11583522476,
           "155": 41725.11583522476,
           "156": 41725.11583522476,
           "157": 41725.11583522476,
           "158": 44492.63734032899,
           "159": 44833.86811819731,
           "16": 11444.503025455058,
           "160": 45088.705732316506,
           "161": 46634.44482874689,
           "162": 46634.44482874689,
           "163": 46634.44482874689,
           "164": 47810.502330059026,
           "165": 53435.83087823445,
           "166": 53435.83087823445,
           "167": 53435.83087823445,
           "168": 53435.83087823445,
           "169": 53435.83087823445,
           "17": 11733.117882591283,
           "170": 53435.83087823445,
           "171": 53435.83087823445,
           "172": 53435.83087823445,
           "173": 53435.83087823445,
           "174": 53435.83087823445,
           "175": 53435.83087823445,
           "176": 53435.83087823445,
           "177": 53435.83087823445,
           "178": 53435.83087823445,
           "179": 53739.56241470563,
           "18": 11733.117882591283,
           "180": 63688.19246466758,
           "181": 63688.19246466758,
           "182": 63688.19246466758,
           "183": 63688.19246466758,
           "184": 63688.19246466758,
           "185": 63688.19246466758,
           "186": 63688.19246466758,
           "187": 63688.19246466758,
           "188": 68433.31562992875,
           "189": 68433.31562992875,
           "19": 11733.117882591283,
           "190": 72976.77701492797,
           "191": 72976.77701492797,
           "192": 72976.77701492797,
           "193": 72976.77701492797,
           "194": 72976.77701492797,
           "195": 81563.14040977161,
           "196": 81563.14040977161,
           "197": 81563.14040977161,
           "198": 81563.14040977161,
           "199": 81563.14040977161,
           "2": 8591.348213696592,
           "20": 11733.117882591283,
           "200": 81563.14040977161,
           "201": 81563.14040977161,
           "202": 81563.14040977161,
           "203": 81563.14040977161,
           "204": 91159.76541610342,
           "205": 97212.09344114673,
           "206": 97212.09344114673,
           "207": 101885.51824965554,
           "208": 104454.93294843886,
           "209": 104454.93294843886,
           "21": 13113.622996894412,
           "210": 113873.25078797474,
           "211": 124495.97515688381,
           "212": 124495.97515688381,
           "213": 124495.97515688381,
           "214": 148382.1528841935,
           "215": 159437.44529734715,
           "216": 181310.04710827465,
           "217": 190027.60011931264,
           "218": 190027.60011931264,
           "219": 226486.87539969152,
           "22": 13113.622996894412,
           "23": 13113.622996894412,
           "24": 13113.622996894412,
           "25": 13113.622996894412,
           "26": 13113.622996894412,
           "27": 13113.622996894412,
           "28": 13113.622996894412,
           "29": 13113.622996894412,
           "3": 8591.348213696592,
           "30": 13113.622996894412,
           "31": 13113.622996894412,
           "32": 13113.622996894412,
           "33": 13113.622996894412,
           "34": 13113.622996894412,
           "35": 13113.622996894412,
           "36": 13113.622996894412,
           "37": 13113.622996894412,
           "38": 13113.622996894412,
           "39": 13113.622996894412,
           "4": 8591.348213696592,
           "40": 14406.802126257975,
           "41": 14656.556750344243,
           "42": 15629.64272490596,
           "43": 15629.64272490596,
           "44": 15629.64272490596,
           "45": 15629.64272490596,
           "46": 15629.64272490596,
           "47": 15629.64272490596,
           "48": 15629.64272490596,
           "49": 15629.64272490596,
           "5": 8591.348213696592,
           "50": 15629.64272490596,
           "51": 15629.64272490596,
           "52": 15629.64272490596,
           "53": 15629.64272490596,
           "54": 15629.64272490596,
           "55": 15629.64272490596,
           "56": 15629.64272490596,
           "57": 16794.13769467373,
           "58": 16794.13769467373,
           "59": 16794.13769467373,
           "6": 8591.348213696592,
           "60": 16794.13769467373,
           "61": 16794.13769467373,
           "62": 16794.13769467373,
           "63": 17468.608456979397,
           "64": 17909.143089454563,
           "65": 17909.143089454563,
           "66": 17909.143089454563,
           "67": 17909.143089454563,
           "68": 17909.143089454563,
           "69": 17909.143089454563,
           "7": 8591.348213696592,
           "70": 17909.143089454563,
           "71": 17909.143089454563,
           "72": 17909.143089454563,
           "73": 20016.312204704114,
           "74": 20016.312204704114,
           "75": 20016.312204704114,
           "76": 20016.312204704114,
           "77": 20016.312204704114,
           "78": 20016.312204704114,
           "79": 20016.312204704114,
           "8": 8591.348213696592,
           "80": 20016.312204704114,
           "81": 20016.312204704114,
           "82": 20016.312204704114,
           "83": 20016.312204704114,
           "84": 20016.312204704114,
           "85": 20016.312204704114,
           "86": 20016.312204704114,
           "87": 20016.312204704114,
           "88": 20016.312204704114,
           "89": 21990.189080383592,
           "9": 8591.348213696592,
           "90": 21990.189080383592,
           "91": 22371.408407145023,
           "92": 22935.585010270832,
           "93": 23065.951851406116,
           "94": 23856.702949580686,
           "95": 23856.702949580686,
           "96": 23856.702949580686,
           "97": 23856.702949580686,
           "98": 23856.702949580686,
           "99": 23856.702949580686,
           "bdata": "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",
           "dtype": "f8",
           "shape": "220"
          },
          "bdata": "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",
          "dtype": "f8"
         }
        }
       ],
       "layout": {
        "autosize": true,
        "legend": {
         "tracegroupgap": 0
        },
        "template": {
         "data": {
          "bar": [
           {
            "error_x": {
             "color": "rgb(36,36,36)"
            },
            "error_y": {
             "color": "rgb(36,36,36)"
            },
            "marker": {
             "line": {
              "color": "white",
              "width": 0.5
             },
             "pattern": {
              "fillmode": "overlay",
              "size": 10,
              "solidity": 0.2
             }
            },
            "type": "bar"
           }
          ],
          "barpolar": [
           {
            "marker": {
             "line": {
              "color": "white",
              "width": 0.5
             },
             "pattern": {
              "fillmode": "overlay",
              "size": 10,
              "solidity": 0.2
             }
            },
            "type": "barpolar"
           }
          ],
          "carpet": [
           {
            "aaxis": {
             "endlinecolor": "rgb(36,36,36)",
             "gridcolor": "white",
             "linecolor": "white",
             "minorgridcolor": "white",
             "startlinecolor": "rgb(36,36,36)"
            },
            "baxis": {
             "endlinecolor": "rgb(36,36,36)",
             "gridcolor": "white",
             "linecolor": "white",
             "minorgridcolor": "white",
             "startlinecolor": "rgb(36,36,36)"
            },
            "type": "carpet"
           }
          ],
          "choropleth": [
           {
            "colorbar": {
             "outlinewidth": 1,
             "tickcolor": "rgb(36,36,36)",
             "ticks": "outside"
            },
            "type": "choropleth"
           }
          ],
          "contour": [
           {
            "colorbar": {
             "outlinewidth": 1,
             "tickcolor": "rgb(36,36,36)",
             "ticks": "outside"
            },
            "colorscale": [
             [
              0,
              "#440154"
             ],
             [
              0.1111111111111111,
              "#482878"
             ],
             [
              0.2222222222222222,
              "#3e4989"
             ],
             [
              0.3333333333333333,
              "#31688e"
             ],
             [
              0.4444444444444444,
              "#26828e"
             ],
             [
              0.5555555555555556,
              "#1f9e89"
             ],
             [
              0.6666666666666666,
              "#35b779"
             ],
             [
              0.7777777777777778,
              "#6ece58"
             ],
             [
              0.8888888888888888,
              "#b5de2b"
             ],
             [
              1,
              "#fde725"
             ]
            ],
            "type": "contour"
           }
          ],
          "contourcarpet": [
           {
            "colorbar": {
             "outlinewidth": 1,
             "tickcolor": "rgb(36,36,36)",
             "ticks": "outside"
            },
            "type": "contourcarpet"
           }
          ],
          "heatmap": [
           {
            "colorbar": {
             "outlinewidth": 1,
             "tickcolor": "rgb(36,36,36)",
             "ticks": "outside"
            },
            "colorscale": [
             [
              0,
              "#440154"
             ],
             [
              0.1111111111111111,
              "#482878"
             ],
             [
              0.2222222222222222,
              "#3e4989"
             ],
             [
              0.3333333333333333,
              "#31688e"
             ],
             [
              0.4444444444444444,
              "#26828e"
             ],
             [
              0.5555555555555556,
              "#1f9e89"
             ],
             [
              0.6666666666666666,
              "#35b779"
             ],
             [
              0.7777777777777778,
              "#6ece58"
             ],
             [
              0.8888888888888888,
              "#b5de2b"
             ],
             [
              1,
              "#fde725"
             ]
            ],
            "type": "heatmap"
           }
          ],
          "histogram": [
           {
            "marker": {
             "line": {
              "color": "white",
              "width": 0.6
             }
            },
            "type": "histogram"
           }
          ],
          "histogram2d": [
           {
            "colorbar": {
             "outlinewidth": 1,
             "tickcolor": "rgb(36,36,36)",
             "ticks": "outside"
            },
            "colorscale": [
             [
              0,
              "#440154"
             ],
             [
              0.1111111111111111,
              "#482878"
             ],
             [
              0.2222222222222222,
              "#3e4989"
             ],
             [
              0.3333333333333333,
              "#31688e"
             ],
             [
              0.4444444444444444,
              "#26828e"
             ],
             [
              0.5555555555555556,
              "#1f9e89"
             ],
             [
              0.6666666666666666,
              "#35b779"
             ],
             [
              0.7777777777777778,
              "#6ece58"
             ],
             [
              0.8888888888888888,
              "#b5de2b"
             ],
             [
              1,
              "#fde725"
             ]
            ],
            "type": "histogram2d"
           }
          ],
          "histogram2dcontour": [
           {
            "colorbar": {
             "outlinewidth": 1,
             "tickcolor": "rgb(36,36,36)",
             "ticks": "outside"
            },
            "colorscale": [
             [
              0,
              "#440154"
             ],
             [
              0.1111111111111111,
              "#482878"
             ],
             [
              0.2222222222222222,
              "#3e4989"
             ],
             [
              0.3333333333333333,
              "#31688e"
             ],
             [
              0.4444444444444444,
              "#26828e"
             ],
             [
              0.5555555555555556,
              "#1f9e89"
             ],
             [
              0.6666666666666666,
              "#35b779"
             ],
             [
              0.7777777777777778,
              "#6ece58"
             ],
             [
              0.8888888888888888,
              "#b5de2b"
             ],
             [
              1,
              "#fde725"
             ]
            ],
            "type": "histogram2dcontour"
           }
          ],
          "mesh3d": [
           {
            "colorbar": {
             "outlinewidth": 1,
             "tickcolor": "rgb(36,36,36)",
             "ticks": "outside"
            },
            "type": "mesh3d"
           }
          ],
          "parcoords": [
           {
            "line": {
             "colorbar": {
              "outlinewidth": 1,
              "tickcolor": "rgb(36,36,36)",
              "ticks": "outside"
             }
            },
            "type": "parcoords"
           }
          ],
          "pie": [
           {
            "automargin": true,
            "type": "pie"
           }
          ],
          "scatter": [
           {
            "fillpattern": {
             "fillmode": "overlay",
             "size": 10,
             "solidity": 0.2
            },
            "type": "scatter"
           }
          ],
          "scatter3d": [
           {
            "line": {
             "colorbar": {
              "outlinewidth": 1,
              "tickcolor": "rgb(36,36,36)",
              "ticks": "outside"
             }
            },
            "marker": {
             "colorbar": {
              "outlinewidth": 1,
              "tickcolor": "rgb(36,36,36)",
              "ticks": "outside"
             }
            },
            "type": "scatter3d"
           }
          ],
          "scattercarpet": [
           {
            "marker": {
             "colorbar": {
              "outlinewidth": 1,
              "tickcolor": "rgb(36,36,36)",
              "ticks": "outside"
             }
            },
            "type": "scattercarpet"
           }
          ],
          "scattergeo": [
           {
            "marker": {
             "colorbar": {
              "outlinewidth": 1,
              "tickcolor": "rgb(36,36,36)",
              "ticks": "outside"
             }
            },
            "type": "scattergeo"
           }
          ],
          "scattergl": [
           {
            "marker": {
             "colorbar": {
              "outlinewidth": 1,
              "tickcolor": "rgb(36,36,36)",
              "ticks": "outside"
             }
            },
            "type": "scattergl"
           }
          ],
          "scattermap": [
           {
            "marker": {
             "colorbar": {
              "outlinewidth": 1,
              "tickcolor": "rgb(36,36,36)",
              "ticks": "outside"
             }
            },
            "type": "scattermap"
           }
          ],
          "scattermapbox": [
           {
            "marker": {
             "colorbar": {
              "outlinewidth": 1,
              "tickcolor": "rgb(36,36,36)",
              "ticks": "outside"
             }
            },
            "type": "scattermapbox"
           }
          ],
          "scatterpolar": [
           {
            "marker": {
             "colorbar": {
              "outlinewidth": 1,
              "tickcolor": "rgb(36,36,36)",
              "ticks": "outside"
             }
            },
            "type": "scatterpolar"
           }
          ],
          "scatterpolargl": [
           {
            "marker": {
             "colorbar": {
              "outlinewidth": 1,
              "tickcolor": "rgb(36,36,36)",
              "ticks": "outside"
             }
            },
            "type": "scatterpolargl"
           }
          ],
          "scatterternary": [
           {
            "marker": {
             "colorbar": {
              "outlinewidth": 1,
              "tickcolor": "rgb(36,36,36)",
              "ticks": "outside"
             }
            },
            "type": "scatterternary"
           }
          ],
          "surface": [
           {
            "colorbar": {
             "outlinewidth": 1,
             "tickcolor": "rgb(36,36,36)",
             "ticks": "outside"
            },
            "colorscale": [
             [
              0,
              "#440154"
             ],
             [
              0.1111111111111111,
              "#482878"
             ],
             [
              0.2222222222222222,
              "#3e4989"
             ],
             [
              0.3333333333333333,
              "#31688e"
             ],
             [
              0.4444444444444444,
              "#26828e"
             ],
             [
              0.5555555555555556,
              "#1f9e89"
             ],
             [
              0.6666666666666666,
              "#35b779"
             ],
             [
              0.7777777777777778,
              "#6ece58"
             ],
             [
              0.8888888888888888,
              "#b5de2b"
             ],
             [
              1,
              "#fde725"
             ]
            ],
            "type": "surface"
           }
          ],
          "table": [
           {
            "cells": {
             "fill": {
              "color": "rgb(237,237,237)"
             },
             "line": {
              "color": "white"
             }
            },
            "header": {
             "fill": {
              "color": "rgb(217,217,217)"
             },
             "line": {
              "color": "white"
             }
            },
            "type": "table"
           }
          ]
         },
         "layout": {
          "annotationdefaults": {
           "arrowhead": 0,
           "arrowwidth": 1
          },
          "autotypenumbers": "strict",
          "coloraxis": {
           "colorbar": {
            "outlinewidth": 1,
            "tickcolor": "rgb(36,36,36)",
            "ticks": "outside"
           }
          },
          "colorscale": {
           "diverging": [
            [
             0,
             "rgb(103,0,31)"
            ],
            [
             0.1,
             "rgb(178,24,43)"
            ],
            [
             0.2,
             "rgb(214,96,77)"
            ],
            [
             0.3,
             "rgb(244,165,130)"
            ],
            [
             0.4,
             "rgb(253,219,199)"
            ],
            [
             0.5,
             "rgb(247,247,247)"
            ],
            [
             0.6,
             "rgb(209,229,240)"
            ],
            [
             0.7,
             "rgb(146,197,222)"
            ],
            [
             0.8,
             "rgb(67,147,195)"
            ],
            [
             0.9,
             "rgb(33,102,172)"
            ],
            [
             1,
             "rgb(5,48,97)"
            ]
           ],
           "sequential": [
            [
             0,
             "#440154"
            ],
            [
             0.1111111111111111,
             "#482878"
            ],
            [
             0.2222222222222222,
             "#3e4989"
            ],
            [
             0.3333333333333333,
             "#31688e"
            ],
            [
             0.4444444444444444,
             "#26828e"
            ],
            [
             0.5555555555555556,
             "#1f9e89"
            ],
            [
             0.6666666666666666,
             "#35b779"
            ],
            [
             0.7777777777777778,
             "#6ece58"
            ],
            [
             0.8888888888888888,
             "#b5de2b"
            ],
            [
             1,
             "#fde725"
            ]
           ],
           "sequentialminus": [
            [
             0,
             "#440154"
            ],
            [
             0.1111111111111111,
             "#482878"
            ],
            [
             0.2222222222222222,
             "#3e4989"
            ],
            [
             0.3333333333333333,
             "#31688e"
            ],
            [
             0.4444444444444444,
             "#26828e"
            ],
            [
             0.5555555555555556,
             "#1f9e89"
            ],
            [
             0.6666666666666666,
             "#35b779"
            ],
            [
             0.7777777777777778,
             "#6ece58"
            ],
            [
             0.8888888888888888,
             "#b5de2b"
            ],
            [
             1,
             "#fde725"
            ]
           ]
          },
          "colorway": [
           "#1F77B4",
           "#FF7F0E",
           "#2CA02C",
           "#D62728",
           "#9467BD",
           "#8C564B",
           "#E377C2",
           "#7F7F7F",
           "#BCBD22",
           "#17BECF"
          ],
          "font": {
           "color": "rgb(36,36,36)"
          },
          "geo": {
           "bgcolor": "white",
           "lakecolor": "white",
           "landcolor": "white",
           "showlakes": true,
           "showland": true,
           "subunitcolor": "white"
          },
          "hoverlabel": {
           "align": "left"
          },
          "hovermode": "closest",
          "mapbox": {
           "style": "light"
          },
          "paper_bgcolor": "white",
          "plot_bgcolor": "white",
          "polar": {
           "angularaxis": {
            "gridcolor": "rgb(232,232,232)",
            "linecolor": "rgb(36,36,36)",
            "showgrid": false,
            "showline": true,
            "ticks": "outside"
           },
           "bgcolor": "white",
           "radialaxis": {
            "gridcolor": "rgb(232,232,232)",
            "linecolor": "rgb(36,36,36)",
            "showgrid": false,
            "showline": true,
            "ticks": "outside"
           }
          },
          "scene": {
           "xaxis": {
            "backgroundcolor": "white",
            "gridcolor": "rgb(232,232,232)",
            "gridwidth": 2,
            "linecolor": "rgb(36,36,36)",
            "showbackground": true,
            "showgrid": false,
            "showline": true,
            "ticks": "outside",
            "zeroline": false,
            "zerolinecolor": "rgb(36,36,36)"
           },
           "yaxis": {
            "backgroundcolor": "white",
            "gridcolor": "rgb(232,232,232)",
            "gridwidth": 2,
            "linecolor": "rgb(36,36,36)",
            "showbackground": true,
            "showgrid": false,
            "showline": true,
            "ticks": "outside",
            "zeroline": false,
            "zerolinecolor": "rgb(36,36,36)"
           },
           "zaxis": {
            "backgroundcolor": "white",
            "gridcolor": "rgb(232,232,232)",
            "gridwidth": 2,
            "linecolor": "rgb(36,36,36)",
            "showbackground": true,
            "showgrid": false,
            "showline": true,
            "ticks": "outside",
            "zeroline": false,
            "zerolinecolor": "rgb(36,36,36)"
           }
          },
          "shapedefaults": {
           "fillcolor": "black",
           "line": {
            "width": 0
           },
           "opacity": 0.3
          },
          "ternary": {
           "aaxis": {
            "gridcolor": "rgb(232,232,232)",
            "linecolor": "rgb(36,36,36)",
            "showgrid": false,
            "showline": true,
            "ticks": "outside"
           },
           "baxis": {
            "gridcolor": "rgb(232,232,232)",
            "linecolor": "rgb(36,36,36)",
            "showgrid": false,
            "showline": true,
            "ticks": "outside"
           },
           "bgcolor": "white",
           "caxis": {
            "gridcolor": "rgb(232,232,232)",
            "linecolor": "rgb(36,36,36)",
            "showgrid": false,
            "showline": true,
            "ticks": "outside"
           }
          },
          "title": {
           "x": 0.05
          },
          "xaxis": {
           "automargin": true,
           "gridcolor": "rgb(232,232,232)",
           "linecolor": "rgb(36,36,36)",
           "showgrid": false,
           "showline": true,
           "ticks": "outside",
           "title": {
            "standoff": 15
           },
           "zeroline": false,
           "zerolinecolor": "rgb(36,36,36)"
          },
          "yaxis": {
           "automargin": true,
           "gridcolor": "rgb(232,232,232)",
           "linecolor": "rgb(36,36,36)",
           "showgrid": false,
           "showline": true,
           "ticks": "outside",
           "title": {
            "standoff": 15
           },
           "zeroline": false,
           "zerolinecolor": "rgb(36,36,36)"
          }
         }
        },
        "title": {
         "text": "Price vs Durability"
        },
        "xaxis": {
         "anchor": "y",
         "autorange": true,
         "domain": [
          0,
          1
         ],
         "range": [
          1.8476965228726365,
          4.657453455447269
         ],
         "title": {
          "text": "Durability"
         },
         "type": "log"
        },
        "yaxis": {
         "anchor": "x",
         "autorange": true,
         "domain": [
          0,
          1
         ],
         "range": [
          0.5845550648493911,
          5.9259899453572205
         ],
         "title": {
          "text": "Price"
         },
         "type": "log"
        }
       }
      },
      "image/png": "[encoded data removed]"
     },
     "metadata": {},
     "output_type": "display_data"
    }
   ],
   "source": [
    "\"\"\"\n",
    "Palworld Weapon Visualizations — Two Plots with Best-Fit Lines\n",
    "==============================================================\n",
    "\n",
    "Single-cell utilities to:\n",
    "1) Normalize a Palworld weapons DataFrame's schema and numeric types.\n",
    "2) Render two interactive Plotly scatter plots with best-fit lines:\n",
    "   a) Price vs Physical Attack\n",
    "   b) Price vs Durability\n",
    "\n",
    "Best-Fit Method\n",
    "---------------\n",
    "- If `log_axes=False`: ordinary least squares (linear fit) in linear space.\n",
    "- If `log_axes=True`: fit in log–log space (power-law): log(y) = a + b*log(x),\n",
    "  which corresponds to y = exp(a) * x**b, and display on log axes.\n",
    "\n",
    "Usage\n",
    "-----\n",
    "Assumes a DataFrame `weapons_df` exists in the environment (e.g., from your scraper).\n",
    "This cell will show both plots inline.\n",
    "\"\"\"\n",
    "\n",
    "\n",
    "def sanitize_weapons_df(df: pd.DataFrame) -> pd.DataFrame:\n",
    "    \"\"\"\n",
    "    Standardize expected column names and coerce numeric types.\n",
    "\n",
    "    Parameters\n",
    "    ----------\n",
    "    df : pandas.DataFrame\n",
    "        Input frame containing weapon stats, potentially with varied column names.\n",
    "\n",
    "    Returns\n",
    "    -------\n",
    "    pandas.DataFrame\n",
    "        Copy with normalized columns (if present):\n",
    "        ['Name', 'Price', 'Physical Attack', 'Durability'].\n",
    "        Non-numeric entries in numeric fields are coerced to NaN.\n",
    "\n",
    "    Notes\n",
    "    -----\n",
    "    - Common aliases are mapped into canonical names (e.g., 'attack' → 'Physical Attack').\n",
    "    - If 'Name' is missing, an index-based string name is synthesized.\n",
    "    \"\"\"\n",
    "    data = df.copy()\n",
    "\n",
    "    rename_map = {\n",
    "        \"name\": \"Name\",\n",
    "        \"item_name\": \"Name\",\n",
    "        \"price\": \"Price\",\n",
    "        \"physical_attack\": \"Physical Attack\",\n",
    "        \"attack\": \"Physical Attack\",\n",
    "        \"phys_atk\": \"Physical Attack\",\n",
    "        \"durability\": \"Durability\",\n",
    "    }\n",
    "    lowered = {c.lower(): c for c in data.columns}\n",
    "    for k, v in rename_map.items():\n",
    "        if k in lowered and v not in data.columns:\n",
    "            data.rename(columns={lowered[k]: v}, inplace=True)\n",
    "\n",
    "    for col in [\"Price\", \"Physical Attack\", \"Durability\"]:\n",
    "        if col in data.columns:\n",
    "            data[col] = pd.to_numeric(data[col], errors=\"coerce\")\n",
    "\n",
    "    data[\"Name\"] = data.get(\"Name\", data.index).astype(str)\n",
    "    return data\n",
    "\n",
    "\n",
    "def _best_fit_line(x: np.ndarray, y: np.ndarray, log_axes: bool) -> tuple[np.ndarray, np.ndarray]:\n",
    "    \"\"\"\n",
    "    Compute best-fit line coordinates over the span of x.\n",
    "\n",
    "    Parameters\n",
    "    ----------\n",
    "    x, y : np.ndarray\n",
    "        1-D arrays of equal length (NaNs removed by caller).\n",
    "    log_axes : bool\n",
    "        If True, fit in log–log space (power-law). Otherwise, linear fit.\n",
    "\n",
    "    Returns\n",
    "    -------\n",
    "    x_fit, y_fit : np.ndarray\n",
    "        Sorted x over its range and corresponding fitted y values.\n",
    "    \"\"\"\n",
    "    # Sort by x for a clean line\n",
    "    order = np.argsort(x)\n",
    "    x_sorted = x[order]\n",
    "    y_sorted = y[order]\n",
    "\n",
    "    if log_axes:\n",
    "        # Filter to positive values (log domain)\n",
    "        mask = (x_sorted > 0) & (y_sorted > 0)\n",
    "        xz = x_sorted[mask]\n",
    "        yz = y_sorted[mask]\n",
    "        if len(xz) < 2:\n",
    "            return x_sorted, np.full_like(x_sorted, np.nan)\n",
    "\n",
    "        lx, ly = np.log(xz), np.log(yz)\n",
    "        b, a = np.polyfit(lx, ly, 1)  # ly ≈ a + b*lx\n",
    "        y_fit = np.exp(a) * x_sorted**b\n",
    "        return x_sorted, y_fit\n",
    "    else:\n",
    "        if len(x_sorted) < 2:\n",
    "            return x_sorted, np.full_like(x_sorted, np.nan)\n",
    "        m, c = np.polyfit(x_sorted, y_sorted, 1)  # y ≈ m*x + c\n",
    "        y_fit = m * x_sorted + c\n",
    "        return x_sorted, y_fit\n",
    "\n",
    "\n",
    "def interactive_scatter_with_fit(\n",
    "    df: pd.DataFrame,\n",
    "    *,\n",
    "    x: str,\n",
    "    y: str,\n",
    "    title: str,\n",
    "    hover_cols: Optional[Iterable[str]] = None,\n",
    "    log_axes: bool = True,\n",
    "    template: str = \"simple_white\",\n",
    "    marker_size: int = 8,\n",
    "    marker_opacity: float = 0.85,\n",
    "):\n",
    "    \"\"\"\n",
    "    Render a Plotly scatter plot with an overlaid best-fit line.\n",
    "\n",
    "    Parameters\n",
    "    ----------\n",
    "    df : pandas.DataFrame\n",
    "        Source data frame (will be sanitized).\n",
    "    x : str\n",
    "        Column name for the x-axis.\n",
    "    y : str\n",
    "        Column name for the y-axis.\n",
    "    title : str\n",
    "        Figure title.\n",
    "    hover_cols : Iterable[str], optional\n",
    "        Additional columns to include in the hover tooltip, if present.\n",
    "    log_axes : bool, default True\n",
    "        If True, plot both axes on a logarithmic scale and fit in log–log space.\n",
    "    template : str, default \"simple_white\"\n",
    "        Plotly template for styling.\n",
    "    marker_size : int, default 8\n",
    "        Point size.\n",
    "    marker_opacity : float, default 0.85\n",
    "        Point opacity in [0, 1].\n",
    "\n",
    "    Returns\n",
    "    -------\n",
    "    plotly.graph_objects.Figure\n",
    "        Interactive scatter plot with best-fit line.\n",
    "    \"\"\"\n",
    "    data = sanitize_weapons_df(df).dropna(subset=[x, y]).copy()\n",
    "    hover_cols = [c for c in (hover_cols or []) if c in data.columns]\n",
    "\n",
    "    fig = px.scatter(\n",
    "        data,\n",
    "        x=x,\n",
    "        y=y,\n",
    "        hover_data=[\"Name\", *hover_cols] if \"Name\" in data.columns else hover_cols,\n",
    "        title=title,\n",
    "        log_x=log_axes,\n",
    "        log_y=log_axes,\n",
    "        template=template,\n",
    "    )\n",
    "    fig.update_traces(marker=dict(size=marker_size, opacity=marker_opacity))\n",
    "\n",
    "    # Best-fit line\n",
    "    x_vals = data[x].to_numpy(dtype=float)\n",
    "    y_vals = data[y].to_numpy(dtype=float)\n",
    "    mask = ~np.isnan(x_vals) & ~np.isnan(y_vals)\n",
    "    if mask.sum() >= 2:\n",
    "        x_fit, y_fit = _best_fit_line(x_vals[mask], y_vals[mask], log_axes)\n",
    "        fig.add_trace(\n",
    "            go.Scatter(\n",
    "                x=x_fit,\n",
    "                y=y_fit,\n",
    "                mode=\"lines\",\n",
    "                name=\"Best fit\",\n",
    "                hoverinfo=\"skip\",\n",
    "            )\n",
    "        )\n",
    "\n",
    "    fig.show()\n",
    "    return fig\n",
    "\n",
    "\n",
    "def plot_weapon_relationships(df: pd.DataFrame, *, log_axes: bool = True, template: str = \"simple_white\"):\n",
    "    \"\"\"\n",
    "    Produce the two interactive weapon relationship plots with best-fit lines:\n",
    "\n",
    "      1) Price vs Physical Attack\n",
    "      2) Price vs Durability\n",
    "\n",
    "    Parameters\n",
    "    ----------\n",
    "    df : pandas.DataFrame\n",
    "        Weapons data (columns auto-normalized internally).\n",
    "    log_axes : bool, default True\n",
    "        Apply log scaling to both axes and use power-law best-fit.\n",
    "    template : str, default \"simple_white\"\n",
    "        Plotly template for styling.\n",
    "\n",
    "    Returns\n",
    "    -------\n",
    "    dict[str, plotly.graph_objects.Figure]\n",
    "        Figures keyed by:\n",
    "        {\"price_vs_attack\", \"price_vs_durability\"}.\n",
    "    \"\"\"\n",
    "    figs = {}\n",
    "    figs[\"price_vs_attack\"] = interactive_scatter_with_fit(\n",
    "        df,\n",
    "        x=\"Physical Attack\",\n",
    "        y=\"Price\",\n",
    "        title=\"Price vs Physical Attack\",\n",
    "        hover_cols=[\"Durability\"],\n",
    "        log_axes=log_axes,\n",
    "        template=template,\n",
    "    )\n",
    "    figs[\"price_vs_durability\"] = interactive_scatter_with_fit(\n",
    "        df,\n",
    "        x=\"Durability\",\n",
    "        y=\"Price\",\n",
    "        title=\"Price vs Durability\",\n",
    "        hover_cols=[\"Physical Attack\"],\n",
    "        log_axes=log_axes,\n",
    "        template=template,\n",
    "    )\n",
    "    return figs\n",
    "\n",
    "\n",
    "# ---- Execute (shows both plots) ----\n",
    "_ = plot_weapon_relationships(weapons_df, log_axes=True)\n"
   ]
  },
  {
   "cell_type": "markdown",
   "metadata": {},
   "source": [
    "## Models\n",
    "\n",
    "### Modeling functions overview\n",
    "List all the functions you have written for modeling. For each one, write one sentence to describe it. \n",
    "- `fit_linear()`\n",
    "    - fit a linear model to the data and output the r2, slope and intercept\n",
    "\n",
    "### Model results\n",
    "\n",
    "- Present 2-3 models for the analysis.\n",
    "- Explain any pre-processing steps you have done (eg: scaling, polynomial, dummy features)\n",
    "- For each model, explain why you think this model is suitable and what metrics you want to use to evaluate the model\n",
    "    - If it is a classification model, you need to present the confusion matrix, calculate the accuracy, sensitivity and specificity with cross-validation\n",
    "    - If it is a regression model, you need to present the r2 and MSE with cross-validation\n",
    "    - If it is a linear regression model/multiple linear regression model, you need to interpret the meaning of the coefficient with the full data\n",
    "    - If it is a decision tree model, you need to plot the tree with the full data\n",
    "    - If it is a random forest model, you need to present the feature importance plot with the full data\n",
    "    - If it is a PCA, you need to explain how to select the number of components and interpret the key features in the first two components\n",
    "    - If it is a clustering, you need explain how to select the number of clustering and summarize the clustering. "
   ]
  },
  {
   "cell_type": "code",
   "execution_count": 8,
   "metadata": {},
   "outputs": [],
   "source": [
    "# list all the functions you have for modeling. Make sure write full \n",
    "# docstrings for each function\n",
    "def fit_linear(df, y_feat, x_feat):\n",
    "\n",
    "    pass"
   ]
  },
  {
   "cell_type": "markdown",
   "metadata": {},
   "source": [
    "#### Model 1"
   ]
  },
  {
   "cell_type": "code",
   "execution_count": 1,
   "metadata": {},
   "outputs": [],
   "source": [
    "def compute_single_stat_r2(df, stat_cols, target_col=\"Rarity Level\", include_total_stats=False):\n",
    "    \"\"\"\n",
    "    Computes cross-validated R² mean ± std for each stat column.\n",
    "\n",
    "    Parameters\n",
    "    ----------\n",
    "    df : pd.DataFrame\n",
    "        DataFrame containing stat columns and target column.\n",
    "    stat_cols : list\n",
    "        List of columns to evaluate.\n",
    "    target_col : str, optional\n",
    "        Target column name (default: \"Rarity Level\").\n",
    "    include_total_stats : bool, optional\n",
    "        If True, also include \"Total Stats\" in evaluation if present.\n",
    "\n",
    "    Returns\n",
    "    -------\n",
    "    pd.DataFrame\n",
    "        DataFrame sorted by CV_R2_mean (descending) with columns:\n",
    "        [\"Stat\", \"CV_R2_mean\", \"CV_R2_std\"]\n",
    "    \"\"\"\n",
    "    Xcols = stat_cols.copy()\n",
    "    if include_total_stats and \"Total Stats\" in df.columns:\n",
    "        Xcols.append(\"Total Stats\")\n",
    "\n",
    "    single_results = []\n",
    "    cv = KFold(n_splits=5, shuffle=True, random_state=42)\n",
    "\n",
    "    for col in Xcols:\n",
    "        X = df[[col]].values\n",
    "        y = df[target_col].values\n",
    "        r2_scores = cross_val_score(LinearRegression(), X, y, scoring=\"r2\", cv=cv)\n",
    "        single_results.append({\n",
    "            \"Stat\": col,\n",
    "            \"CV_R2_mean\": np.mean(r2_scores),\n",
    "            \"CV_R2_std\": np.std(r2_scores)\n",
    "        })\n",
    "\n",
    "    results_df = pd.DataFrame(single_results).sort_values(\"CV_R2_mean\", ascending=False)\n",
    "    return results_df"
   ]
  },
  {
   "cell_type": "code",
   "execution_count": 2,
   "metadata": {},
   "outputs": [
    {
     "ename": "NameError",
     "evalue": "name 'single_results_df' is not defined",
     "output_type": "error",
     "traceback": [
      "\u001b[0;31m---------------------------------------------------------------------------\u001b[0m",
      "\u001b[0;31mNameError\u001b[0m                                 Traceback (most recent call last)",
      "Cell \u001b[0;32mIn[2], line 30\u001b[0m\n\u001b[1;32m     26\u001b[0m     plt\u001b[38;5;241m.\u001b[39mtight_layout()\n\u001b[1;32m     27\u001b[0m     plt\u001b[38;5;241m.\u001b[39mshow()\n\u001b[0;32m---> 30\u001b[0m plot_single_stat_r2(\u001b[43msingle_results_df\u001b[49m)\n",
      "\u001b[0;31mNameError\u001b[0m: name 'single_results_df' is not defined"
     ]
    }
   ],
   "source": [
    "def plot_single_stat_r2(single_results_df):\n",
    "    \"\"\"\n",
    "    Plots the cross-validated R² mean ± std for each stat.\n",
    "\n",
    "    Parameters\n",
    "    ----------\n",
    "    single_results_df : pd.DataFrame\n",
    "        Must contain columns:\n",
    "        - \"Stat\" : name of the stat\n",
    "        - \"CV_R2_mean\" : mean cross-validated R²\n",
    "        - \"CV_R2_std\" : standard deviation of CV R²\n",
    "    \"\"\"\n",
    "    plt.figure(figsize=(8, max(3, 0.4 * len(single_results_df))))\n",
    "    plt.barh(\n",
    "        single_results_df[\"Stat\"],\n",
    "        single_results_df[\"CV_R2_mean\"],\n",
    "        xerr=single_results_df[\"CV_R2_std\"],\n",
    "        capsize=3,\n",
    "        color=\"skyblue\"\n",
    "    )\n",
    "    plt.axvline(0, linestyle=\"--\", linewidth=1)\n",
    "    plt.title(\"Single-stat Predictive Power for Rarity (CV R² ± std)\")\n",
    "    plt.xlabel(\"Cross-validated R²\")\n",
    "    plt.ylabel(\"Stat\")\n",
    "    plt.gca().invert_yaxis()\n",
    "    plt.tight_layout()\n",
    "    plt.show()\n",
    "\n",
    "\n",
    "plot_single_stat_r2(single_results_df)"
   ]
  },
  {
   "cell_type": "markdown",
   "metadata": {},
   "source": [
    "#### Model 2"
   ]
  },
  {
   "cell_type": "code",
   "execution_count": 10,
   "metadata": {},
   "outputs": [],
   "source": [
    "# Write the code to run functions to fit each model in separate code chunks. \n",
    "# Interpret the model results. "
   ]
  },
  {
   "cell_type": "markdown",
   "metadata": {},
   "source": [
    "#### Model 3"
   ]
  },
  {
   "cell_type": "code",
   "execution_count": 59,
   "metadata": {},
   "outputs": [
    {
     "data": {
      "text/html": [
       "\n",
       "<style>\n",
       ":root {\n",
       "  --card-bg: #ffffff;\n",
       "  --card-border: #e5e7eb;\n",
       "  --muted: #6b7280;\n",
       "  --accent: #2563eb;\n",
       "}\n",
       "@media (prefers-color-scheme: dark) {\n",
       "  :root {\n",
       "    --card-bg: #0b1220;\n",
       "    --card-border: #1f2937;\n",
       "    --muted: #9ca3af;\n",
       "    --accent: #60a5fa;\n",
       "  }\n",
       "}\n",
       ".jp-RenderedHTMLCommon, .widget-html-content {\n",
       "  font-family: Inter, -apple-system, Segoe UI, Roboto, Helvetica, Arial, sans-serif;\n",
       "  font-size: 14px;\n",
       "}\n",
       ".widget-label { min-width: 120px; }\n",
       ".toolbar {\n",
       "  background: var(--card-bg);\n",
       "  border: 1px solid var(--card-border);\n",
       "  border-radius: 12px;\n",
       "  padding: 8px 10px;\n",
       "  margin: 4px 0 8px;\n",
       "  box-shadow: 0 1px 2px rgba(0,0,0,0.04);\n",
       "}\n",
       ".h2h-card {\n",
       "  background: var(--card-bg);\n",
       "  border: 1px solid var(--card-border);\n",
       "  border-radius: 14px;\n",
       "  padding: 12px 14px;\n",
       "  margin: 4px;\n",
       "  box-shadow: 0 1px 2px rgba(0,0,0,0.06);\n",
       "}\n",
       ".h2h-title { font-weight: 700; margin-bottom: 6px; }\n",
       ".badge {\n",
       "  display: inline-block; padding: 2px 8px; border-radius: 999px;\n",
       "  font-size: 12px; font-weight: 600; background: rgba(37,99,235,0.1); color: var(--accent);\n",
       "}\n",
       ".win { color: var(--accent); font-weight: 800; }\n",
       ".note { color: var(--muted); font-size: 12px; }\n",
       "hr.soft { border: none; border-top: 1px solid var(--card-border); margin: 8px 0; }\n",
       "</style>\n"
      ],
      "text/plain": [
       "<IPython.core.display.HTML object>"
      ]
     },
     "metadata": {},
     "output_type": "display_data"
    },
    {
     "data": {
      "application/vnd.jupyter.widget-view+json": {
       "model_id": "de38bffe240f4013a777953568d35f34",
       "version_major": 2,
       "version_minor": 0
      },
      "text/plain": [
       "ToggleButtons(options=('Single', 'Head-to-Head', 'Compare All'), value='Single')"
      ]
     },
     "metadata": {},
     "output_type": "display_data"
    },
    {
     "data": {
      "application/vnd.jupyter.widget-view+json": {
       "model_id": "f95f26b63af5431c838c37131a67b526",
       "version_major": 2,
       "version_minor": 0
      },
      "text/plain": [
       "Output()"
      ]
     },
     "metadata": {},
     "output_type": "display_data"
    },
    {
     "data": {
      "application/vnd.jupyter.widget-view+json": {
       "model_id": "da508bcfde3a42c88b523f3c11d45870",
       "version_major": 2,
       "version_minor": 0
      },
      "text/plain": [
       "Output()"
      ]
     },
     "metadata": {},
     "output_type": "display_data"
    }
   ],
   "source": [
    "# Write the code to run functions to fit each model in separate code chunks. \n",
    "# Interpret the model results. \n",
    "\n",
    "# If needed once (uncomment, run, then restart the kernel):\n",
    "# !pip install plotly ipywidgets pandas numpy\n",
    "\n",
    "\"\"\"\n",
    "Palworld Weapon Value Dashboard — Head-to-Head - Compare All\n",
    "\"\"\"\n",
    "\n",
    "# -----------------------\n",
    "# 0) Load & sanitize data\n",
    "# -----------------------\n",
    "def _coalesce_columns(frame: pd.DataFrame) -> pd.DataFrame:\n",
    "    \"\"\"\n",
    "    Harmonize common column name variations to required names.\n",
    "\n",
    "    Parameters\n",
    "    ----------\n",
    "    frame : pandas.DataFrame\n",
    "        Input DataFrame with potential synonyms for Name, Price,\n",
    "        Physical Attack, and Durability.\n",
    "\n",
    "    Returns\n",
    "    -------\n",
    "    pandas.DataFrame\n",
    "        DataFrame with columns renamed to: 'Name', 'Price',\n",
    "        'Physical Attack', 'Durability'.\n",
    "\n",
    "    Raises\n",
    "    ------\n",
    "    ValueError\n",
    "        If any required column cannot be located by synonym.\n",
    "    \"\"\"\n",
    "    cols = {c.lower().strip(): c for c in frame.columns}\n",
    "\n",
    "    def pick(*cands: str) -> Optional[str]:\n",
    "        for c in cands:\n",
    "            key = c.lower().strip()\n",
    "            if key in cols:\n",
    "                return cols[key]\n",
    "        return None\n",
    "\n",
    "    rename_map = {}\n",
    "    name_col = pick(\"name\", \"item\", \"weapon\")\n",
    "    price_col = pick(\"price\", \"cost\")\n",
    "    atk_col   = pick(\"physical attack\", \"physical_attack\", \"attack\", \"atk\")\n",
    "    dur_col   = pick(\"durability\", \"dura\", \"dur\")\n",
    "\n",
    "    if not all([name_col, price_col, atk_col, dur_col]):\n",
    "        missing = [lbl for lbl, c in\n",
    "                   [(\"Name\", name_col), (\"Price\", price_col),\n",
    "                    (\"Physical Attack\", atk_col), (\"Durability\", dur_col)]\n",
    "                   if c is None]\n",
    "        raise ValueError(f\"Missing required columns: {missing}\")\n",
    "\n",
    "    rename_map[name_col]  = \"Name\"\n",
    "    rename_map[price_col] = \"Price\"\n",
    "    rename_map[atk_col]   = \"Physical Attack\"\n",
    "    rename_map[dur_col]   = \"Durability\"\n",
    "    return frame.rename(columns=rename_map)\n",
    "\n",
    "# Load from in-memory DataFrame if present; else CSV fallback\n",
    "try:\n",
    "    df = weapons_df.copy()\n",
    "    df = _coalesce_columns(df)\n",
    "except NameError:\n",
    "    df = pd.read_csv(\"/mnt/data/palworld_weapons.csv\")\n",
    "    df = _coalesce_columns(df)\n",
    "\n",
    "# Basic sanitation\n",
    "for c in [\"Price\",\"Physical Attack\",\"Durability\"]:\n",
    "    df[c] = pd.to_numeric(df[c], errors=\"coerce\")\n",
    "df[\"Name\"] = df[\"Name\"].astype(str)\n",
    "df = df.dropna(subset=[\"Name\"]).reset_index(drop=True)\n",
    "\n",
    "# ----------------------------\n",
    "# 1) Scoring & variant helpers\n",
    "# ----------------------------\n",
    "def compute_value_scores(\n",
    "    data: pd.DataFrame,\n",
    "    w_attack: float = 1/3,\n",
    "    w_durability: float = 1/3,\n",
    "    w_price_inverse: float = 1/3,\n",
    "    clamp_0_1: bool = True,\n",
    "    relative_to_best: bool = False\n",
    ") -> pd.DataFrame:\n",
    "    \"\"\"\n",
    "    Compute Value %, Attack Score, Durability Score, and Price Efficiency %.\n",
    "\n",
    "    Method\n",
    "    ------\n",
    "    - Min–max normalize each component:\n",
    "        Attack_norm = (Attack - min) / (max - min)\n",
    "        Durability_norm = (Durability - min) / (max - min)\n",
    "        Price_inv = (max(Price) - Price) / (max(Price) - min(Price))\n",
    "    - Combine with normalized weights:\n",
    "        Combined = wa*Attack_norm + wd*Durability_norm + wp*Price_inv\n",
    "    - Optional: re-scale Combined so the top item = 100% among considered rows.\n",
    "\n",
    "    Parameters\n",
    "    ----------\n",
    "    data : pandas.DataFrame\n",
    "        Data containing columns: 'Price', 'Physical Attack', 'Durability'.\n",
    "    w_attack : float, default 1/3\n",
    "        Weight for normalized attack.\n",
    "    w_durability : float, default 1/3\n",
    "        Weight for normalized durability.\n",
    "    w_price_inverse : float, default 1/3\n",
    "        Weight for normalized inverse-price.\n",
    "    clamp_0_1 : bool, default True\n",
    "        Clip combined score into [0, 1] before optional re-scaling.\n",
    "    relative_to_best : bool, default False\n",
    "        If True, re-scale the final combined score so the best item is 1.0 (100%).\n",
    "\n",
    "    Returns\n",
    "    -------\n",
    "    pandas.DataFrame\n",
    "        Original columns plus:\n",
    "        - 'Value %' (0–100)\n",
    "        - 'Attack Score' (0–100)\n",
    "        - 'Durability Score' (0–100)\n",
    "        - 'Price Efficiency %' (0–100)\n",
    "    \"\"\"\n",
    "    d = data.copy()\n",
    "\n",
    "    def minmax(x: np.ndarray) -> np.ndarray:\n",
    "        x = np.asarray(x, dtype=float)\n",
    "        if x.size == 0 or np.all(~np.isfinite(x)):\n",
    "            return np.zeros_like(x)\n",
    "        x_min, x_max = np.nanmin(x), np.nanmax(x)\n",
    "        if not np.isfinite(x_min) or not np.isfinite(x_max) or x_max == x_min:\n",
    "            return np.zeros_like(x)\n",
    "        return (x - x_min) / (x_max - x_min)\n",
    "\n",
    "    a_norm = minmax(d[\"Physical Attack\"].to_numpy())\n",
    "    d_norm = minmax(d[\"Durability\"].to_numpy())\n",
    "\n",
    "    p = d[\"Price\"].to_numpy(dtype=float)\n",
    "    if p.size == 0 or np.all(~np.isfinite(p)) or np.nanmax(p) == np.nanmin(p):\n",
    "        p_inv = np.zeros_like(p)\n",
    "    else:\n",
    "        p_min, p_max = np.nanmin(p), np.nanmax(p)\n",
    "        p_inv = (p_max - p) / (p_max - p_min)\n",
    "\n",
    "    w_sum = w_attack + w_durability + w_price_inverse\n",
    "    wa, wd, wp = ((w_attack, w_durability, w_price_inverse) if w_sum == 0\n",
    "                  else (w_attack / w_sum, w_durability / w_sum, w_price_inverse / w_sum))\n",
    "\n",
    "    combined = wa * a_norm + wd * d_norm + wp * p_inv\n",
    "    if clamp_0_1:\n",
    "        combined = np.clip(combined, 0.0, 1.0)\n",
    "\n",
    "    if relative_to_best:\n",
    "        cmin, cmax = np.nanmin(combined), np.nanmax(combined)\n",
    "        if np.isfinite(cmin) and np.isfinite(cmax) and cmax > cmin:\n",
    "            combined = (combined - cmin) / (cmax - cmin)\n",
    "        else:\n",
    "            combined = np.zeros_like(combined)\n",
    "\n",
    "    d[\"Value %\"] = np.round(combined * 100.0, 2)\n",
    "    d[\"Attack Score\"] = np.round(a_norm * 100.0, 1)\n",
    "    d[\"Durability Score\"] = np.round(d_norm * 100.0, 1)\n",
    "    d[\"Price Efficiency %\"] = np.round(p_inv * 100.0, 1)\n",
    "    return d\n",
    "\n",
    "\n",
    "def annotate_variant_counts(df_raw: pd.DataFrame) -> pd.DataFrame:\n",
    "    \"\"\"\n",
    "    Add a count of variants per (Name, Price).\n",
    "\n",
    "    Parameters\n",
    "    ----------\n",
    "    df_raw : pandas.DataFrame\n",
    "        Scored (or raw) data containing 'Name', 'Price', and at least one metric column.\n",
    "\n",
    "    Returns\n",
    "    -------\n",
    "    pandas.DataFrame\n",
    "        DataFrame with additional column 'Variants @Price'.\n",
    "    \"\"\"\n",
    "    counts = (\n",
    "        df_raw.groupby([\"Name\",\"Price\"], dropna=False)[\"Physical Attack\"]\n",
    "             .size().rename(\"Variants @Price\").reset_index()\n",
    "    )\n",
    "    return df_raw.merge(counts, on=[\"Name\",\"Price\"], how=\"left\")\n",
    "\n",
    "\n",
    "def pareto_front(group: pd.DataFrame) -> pd.DataFrame:\n",
    "    \"\"\"\n",
    "    Return the Pareto (non-dominated) subset in Attack–Durability space.\n",
    "\n",
    "    Parameters\n",
    "    ----------\n",
    "    group : pandas.DataFrame\n",
    "        Rows for a single (Name, Price) group.\n",
    "\n",
    "    Returns\n",
    "    -------\n",
    "    pandas.DataFrame\n",
    "        Subset of non-dominated rows where no other row is >= in both\n",
    "        Attack and Durability and > in at least one.\n",
    "    \"\"\"\n",
    "    g = group.copy()\n",
    "    A, D = g[\"Physical Attack\"].to_numpy(), g[\"Durability\"].to_numpy()\n",
    "    keep = np.ones(len(g), dtype=bool)\n",
    "    for i in range(len(g)):\n",
    "        dom = (A >= A[i]) & (D >= D[i]) & ((A > A[i]) | (D > D[i]))\n",
    "        if np.any(dom):\n",
    "            keep[i] = False\n",
    "    return g.loc[keep]\n",
    "\n",
    "\n",
    "def reduce_variants(scored: pd.DataFrame, how: str = \"pareto_or_best\") -> pd.DataFrame:\n",
    "    \"\"\"\n",
    "    Aggregate variants within (Name, Price) to a representative row.\n",
    "\n",
    "    Parameters\n",
    "    ----------\n",
    "    scored : pandas.DataFrame\n",
    "        Scored per-variant data.\n",
    "    how : {'per_variant','pareto_or_best','best_by_value','median_stats'}, default 'pareto_or_best'\n",
    "        - 'per_variant'    : keep all variants.\n",
    "        - 'pareto_or_best' : Pareto front; if >1 remain, keep highest 'Value %'.\n",
    "        - 'best_by_value'  : keep idxmax('Value %') per (Name, Price).\n",
    "        - 'median_stats'   : median(Attack, Durability) per (Name, Price); caller re-scores.\n",
    "\n",
    "    Returns\n",
    "    -------\n",
    "    pandas.DataFrame\n",
    "        Reduced DataFrame according to the chosen strategy.\n",
    "    \"\"\"\n",
    "    if how == \"per_variant\":\n",
    "        return scored\n",
    "\n",
    "    base = scored.dropna(subset=[\"Name\",\"Price\",\"Physical Attack\",\"Durability\"]).copy()\n",
    "\n",
    "    if how == \"best_by_value\":\n",
    "        idx = base.groupby([\"Name\",\"Price\"])[\"Value %\"].idxmax()\n",
    "        return base.loc[idx].reset_index(drop=True)\n",
    "\n",
    "    if how == \"median_stats\":\n",
    "        agg = (base.groupby([\"Name\",\"Price\"], as_index=False)\n",
    "                    .agg({\"Physical Attack\":\"median\",\"Durability\":\"median\",\"Price\":\"first\"}))\n",
    "        return agg  # caller re-scores\n",
    "\n",
    "    # Default: Pareto → then best-by-value\n",
    "    reduced = []\n",
    "    for _, grp in base.groupby([\"Name\",\"Price\"]):\n",
    "        pf = pareto_front(grp)\n",
    "        if len(pf) > 1:\n",
    "            pf = pf.loc[[pf[\"Value %\"].idxmax()]]\n",
    "        reduced.append(pf)\n",
    "    return pd.concat(reduced, ignore_index=True)\n",
    "\n",
    "\n",
    "def current_scored(wa: float, wd: float, wp: float, variant_mode: str) -> pd.DataFrame:\n",
    "    \"\"\"\n",
    "    Produce the currently-scored, optionally-aggregated dataset.\n",
    "\n",
    "    Parameters\n",
    "    ----------\n",
    "    wa, wd, wp : float\n",
    "        Effective weights for Attack, Durability, and inverse-Price.\n",
    "    variant_mode : str\n",
    "        Aggregation mode passed to `reduce_variants`.\n",
    "\n",
    "    Returns\n",
    "    -------\n",
    "    pandas.DataFrame\n",
    "        Scored (and optionally aggregated) DataFrame, annotated with 'Variants @Price'.\n",
    "    \"\"\"\n",
    "    rel = bool(value_relative_chk.value)\n",
    "    per_variant = compute_value_scores(df, wa, wd, wp, relative_to_best=rel)\n",
    "    per_variant = annotate_variant_counts(per_variant)\n",
    "    reduced = reduce_variants(per_variant, how=variant_mode)\n",
    "    if variant_mode == \"median_stats\":\n",
    "        reduced = compute_value_scores(reduced, wa, wd, wp, relative_to_best=rel)\n",
    "        reduced = annotate_variant_counts(reduced)\n",
    "    return reduced\n",
    "\n",
    "# --------------------------------\n",
    "# 2) Ring (donut) meter components\n",
    "# --------------------------------\n",
    "PALETTE = {\n",
    "    \"value\": \"#2563eb\",       # blue-600\n",
    "    \"price\": \"#16a34a\",       # green-600\n",
    "    \"attack\": \"#7c3aed\",      # violet-600\n",
    "    \"dur\": \"#f59e0b\",         # amber-500\n",
    "    \"track\": \"#e5e7eb\"        # gray-200\n",
    "}\n",
    "\n",
    "def ring_fraction(value_pct: float) -> Tuple[float, float]:\n",
    "    \"\"\"\n",
    "    Split a percentage value into filled vs. remaining slices.\n",
    "\n",
    "    Parameters\n",
    "    ----------\n",
    "    value_pct : float\n",
    "        Target percentage in [0, 100].\n",
    "\n",
    "    Returns\n",
    "    -------\n",
    "    tuple(float, float)\n",
    "        (filled, remaining) percentages that sum to 100.\n",
    "    \"\"\"\n",
    "    v = 0.0 if (value_pct is None or (isinstance(value_pct, float) and np.isnan(value_pct))) else float(value_pct)\n",
    "    v = max(0.0, min(100.0, v))\n",
    "    return v, 100.0 - v\n",
    "\n",
    "\n",
    "def _add_ring(fig: go.Figure, row: int, col: int, pct: float, color: str, label: str) -> None:\n",
    "    \"\"\"\n",
    "    Add a single donut trace and store label in trace.name for later annotation.\n",
    "\n",
    "    Parameters\n",
    "    ----------\n",
    "    fig : plotly.graph_objects.Figure\n",
    "        Figure to which the donut is added.\n",
    "    row, col : int\n",
    "        Subplot position.\n",
    "    pct : float\n",
    "        Percentage for the filled portion.\n",
    "    color : str\n",
    "        Hex color for the filled slice.\n",
    "    label : str\n",
    "        Label text to render at the donut center.\n",
    "\n",
    "    Returns\n",
    "    -------\n",
    "    None\n",
    "    \"\"\"\n",
    "    filled, rem = ring_fraction(pct)\n",
    "    fig.add_trace(\n",
    "        go.Pie(\n",
    "            values=[filled, rem],\n",
    "            hole=0.7,\n",
    "            sort=False,\n",
    "            textinfo=\"none\",\n",
    "            hoverinfo=\"skip\",\n",
    "            marker=dict(colors=[color, PALETTE[\"track\"]], line=dict(width=0)),\n",
    "            showlegend=False,\n",
    "            name=label\n",
    "        ),\n",
    "        row=row, col=col\n",
    "    )\n",
    "\n",
    "\n",
    "def ring_2x2(value_pct: float, price_eff: float, atk: float, dur: float) -> go.Figure:\n",
    "    \"\"\"\n",
    "    Create a 2×2 grid of donut meters:\n",
    "      Overall Value | Price Efficiency / Attack | Durability.\n",
    "\n",
    "    Parameters\n",
    "    ----------\n",
    "    value_pct : float\n",
    "        Overall 'Value %'.\n",
    "    price_eff : float\n",
    "        'Price Efficiency %'.\n",
    "    atk : float\n",
    "        'Attack Score'.\n",
    "    dur : float\n",
    "        'Durability Score'.\n",
    "\n",
    "    Returns\n",
    "    -------\n",
    "    plotly.graph_objects.Figure\n",
    "        Plotly figure containing the 2×2 donut grid with centered labels.\n",
    "    \"\"\"\n",
    "    specs = [[{\"type\":\"domain\"}, {\"type\":\"domain\"}],\n",
    "             [{\"type\":\"domain\"}, {\"type\":\"domain\"}]]\n",
    "    fig = make_subplots(rows=2, cols=2, specs=specs, subplot_titles=(\"\",\"\",\"\",\"\"))\n",
    "\n",
    "    _add_ring(fig, 1, 1, value_pct, PALETTE[\"value\"],  \"Value\")\n",
    "    _add_ring(fig, 1, 2, price_eff, PALETTE[\"price\"],  \"Price Efficiency\")\n",
    "    _add_ring(fig, 2, 1, atk,       PALETTE[\"attack\"], \"Attack\")\n",
    "    _add_ring(fig, 2, 2, dur,       PALETTE[\"dur\"],    \"Durability\")\n",
    "\n",
    "    # annotate each donut center using its own domain\n",
    "    for tr in fig.data:\n",
    "        if isinstance(tr, go.Pie):\n",
    "            dom = tr.domain\n",
    "            x = (dom.x[0] + dom.x[1]) / 2.0\n",
    "            y = (dom.y[0] + dom.y[1]) / 2.0\n",
    "            filled = float(tr.values[0])\n",
    "            fig.add_annotation(\n",
    "                x=x, y=y, xref=\"paper\", yref=\"paper\",\n",
    "                text=(f\"<span style='font-size:20px; font-weight:700'>{filled:.1f}%</span><br>\"\n",
    "                      f\"<span style='font-size:12px; color:#6b7280'>{tr.name}</span>\"),\n",
    "                showarrow=False\n",
    "            )\n",
    "\n",
    "    fig.update_layout(template=\"plotly_white\", height=580,\n",
    "                      margin=dict(l=20, r=20, t=20, b=20))\n",
    "    return fig\n",
    "\n",
    "\n",
    "# -------------------------\n",
    "# 3) UI controls & styling\n",
    "# -------------------------\n",
    "display(HTML(\"\"\"\n",
    "<style>\n",
    ":root {\n",
    "  --card-bg: #ffffff;\n",
    "  --card-border: #e5e7eb;\n",
    "  --muted: #6b7280;\n",
    "  --accent: #2563eb;\n",
    "}\n",
    "@media (prefers-color-scheme: dark) {\n",
    "  :root {\n",
    "    --card-bg: #0b1220;\n",
    "    --card-border: #1f2937;\n",
    "    --muted: #9ca3af;\n",
    "    --accent: #60a5fa;\n",
    "  }\n",
    "}\n",
    ".jp-RenderedHTMLCommon, .widget-html-content {\n",
    "  font-family: Inter, -apple-system, Segoe UI, Roboto, Helvetica, Arial, sans-serif;\n",
    "  font-size: 14px;\n",
    "}\n",
    ".widget-label { min-width: 120px; }\n",
    ".toolbar {\n",
    "  background: var(--card-bg);\n",
    "  border: 1px solid var(--card-border);\n",
    "  border-radius: 12px;\n",
    "  padding: 8px 10px;\n",
    "  margin: 4px 0 8px;\n",
    "  box-shadow: 0 1px 2px rgba(0,0,0,0.04);\n",
    "}\n",
    ".h2h-card {\n",
    "  background: var(--card-bg);\n",
    "  border: 1px solid var(--card-border);\n",
    "  border-radius: 14px;\n",
    "  padding: 12px 14px;\n",
    "  margin: 4px;\n",
    "  box-shadow: 0 1px 2px rgba(0,0,0,0.06);\n",
    "}\n",
    ".h2h-title { font-weight: 700; margin-bottom: 6px; }\n",
    ".badge {\n",
    "  display: inline-block; padding: 2px 8px; border-radius: 999px;\n",
    "  font-size: 12px; font-weight: 600; background: rgba(37,99,235,0.1); color: var(--accent);\n",
    "}\n",
    ".win { color: var(--accent); font-weight: 800; }\n",
    ".note { color: var(--muted); font-size: 12px; }\n",
    "hr.soft { border: none; border-top: 1px solid var(--card-border); margin: 8px 0; }\n",
    "</style>\n",
    "\"\"\"))\n",
    "\n",
    "# Plotly defaults\n",
    "px.defaults.template = \"plotly_white\"\n",
    "px.defaults.height = 420\n",
    "px.defaults.width = None\n",
    "\n",
    "# Presets & manual weights\n",
    "preset = w.Dropdown(\n",
    "    description='Preset',\n",
    "    options=['Balanced (1/3 each)','Budget Buyer (Price⁻¹↑)','Power User (Attack↑)','Tanky (Durability↑)'],\n",
    "    value='Balanced (1/3 each)'\n",
    ")\n",
    "attack_w_in = w.FloatText(description='Attack w', value=1/3, step=0.01)\n",
    "dur_w_in    = w.FloatText(description='Durab. w', value=1/3, step=0.01)\n",
    "price_w_in  = w.FloatText(description='Price⁻¹ w', value=1/3, step=0.01)\n",
    "\n",
    "# Variant aggregation\n",
    "agg_mode = w.Dropdown(\n",
    "    description='Variants',\n",
    "    options=[\n",
    "        ('Per-variant (none)','per_variant'),\n",
    "        ('Pareto→Best','pareto_or_best'),\n",
    "        ('Best by Value','best_by_value'),\n",
    "        ('Median Stats','median_stats')\n",
    "    ],\n",
    "    value='pareto_or_best'\n",
    ")\n",
    "\n",
    "# Modes\n",
    "mode = w.ToggleButtons(options=['Single', 'Head-to-Head', 'Compare All'], value='Single')\n",
    "\n",
    "# Extra toggle: value% normalization to top\n",
    "value_relative_chk = w.Checkbox(description='Scale Value% so top = 100', value=True)\n",
    "\n",
    "# Head-to-Head controls\n",
    "names_init = sorted(df['Name'].dropna().unique().tolist())\n",
    "swap_btn = w.Button(description='Swap', tooltip='Swap left/right selections')\n",
    "left_dd  = w.Dropdown(description='Left',  options=names_init, value=names_init[0] if names_init else None)\n",
    "right_dd = w.Dropdown(description='Right', options=names_init, value=names_init[1] if len(names_init)>1 else (names_init[0] if names_init else None))\n",
    "\n",
    "# Single weapon control\n",
    "weapon_dd = w.Dropdown(description='Weapon', options=names_init, value=names_init[0] if names_init else None)\n",
    "\n",
    "# Ranking controls (simplified)\n",
    "rank_metric = w.Dropdown(\n",
    "    description='Rank by',\n",
    "    options=['Value %','Price Efficiency %','Attack Score','Durability Score',\n",
    "             'Price','Physical Attack','Durability'],\n",
    "    value='Value %'\n",
    ")\n",
    "rank_asc = w.Checkbox(description='Ascending', value=False)\n",
    "rank_topn = w.IntSlider(description='Top-N', min=5, max=max(5, min(100, len(names_init))), step=1,\n",
    "                        value=min(15, max(5, len(names_init))), continuous_update=False)\n",
    "\n",
    "# Outputs\n",
    "out_main = w.Output()\n",
    "out_rank = w.Output()\n",
    "\n",
    "# ----------------------\n",
    "# 4) Ranking API (DF out)\n",
    "# ----------------------\n",
    "def get_ranked_df(\n",
    "    metric: str = \"Value %\",\n",
    "    ascending: bool = False,\n",
    "    topn: int = 15,\n",
    "    variant_mode: str = \"pareto_or_best\",\n",
    "    wa: float = 1/3, wd: float = 1/3, wp: float = 1/3\n",
    ") -> pd.DataFrame:\n",
    "    \"\"\"\n",
    "    Return a ranked view of the (scored + aggregated) dataset.\n",
    "\n",
    "    Parameters\n",
    "    ----------\n",
    "    metric : str, default 'Value %'\n",
    "        Column to sort by.\n",
    "    ascending : bool, default False\n",
    "        Sort order.\n",
    "    topn : int, default 15\n",
    "        Number of rows to return.\n",
    "    variant_mode : str, default 'pareto_or_best'\n",
    "        Aggregation mode (passed to `current_scored`).\n",
    "    wa, wd, wp : float, default 1/3 each\n",
    "        Weights for Attack, Durability, and inverse-Price.\n",
    "\n",
    "    Returns\n",
    "    -------\n",
    "    pandas.DataFrame\n",
    "        Top-N ranked DataFrame with key score columns.\n",
    "\n",
    "    Raises\n",
    "    ------\n",
    "    ValueError\n",
    "        If the requested `metric` is not present in the scored view.\n",
    "    \"\"\"\n",
    "    scored = current_scored(wa, wd, wp, variant_mode)\n",
    "    cols = ['Name','Price','Physical Attack','Durability',\n",
    "            'Value %','Price Efficiency %','Attack Score','Durability Score','Variants @Price']\n",
    "    avail = [c for c in cols if c in scored.columns]\n",
    "    view = scored[avail].copy()\n",
    "    if metric not in view.columns:\n",
    "        raise ValueError(f\"Metric '{metric}' not found. Available: {view.columns.tolist()}\")\n",
    "    return (view.sort_values(metric, ascending=ascending)\n",
    "                .head(int(topn)).reset_index(drop=True))\n",
    "\n",
    "# -------------------------\n",
    "# 5) Render & interactions\n",
    "# -------------------------\n",
    "def apply_preset(label: str) -> Tuple[float,float,float]:\n",
    "    \"\"\"\n",
    "    Map preset label to raw (Attack, Durability, Price⁻¹) weights.\n",
    "\n",
    "    Parameters\n",
    "    ----------\n",
    "    label : str\n",
    "        Preset label.\n",
    "\n",
    "    Returns\n",
    "    -------\n",
    "    tuple(float, float, float)\n",
    "        Raw weights before normalization.\n",
    "    \"\"\"\n",
    "    if label.startswith('Balanced'):     return (1/3,1/3,1/3)\n",
    "    if label.startswith('Budget Buyer'): return (0.2,0.2,0.6)\n",
    "    if label.startswith('Power User'):   return (0.6,0.2,0.2)\n",
    "    if label.startswith('Tanky'):        return (0.2,0.6,0.2)\n",
    "    return (1/3,1/3,1/3)\n",
    "\n",
    "\n",
    "def _effective_weights() -> Tuple[float,float,float]:\n",
    "    \"\"\"\n",
    "    Normalize current manual weights to sum to 1.\n",
    "\n",
    "    Returns\n",
    "    -------\n",
    "    tuple(float, float, float)\n",
    "        (wa, wd, wp) that sum to 1, or (1/3,1/3,1/3) if total <= 0.\n",
    "    \"\"\"\n",
    "    a, d, p = float(attack_w_in.value or 0), float(dur_w_in.value or 0), float(price_w_in.value or 0)\n",
    "    s = a + d + p\n",
    "    if s <= 0:\n",
    "        return (1/3, 1/3, 1/3)\n",
    "    return (a/s, d/s, p/s)\n",
    "\n",
    "\n",
    "def _winner_tag(a: float, b: float) -> tuple[str, str]:\n",
    "    \"\"\"\n",
    "    Determine CSS 'winner' class for a pairwise comparison.\n",
    "\n",
    "    Parameters\n",
    "    ----------\n",
    "    a, b : float\n",
    "        Values to compare.\n",
    "\n",
    "    Returns\n",
    "    -------\n",
    "    tuple(str, str)\n",
    "        ('win','') if a>b; ('','win') if b>a; otherwise ('','').\n",
    "    \"\"\"\n",
    "    if not np.isfinite(a) or not np.isfinite(b) or a == b:\n",
    "        return \"\", \"\"\n",
    "    return (\"win\",\"\") if a > b else (\"\",\"win\")\n",
    "\n",
    "\n",
    "def _best_row_for_name(scored: pd.DataFrame, nm: str) -> Optional[pd.Series]:\n",
    "    \"\"\"\n",
    "    Select the best variant row for a given weapon name (highest 'Value %').\n",
    "\n",
    "    Parameters\n",
    "    ----------\n",
    "    scored : pandas.DataFrame\n",
    "        Scored dataset (possibly aggregated).\n",
    "    nm : str\n",
    "        Weapon name to select.\n",
    "\n",
    "    Returns\n",
    "    -------\n",
    "    pandas.Series or None\n",
    "        The best row for `nm`, or None if not found.\n",
    "    \"\"\"\n",
    "    cand = scored[scored['Name'] == nm]\n",
    "    if cand.empty:\n",
    "        return None\n",
    "    return cand.loc[cand['Value %'].idxmax()]\n",
    "\n",
    "\n",
    "def _format_price(x) -> str:\n",
    "    \"\"\"\n",
    "    Human-readable price formatter.\n",
    "\n",
    "    Parameters\n",
    "    ----------\n",
    "    x : float or int\n",
    "        Price value.\n",
    "\n",
    "    Returns\n",
    "    -------\n",
    "    str\n",
    "        Price with thousands separators, or the raw string if not finite.\n",
    "    \"\"\"\n",
    "    return f\"{int(x):,}\" if np.isfinite(x) else str(x)\n",
    "\n",
    "\n",
    "def toolbar(*widgets) -> w.Box:\n",
    "    \"\"\"\n",
    "    Wrap controls in a styled toolbar box with spacing.\n",
    "\n",
    "    Parameters\n",
    "    ----------\n",
    "    *widgets\n",
    "        Any ipywidgets instances to include in the toolbar.\n",
    "\n",
    "    Returns\n",
    "    -------\n",
    "    ipywidgets.Box\n",
    "        A Box container with preset spacing and CSS class.\n",
    "    \"\"\"\n",
    "    return w.Box(children=list(widgets),\n",
    "                 layout=w.Layout(gap=\"10px\"),\n",
    "                 _dom_classes=[\"toolbar\"])\n",
    "\n",
    "\n",
    "# Re-entrancy guards to prevent duplicate renders\n",
    "_RENDERING = False\n",
    "_RENDERING_RANK = False\n",
    "\n",
    "def render(_=None) -> None:\n",
    "    \"\"\"\n",
    "    Main dashboard renderer (Single / Head-to-Head / Compare All).\n",
    "\n",
    "    Notes\n",
    "    -----\n",
    "    - Re-entrancy guard prevents duplicate renders when presets programmatically\n",
    "      update manual weight inputs.\n",
    "    - Uses the current preset/manual weights and variant aggregation to produce\n",
    "      donuts (Single), H2H cards/bars (Head-to-Head), or overview plots (Compare All).\n",
    "    \"\"\"\n",
    "    global _RENDERING\n",
    "    if _RENDERING:\n",
    "        return\n",
    "    _RENDERING = True\n",
    "    try:\n",
    "        with out_main:\n",
    "            clear_output(wait=True)\n",
    "\n",
    "            # Apply preset → set manual inputs (without spamming events)\n",
    "            pa, pd_, pp = apply_preset(preset.value)\n",
    "            for widget, val in ((attack_w_in, pa), (dur_w_in, pd_), (price_w_in, pp)):\n",
    "                try:\n",
    "                    with widget.hold_trait_notifications():\n",
    "                        widget.value = float(val)\n",
    "                except Exception:\n",
    "                    widget.value = float(val)\n",
    "\n",
    "            wa, wd, wp = _effective_weights()\n",
    "\n",
    "            # Score and aggregate per current variant mode\n",
    "            scored = current_scored(wa, wd, wp, agg_mode.value)\n",
    "\n",
    "            # Top control bar (manual weights)\n",
    "            display(toolbar(preset, attack_w_in, dur_w_in, price_w_in, agg_mode, value_relative_chk))\n",
    "            display(HTML(f\"<div class='note'><b>Effective weights</b>: \"\n",
    "                         f\"Attack {wa:.2f} · Durability {wd:.2f} · Price⁻¹ {wp:.2f}</div>\"))\n",
    "\n",
    "            # Mode-specific controls\n",
    "            if mode.value == 'Single':\n",
    "                # Keep dropdown in sync\n",
    "                weapon_dd.options = sorted(scored['Name'].dropna().unique().tolist())\n",
    "                if weapon_dd.value not in weapon_dd.options and weapon_dd.options:\n",
    "                    weapon_dd.value = weapon_dd.options[0]\n",
    "                display(toolbar(weapon_dd))\n",
    "\n",
    "                sel = scored.loc[scored['Name'] == weapon_dd.value]\n",
    "                if not sel.empty:\n",
    "                    r = sel.iloc[0]\n",
    "                    fig = ring_2x2(\n",
    "                        value_pct = float(r['Value %']),\n",
    "                        price_eff = float(r['Price Efficiency %']),\n",
    "                        atk       = float(r['Attack Score']),\n",
    "                        dur       = float(r['Durability Score'])\n",
    "                    )\n",
    "                    display(fig)\n",
    "                    price_text = _format_price(r[\"Price\"])\n",
    "                    display(HTML(f\"<div class='note'>Price: {price_text} · Variants @Price: \"\n",
    "                                 f\"{int(r['Variants @Price']) if np.isfinite(r['Variants @Price']) else r['Variants @Price']}</div>\"))\n",
    "                else:\n",
    "                    display(HTML(\"<i>No selection available under current filters.</i>\"))\n",
    "\n",
    "            elif mode.value == 'Head-to-Head':\n",
    "                names_now = sorted(scored['Name'].dropna().unique().tolist())\n",
    "\n",
    "                # Sync dropdowns\n",
    "                left_dd.options = names_now\n",
    "                right_dd.options = names_now\n",
    "                if left_dd.value not in names_now and names_now:\n",
    "                    left_dd.value = names_now[0]\n",
    "                if right_dd.value not in names_now and len(names_now) > 1:\n",
    "                    right_dd.value = names_now[1] if left_dd.value == names_now[0] else names_now[0]\n",
    "\n",
    "                # UI row: left | swap | right\n",
    "                top_row = toolbar(left_dd, swap_btn, right_dd)\n",
    "                display(top_row)\n",
    "\n",
    "                lrow = _best_row_for_name(scored, left_dd.value)\n",
    "                rrow = _best_row_for_name(scored, right_dd.value)\n",
    "\n",
    "                if lrow is None or rrow is None:\n",
    "                    display(HTML(\"<i>Pick two valid weapons to compare.</i>\"))\n",
    "                else:\n",
    "                    # Winner highlights\n",
    "                    lv, rv = float(lrow['Value %']), float(rrow['Value %'])\n",
    "                    lve, rve = _winner_tag(lv, rv)\n",
    "                    lpe, rpe = _winner_tag(float(lrow['Price Efficiency %']), float(rrow['Price Efficiency %']))\n",
    "                    lak, rak = _winner_tag(float(lrow['Attack Score']), float(rrow['Attack Score']))\n",
    "                    ldu, rdu = _winner_tag(float(lrow['Durability Score']), float(rrow['Durability Score']))\n",
    "\n",
    "                    # Headline cards\n",
    "                    html = f\"\"\"\n",
    "                    <div style=\"display:flex; gap:12px; margin-top:8px;\">\n",
    "                      <div class=\"h2h-card\" style=\"flex:1;\">\n",
    "                        <div class=\"h2h-title\">{left_dd.value} <span class=\"badge\">{'Winner' if lve=='win' else 'Challenger'}</span></div>\n",
    "                        <div>Value: <span class=\"{lve}\">{lv:.1f}%</span></div>\n",
    "                        <div>Price Eff.: <span class=\"{lpe}\">{float(lrow['Price Efficiency %']):.1f}%</span></div>\n",
    "                        <div>Attack: <span class=\"{lak}\">{float(lrow['Attack Score']):.1f}%</span></div>\n",
    "                        <div>Durability: <span class=\"{ldu}\">{float(lrow['Durability Score']):.1f}%</span></div>\n",
    "                        <div class=\"note\" style=\"margin-top:4px;\">Price: {_format_price(lrow['Price'])} · Variants @Price: {int(lrow['Variants @Price']) if np.isfinite(lrow['Variants @Price']) else lrow['Variants @Price']}</div>\n",
    "                      </div>\n",
    "                      <div class=\"h2h-card\" style=\"flex:1;\">\n",
    "                        <div class=\"h2h-title\">{right_dd.value} <span class=\"badge\">{'Winner' if rve=='win' else 'Challenger'}</span></div>\n",
    "                        <div>Value: <span class=\"{rve}\">{rv:.1f}%</span></div>\n",
    "                        <div>Price Eff.: <span class=\"{rpe}\">{float(rrow['Price Efficiency %']):.1f}%</span></div>\n",
    "                        <div>Attack: <span class=\"{rak}\">{float(rrow['Attack Score']):.1f}%</span></div>\n",
    "                        <div>Durability: <span class=\"{rdu}\">{float(rrow['Durability Score']):.1f}%</span></div>\n",
    "                        <div class=\"note\" style=\"margin-top:4px;\">Price: {_format_price(rrow['Price'])} · Variants @Price: {int(rrow['Variants @Price']) if np.isfinite(rrow['Variants @Price']) else rrow['Variants @Price']}</div>\n",
    "                      </div>\n",
    "                    </div>\n",
    "                    \"\"\"\n",
    "                    display(HTML(html))\n",
    "\n",
    "                    # Bar comparison on key metrics\n",
    "                    comp_df = pd.DataFrame({\n",
    "                        'Metric': ['Value %','Price Efficiency %','Attack Score','Durability Score'],\n",
    "                        left_dd.value: [lv, float(lrow['Price Efficiency %']), float(lrow['Attack Score']), float(lrow['Durability Score'])],\n",
    "                        right_dd.value: [rv, float(rrow['Price Efficiency %']), float(rrow['Attack Score']), float(rrow['Durability Score'])]\n",
    "                    })\n",
    "                    comp_m = comp_df.melt(id_vars='Metric', var_name='Weapon', value_name='Score')\n",
    "                    fig_comp = px.bar(\n",
    "                        comp_m, x='Metric', y='Score', color='Weapon', barmode='group',\n",
    "                        title='Head-to-Head — Key Metrics'\n",
    "                    )\n",
    "                    fig_comp.update_layout(margin=dict(l=10,r=10,t=50,b=10), height=420)\n",
    "                    fig_comp.update_traces(texttemplate='%{y:.1f}', textposition='outside', cliponaxis=False)\n",
    "                    display(fig_comp)\n",
    "\n",
    "            else:  # Compare All (always all items)\n",
    "                comp = scored.copy()\n",
    "                if not comp.empty:\n",
    "                    fig_bar = px.bar(\n",
    "                        comp.sort_values('Value %', ascending=False),\n",
    "                        x='Name', y='Value %',\n",
    "                        hover_data={'Price':':,','Physical Attack':':.0f','Durability':':.0f',\n",
    "                                    'Variants @Price':':.0f','Price Efficiency %':':.1f',\n",
    "                                    'Attack Score':':.1f','Durability Score':':.1f'},\n",
    "                        title='Overall Value % (Current Weights)'\n",
    "                    )\n",
    "                    fig_bar.update_traces(texttemplate='%{y:.1f}', textposition='outside', cliponaxis=False)\n",
    "                    fig_bar.update_layout(margin=dict(l=10,r=10,t=50,b=10), height=420)\n",
    "\n",
    "                    rad = comp[['Name','Price Efficiency %','Attack Score','Durability Score']].melt(\n",
    "                        id_vars='Name', var_name='Metric', value_name='Score'\n",
    "                    )\n",
    "                    fig_radar = px.line_polar(\n",
    "                        rad, r='Score', theta='Metric', color='Name', line_close=True,\n",
    "                        title='Component Scores (Current Weights)'\n",
    "                    )\n",
    "                    fig_radar.update_traces(mode='lines+markers')\n",
    "                    fig_radar.update_layout(\n",
    "                        polar=dict(radialaxis=dict(range=[0,100], tickfont=dict(size=10))),\n",
    "                        margin=dict(l=10,r=10,t=50,b=10), height=420\n",
    "                    )\n",
    "\n",
    "                    left, right = w.Output(), w.Output()\n",
    "                    with left: display(fig_bar)\n",
    "                    with right: display(fig_radar)\n",
    "                    display(w.HBox([left, right]))\n",
    "                else:\n",
    "                    display(HTML(\"<i>No items to compare.</i>\"))\n",
    "    finally:\n",
    "        _RENDERING = False\n",
    "\n",
    "\n",
    "def render_ranking(_=None) -> None:\n",
    "    \"\"\"\n",
    "    Render the interactive ranking controls and table.\n",
    "\n",
    "    Notes\n",
    "    -----\n",
    "    - Ranking reflects the current effective weights and variant aggregation.\n",
    "    - UI intentionally minimal: Rank-by selector, ascending toggle, and Top-N.\n",
    "    \"\"\"\n",
    "    global _RENDERING_RANK\n",
    "    if _RENDERING_RANK:\n",
    "        return\n",
    "    _RENDERING_RANK = True\n",
    "    try:\n",
    "        with out_rank:\n",
    "            clear_output(wait=True)\n",
    "            wa, wd, wp = _effective_weights()\n",
    "\n",
    "            ranked = get_ranked_df(\n",
    "                metric=rank_metric.value,\n",
    "                ascending=rank_asc.value,\n",
    "                topn=rank_topn.value,\n",
    "                variant_mode=agg_mode.value,\n",
    "                wa=wa, wd=wd, wp=wp\n",
    "            )\n",
    "\n",
    "            display(HTML(\"<hr class='soft'><h3 style='margin:6px 0;'>Interactive Ranking</h3>\"))\n",
    "            ctrls = toolbar(rank_metric, rank_asc, rank_topn)\n",
    "            display(ctrls)\n",
    "            try:\n",
    "                display(ranked.style.hide(axis='index'))\n",
    "            except Exception:\n",
    "                display(ranked)\n",
    "    finally:\n",
    "        _RENDERING_RANK = False\n",
    "\n",
    "# ------------- wiring & launch -------------\n",
    "def _on_swap(_btn):\n",
    "    \"\"\"\n",
    "    Swap left/right selections for Head-to-Head.\n",
    "\n",
    "    Parameters\n",
    "    ----------\n",
    "    _btn : ipywidgets.Button\n",
    "        The button instance (unused).\n",
    "    \"\"\"\n",
    "    left_dd.value, right_dd.value = right_dd.value, left_dd.value\n",
    "\n",
    "swap_btn.on_click(_on_swap)\n",
    "\n",
    "# Any change here re-renders dashboard\n",
    "for ctl in (preset, attack_w_in, dur_w_in, price_w_in, agg_mode, mode,\n",
    "            weapon_dd, left_dd, right_dd, value_relative_chk):\n",
    "    ctl.observe(render, names='value')\n",
    "\n",
    "# Ranking reacts to these as well\n",
    "for ctl in (rank_metric, rank_asc, rank_topn,\n",
    "            agg_mode, attack_w_in, dur_w_in, price_w_in, value_relative_chk):\n",
    "    ctl.observe(render_ranking, names='value')\n",
    "\n",
    "display(mode)\n",
    "render()\n",
    "display(out_main)\n",
    "render_ranking()\n",
    "display(out_rank)"
   ]
  },
  {
   "cell_type": "markdown",
   "metadata": {},
   "source": [
    "## Discussion\n",
    "\n",
    "- One or two paragraphs to summarize your findings in the modeling sections and do the models answer your research question?\r",
    "- Any other potential thing you can do with the analysis (eg: include more features, get more data, try some other models etc.)\n",
    "- List the contribution for each group member."
   ]
  }
 ],
 "metadata": {
  "kernelspec": {
   "display_name": "Python 3 (ipykernel)",
   "language": "python",
   "name": "python3"
  },
  "language_info": {
   "codemirror_mode": {
    "name": "ipython",
    "version": 3
   },
   "file_extension": ".py",
   "mimetype": "text/x-python",
   "name": "python",
   "nbconvert_exporter": "python",
   "pygments_lexer": "ipython3",
   "version": "3.10.13"
  },
  "widgets": {
   "application/vnd.jupyter.widget-state+json": {
    "state": {},
    "version_major": 2,
    "version_minor": 0
   }
  }
 },
 "nbformat": 4,
 "nbformat_minor": 4
}
