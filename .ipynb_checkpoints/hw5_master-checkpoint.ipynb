{
 "cells": [
  {
   "cell_type": "markdown",
   "metadata": {},
   "source": [
    "# DS 3000 HW 5 \n",
    "\n",
    "Due: Sunday July 20th @ 11:59 PM EST\n",
    "\n",
    "### Submission Instructions\n",
    "Submit this `ipynb` file and the a `PDF` file included with the coding results to Gradescope (this can also be done via the assignment on Canvas).  To ensure that your submitted files represent your latest code, make sure to give a fresh `Kernel > Restart & Run All` just before uploading the files to gradescope. \n",
    "\n",
    "**Notice that this is a group assignment. Each group only need to submit one copy and when you submit the work, please include everyone in your group.**\n",
    "\n",
    "### Tips for success\n",
    "- Start early\n",
    "- Make use of Piazza\n",
    "- Make use of Office hour\n",
    "- Remember to use cells and headings to make the notebook easy to read (if a grader cannot find the answer to a problem, you will receive no points for it)\n",
    "- Under no circumstances may one student view or share their ungraded homework or quiz with another student [(see also)](http://www.northeastern.edu/osccr/academic-integrity), though you are welcome to **talk about** (not show each other) the problems."
   ]
  },
  {
   "cell_type": "markdown",
   "metadata": {},
   "source": [
    "## Project proposal\n",
    "\n",
    "For this course, we aim to complete a data analysis project about the the game [Palworld](https://en.wikipedia.org/wiki/Palworld). To help you start with the project, here are a couple of things you need to consider and work on to get a clean data for later analysis. \n",
    "\n",
    "To start with the project, please take some time to get familiar with the game. You don't need to play it but please at least know the basic terminologies, like what is a Pal. (And also, if you do play it, please do not spend too much time on it.)\n",
    "\n",
    "The two recommended database is [https://palworld.gg/](https://palworld.gg/) and [https://paldb.cc/en/](https://paldb.cc/en/). You can use either, or both, or some other database about the Palworld. "
   ]
  },
  {
   "cell_type": "markdown",
   "metadata": {},
   "source": [
    "### Part 1.1 (10 points)\n",
    "\n",
    "Please list 2-3 questions you may be interested to study with the Palworld database. It can be anything related in the game, like the Pals, items or constructions. Some potential question structures can be: \n",
    "- Are `A` and `B` related? How they are related?\n",
    "- Which features may affect `C`'s change?\n",
    "- If I need a higher `D`, which features may have a lower/higher value?\n",
    "- Based on `E` and `F`, which items/pals are similar?\n",
    "- I need to predict the value for `G`, which features I need to consider?"
   ]
  },
  {
   "cell_type": "markdown",
   "metadata": {},
   "source": [
    "#### Part 1.1 Solution"
   ]
  },
  {
   "cell_type": "markdown",
   "metadata": {},
   "source": [
    "1. Which of the Pal's stats best predict the rarity of the Pal/which Pal is the best in each rarity group?\n",
    "   - Regression + Scatterplot\n",
    "\n",
    "   \n",
    "3. Is there a correlation between Pal work suitability and Pal element? How are they related?\n",
    "\n",
    "   \n",
    "5. What is the value of a weapon item? What is the correlation between physical attack and price? Durability and price?"
   ]
  },
  {
   "cell_type": "markdown",
   "metadata": {},
   "source": [
    "### Part 1.2 (20 points)\n",
    "\n",
    "Based on the questions we proposed in the part 1.1, what features we may need to include in the analysis? Check the websites, which website has those information? **You need to pick at least 8 features for analysis.** We recommend a mix of numerical (numbers etc.) and categorical (level etc.) features. Is there any other features that you think it may be important but hard to extract or find on the website (can be something in or not in the game)?"
   ]
  },
  {
   "cell_type": "markdown",
   "metadata": {},
   "source": [
    "#### Part 1.2 Solution"
   ]
  },
  {
   "cell_type": "markdown",
   "metadata": {},
   "source": [
    "The eight features selected for analysis are Pal stats, Pal rarity, Pal element, Pal work suitability, item price, item durability, item weight, and item physical attack. The numerical features are Pal stats, item price, item durability, item weight, and item physical attack. Work suitability could technically also be considered numerical (there is a categorical and numerical aspect to this feature)."
   ]
  },
  {
   "cell_type": "markdown",
   "metadata": {},
   "source": [
    "### Part 1.3 (20 points)\n",
    "\n",
    "Suppose you do have all the features you mentioned in part 1.2. List 3-4 data visulizations you can make with those features. You do not need to make those visulizations here. Just describe the type of the visualizations (histogram, scatter plot etc. ), which features are involved, will there any hover data or color being added, and **discuss how these data visualizations may be related (or even answer) to your questions in part 1.1**. "
   ]
  },
  {
   "cell_type": "markdown",
   "metadata": {},
   "source": [
    "#### Part 1.3 Solution"
   ]
  },
  {
   "cell_type": "markdown",
   "metadata": {},
   "source": [
    "Which of the Pal's stats best predict the rarity of the Pal/which Pal is the best in each rarity group?\n",
    "  1) A scatterplot where the x-axis is one of the Pal's stats or a combined number representing all of the stats and the y-axis is the Pal's rarity\n",
    "  2) A scatterplot where color represents the rarity and the x-axis and y-axis are two different stats that I can pull like attack and defense\n",
    "  Both of these visualizations allow us to see the relationship between various Pal stats and a Pal's rarity, and will provide insight into the predictive power of certain stats vs. others.\n",
    "\n",
    "Is there a correlation between Pal work suitability and Pal element? How are they related?\n",
    "  1) A heatmap which contains work suitabilities on the x-axis and elements on the y-axis. The shade of the heatmap will be dependent on the numerical average of a particular work suitability for Pal's with a particular element.\n",
    "  The heatmap will reveal insight into whether there are certain work suitabilities associated with certain elements. Using this heatmap, we could then visualize the relationship between a certain work suitability and certain element which have a darker shading (higher numerical average of work suitability), to see if there is an actual relationship.\n",
    "\n",
    "What is the value of a weapon item? What is the correlation between physical attack and price? Durability and price?\n",
    "  1) A scatter plot where the x-axis represents the physical attack value and the y-axis represents the item price. Each point on the plot will correspond to an individual item. \n",
    "  This visualization is designed to reveal whether items with higher attack values tend to be more expensive, allowing us to examine pricing trends and identify any correlations or outliers. This analysis directly supports our research question about item value."
   ]
  },
  {
   "cell_type": "markdown",
   "metadata": {},
   "source": [
    "### Part 1.4  (50 points)\n",
    "\n",
    "Now, go ahead and try to scrape the features you need. \n",
    "\n",
    "Please show all the codes you have for web scrapping. Your current output data frame should include at least 4 features. (You do not need to scrape all features at this moment, although it is recommend to start earlier. Also, you can choose to not to use the ones you have scraped in the later analysis. No need to worry if you need to change anything later). **Please design your code in pipeline and clearly document each function.** See the Python Style Guide in Week 1 for proper documentation. It is also recommended to save the data you have scrapped. "
   ]
  },
  {
   "cell_type": "markdown",
   "metadata": {},
   "source": [
    "#### Part 1.4 Solution - Functions to extract Pal dataframe"
   ]
  },
  {
   "cell_type": "code",
   "execution_count": 8,
   "metadata": {},
   "outputs": [],
   "source": [
    "import warnings\n",
    "warnings.simplefilter(action='ignore', category=FutureWarning)\n",
    "import pandas as pd\n",
    "import seaborn as sns\n",
    "from sklearn import tree\n",
    "import matplotlib.pyplot as plt\n",
    "import numpy as np\n",
    "from sklearn.model_selection import StratifiedKFold, KFold\n",
    "from sklearn.metrics import confusion_matrix, ConfusionMatrixDisplay\n",
    "from sklearn.metrics import accuracy_score\n",
    "from sklearn.ensemble import RandomForestClassifier\n",
    "from sklearn.metrics import r2_score\n",
    "import pylab as py\n",
    "import scipy.stats as stats\n",
    "import requests\n",
    "from bs4 import BeautifulSoup\n",
    "import pandas as pd"
   ]
  },
  {
   "cell_type": "code",
   "execution_count": 9,
   "metadata": {},
   "outputs": [],
   "source": [
    "def get_html(url):\n",
    "    \"\"\"\n",
    "    Retrieve HTML content from a given URL\n",
    "\n",
    "    Args:\n",
    "        url (str): The webpage URL to fetch HTML from\n",
    "\n",
    "    Returns:\n",
    "        str: HTML content as a string.\n",
    "    \"\"\"\n",
    "    response = requests.get(url)\n",
    "    return response.text"
   ]
  },
  {
   "cell_type": "code",
   "execution_count": 10,
   "metadata": {},
   "outputs": [],
   "source": [
    "def extract_pal_links(html):\n",
    "    \"\"\"\n",
    "    Extracts and returns a list of links to pals from the HTML soup object.\n",
    "    \n",
    "    Args:\n",
    "        html (string): html text of a webpage\n",
    "        \n",
    "    Returns:\n",
    "        pal_links (list): A list of full URLs to individual pal pages.\n",
    "    \"\"\"\n",
    "    # parse HTML content to create soup\n",
    "    soup = BeautifulSoup(html)\n",
    "    \n",
    "    pal_links = []  # Create an empty list to store full URLs\n",
    "\n",
    "    # Find all <div> elements with class pal\n",
    "    for pal_div in soup.find_all('div', class_='pal'):\n",
    "        \n",
    "        # Inside each <div class='pal'>, find the first <a> tag\n",
    "        a_tag = pal_div.find('a')\n",
    "        \n",
    "        # Check if the <a> tag exists and has an 'href' attribute\n",
    "        if a_tag and a_tag.has_attr('href'):\n",
    "            # Build the full link by appending the relative path to the base URL\n",
    "            full_link = 'https://palworld.gg' + a_tag['href']\n",
    "            pal_links.append(full_link)\n",
    "\n",
    "    return pal_links"
   ]
  },
  {
   "cell_type": "code",
   "execution_count": 11,
   "metadata": {},
   "outputs": [],
   "source": [
    "def fetch_pal_data(pal_links):\n",
    "    \"\"\"\n",
    "    Given a list of Palworld page links, fetch each page and extract the pal's name and stats.\n",
    "\n",
    "    Args:\n",
    "        pal_links (list): A list of full URLs to individual pal pages.\n",
    "\n",
    "    Returns:\n",
    "        pal_data (dictionary): dictionary containing a pal's name, link, and stats.\n",
    "    \"\"\"    \n",
    "    name, href, stats = [], [], []\n",
    "\n",
    "    for link in pal_links:\n",
    "        # Request the HTML content of each pal's page\n",
    "        response = requests.get(link)\n",
    "        if response.status_code != 200:\n",
    "            continue\n",
    "\n",
    "        # Parse the HTML using BeautifulSoup\n",
    "        pal_soup = BeautifulSoup(response.text, 'html.parser')\n",
    "\n",
    "        # Get the pal's name from the <h1> tag\n",
    "        name_tag = pal_soup.find('h1')\n",
    "        pal_name = name_tag.text.strip() if name_tag else 'Unknown'\n",
    "\n",
    "        # Dictionary to store stats like HP, Attack, etc.\n",
    "        stats_dict = {}\n",
    "\n",
    "        # Look for the section containing stats\n",
    "        stats_div = pal_soup.find('div', class_='stats')\n",
    "        if stats_div:\n",
    "            items_div = stats_div.find('div', class_='items')\n",
    "            if items_div:\n",
    "                # Loop through all stat items\n",
    "                for item in items_div.find_all('div', class_='item'):\n",
    "                    stat_name_tag = item.find('div', class_='name')\n",
    "                    stat_value_tag = item.find('div', class_='value')\n",
    "                    if stat_name_tag and stat_value_tag:\n",
    "                        stat_name = stat_name_tag.text.strip()\n",
    "                        stat_value = stat_value_tag.text.strip()\n",
    "                        stats_dict[stat_name] = stat_value\n",
    "\n",
    "        # Save the collected data into corresponding lists\n",
    "        name.append(pal_name)\n",
    "        href.append(link)\n",
    "        stats.append(stats_dict)\n",
    "        \n",
    "    pal_data = {'Name': name, 'Link': href, 'Stats': stats}\n",
    "\n",
    "\n",
    "    return pal_data"
   ]
  },
  {
   "cell_type": "code",
   "execution_count": 12,
   "metadata": {},
   "outputs": [],
   "source": [
    "def add_rarity_info(pal_data):\n",
    "    \"\"\"\n",
    "    Adds rarity_level and rarity_name to each pal dictionary\n",
    "    \n",
    "    Args:\n",
    "        pal_data (dictionary): contains pal info with at least a 'Link' key.\n",
    "        \n",
    "    Returns:\n",
    "        pal_data (dictionary): 'Rarity Level' and 'Rarity Name' fields added\n",
    "    \"\"\"\n",
    "    # empty lists to store rarity level and rarity name\n",
    "    rar_level, rar_name = [], []\n",
    "    \n",
    "    for link in pal_data['Link']:\n",
    "        html = get_html(link)  # FIXED: now using each Pal's page\n",
    "        soup = BeautifulSoup(html, 'html.parser')\n",
    "\n",
    "        # Find the rarity div\n",
    "        rarity_div = soup.find('div', class_='rarity')\n",
    "        rarity_level, rarity_name = None, None\n",
    "        if rarity_div:\n",
    "            lv_tag = rarity_div.find('div', class_='lv')\n",
    "            name_tag = rarity_div.find('div', class_='name')\n",
    "            if lv_tag and name_tag:\n",
    "                rarity_level = lv_tag.text.strip()\n",
    "                rarity_name = name_tag.text.strip()\n",
    "\n",
    "        rar_level.append(rarity_level)\n",
    "        rar_name.append(rarity_name)\n",
    "        \n",
    "    pal_data['Rarity Level'] = rar_level\n",
    "    pal_data['Rarity Name'] = rar_name\n",
    "\n",
    "    return pal_data"
   ]
  },
  {
   "cell_type": "code",
   "execution_count": 18,
   "metadata": {},
   "outputs": [],
   "source": [
    "def add_element_work(pal_data):\n",
    "    \"\"\"\n",
    "    Adds element and work suitability to pal_data\n",
    "    \n",
    "    Args:\n",
    "        pal_data (dictionary): Dictionary, with at least a 'Link' key.\n",
    "        \n",
    "    Returns:\n",
    "        pal_data (dictionary): 'Element', 'Work Suitability' added\n",
    "    \n",
    "    \"\"\"\n",
    "    # empty lists to store element and work suitability\n",
    "    element, work = [], []\n",
    "    \n",
    "    # iterate through all links\n",
    "    for link in pal_data['Link']:\n",
    "        \n",
    "        # get HTML\n",
    "        html = get_html(link)\n",
    "        # Parse the HTML content\n",
    "        soup = BeautifulSoup(html)\n",
    "        \n",
    "        # to store all elements of each pal\n",
    "        pal_element = []\n",
    "        \n",
    "        # get contents of first div with class elements\n",
    "        elements_div = soup.find('div', class_='elements')\n",
    "\n",
    "        # get text from each element and append to pal_element\n",
    "        for el in elements_div.find_all('div', class_='name'):\n",
    "                    element_text = el.text.strip()\n",
    "                    pal_element.append(element_text)\n",
    "        \n",
    "        # empty dict to store work suitability and level\n",
    "        work_level = {}\n",
    "\n",
    "        # get contents of first div with class works\n",
    "        works_div = soup.find('div', class_='works')\n",
    "\n",
    "        # iterates through contents of work_div with div and class item\n",
    "        for item in works_div.find_all('div', class_='item'):\n",
    "            \n",
    "            # only extracts displayed items\n",
    "            if 'display:none' not in item.get('style', ''):\n",
    "                if 'Lv' in item.text:\n",
    "                    work_suit, level = item.text.split('Lv')\n",
    "                    work_level[work_suit] = int(level)\n",
    "                else:\n",
    "                    work_suit = item.text.strip()\n",
    "                    work_level[work_suit] = ''\n",
    "        \n",
    "        # appends pal_element and work_level to the larger element and work lists\n",
    "        element.append(pal_element)\n",
    "        work.append(work_level)\n",
    "    \n",
    "    # adds to dictionary\n",
    "    pal_data['Element'] = element\n",
    "    pal_data['Work Suitability'] = work\n",
    "    \n",
    "    return pal_data"
   ]
  },
  {
   "cell_type": "code",
   "execution_count": 20,
   "metadata": {},
   "outputs": [],
   "source": [
    "url = 'https://palworld.gg/pals'\n",
    "html = get_html(url)\n",
    "pal_links = extract_pal_links(html)\n",
    "\n",
    "pal_data = fetch_pal_data(pal_links)"
   ]
  },
  {
   "cell_type": "code",
   "execution_count": 21,
   "metadata": {},
   "outputs": [],
   "source": [
    "pal_data = add_rarity_info(pal_data)"
   ]
  },
  {
   "cell_type": "code",
   "execution_count": 22,
   "metadata": {},
   "outputs": [],
   "source": [
    "pal_data = add_element_work(pal_data)"
   ]
  },
  {
   "cell_type": "code",
   "execution_count": 23,
   "metadata": {
    "scrolled": true
   },
   "outputs": [
    {
     "data": {
      "text/html": [
       "<div>\n",
       "<style scoped>\n",
       "    .dataframe tbody tr th:only-of-type {\n",
       "        vertical-align: middle;\n",
       "    }\n",
       "\n",
       "    .dataframe tbody tr th {\n",
       "        vertical-align: top;\n",
       "    }\n",
       "\n",
       "    .dataframe thead th {\n",
       "        text-align: right;\n",
       "    }\n",
       "</style>\n",
       "<table border=\"1\" class=\"dataframe\">\n",
       "  <thead>\n",
       "    <tr style=\"text-align: right;\">\n",
       "      <th></th>\n",
       "      <th>Name</th>\n",
       "      <th>Link</th>\n",
       "      <th>Stats</th>\n",
       "      <th>Rarity Level</th>\n",
       "      <th>Rarity Name</th>\n",
       "      <th>Element</th>\n",
       "      <th>Work Suitability</th>\n",
       "    </tr>\n",
       "  </thead>\n",
       "  <tbody>\n",
       "    <tr>\n",
       "      <th>0</th>\n",
       "      <td>Anubis</td>\n",
       "      <td>https://palworld.gg/pal/anubis</td>\n",
       "      <td>{'HP': '120', 'Defense': '100', 'Crafting Spee...</td>\n",
       "      <td>10</td>\n",
       "      <td>Epic</td>\n",
       "      <td>[Earth]</td>\n",
       "      <td>{'Handiwork': 4, 'Mining': 3, 'Transporting': 2}</td>\n",
       "    </tr>\n",
       "    <tr>\n",
       "      <th>1</th>\n",
       "      <td>Arsox</td>\n",
       "      <td>https://palworld.gg/pal/arsox</td>\n",
       "      <td>{'HP': '85', 'Defense': '95', 'Crafting Speed'...</td>\n",
       "      <td>4</td>\n",
       "      <td>Common</td>\n",
       "      <td>[Fire]</td>\n",
       "      <td>{'Deforesting': 1, 'Kindling': 2}</td>\n",
       "    </tr>\n",
       "    <tr>\n",
       "      <th>2</th>\n",
       "      <td>Astegon</td>\n",
       "      <td>https://palworld.gg/pal/astegon</td>\n",
       "      <td>{'HP': '100', 'Defense': '125', 'Crafting Spee...</td>\n",
       "      <td>9</td>\n",
       "      <td>Epic</td>\n",
       "      <td>[Dragon, Dark]</td>\n",
       "      <td>{'Handiwork': 1, 'Mining': 4}</td>\n",
       "    </tr>\n",
       "    <tr>\n",
       "      <th>3</th>\n",
       "      <td>Azurmane</td>\n",
       "      <td>https://palworld.gg/pal/azurmane</td>\n",
       "      <td>{'HP': '130', 'Defense': '110', 'Crafting Spee...</td>\n",
       "      <td>7</td>\n",
       "      <td>Rare</td>\n",
       "      <td>[Electricity]</td>\n",
       "      <td>{'Gathering': 1, 'Generating Electricity': 4}</td>\n",
       "    </tr>\n",
       "    <tr>\n",
       "      <th>4</th>\n",
       "      <td>Azurobe</td>\n",
       "      <td>https://palworld.gg/pal/azurobe</td>\n",
       "      <td>{'HP': '110', 'Defense': '100', 'Crafting Spee...</td>\n",
       "      <td>7</td>\n",
       "      <td>Rare</td>\n",
       "      <td>[Water, Dragon]</td>\n",
       "      <td>{'Watering': 3}</td>\n",
       "    </tr>\n",
       "    <tr>\n",
       "      <th>...</th>\n",
       "      <td>...</td>\n",
       "      <td>...</td>\n",
       "      <td>...</td>\n",
       "      <td>...</td>\n",
       "      <td>...</td>\n",
       "      <td>...</td>\n",
       "      <td>...</td>\n",
       "    </tr>\n",
       "    <tr>\n",
       "      <th>220</th>\n",
       "      <td>Wumpo Botan</td>\n",
       "      <td>https://palworld.gg/pal/wumpo-botan</td>\n",
       "      <td>{'HP': '140', 'Defense': '110', 'Crafting Spee...</td>\n",
       "      <td>8</td>\n",
       "      <td>Epic</td>\n",
       "      <td>[Leaf]</td>\n",
       "      <td>{'Deforesting': 3, 'Handiwork': 2, 'Planting':...</td>\n",
       "    </tr>\n",
       "    <tr>\n",
       "      <th>221</th>\n",
       "      <td>Xenogard</td>\n",
       "      <td>https://palworld.gg/pal/xenogard</td>\n",
       "      <td>{'HP': '110', 'Defense': '130', 'Crafting Spee...</td>\n",
       "      <td>9</td>\n",
       "      <td>Epic</td>\n",
       "      <td>[Dragon]</td>\n",
       "      <td>{'Mining': 3}</td>\n",
       "    </tr>\n",
       "    <tr>\n",
       "      <th>222</th>\n",
       "      <td>Xenolord</td>\n",
       "      <td>https://palworld.gg/pal/xenolord</td>\n",
       "      <td>{'HP': '130', 'Defense': '120', 'Crafting Spee...</td>\n",
       "      <td>8</td>\n",
       "      <td>Epic</td>\n",
       "      <td>[Dark, Dragon]</td>\n",
       "      <td>{'Gathering': 1}</td>\n",
       "    </tr>\n",
       "    <tr>\n",
       "      <th>223</th>\n",
       "      <td>Xenovader</td>\n",
       "      <td>https://palworld.gg/pal/xenovader</td>\n",
       "      <td>{'HP': '90', 'Defense': '85', 'Crafting Speed'...</td>\n",
       "      <td>7</td>\n",
       "      <td>Rare</td>\n",
       "      <td>[Dark]</td>\n",
       "      <td>{'Deforesting': 2, 'Transporting': 2}</td>\n",
       "    </tr>\n",
       "    <tr>\n",
       "      <th>224</th>\n",
       "      <td>Yakumo</td>\n",
       "      <td>https://palworld.gg/pal/yakumo</td>\n",
       "      <td>{'HP': '85', 'Defense': '85', 'Crafting Speed'...</td>\n",
       "      <td>4</td>\n",
       "      <td>Common</td>\n",
       "      <td>[Normal]</td>\n",
       "      <td>{'Gathering': 2}</td>\n",
       "    </tr>\n",
       "  </tbody>\n",
       "</table>\n",
       "<p>225 rows × 7 columns</p>\n",
       "</div>"
      ],
      "text/plain": [
       "            Name                                 Link  \\\n",
       "0         Anubis       https://palworld.gg/pal/anubis   \n",
       "1          Arsox        https://palworld.gg/pal/arsox   \n",
       "2        Astegon      https://palworld.gg/pal/astegon   \n",
       "3       Azurmane     https://palworld.gg/pal/azurmane   \n",
       "4        Azurobe      https://palworld.gg/pal/azurobe   \n",
       "..           ...                                  ...   \n",
       "220  Wumpo Botan  https://palworld.gg/pal/wumpo-botan   \n",
       "221     Xenogard     https://palworld.gg/pal/xenogard   \n",
       "222     Xenolord     https://palworld.gg/pal/xenolord   \n",
       "223    Xenovader    https://palworld.gg/pal/xenovader   \n",
       "224       Yakumo       https://palworld.gg/pal/yakumo   \n",
       "\n",
       "                                                 Stats Rarity Level  \\\n",
       "0    {'HP': '120', 'Defense': '100', 'Crafting Spee...           10   \n",
       "1    {'HP': '85', 'Defense': '95', 'Crafting Speed'...            4   \n",
       "2    {'HP': '100', 'Defense': '125', 'Crafting Spee...            9   \n",
       "3    {'HP': '130', 'Defense': '110', 'Crafting Spee...            7   \n",
       "4    {'HP': '110', 'Defense': '100', 'Crafting Spee...            7   \n",
       "..                                                 ...          ...   \n",
       "220  {'HP': '140', 'Defense': '110', 'Crafting Spee...            8   \n",
       "221  {'HP': '110', 'Defense': '130', 'Crafting Spee...            9   \n",
       "222  {'HP': '130', 'Defense': '120', 'Crafting Spee...            8   \n",
       "223  {'HP': '90', 'Defense': '85', 'Crafting Speed'...            7   \n",
       "224  {'HP': '85', 'Defense': '85', 'Crafting Speed'...            4   \n",
       "\n",
       "    Rarity Name          Element  \\\n",
       "0          Epic          [Earth]   \n",
       "1        Common           [Fire]   \n",
       "2          Epic   [Dragon, Dark]   \n",
       "3          Rare    [Electricity]   \n",
       "4          Rare  [Water, Dragon]   \n",
       "..          ...              ...   \n",
       "220        Epic           [Leaf]   \n",
       "221        Epic         [Dragon]   \n",
       "222        Epic   [Dark, Dragon]   \n",
       "223        Rare           [Dark]   \n",
       "224      Common         [Normal]   \n",
       "\n",
       "                                      Work Suitability  \n",
       "0     {'Handiwork': 4, 'Mining': 3, 'Transporting': 2}  \n",
       "1                    {'Deforesting': 1, 'Kindling': 2}  \n",
       "2                        {'Handiwork': 1, 'Mining': 4}  \n",
       "3        {'Gathering': 1, 'Generating Electricity': 4}  \n",
       "4                                      {'Watering': 3}  \n",
       "..                                                 ...  \n",
       "220  {'Deforesting': 3, 'Handiwork': 2, 'Planting':...  \n",
       "221                                      {'Mining': 3}  \n",
       "222                                   {'Gathering': 1}  \n",
       "223              {'Deforesting': 2, 'Transporting': 2}  \n",
       "224                                   {'Gathering': 2}  \n",
       "\n",
       "[225 rows x 7 columns]"
      ]
     },
     "execution_count": 23,
     "metadata": {},
     "output_type": "execute_result"
    }
   ],
   "source": [
    "pd.DataFrame(pal_data)\n"
   ]
  },
  {
   "cell_type": "markdown",
   "metadata": {},
   "source": [
    "# Xaviers Code"
   ]
  },
  {
   "cell_type": "code",
   "execution_count": 25,
   "metadata": {},
   "outputs": [],
   "source": [
    "import pandas as pd\n",
    "import numpy as np\n",
    "\n",
    "# pal_data assumed available\n",
    "df = pd.DataFrame(pal_data)\n",
    "\n",
    "# Expand the dict in \"Stats\" to columns\n",
    "stats_df = df[\"Stats\"].apply(pd.Series)\n",
    "\n",
    "# Merge back and coerce numbers\n",
    "df = pd.concat([df.drop(columns=[\"Stats\"]), stats_df], axis=1)\n",
    "\n",
    "# Convert stat columns and rarity to numeric\n",
    "stat_cols = stats_df.columns.tolist()\n",
    "for c in stat_cols:\n",
    "    df[c] = pd.to_numeric(df[c], errors=\"coerce\")\n",
    "df[\"Rarity Level\"] = pd.to_numeric(df[\"Rarity Level\"], errors=\"coerce\")\n",
    "\n",
    "# Optional combined metric\n",
    "df[\"Total Stats\"] = df[stat_cols].sum(axis=1)\n",
    "\n",
    "# Drop rows missing target\n",
    "df = df.dropna(subset=[\"Rarity Level\"])"
   ]
  },
  {
   "cell_type": "code",
   "execution_count": 26,
   "metadata": {},
   "outputs": [
    {
     "name": "stdout",
     "output_type": "stream",
     "text": [
      "               Stat  CV_R2_mean  CV_R2_std\n",
      "4       Shot Attack    0.472116   0.231242\n",
      "0                HP    0.423798   0.188934\n",
      "1           Defense    0.411825   0.079554\n",
      "9   Sprinting Speed    0.338804   0.162892\n",
      "5             Price    0.247629   0.272991\n",
      "6           Stamina    0.230263   0.205116\n",
      "10  Slow Walk Speed    0.173103   0.137280\n",
      "8     Running Speed    0.160392   0.446896\n",
      "3      Melee Attack    0.035244   0.024593\n",
      "7           Support   -0.004442   0.032105\n",
      "2    Crafting Speed   -0.025814   0.013832\n"
     ]
    }
   ],
   "source": [
    "from sklearn.linear_model import LinearRegression\n",
    "from sklearn.model_selection import cross_val_score, KFold\n",
    "\n",
    "Xcols = stat_cols  # or stat_cols + [\"Total Stats\"] if you want to include the sum too\n",
    "\n",
    "single_results = []\n",
    "cv = KFold(n_splits=5, shuffle=True, random_state=42)\n",
    "\n",
    "for col in Xcols:\n",
    "    X = df[[col]].values\n",
    "    y = df[\"Rarity Level\"].values\n",
    "    # cross-validated R^2\n",
    "    r2_scores = cross_val_score(LinearRegression(), X, y, scoring=\"r2\", cv=cv)\n",
    "    single_results.append({\n",
    "        \"Stat\": col,\n",
    "        \"CV_R2_mean\": np.mean(r2_scores),\n",
    "        \"CV_R2_std\": np.std(r2_scores)\n",
    "    })\n",
    "\n",
    "single_results_df = pd.DataFrame(single_results).sort_values(\"CV_R2_mean\", ascending=False)\n",
    "print(single_results_df)"
   ]
  },
  {
   "cell_type": "code",
   "execution_count": 27,
   "metadata": {},
   "outputs": [
    {
     "name": "stdout",
     "output_type": "stream",
     "text": [
      "Holdout R^2: 0.7104344792971282\n"
     ]
    }
   ],
   "source": [
    "from sklearn.pipeline import Pipeline\n",
    "from sklearn.impute import SimpleImputer\n",
    "from sklearn.preprocessing import StandardScaler\n",
    "from sklearn.compose import ColumnTransformer\n",
    "from sklearn.metrics import r2_score\n",
    "from sklearn.model_selection import train_test_split\n",
    "\n",
    "X = df[stat_cols].copy()\n",
    "y = df[\"Rarity Level\"].values\n",
    "\n",
    "# Train/test for a clean holdout evaluation\n",
    "X_train, X_test, y_train, y_test = train_test_split(\n",
    "    X, y, test_size=0.25, random_state=42\n",
    ")\n",
    "\n",
    "# Numeric pipeline\n",
    "num_pipe = Pipeline(steps=[\n",
    "    (\"imputer\", SimpleImputer(strategy=\"median\")),\n",
    "    (\"scaler\", StandardScaler())\n",
    "])\n",
    "\n",
    "pre = ColumnTransformer([\n",
    "    (\"num\", num_pipe, stat_cols)\n",
    "])\n",
    "\n",
    "reg_pipe = Pipeline(steps=[\n",
    "    (\"pre\", pre),\n",
    "    (\"reg\", LinearRegression())\n",
    "])\n",
    "\n",
    "reg_pipe.fit(X_train, y_train)\n",
    "y_pred = reg_pipe.predict(X_test)\n",
    "print(\"Holdout R^2:\", r2_score(y_test, y_pred))"
   ]
  },
  {
   "cell_type": "code",
   "execution_count": 28,
   "metadata": {},
   "outputs": [
    {
     "name": "stdout",
     "output_type": "stream",
     "text": [
      "            feature  importance_mean  importance_std\n",
      "4       Shot Attack         0.297345        0.055386\n",
      "0                HP         0.059911        0.026504\n",
      "1           Defense         0.036820        0.020013\n",
      "5             Price         0.032866        0.014475\n",
      "8     Running Speed         0.026849        0.019850\n",
      "9   Sprinting Speed         0.019912        0.014093\n",
      "3      Melee Attack         0.007326        0.012111\n",
      "6           Stamina         0.004067        0.003452\n",
      "10  Slow Walk Speed         0.001543        0.001007\n",
      "2    Crafting Speed         0.000000        0.000000\n",
      "7           Support        -0.001856        0.003612\n",
      "RF Holdout R^2: 0.8312792373389072\n",
      "Shot Attack        0.446220\n",
      "Price              0.335866\n",
      "HP                 0.101979\n",
      "Sprinting Speed    0.032997\n",
      "Defense            0.030881\n",
      "Running Speed      0.021840\n",
      "Slow Walk Speed    0.015468\n",
      "Melee Attack       0.006914\n",
      "Stamina            0.006421\n",
      "Support            0.001414\n",
      "Crafting Speed     0.000000\n",
      "dtype: float64\n"
     ]
    }
   ],
   "source": [
    "from sklearn.inspection import permutation_importance\n",
    "from sklearn.ensemble import RandomForestRegressor\n",
    "\n",
    "# Permutation importance on the linear model\n",
    "perm = permutation_importance(reg_pipe, X_test, y_test, n_repeats=30, random_state=42)\n",
    "perm_importance = pd.DataFrame({\n",
    "    \"feature\": stat_cols,\n",
    "    \"importance_mean\": perm.importances_mean,\n",
    "    \"importance_std\": perm.importances_std\n",
    "}).sort_values(\"importance_mean\", ascending=False)\n",
    "print(perm_importance)\n",
    "\n",
    "# RandomForestRegressor feature importance\n",
    "rf = Pipeline(steps=[\n",
    "    (\"pre\", pre),\n",
    "    (\"rf\", RandomForestRegressor(n_estimators=800, random_state=42))\n",
    "])\n",
    "rf.fit(X_train, y_train)\n",
    "rf_r2 = r2_score(y_test, rf.predict(X_test))\n",
    "print(\"RF Holdout R^2:\", rf_r2)\n",
    "\n",
    "rf_feat_imp = pd.Series(rf.named_steps[\"rf\"].feature_importances_, index=stat_cols)\\\n",
    "                .sort_values(ascending=False)\n",
    "print(rf_feat_imp)"
   ]
  },
  {
   "cell_type": "code",
   "execution_count": 29,
   "metadata": {},
   "outputs": [
    {
     "data": {
      "image/png": "[encoded data removed]",
      "text/plain": [
       "<Figure size 640x480 with 1 Axes>"
      ]
     },
     "metadata": {},
     "output_type": "display_data"
    }
   ],
   "source": [
    "import matplotlib.pyplot as plt\n",
    "import seaborn as sns\n",
    "\n",
    "sns.scatterplot(data=df, x=\"Total Stats\", y=\"Rarity Level\", hue=\"Rarity Name\")\n",
    "plt.title(\"Total Stats vs Rarity Level\")\n",
    "plt.xlabel(\"Total Stats\")\n",
    "plt.ylabel(\"Rarity Level\")\n",
    "plt.legend(title=\"Rarity\")\n",
    "plt.show()"
   ]
  },
  {
   "cell_type": "markdown",
   "metadata": {},
   "source": [
    "# Justin's Code"
   ]
  },
  {
   "cell_type": "code",
   "execution_count": 27,
   "metadata": {},
   "outputs": [],
   "source": [
    "\"\"\"\n",
    "Palworld Weapons Scraper with Selenium\n",
    "=======================================\n",
    "Functions to scrape weapon data from palworld.gg/items\n",
    "by using the website's filter functionality\n",
    "\"\"\"\n",
    "\n",
    "import pandas as pd\n",
    "import time\n",
    "from typing import List, Dict, Optional\n",
    "from selenium import webdriver\n",
    "from selenium.webdriver.common.by import By\n",
    "from selenium.webdriver.support.ui import WebDriverWait, Select\n",
    "from selenium.webdriver.support import expected_conditions as EC\n",
    "from selenium.common.exceptions import TimeoutException, NoSuchElementException\n",
    "from bs4 import BeautifulSoup\n",
    "\n",
    "\n",
    "def setup_driver(headless: bool = False) -> webdriver.Chrome:\n",
    "    \"\"\"\n",
    "    Set up Chrome driver with options.\n",
    "    \n",
    "    Parameters\n",
    "    ----------\n",
    "    headless : bool\n",
    "        Run browser in headless mode (no GUI)\n",
    "    \n",
    "    Returns\n",
    "    -------\n",
    "    webdriver.Chrome\n",
    "        Configured Chrome driver\n",
    "    \"\"\"\n",
    "    from selenium.webdriver.chrome.options import Options\n",
    "    \n",
    "    chrome_options = Options()\n",
    "    if headless:\n",
    "        chrome_options.add_argument(\"--headless\")\n",
    "    chrome_options.add_argument(\"--no-sandbox\")\n",
    "    chrome_options.add_argument(\"--disable-dev-shm-usage\")\n",
    "    chrome_options.add_argument(\"--disable-gpu\")\n",
    "    chrome_options.add_argument(\"--window-size=1920,1080\")\n",
    "    \n",
    "    # Initialize the driver\n",
    "    driver = webdriver.Chrome(options=chrome_options)\n",
    "    return driver\n",
    "\n",
    "\n",
    "def scrape_palworld_weapons_selenium(headless: bool = False) -> pd.DataFrame:\n",
    "    \"\"\"\n",
    "    Scrape weapon data from Palworld using Selenium to interact with filters.\n",
    "    \n",
    "    Parameters\n",
    "    ----------\n",
    "    headless : bool\n",
    "        Run browser in headless mode (default: False)\n",
    "    \n",
    "    Returns\n",
    "    -------\n",
    "    pd.DataFrame\n",
    "        DataFrame containing weapon information\n",
    "    \"\"\"\n",
    "    driver = None\n",
    "    try:\n",
    "        print(\"Setting up browser driver...\")\n",
    "        driver = setup_driver(headless)\n",
    "        \n",
    "        print(\"Navigating to Palworld items page...\")\n",
    "        driver.get(\"https://palworld.gg/items\")\n",
    "        \n",
    "        # Wait for page to load\n",
    "        wait = WebDriverWait(driver, 15)\n",
    "        \n",
    "        print(\"Waiting for initial page load...\")\n",
    "        # Wait for items to appear first\n",
    "        wait.until(EC.presence_of_element_located((By.CLASS_NAME, \"item\")))\n",
    "        time.sleep(2)\n",
    "        \n",
    "        print(\"Waiting for filter dropdown to load...\")\n",
    "        # Find and interact with the item type dropdown\n",
    "        dropdown = wait.until(\n",
    "            EC.element_to_be_clickable((By.ID, \"item_type\"))\n",
    "        )\n",
    "        \n",
    "        # Store initial count\n",
    "        initial_items = len(driver.find_elements(By.CLASS_NAME, \"item\"))\n",
    "        print(f\"Initial items on page: {initial_items}\")\n",
    "        \n",
    "        print(\"Selecting 'Weapon' from filter...\")\n",
    "        # Use JavaScript to set the value and trigger change event\n",
    "        driver.execute_script(\"\"\"\n",
    "            var dropdown = document.getElementById('item_type');\n",
    "            dropdown.value = 'EPalItemTypeA::Weapon';\n",
    "            dropdown.dispatchEvent(new Event('change', { bubbles: true }));\n",
    "        \"\"\")\n",
    "        \n",
    "        # Alternative: Use Select (uncomment if JS doesn't work)\n",
    "        # select = Select(dropdown)\n",
    "        # select.select_by_value(\"EPalItemTypeA::Weapon\")\n",
    "        \n",
    "        print(\"Waiting for page to update with ALL weapons...\")\n",
    "        # Wait for the page to change\n",
    "        time.sleep(3)\n",
    "        \n",
    "        # Wait until pagination disappears or item count changes significantly\n",
    "        try:\n",
    "            # Check if pagination is gone (indicates all items on one page)\n",
    "            pagination_gone = wait.until_not(\n",
    "                EC.presence_of_element_located((By.CLASS_NAME, \"page-nav\")),\n",
    "                timeout=5\n",
    "            )\n",
    "        except:\n",
    "            # If pagination doesn't disappear, just wait for items to load\n",
    "            pass\n",
    "        \n",
    "        # Additional wait to ensure all weapons are loaded\n",
    "        time.sleep(3)\n",
    "        \n",
    "        # Scroll to bottom to trigger any lazy loading\n",
    "        driver.execute_script(\"window.scrollTo(0, document.body.scrollHeight);\")\n",
    "        time.sleep(2)\n",
    "        \n",
    "        # Count the items after filtering\n",
    "        weapon_items = driver.find_elements(By.CLASS_NAME, \"item\")\n",
    "        print(f\"Found {len(weapon_items)} items after filtering for weapons\")\n",
    "        \n",
    "        # Verify we have weapons by checking a few items\n",
    "        weapon_count = 0\n",
    "        for item in weapon_items[:5]:  # Check first 5 items\n",
    "            try:\n",
    "                type_div = item.find_element(By.CLASS_NAME, \"type\")\n",
    "                if \"Weapon\" in type_div.text:\n",
    "                    weapon_count += 1\n",
    "            except:\n",
    "                pass\n",
    "        \n",
    "        if weapon_count > 0:\n",
    "            print(f\"Confirmed: Found weapons in the filtered results\")\n",
    "        else:\n",
    "            print(\"Warning: No weapons found in sample check, but continuing...\")\n",
    "        \n",
    "        # Now parse all the results\n",
    "        print(\"Extracting weapon data...\")\n",
    "        page_source = driver.page_source\n",
    "        weapons_df = parse_weapons_from_selenium(page_source)\n",
    "        \n",
    "        print(f\"Successfully scraped {len(weapons_df)} weapons\")\n",
    "        return weapons_df\n",
    "        \n",
    "    except TimeoutException as e:\n",
    "        print(f\"Timeout: {e}\")\n",
    "        return pd.DataFrame()\n",
    "    except Exception as e:\n",
    "        print(f\"Error during scraping: {e}\")\n",
    "        import traceback\n",
    "        traceback.print_exc()\n",
    "        return pd.DataFrame()\n",
    "    finally:\n",
    "        if driver:\n",
    "            driver.quit()\n",
    "            print(\"Browser closed\")\n",
    "\n",
    "\n",
    "def wait_until_not(condition, timeout=10):\n",
    "    \"\"\"Helper function to wait until a condition is NOT met\"\"\"\n",
    "    import time\n",
    "    start_time = time.time()\n",
    "    while time.time() - start_time < timeout:\n",
    "        try:\n",
    "            condition()\n",
    "            time.sleep(0.5)\n",
    "        except:\n",
    "            return True\n",
    "    return False\n",
    "\n",
    "\n",
    "def parse_weapons_from_selenium(html_content: str) -> pd.DataFrame:\n",
    "    \"\"\"\n",
    "    Parse weapon data from the filtered HTML content.\n",
    "    \n",
    "    Parameters\n",
    "    ----------\n",
    "    html_content : str\n",
    "        The HTML content after filtering for weapons\n",
    "    \n",
    "    Returns\n",
    "    -------\n",
    "    pd.DataFrame\n",
    "        DataFrame containing weapon information\n",
    "    \"\"\"\n",
    "    soup = BeautifulSoup(html_content, 'html.parser')\n",
    "    weapons_data = []\n",
    "    \n",
    "    # Find all item divs (should all be weapons after filtering)\n",
    "    items = soup.find_all('div', class_='item')\n",
    "    \n",
    "    for item in items:\n",
    "        weapon_info = {}\n",
    "        \n",
    "        # Get the weapon name\n",
    "        name_div = item.find('div', class_='text')\n",
    "        if name_div:\n",
    "            weapon_info['Name'] = name_div.text.strip()\n",
    "        \n",
    "        # Find the item-card div which contains the details\n",
    "        item_card = item.find('div', class_='item-card')\n",
    "        if item_card:\n",
    "            # Find all key-value pairs\n",
    "            keys = item_card.find_all('div', class_='key')\n",
    "            for key in keys:\n",
    "                key_text = key.find('div', class_='text')\n",
    "                value_div = key.find('div', class_='value')\n",
    "                \n",
    "                if key_text and value_div:\n",
    "                    key_name = key_text.text.strip()\n",
    "                    value = value_div.text.strip()\n",
    "                    \n",
    "                    # Extract the specific metrics we want\n",
    "                    if key_name == 'Price':\n",
    "                        try:\n",
    "                            weapon_info['Price'] = int(value)\n",
    "                        except:\n",
    "                            weapon_info['Price'] = value\n",
    "                    elif key_name == 'Physical Attack':\n",
    "                        try:\n",
    "                            weapon_info['Physical Attack'] = int(value)\n",
    "                        except:\n",
    "                            weapon_info['Physical Attack'] = value\n",
    "                    elif key_name == 'Durability':\n",
    "                        try:\n",
    "                            weapon_info['Durability'] = int(value)\n",
    "                        except:\n",
    "                            weapon_info['Durability'] = value\n",
    "        \n",
    "        # Only add if we have a name\n",
    "        if 'Name' in weapon_info:\n",
    "            weapons_data.append(weapon_info)\n",
    "    \n",
    "    # Create DataFrame\n",
    "    df = pd.DataFrame(weapons_data)\n",
    "    \n",
    "    # Ensure all columns exist, fill missing with None\n",
    "    for col in ['Name', 'Price', 'Physical Attack', 'Durability']:\n",
    "        if col not in df.columns:\n",
    "            df[col] = None\n",
    "    \n",
    "    # Reorder columns\n",
    "    df = df[['Name', 'Price', 'Physical Attack', 'Durability']]\n",
    "    \n",
    "    return df\n",
    "\n",
    "\n",
    "def save_weapons_to_csv(df: pd.DataFrame, filename: str = \"palworld_weapons.csv\") -> None:\n",
    "    \"\"\"\n",
    "    Save the weapons DataFrame to a CSV file.\n",
    "    \n",
    "    Parameters\n",
    "    ----------\n",
    "    df : pd.DataFrame\n",
    "        The DataFrame to save\n",
    "    filename : str\n",
    "        The output filename (default: palworld_weapons.csv)\n",
    "    \"\"\"\n",
    "    df.to_csv(filename, index=False)\n",
    "    print(f\"Data saved to {filename}\")\n",
    "\n",
    "\n",
    "# Alternative functions for manual HTML parsing (if Selenium is not available)\n",
    "\n",
    "def extract_weapons_from_saved_html(html_file_path: str) -> pd.DataFrame:\n",
    "    \"\"\"\n",
    "    Extract weapons from a manually saved HTML file where weapons filter\n",
    "    was already applied in the browser.\n",
    "    \n",
    "    Parameters\n",
    "    ----------\n",
    "    html_file_path : str\n",
    "        Path to the HTML file (saved after applying weapon filter)\n",
    "    \n",
    "    Returns\n",
    "    -------\n",
    "    pd.DataFrame\n",
    "        DataFrame containing weapon information\n",
    "    \"\"\"\n",
    "    with open(html_file_path, 'r', encoding='utf-8') as file:\n",
    "        html_content = file.read()\n",
    "    return parse_weapons_from_selenium(html_content)\n",
    "\n",
    "\n",
    "def scrape_palworld_weapons() -> pd.DataFrame:\n",
    "    \"\"\"\n",
    "    Main function to scrape weapon data from Palworld.\n",
    "    This will try Selenium first, with fallback options.\n",
    "    \n",
    "    Returns\n",
    "    -------\n",
    "    pd.DataFrame\n",
    "        DataFrame containing weapon information\n",
    "    \"\"\"\n",
    "    try:\n",
    "        # Try Selenium approach first\n",
    "        return scrape_palworld_weapons_selenium(headless=False)\n",
    "    except ImportError:\n",
    "        print(\"Selenium not installed. Please install it with: pip install selenium\")\n",
    "        print(\"Also ensure you have ChromeDriver installed and in PATH\")\n",
    "        print(\"\")\n",
    "        print(\"Alternative: Save the page manually after filtering for weapons,\")\n",
    "        print(\"then use: extract_weapons_from_saved_html('path/to/file.html')\")\n",
    "        return pd.DataFrame()\n",
    "    except Exception as e:\n",
    "        print(f\"Error with Selenium: {e}\")\n",
    "        print(\"\")\n",
    "        print(\"Alternative: Save the page manually after filtering for weapons,\")\n",
    "        print(\"then use: extract_weapons_from_saved_html('path/to/file.html')\")\n",
    "        return pd.DataFrame()"
   ]
  },
  {
   "cell_type": "code",
   "execution_count": 2,
   "metadata": {},
   "outputs": [
    {
     "name": "stdout",
     "output_type": "stream",
     "text": [
      "Setting up browser driver...\n",
      "Navigating to Palworld items page...\n",
      "Waiting for initial page load...\n",
      "Waiting for filter dropdown to load...\n",
      "Initial items on page: 227\n",
      "Selecting 'Weapon' from filter...\n",
      "Waiting for page to update with ALL weapons...\n",
      "Found 1119 items after filtering for weapons\n",
      "Confirmed: Found weapons in the filtered results\n",
      "Extracting weapon data...\n",
      "Successfully scraped 248 weapons\n",
      "Browser closed\n",
      "============================================================\n",
      "TOTAL WEAPONS SCRAPED: 248\n",
      "============================================================\n",
      "\n",
      "BASIC STATISTICS:\n",
      "----------------------------------------\n",
      "          Price  Physical Attack  Durability\n",
      "count     248.0            230.0       220.0\n",
      "mean    87413.0           1887.0      2405.0\n",
      "std    116745.0           3405.0      4190.0\n",
      "min        10.0             10.0       100.0\n",
      "25%     10000.0            216.0       400.0\n",
      "50%     33000.0            450.0       900.0\n",
      "75%     82400.0           1395.0      2625.0\n",
      "max    460000.0          15000.0     32000.0\n",
      "\n",
      "============================================================\n",
      "FIRST 5 WEAPONS (HEAD):\n",
      "----------------------------------------\n",
      "                Name  Price  Physical Attack  Durability\n",
      "0      Assault Rifle  82400            320.0      3000.0\n",
      "1          Stone Axe    200             20.0       150.0\n",
      "2          Metal Axe   2800             30.0       250.0\n",
      "3  Refined Metal Axe   7000             60.0       300.0\n",
      "4               Axe4  33000             75.0       400.0\n",
      "\n",
      "============================================================\n",
      "LAST 5 WEAPONS (TAIL):\n",
      "----------------------------------------\n",
      "                Name   Price  Physical Attack  Durability\n",
      "243        Excalibur     200            396.0       900.0\n",
      "244        Excalibur     200            432.0      1200.0\n",
      "245        Excalibur     200            468.0      1800.0\n",
      "246        Excalibur     200            540.0      2400.0\n",
      "247  Meteor Launcher  324000          10500.0       450.0\n",
      "\n",
      "============================================================\n",
      "MISSING VALUES:\n",
      "----------------------------------------\n",
      "Name                0\n",
      "Price               0\n",
      "Physical Attack    18\n",
      "Durability         28\n",
      "dtype: int64\n"
     ]
    }
   ],
   "source": [
    "\"\"\"\n",
    "Palworld Weapons Summary Statistics\n",
    "=====================================\n",
    "Quick summary and analysis of the scraped weapons data\n",
    "\"\"\"\n",
    "\n",
    "# Run the scraper\n",
    "weapons_df = scrape_palworld_weapons()\n",
    "\n",
    "# Display summary\n",
    "print(\"=\" * 60)\n",
    "print(f\"TOTAL WEAPONS SCRAPED: {len(weapons_df)}\")\n",
    "print(\"=\" * 60)\n",
    "\n",
    "if not weapons_df.empty:\n",
    "    # Basic statistics\n",
    "    print(\"\\nBASIC STATISTICS:\")\n",
    "    print(\"-\" * 40)\n",
    "    print(weapons_df[['Price', 'Physical Attack', 'Durability']].describe().round(0))\n",
    "    \n",
    "    # First 5 weapons\n",
    "    print(\"\\n\" + \"=\" * 60)\n",
    "    print(\"FIRST 5 WEAPONS (HEAD):\")\n",
    "    print(\"-\" * 40)\n",
    "    print(weapons_df.head())\n",
    "    \n",
    "    # Last 5 weapons\n",
    "    print(\"\\n\" + \"=\" * 60)\n",
    "    print(\"LAST 5 WEAPONS (TAIL):\")\n",
    "    print(\"-\" * 40)\n",
    "    print(weapons_df.tail())\n",
    "    \n",
    "    # Missing data check\n",
    "    print(\"\\n\" + \"=\" * 60)\n",
    "    print(\"MISSING VALUES:\")\n",
    "    print(\"-\" * 40)\n",
    "    print(weapons_df.isnull().sum())\n",
    "    \n",
    "else:\n",
    "    print(\"\\nNo weapons data was scraped.\")"
   ]
  },
  {
   "cell_type": "code",
   "execution_count": 15,
   "metadata": {},
   "outputs": [],
   "source": [
    "import pandas as pd\n",
    "import seaborn as sns\n",
    "import plotly.express as px\n",
    "\n",
    "def plot_interactive_relationships(df: pd.DataFrame, log_axes=False):\n",
    "    \"\"\"\n",
    "    Creates three interactive scatter plots with hover tooltips:\n",
    "      1) Price vs Physical Attack\n",
    "      2) Price vs Durability\n",
    "      3) Durability vs Price\n",
    "    \n",
    "    Uses Seaborn style and Plotly for interactivity.\n",
    "    Hover tooltips show weapon Name and stats.\n",
    "    \"\"\"\n",
    "    # Apply Seaborn theme\n",
    "    sns.set_theme(style=\"whitegrid\")\n",
    "    \n",
    "    # Ensure numeric types\n",
    "    df = df.copy()\n",
    "    df['Physical Attack'] = pd.to_numeric(df['Physical Attack'], errors='coerce')\n",
    "    df['Price'] = pd.to_numeric(df['Price'], errors='coerce')\n",
    "    df['Durability'] = pd.to_numeric(df['Durability'], errors='coerce')\n",
    "    df['Name'] = df['Name'].astype(str)\n",
    "    \n",
    "    # Log scale setting\n",
    "    logx = log_axes\n",
    "    logy = log_axes\n",
    "\n",
    "    # 1) Price vs Physical Attack\n",
    "    fig1 = px.scatter(\n",
    "        df.dropna(subset=['Physical Attack', 'Price']),\n",
    "        x='Physical Attack',\n",
    "        y='Price',\n",
    "        hover_data=['Name', 'Durability'],\n",
    "        title='Price vs Physical Attack',\n",
    "        log_x=logx,\n",
    "        log_y=logy,\n",
    "        template='simple_white'\n",
    "    )\n",
    "    fig1.show()\n",
    "\n",
    "    # 2) Price vs Durability\n",
    "    fig2 = px.scatter(\n",
    "        df.dropna(subset=['Durability', 'Price']),\n",
    "        x='Durability',\n",
    "        y='Price',\n",
    "        hover_data=['Name', 'Physical Attack'],\n",
    "        title='Price vs Durability',\n",
    "        log_x=logx,\n",
    "        log_y=logy,\n",
    "        template='simple_white'\n",
    "    )\n",
    "    fig2.show()\n",
    "\n",
    "    # 3) Durability vs Price\n",
    "    fig3 = px.scatter(\n",
    "        df.dropna(subset=['Price', 'Durability']),\n",
    "        x='Price',\n",
    "        y='Durability',\n",
    "        hover_data=['Name', 'Physical Attack'],\n",
    "        title='Durability vs Price',\n",
    "        log_x=logx,\n",
    "        log_y=logy,\n",
    "        template='simple_white'\n",
    "    )\n",
    "    fig3.show()"
   ]
  },
  {
   "cell_type": "code",
   "execution_count": 17,
   "metadata": {},
   "outputs": [
    {
     "data": {
      "application/vnd.plotly.v1+json": {
       "config": {
        "plotlyServerURL": "https://plot.ly"
       },
       "data": [
        {
         "customdata": [
          [
           "Assault Rifle",
           3000
          ],
          [
           "Stone Axe",
           150
          ],
          [
           "Metal Axe",
           250
          ],
          [
           "Refined Metal Axe",
           300
          ],
          [
           "Axe4",
           400
          ],
          [
           "Wooden Club",
           150
          ],
          [
           "Bat",
           150
          ],
          [
           "Meat Cleaver",
           300
          ],
          [
           "Stun Baton",
           300
          ],
          [
           "Crossbow",
           300
          ],
          [
           "Double-Barreled Shotgun",
           200
          ],
          [
           "Handgun",
           400
          ],
          [
           "Laser Rifle",
           3000
          ],
          [
           "Rocket Launcher",
           300
          ],
          [
           "Stone Pickaxe",
           150
          ],
          [
           "Metal Pickaxe",
           250
          ],
          [
           "Refined Metal Pickaxe",
           300
          ],
          [
           "Pump-Action Shotgun",
           150
          ],
          [
           "Single-Shot Rifle",
           1000
          ],
          [
           "Sword",
           500
          ],
          [
           "Frag Grenade",
           null
          ],
          [
           "Incendiary Grenade",
           null
          ],
          [
           "Shock Grenade",
           null
          ],
          [
           "Ice Grenade",
           null
          ],
          [
           "Old Bow",
           150
          ],
          [
           "Poison Bow",
           150
          ],
          [
           "Fire Bow",
           150
          ],
          [
           "Poison Arrow Crossbow",
           300
          ],
          [
           "Fire Arrow Crossbow",
           300
          ],
          [
           "Three Shot Bow",
           250
          ],
          [
           "Five Shot Bow",
           350
          ],
          [
           "Hand-Held Torch",
           100
          ],
          [
           "Makeshift Handgun",
           300
          ],
          [
           "Stone Spear",
           200
          ],
          [
           "Metal Spear",
           250
          ],
          [
           "Refined Metal Spear",
           300
          ],
          [
           "Elizabee's Staff",
           300
          ],
          [
           "Beegarde's Spear",
           400
          ],
          [
           "Lily's Spear",
           500
          ],
          [
           "Musket",
           200
          ],
          [
           "Old Bow",
           400
          ],
          [
           "Old Bow",
           500
          ],
          [
           "Old Bow",
           600
          ],
          [
           "Old Bow",
           700
          ],
          [
           "Crossbow",
           800
          ],
          [
           "Crossbow",
           1000
          ],
          [
           "Crossbow",
           1200
          ],
          [
           "Crossbow",
           1400
          ],
          [
           "Assault Rifle",
           3000
          ],
          [
           "Assault Rifle",
           4000
          ],
          [
           "Assault Rifle",
           5000
          ],
          [
           "Assault Rifle",
           6000
          ],
          [
           "Pump-Action Shotgun",
           500
          ],
          [
           "Pump-Action Shotgun",
           600
          ],
          [
           "Pump-Action Shotgun",
           700
          ],
          [
           "Pump-Action Shotgun",
           800
          ],
          [
           "Handgun",
           1200
          ],
          [
           "Handgun",
           1600
          ],
          [
           "Handgun",
           2000
          ],
          [
           "Handgun",
           2400
          ],
          [
           "Rocket Launcher",
           800
          ],
          [
           "Rocket Launcher",
           1000
          ],
          [
           "Rocket Launcher",
           1200
          ],
          [
           "Rocket Launcher",
           1400
          ],
          [
           "Musket",
           400
          ],
          [
           "Musket",
           500
          ],
          [
           "Musket",
           600
          ],
          [
           "Musket",
           800
          ],
          [
           "Double-Barreled Shotgun",
           400
          ],
          [
           "Double-Barreled Shotgun",
           500
          ],
          [
           "Double-Barreled Shotgun",
           600
          ],
          [
           "Double-Barreled Shotgun",
           800
          ],
          [
           "Single-Shot Rifle",
           2000
          ],
          [
           "Single-Shot Rifle",
           2500
          ],
          [
           "Single-Shot Rifle",
           3000
          ],
          [
           "Single-Shot Rifle",
           4000
          ],
          [
           "Gatling Gun",
           6000
          ],
          [
           "Grenade Launcher",
           600
          ],
          [
           "Guided Missile Launcher",
           300
          ],
          [
           "Multi Guided Missile Launcher",
           300
          ],
          [
           "Laser Gatling Gun",
           8000
          ],
          [
           "Frag Grenade Mk2",
           null
          ],
          [
           "Makeshift Handgun",
           600
          ],
          [
           "Makeshift Handgun",
           900
          ],
          [
           "Makeshift Handgun",
           1200
          ],
          [
           "Makeshift Handgun",
           1500
          ],
          [
           "Laser Rifle",
           4500
          ],
          [
           "Laser Rifle",
           6000
          ],
          [
           "Laser Rifle",
           9000
          ],
          [
           "Laser Rifle",
           12000
          ],
          [
           "Grenade Launcher",
           900
          ],
          [
           "Grenade Launcher",
           1200
          ],
          [
           "Grenade Launcher",
           1800
          ],
          [
           "Grenade Launcher",
           2400
          ],
          [
           "Guided Missile Launcher",
           450
          ],
          [
           "Guided Missile Launcher",
           600
          ],
          [
           "Guided Missile Launcher",
           900
          ],
          [
           "Guided Missile Launcher",
           1200
          ],
          [
           "Multi Guided Missile Launcher",
           450
          ],
          [
           "Multi Guided Missile Launcher",
           600
          ],
          [
           "Multi Guided Missile Launcher",
           900
          ],
          [
           "Multi Guided Missile Launcher",
           1200
          ],
          [
           "Gatling Gun",
           9000
          ],
          [
           "Gatling Gun",
           12000
          ],
          [
           "Gatling Gun",
           18000
          ],
          [
           "Gatling Gun",
           24000
          ],
          [
           "Meteor Launcher",
           300
          ],
          [
           "Dark Grenade",
           null
          ],
          [
           "Dragon Grenade",
           null
          ],
          [
           "Ground Grenade",
           null
          ],
          [
           "Grass Grenade",
           null
          ],
          [
           "Water Grenade",
           null
          ],
          [
           "Katana",
           500
          ],
          [
           "Beam Sword",
           500
          ],
          [
           "Semi-Auto Shotgun",
           300
          ],
          [
           "Plasma Cannon",
           300
          ],
          [
           "Poison Arrow Crossbow",
           800
          ],
          [
           "Poison Arrow Crossbow",
           1000
          ],
          [
           "Poison Arrow Crossbow",
           1200
          ],
          [
           "Poison Arrow Crossbow",
           1400
          ],
          [
           "Fire Arrow Crossbow",
           800
          ],
          [
           "Fire Arrow Crossbow",
           1000
          ],
          [
           "Fire Arrow Crossbow",
           1200
          ],
          [
           "Fire Arrow Crossbow",
           1400
          ],
          [
           "Old Revolver",
           400
          ],
          [
           "Pal Metal Pickaxe",
           400
          ],
          [
           "Pal Metal Axe",
           400
          ],
          [
           "Makeshift Assault Rifle",
           1500
          ],
          [
           "Semi-Auto Rifle",
           1000
          ],
          [
           "Makeshift SMG",
           1000
          ],
          [
           "SMG",
           2000
          ],
          [
           "Makeshift Shotgun",
           200
          ],
          [
           "Laser Gatling Gun",
           12000
          ],
          [
           "Laser Gatling Gun",
           16000
          ],
          [
           "Laser Gatling Gun",
           24000
          ],
          [
           "Laser Gatling Gun",
           32000
          ],
          [
           "Plasma Cannon",
           450
          ],
          [
           "Plasma Cannon",
           600
          ],
          [
           "Plasma Cannon",
           900
          ],
          [
           "Plasma Cannon",
           1200
          ],
          [
           "Compound Bow",
           400
          ],
          [
           "Advanced Bow",
           500
          ],
          [
           "Semi-Auto Shotgun",
           450
          ],
          [
           "Semi-Auto Shotgun",
           600
          ],
          [
           "Semi-Auto Shotgun",
           900
          ],
          [
           "Semi-Auto Shotgun",
           1200
          ],
          [
           "Old Revolver",
           600
          ],
          [
           "Old Revolver",
           800
          ],
          [
           "Old Revolver",
           1200
          ],
          [
           "Old Revolver",
           1600
          ],
          [
           "Makeshift Assault Rifle",
           2250
          ],
          [
           "Makeshift Assault Rifle",
           3000
          ],
          [
           "Makeshift Assault Rifle",
           4500
          ],
          [
           "Makeshift Assault Rifle",
           6000
          ],
          [
           "Semi-Auto Rifle",
           1500
          ],
          [
           "Semi-Auto Rifle",
           2000
          ],
          [
           "Semi-Auto Rifle",
           3000
          ],
          [
           "Semi-Auto Rifle",
           4000
          ],
          [
           "Makeshift SMG",
           1500
          ],
          [
           "Makeshift SMG",
           2000
          ],
          [
           "Makeshift SMG",
           3000
          ],
          [
           "Makeshift SMG",
           4000
          ],
          [
           "SMG",
           3000
          ],
          [
           "SMG",
           4000
          ],
          [
           "SMG",
           6000
          ],
          [
           "SMG",
           8000
          ],
          [
           "Makeshift Shotgun",
           300
          ],
          [
           "Makeshift Shotgun",
           400
          ],
          [
           "Makeshift Shotgun",
           600
          ],
          [
           "Makeshift Shotgun",
           800
          ],
          [
           "Meowmere",
           2222
          ],
          [
           "Advanced Bow",
           750
          ],
          [
           "Advanced Bow",
           1000
          ],
          [
           "Advanced Bow",
           1500
          ],
          [
           "Advanced Bow",
           2000
          ],
          [
           "Compound Bow",
           600
          ],
          [
           "Compound Bow",
           800
          ],
          [
           "Compound Bow",
           1200
          ],
          [
           "Compound Bow",
           1600
          ],
          [
           "Charge Rifle",
           200
          ],
          [
           "Overheat Rifle",
           3000
          ],
          [
           "Energy Shotgun",
           300
          ],
          [
           "Boost Gun",
           400
          ],
          [
           "Megaboost Gun",
           400
          ],
          [
           "Pal Recovery Grenade",
           null
          ],
          [
           "Energy Shotgun",
           450
          ],
          [
           "Energy Shotgun",
           600
          ],
          [
           "Energy Shotgun",
           900
          ],
          [
           "Energy Shotgun",
           1200
          ],
          [
           "Charge Rifle",
           300
          ],
          [
           "Charge Rifle",
           400
          ],
          [
           "Charge Rifle",
           600
          ],
          [
           "Charge Rifle",
           800
          ],
          [
           "Overheat Rifle",
           3000
          ],
          [
           "Overheat Rifle",
           4000
          ],
          [
           "Overheat Rifle",
           5000
          ],
          [
           "Overheat Rifle",
           6000
          ],
          [
           "Terra Blade",
           757
          ],
          [
           "Terraprisma",
           5000
          ],
          [
           "Vortex Beater",
           3000
          ],
          [
           "Nightglow",
           3000
          ],
          [
           "Excalibur",
           600
          ],
          [
           "Legendary Meowmere",
           22222
          ],
          [
           "Beginner Fishing Rod (Chillet)",
           120
          ],
          [
           "Beginner Fishing Rod (Gumoss)",
           180
          ],
          [
           "Intermediate Fishing Rod (Cattiva)",
           240
          ],
          [
           "Intermediate Fishing Rod (Croajiro)",
           360
          ],
          [
           "Advanced Fishing Rod (Pengullet)",
           480
          ],
          [
           "Advanced Fishing Rod (Depresso)",
           720
          ],
          [
           "Terra Blade",
           1135
          ],
          [
           "Terra Blade",
           1514
          ],
          [
           "Terra Blade",
           2271
          ],
          [
           "Terra Blade",
           3028
          ],
          [
           "Terraprisma",
           6000
          ],
          [
           "Terraprisma",
           7200
          ],
          [
           "Terraprisma",
           8640
          ],
          [
           "Terraprisma",
           10368
          ],
          [
           "Vortex Beater",
           3000
          ],
          [
           "Vortex Beater",
           4000
          ],
          [
           "Vortex Beater",
           5000
          ],
          [
           "Vortex Beater",
           6000
          ],
          [
           "Nightglow",
           3000
          ],
          [
           "Nightglow",
           4000
          ],
          [
           "Nightglow",
           5000
          ],
          [
           "Nightglow",
           6000
          ],
          [
           "Excalibur",
           900
          ],
          [
           "Excalibur",
           1200
          ],
          [
           "Excalibur",
           1800
          ],
          [
           "Excalibur",
           2400
          ],
          [
           "Meteor Launcher",
           450
          ]
         ],
         "hovertemplate": "Physical Attack=%{x}<br>Price=%{y}<br>Name=%{customdata[0]}<br>Durability=%{customdata[1]}<extra></extra>",
         "legendgroup": "",
         "marker": {
          "color": "#1F77B4",
          "symbol": "circle"
         },
         "mode": "markers",
         "name": "",
         "orientation": "v",
         "showlegend": false,
         "type": "scatter",
         "x": {
          "_inputArray": {
           "0": 320,
           "1": 20,
           "10": 190,
           "100": 7965,
           "101": 8850,
           "102": 431,
           "103": 468,
           "104": 506,
           "105": 562,
           "106": 2000,
           "107": 750,
           "108": 750,
           "109": 750,
           "11": 250,
           "110": 750,
           "111": 750,
           "112": 525,
           "113": 2000,
           "114": 195,
           "115": 10000,
           "116": 364,
           "117": 406,
           "118": 448,
           "119": 490,
           "12": 1250,
           "120": 364,
           "121": 406,
           "122": 448,
           "123": 490,
           "124": 600,
           "125": 120,
           "126": 120,
           "127": 170,
           "128": 1150,
           "129": 100,
           "13": 10000,
           "130": 130,
           "131": 215,
           "132": 583,
           "133": 609,
           "134": 636,
           "135": 689,
           "136": 11000,
           "137": 11500,
           "138": 12000,
           "139": 13000,
           "14": 20,
           "140": 1100,
           "141": 5800,
           "142": 214,
           "143": 234,
           "144": 253,
           "145": 282,
           "146": 1050,
           "147": 1200,
           "148": 1350,
           "149": 1500,
           "15": 30,
           "150": 204,
           "151": 229,
           "152": 255,
           "153": 297,
           "154": 1265,
           "155": 1380,
           "156": 1495,
           "157": 1610,
           "158": 120,
           "159": 135,
           "16": 60,
           "160": 150,
           "161": 175,
           "162": 156,
           "163": 175,
           "164": 195,
           "165": 227,
           "166": 258,
           "167": 290,
           "168": 322,
           "169": 376,
           "17": 220,
           "170": 200,
           "171": 6670,
           "172": 7250,
           "173": 7830,
           "174": 8700,
           "175": 1265,
           "176": 1375,
           "177": 1485,
           "178": 1650,
           "179": 12500,
           "18": 1100,
           "180": 1225,
           "181": 402,
           "182": 250,
           "183": 250,
           "184": 750,
           "185": 422,
           "186": 442,
           "187": 462,
           "188": 482,
           "189": 13125,
           "19": 525,
           "190": 13750,
           "191": 14375,
           "192": 15000,
           "193": 1286,
           "194": 1347,
           "195": 1408,
           "196": 1470,
           "197": 425,
           "198": 90,
           "199": 300,
           "2": 30,
           "20": 750,
           "200": 50,
           "201": 360,
           "202": 222,
           "203": 25,
           "204": 25,
           "205": 25,
           "206": 25,
           "207": 25,
           "208": 25,
           "209": 467,
           "21": 750,
           "210": 510,
           "211": 552,
           "212": 637,
           "213": 100,
           "214": 110,
           "215": 125,
           "216": 150,
           "217": 330,
           "218": 360,
           "219": 390,
           "22": 750,
           "220": 450,
           "221": 60,
           "222": 70,
           "223": 80,
           "224": 100,
           "225": 396,
           "226": 432,
           "227": 468,
           "228": 540,
           "229": 10500,
           "23": 750,
           "24": 65,
           "25": 65,
           "26": 65,
           "27": 280,
           "28": 280,
           "29": 40,
           "3": 60,
           "30": 30,
           "31": 10,
           "32": 320,
           "33": 35,
           "34": 80,
           "35": 310,
           "36": 150,
           "37": 150,
           "38": 450,
           "39": 1000,
           "4": 75,
           "40": 130,
           "41": 169,
           "42": 208,
           "43": 247,
           "44": 364,
           "45": 406,
           "46": 448,
           "47": 490,
           "48": 400,
           "49": 448,
           "5": 25,
           "50": 512,
           "51": 560,
           "52": 275,
           "53": 308,
           "54": 352,
           "55": 385,
           "56": 437,
           "57": 500,
           "58": 562,
           "59": 625,
           "6": 50,
           "60": 11000,
           "61": 12000,
           "62": 13000,
           "63": 14000,
           "64": 1400,
           "65": 1600,
           "66": 1800,
           "67": 2000,
           "68": 285,
           "69": 323,
           "7": 25,
           "70": 361,
           "71": 399,
           "72": 1650,
           "73": 1870,
           "74": 2090,
           "75": 2310,
           "76": 375,
           "77": 3000,
           "78": 5900,
           "79": 5900,
           "8": 10,
           "80": 530,
           "81": 4000,
           "82": 560,
           "83": 640,
           "84": 720,
           "85": 800,
           "86": 1437,
           "87": 1562,
           "88": 1687,
           "89": 1875,
           "9": 280,
           "90": 3450,
           "91": 3750,
           "92": 4050,
           "93": 4500,
           "94": 6785,
           "95": 7375,
           "96": 7965,
           "97": 8850,
           "98": 6785,
           "99": 7375,
           "bdata": "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",
           "dtype": "f8",
           "shape": "230"
          },
          "bdata": "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",
          "dtype": "f8"
         },
         "xaxis": "x",
         "y": {
          "_inputArray": {
           "0": 82400,
           "1": 200,
           "10": 55200,
           "100": 324000,
           "101": 324000,
           "102": 324000,
           "103": 324000,
           "104": 324000,
           "105": 324000,
           "106": 324000,
           "107": 10,
           "108": 10,
           "109": 10,
           "11": 33000,
           "110": 10,
           "111": 10,
           "112": 10440,
           "113": 10440,
           "114": 153600,
           "115": 324000,
           "116": 25200,
           "117": 25200,
           "118": 25200,
           "119": 25200,
           "12": 324000,
           "120": 25200,
           "121": 25200,
           "122": 25200,
           "123": 25200,
           "124": 33000,
           "125": 33000,
           "126": 33000,
           "127": 82400,
           "128": 37600,
           "129": 82400,
           "13": 324000,
           "130": 82400,
           "131": 55200,
           "132": 324000,
           "133": 324000,
           "134": 324000,
           "135": 324000,
           "136": 324000,
           "137": 324000,
           "138": 324000,
           "139": 324000,
           "14": 200,
           "140": 25200,
           "141": 25200,
           "142": 153600,
           "143": 153600,
           "144": 153600,
           "145": 153600,
           "146": 33000,
           "147": 33000,
           "148": 33000,
           "149": 33000,
           "15": 2800,
           "150": 82400,
           "151": 82400,
           "152": 82400,
           "153": 82400,
           "154": 37600,
           "155": 37600,
           "156": 37600,
           "157": 37600,
           "158": 82400,
           "159": 82400,
           "16": 7000,
           "160": 82400,
           "161": 82400,
           "162": 82400,
           "163": 82400,
           "164": 82400,
           "165": 82400,
           "166": 55200,
           "167": 55200,
           "168": 55200,
           "169": 55200,
           "17": 153600,
           "170": 200,
           "171": 25200,
           "172": 25200,
           "173": 25200,
           "174": 25200,
           "175": 25200,
           "176": 25200,
           "177": 25200,
           "178": 25200,
           "179": 37600,
           "18": 37600,
           "180": 82400,
           "181": 153600,
           "182": 33000,
           "183": 33000,
           "184": 10,
           "185": 153600,
           "186": 153600,
           "187": 153600,
           "188": 153600,
           "189": 37600,
           "19": 10440,
           "190": 37600,
           "191": 37600,
           "192": 37600,
           "193": 82400,
           "194": 82400,
           "195": 82400,
           "196": 82400,
           "197": 10000,
           "198": 10000,
           "199": 10000,
           "2": 2800,
           "20": 10,
           "200": 10000,
           "201": 10000,
           "202": 10000,
           "203": 350,
           "204": 520,
           "205": 800,
           "206": 840,
           "207": 980,
           "208": 1050,
           "209": 10000,
           "21": 10,
           "210": 10000,
           "211": 10000,
           "212": 10000,
           "213": 10000,
           "214": 10000,
           "215": 10000,
           "216": 10000,
           "217": 10000,
           "218": 10000,
           "219": 10000,
           "22": 10,
           "220": 10000,
           "221": 10000,
           "222": 10000,
           "223": 10000,
           "224": 10000,
           "225": 200,
           "226": 200,
           "227": 200,
           "228": 200,
           "229": 324000,
           "23": 10,
           "24": 360,
           "25": 480,
           "26": 480,
           "27": 25200,
           "28": 25200,
           "29": 1000,
           "3": 7000,
           "30": 10,
           "31": 80,
           "32": 16600,
           "33": 480,
           "34": 8780,
           "35": 13880,
           "36": 20000,
           "37": 20000,
           "38": 20000,
           "39": 37600,
           "4": 33000,
           "40": 360,
           "41": 360,
           "42": 360,
           "43": 360,
           "44": 25200,
           "45": 25200,
           "46": 25200,
           "47": 25200,
           "48": 82400,
           "49": 82400,
           "5": 80,
           "50": 82400,
           "51": 82400,
           "52": 153600,
           "53": 153600,
           "54": 153600,
           "55": 153600,
           "56": 33000,
           "57": 33000,
           "58": 33000,
           "59": 33000,
           "6": 80,
           "60": 324000,
           "61": 324000,
           "62": 324000,
           "63": 324000,
           "64": 37600,
           "65": 37600,
           "66": 37600,
           "67": 37600,
           "68": 55200,
           "69": 55200,
           "7": 100,
           "70": 55200,
           "71": 55200,
           "72": 37600,
           "73": 37600,
           "74": 37600,
           "75": 37600,
           "76": 324000,
           "77": 324000,
           "78": 324000,
           "79": 324000,
           "8": 19000,
           "80": 324000,
           "81": 10,
           "82": 16600,
           "83": 16600,
           "84": 16600,
           "85": 16600,
           "86": 324000,
           "87": 324000,
           "88": 324000,
           "89": 324000,
           "9": 25200,
           "90": 324000,
           "91": 324000,
           "92": 324000,
           "93": 324000,
           "94": 324000,
           "95": 324000,
           "96": 324000,
           "97": 324000,
           "98": 324000,
           "99": 324000,
           "bdata": "4EEBAMgAAADwCgAAWBsAAOiAAABQAAAAUAAAAGQAAAA4SgAAcGIAAKDXAADogAAAoPEEAKDxBADIAAAA8AoAAFgbAAAAWAIA4JIAAMgoAAAKAAAACgAAAAoAAAAKAAAAaAEAAOABAADgAQAAcGIAAHBiAADoAwAACgAAAFAAAADYQAAA4AEAAEwiAAA4NgAAIE4AACBOAAAgTgAA4JIAAGgBAABoAQAAaAEAAGgBAABwYgAAcGIAAHBiAABwYgAA4EEBAOBBAQDgQQEA4EEBAABYAgAAWAIAAFgCAABYAgDogAAA6IAAAOiAAADogAAAoPEEAKDxBACg8QQAoPEEAOCSAADgkgAA4JIAAOCSAACg1wAAoNcAAKDXAACg1wAA4JIAAOCSAADgkgAA4JIAAKDxBACg8QQAoPEEAKDxBACg8QQACgAAANhAAADYQAAA2EAAANhAAACg8QQAoPEEAKDxBACg8QQAoPEEAKDxBACg8QQAoPEEAKDxBACg8QQAoPEEAKDxBACg8QQAoPEEAKDxBACg8QQAoPEEAKDxBACg8QQAoPEEAKDxBAAKAAAACgAAAAoAAAAKAAAACgAAAMgoAADIKAAAAFgCAKDxBABwYgAAcGIAAHBiAABwYgAAcGIAAHBiAABwYgAAcGIAAOiAAADogAAA6IAAAOBBAQDgkgAA4EEBAOBBAQCg1wAAoPEEAKDxBACg8QQAoPEEAKDxBACg8QQAoPEEAKDxBABwYgAAcGIAAABYAgAAWAIAAFgCAABYAgDogAAA6IAAAOiAAADogAAA4EEBAOBBAQDgQQEA4EEBAOCSAADgkgAA4JIAAOCSAADgQQEA4EEBAOBBAQDgQQEA4EEBAOBBAQDgQQEA4EEBAKDXAACg1wAAoNcAAKDXAADIAAAAcGIAAHBiAABwYgAAcGIAAHBiAABwYgAAcGIAAHBiAADgkgAA4EEBAABYAgDogAAA6IAAAAoAAAAAWAIAAFgCAABYAgAAWAIA4JIAAOCSAADgkgAA4JIAAOBBAQDgQQEA4EEBAOBBAQAQJwAAECcAABAnAAAQJwAAECcAABAnAABeAQAACAIAACADAABIAwAA1AMAABoEAAAQJwAAECcAABAnAAAQJwAAECcAABAnAAAQJwAAECcAABAnAAAQJwAAECcAABAnAAAQJwAAECcAABAnAAAQJwAAyAAAAMgAAADIAAAAyAAAAKDxBAA=",
           "dtype": "i4",
           "shape": "230"
          },
          "bdata": "4EEBAMgAAADwCgAAWBsAAOiAAABQAAAAUAAAAGQAAAA4SgAAcGIAAKDXAADogAAAoPEEAKDxBADIAAAA8AoAAFgbAAAAWAIA4JIAAMgoAAAKAAAACgAAAAoAAAAKAAAAaAEAAOABAADgAQAAcGIAAHBiAADoAwAACgAAAFAAAADYQAAA4AEAAEwiAAA4NgAAIE4AACBOAAAgTgAA4JIAAGgBAABoAQAAaAEAAGgBAABwYgAAcGIAAHBiAABwYgAA4EEBAOBBAQDgQQEA4EEBAABYAgAAWAIAAFgCAABYAgDogAAA6IAAAOiAAADogAAAoPEEAKDxBACg8QQAoPEEAOCSAADgkgAA4JIAAOCSAACg1wAAoNcAAKDXAACg1wAA4JIAAOCSAADgkgAA4JIAAKDxBACg8QQAoPEEAKDxBACg8QQACgAAANhAAADYQAAA2EAAANhAAACg8QQAoPEEAKDxBACg8QQAoPEEAKDxBACg8QQAoPEEAKDxBACg8QQAoPEEAKDxBACg8QQAoPEEAKDxBACg8QQAoPEEAKDxBACg8QQAoPEEAKDxBAAKAAAACgAAAAoAAAAKAAAACgAAAMgoAADIKAAAAFgCAKDxBABwYgAAcGIAAHBiAABwYgAAcGIAAHBiAABwYgAAcGIAAOiAAADogAAA6IAAAOBBAQDgkgAA4EEBAOBBAQCg1wAAoPEEAKDxBACg8QQAoPEEAKDxBACg8QQAoPEEAKDxBABwYgAAcGIAAABYAgAAWAIAAFgCAABYAgDogAAA6IAAAOiAAADogAAA4EEBAOBBAQDgQQEA4EEBAOCSAADgkgAA4JIAAOCSAADgQQEA4EEBAOBBAQDgQQEA4EEBAOBBAQDgQQEA4EEBAKDXAACg1wAAoNcAAKDXAADIAAAAcGIAAHBiAABwYgAAcGIAAHBiAABwYgAAcGIAAHBiAADgkgAA4EEBAABYAgDogAAA6IAAAAoAAAAAWAIAAFgCAABYAgAAWAIA4JIAAOCSAADgkgAA4JIAAOBBAQDgQQEA4EEBAOBBAQAQJwAAECcAABAnAAAQJwAAECcAABAnAABeAQAACAIAACADAABIAwAA1AMAABoEAAAQJwAAECcAABAnAAAQJwAAECcAABAnAAAQJwAAECcAABAnAAAQJwAAECcAABAnAAAQJwAAECcAABAnAAAQJwAAyAAAAMgAAADIAAAAyAAAAKDxBAA=",
          "dtype": "i4"
         },
         "yaxis": "y"
        }
       ],
       "layout": {
        "autosize": true,
        "legend": {
         "tracegroupgap": 0
        },
        "template": {
         "data": {
          "bar": [
           {
            "error_x": {
             "color": "rgb(36,36,36)"
            },
            "error_y": {
             "color": "rgb(36,36,36)"
            },
            "marker": {
             "line": {
              "color": "white",
              "width": 0.5
             },
             "pattern": {
              "fillmode": "overlay",
              "size": 10,
              "solidity": 0.2
             }
            },
            "type": "bar"
           }
          ],
          "barpolar": [
           {
            "marker": {
             "line": {
              "color": "white",
              "width": 0.5
             },
             "pattern": {
              "fillmode": "overlay",
              "size": 10,
              "solidity": 0.2
             }
            },
            "type": "barpolar"
           }
          ],
          "carpet": [
           {
            "aaxis": {
             "endlinecolor": "rgb(36,36,36)",
             "gridcolor": "white",
             "linecolor": "white",
             "minorgridcolor": "white",
             "startlinecolor": "rgb(36,36,36)"
            },
            "baxis": {
             "endlinecolor": "rgb(36,36,36)",
             "gridcolor": "white",
             "linecolor": "white",
             "minorgridcolor": "white",
             "startlinecolor": "rgb(36,36,36)"
            },
            "type": "carpet"
           }
          ],
          "choropleth": [
           {
            "colorbar": {
             "outlinewidth": 1,
             "tickcolor": "rgb(36,36,36)",
             "ticks": "outside"
            },
            "type": "choropleth"
           }
          ],
          "contour": [
           {
            "colorbar": {
             "outlinewidth": 1,
             "tickcolor": "rgb(36,36,36)",
             "ticks": "outside"
            },
            "colorscale": [
             [
              0,
              "#440154"
             ],
             [
              0.1111111111111111,
              "#482878"
             ],
             [
              0.2222222222222222,
              "#3e4989"
             ],
             [
              0.3333333333333333,
              "#31688e"
             ],
             [
              0.4444444444444444,
              "#26828e"
             ],
             [
              0.5555555555555556,
              "#1f9e89"
             ],
             [
              0.6666666666666666,
              "#35b779"
             ],
             [
              0.7777777777777778,
              "#6ece58"
             ],
             [
              0.8888888888888888,
              "#b5de2b"
             ],
             [
              1,
              "#fde725"
             ]
            ],
            "type": "contour"
           }
          ],
          "contourcarpet": [
           {
            "colorbar": {
             "outlinewidth": 1,
             "tickcolor": "rgb(36,36,36)",
             "ticks": "outside"
            },
            "type": "contourcarpet"
           }
          ],
          "heatmap": [
           {
            "colorbar": {
             "outlinewidth": 1,
             "tickcolor": "rgb(36,36,36)",
             "ticks": "outside"
            },
            "colorscale": [
             [
              0,
              "#440154"
             ],
             [
              0.1111111111111111,
              "#482878"
             ],
             [
              0.2222222222222222,
              "#3e4989"
             ],
             [
              0.3333333333333333,
              "#31688e"
             ],
             [
              0.4444444444444444,
              "#26828e"
             ],
             [
              0.5555555555555556,
              "#1f9e89"
             ],
             [
              0.6666666666666666,
              "#35b779"
             ],
             [
              0.7777777777777778,
              "#6ece58"
             ],
             [
              0.8888888888888888,
              "#b5de2b"
             ],
             [
              1,
              "#fde725"
             ]
            ],
            "type": "heatmap"
           }
          ],
          "histogram": [
           {
            "marker": {
             "line": {
              "color": "white",
              "width": 0.6
             }
            },
            "type": "histogram"
           }
          ],
          "histogram2d": [
           {
            "colorbar": {
             "outlinewidth": 1,
             "tickcolor": "rgb(36,36,36)",
             "ticks": "outside"
            },
            "colorscale": [
             [
              0,
              "#440154"
             ],
             [
              0.1111111111111111,
              "#482878"
             ],
             [
              0.2222222222222222,
              "#3e4989"
             ],
             [
              0.3333333333333333,
              "#31688e"
             ],
             [
              0.4444444444444444,
              "#26828e"
             ],
             [
              0.5555555555555556,
              "#1f9e89"
             ],
             [
              0.6666666666666666,
              "#35b779"
             ],
             [
              0.7777777777777778,
              "#6ece58"
             ],
             [
              0.8888888888888888,
              "#b5de2b"
             ],
             [
              1,
              "#fde725"
             ]
            ],
            "type": "histogram2d"
           }
          ],
          "histogram2dcontour": [
           {
            "colorbar": {
             "outlinewidth": 1,
             "tickcolor": "rgb(36,36,36)",
             "ticks": "outside"
            },
            "colorscale": [
             [
              0,
              "#440154"
             ],
             [
              0.1111111111111111,
              "#482878"
             ],
             [
              0.2222222222222222,
              "#3e4989"
             ],
             [
              0.3333333333333333,
              "#31688e"
             ],
             [
              0.4444444444444444,
              "#26828e"
             ],
             [
              0.5555555555555556,
              "#1f9e89"
             ],
             [
              0.6666666666666666,
              "#35b779"
             ],
             [
              0.7777777777777778,
              "#6ece58"
             ],
             [
              0.8888888888888888,
              "#b5de2b"
             ],
             [
              1,
              "#fde725"
             ]
            ],
            "type": "histogram2dcontour"
           }
          ],
          "mesh3d": [
           {
            "colorbar": {
             "outlinewidth": 1,
             "tickcolor": "rgb(36,36,36)",
             "ticks": "outside"
            },
            "type": "mesh3d"
           }
          ],
          "parcoords": [
           {
            "line": {
             "colorbar": {
              "outlinewidth": 1,
              "tickcolor": "rgb(36,36,36)",
              "ticks": "outside"
             }
            },
            "type": "parcoords"
           }
          ],
          "pie": [
           {
            "automargin": true,
            "type": "pie"
           }
          ],
          "scatter": [
           {
            "fillpattern": {
             "fillmode": "overlay",
             "size": 10,
             "solidity": 0.2
            },
            "type": "scatter"
           }
          ],
          "scatter3d": [
           {
            "line": {
             "colorbar": {
              "outlinewidth": 1,
              "tickcolor": "rgb(36,36,36)",
              "ticks": "outside"
             }
            },
            "marker": {
             "colorbar": {
              "outlinewidth": 1,
              "tickcolor": "rgb(36,36,36)",
              "ticks": "outside"
             }
            },
            "type": "scatter3d"
           }
          ],
          "scattercarpet": [
           {
            "marker": {
             "colorbar": {
              "outlinewidth": 1,
              "tickcolor": "rgb(36,36,36)",
              "ticks": "outside"
             }
            },
            "type": "scattercarpet"
           }
          ],
          "scattergeo": [
           {
            "marker": {
             "colorbar": {
              "outlinewidth": 1,
              "tickcolor": "rgb(36,36,36)",
              "ticks": "outside"
             }
            },
            "type": "scattergeo"
           }
          ],
          "scattergl": [
           {
            "marker": {
             "colorbar": {
              "outlinewidth": 1,
              "tickcolor": "rgb(36,36,36)",
              "ticks": "outside"
             }
            },
            "type": "scattergl"
           }
          ],
          "scattermap": [
           {
            "marker": {
             "colorbar": {
              "outlinewidth": 1,
              "tickcolor": "rgb(36,36,36)",
              "ticks": "outside"
             }
            },
            "type": "scattermap"
           }
          ],
          "scattermapbox": [
           {
            "marker": {
             "colorbar": {
              "outlinewidth": 1,
              "tickcolor": "rgb(36,36,36)",
              "ticks": "outside"
             }
            },
            "type": "scattermapbox"
           }
          ],
          "scatterpolar": [
           {
            "marker": {
             "colorbar": {
              "outlinewidth": 1,
              "tickcolor": "rgb(36,36,36)",
              "ticks": "outside"
             }
            },
            "type": "scatterpolar"
           }
          ],
          "scatterpolargl": [
           {
            "marker": {
             "colorbar": {
              "outlinewidth": 1,
              "tickcolor": "rgb(36,36,36)",
              "ticks": "outside"
             }
            },
            "type": "scatterpolargl"
           }
          ],
          "scatterternary": [
           {
            "marker": {
             "colorbar": {
              "outlinewidth": 1,
              "tickcolor": "rgb(36,36,36)",
              "ticks": "outside"
             }
            },
            "type": "scatterternary"
           }
          ],
          "surface": [
           {
            "colorbar": {
             "outlinewidth": 1,
             "tickcolor": "rgb(36,36,36)",
             "ticks": "outside"
            },
            "colorscale": [
             [
              0,
              "#440154"
             ],
             [
              0.1111111111111111,
              "#482878"
             ],
             [
              0.2222222222222222,
              "#3e4989"
             ],
             [
              0.3333333333333333,
              "#31688e"
             ],
             [
              0.4444444444444444,
              "#26828e"
             ],
             [
              0.5555555555555556,
              "#1f9e89"
             ],
             [
              0.6666666666666666,
              "#35b779"
             ],
             [
              0.7777777777777778,
              "#6ece58"
             ],
             [
              0.8888888888888888,
              "#b5de2b"
             ],
             [
              1,
              "#fde725"
             ]
            ],
            "type": "surface"
           }
          ],
          "table": [
           {
            "cells": {
             "fill": {
              "color": "rgb(237,237,237)"
             },
             "line": {
              "color": "white"
             }
            },
            "header": {
             "fill": {
              "color": "rgb(217,217,217)"
             },
             "line": {
              "color": "white"
             }
            },
            "type": "table"
           }
          ]
         },
         "layout": {
          "annotationdefaults": {
           "arrowhead": 0,
           "arrowwidth": 1
          },
          "autotypenumbers": "strict",
          "coloraxis": {
           "colorbar": {
            "outlinewidth": 1,
            "tickcolor": "rgb(36,36,36)",
            "ticks": "outside"
           }
          },
          "colorscale": {
           "diverging": [
            [
             0,
             "rgb(103,0,31)"
            ],
            [
             0.1,
             "rgb(178,24,43)"
            ],
            [
             0.2,
             "rgb(214,96,77)"
            ],
            [
             0.3,
             "rgb(244,165,130)"
            ],
            [
             0.4,
             "rgb(253,219,199)"
            ],
            [
             0.5,
             "rgb(247,247,247)"
            ],
            [
             0.6,
             "rgb(209,229,240)"
            ],
            [
             0.7,
             "rgb(146,197,222)"
            ],
            [
             0.8,
             "rgb(67,147,195)"
            ],
            [
             0.9,
             "rgb(33,102,172)"
            ],
            [
             1,
             "rgb(5,48,97)"
            ]
           ],
           "sequential": [
            [
             0,
             "#440154"
            ],
            [
             0.1111111111111111,
             "#482878"
            ],
            [
             0.2222222222222222,
             "#3e4989"
            ],
            [
             0.3333333333333333,
             "#31688e"
            ],
            [
             0.4444444444444444,
             "#26828e"
            ],
            [
             0.5555555555555556,
             "#1f9e89"
            ],
            [
             0.6666666666666666,
             "#35b779"
            ],
            [
             0.7777777777777778,
             "#6ece58"
            ],
            [
             0.8888888888888888,
             "#b5de2b"
            ],
            [
             1,
             "#fde725"
            ]
           ],
           "sequentialminus": [
            [
             0,
             "#440154"
            ],
            [
             0.1111111111111111,
             "#482878"
            ],
            [
             0.2222222222222222,
             "#3e4989"
            ],
            [
             0.3333333333333333,
             "#31688e"
            ],
            [
             0.4444444444444444,
             "#26828e"
            ],
            [
             0.5555555555555556,
             "#1f9e89"
            ],
            [
             0.6666666666666666,
             "#35b779"
            ],
            [
             0.7777777777777778,
             "#6ece58"
            ],
            [
             0.8888888888888888,
             "#b5de2b"
            ],
            [
             1,
             "#fde725"
            ]
           ]
          },
          "colorway": [
           "#1F77B4",
           "#FF7F0E",
           "#2CA02C",
           "#D62728",
           "#9467BD",
           "#8C564B",
           "#E377C2",
           "#7F7F7F",
           "#BCBD22",
           "#17BECF"
          ],
          "font": {
           "color": "rgb(36,36,36)"
          },
          "geo": {
           "bgcolor": "white",
           "lakecolor": "white",
           "landcolor": "white",
           "showlakes": true,
           "showland": true,
           "subunitcolor": "white"
          },
          "hoverlabel": {
           "align": "left"
          },
          "hovermode": "closest",
          "mapbox": {
           "style": "light"
          },
          "paper_bgcolor": "white",
          "plot_bgcolor": "white",
          "polar": {
           "angularaxis": {
            "gridcolor": "rgb(232,232,232)",
            "linecolor": "rgb(36,36,36)",
            "showgrid": false,
            "showline": true,
            "ticks": "outside"
           },
           "bgcolor": "white",
           "radialaxis": {
            "gridcolor": "rgb(232,232,232)",
            "linecolor": "rgb(36,36,36)",
            "showgrid": false,
            "showline": true,
            "ticks": "outside"
           }
          },
          "scene": {
           "xaxis": {
            "backgroundcolor": "white",
            "gridcolor": "rgb(232,232,232)",
            "gridwidth": 2,
            "linecolor": "rgb(36,36,36)",
            "showbackground": true,
            "showgrid": false,
            "showline": true,
            "ticks": "outside",
            "zeroline": false,
            "zerolinecolor": "rgb(36,36,36)"
           },
           "yaxis": {
            "backgroundcolor": "white",
            "gridcolor": "rgb(232,232,232)",
            "gridwidth": 2,
            "linecolor": "rgb(36,36,36)",
            "showbackground": true,
            "showgrid": false,
            "showline": true,
            "ticks": "outside",
            "zeroline": false,
            "zerolinecolor": "rgb(36,36,36)"
           },
           "zaxis": {
            "backgroundcolor": "white",
            "gridcolor": "rgb(232,232,232)",
            "gridwidth": 2,
            "linecolor": "rgb(36,36,36)",
            "showbackground": true,
            "showgrid": false,
            "showline": true,
            "ticks": "outside",
            "zeroline": false,
            "zerolinecolor": "rgb(36,36,36)"
           }
          },
          "shapedefaults": {
           "fillcolor": "black",
           "line": {
            "width": 0
           },
           "opacity": 0.3
          },
          "ternary": {
           "aaxis": {
            "gridcolor": "rgb(232,232,232)",
            "linecolor": "rgb(36,36,36)",
            "showgrid": false,
            "showline": true,
            "ticks": "outside"
           },
           "baxis": {
            "gridcolor": "rgb(232,232,232)",
            "linecolor": "rgb(36,36,36)",
            "showgrid": false,
            "showline": true,
            "ticks": "outside"
           },
           "bgcolor": "white",
           "caxis": {
            "gridcolor": "rgb(232,232,232)",
            "linecolor": "rgb(36,36,36)",
            "showgrid": false,
            "showline": true,
            "ticks": "outside"
           }
          },
          "title": {
           "x": 0.05
          },
          "xaxis": {
           "automargin": true,
           "gridcolor": "rgb(232,232,232)",
           "linecolor": "rgb(36,36,36)",
           "showgrid": false,
           "showline": true,
           "ticks": "outside",
           "title": {
            "standoff": 15
           },
           "zeroline": false,
           "zerolinecolor": "rgb(36,36,36)"
          },
          "yaxis": {
           "automargin": true,
           "gridcolor": "rgb(232,232,232)",
           "linecolor": "rgb(36,36,36)",
           "showgrid": false,
           "showline": true,
           "ticks": "outside",
           "title": {
            "standoff": 15
           },
           "zeroline": false,
           "zerolinecolor": "rgb(36,36,36)"
          }
         }
        },
        "title": {
         "text": "Price vs Physical Attack"
        },
        "xaxis": {
         "anchor": "y",
         "autorange": true,
         "domain": [
          0,
          1
         ],
         "range": [
          0.8090015480756972,
          4.367089710979984
         ],
         "title": {
          "text": "Physical Attack"
         },
         "type": "log"
        },
        "yaxis": {
         "anchor": "x",
         "autorange": true,
         "domain": [
          0,
          1
         ],
         "range": [
          0.627770557410134,
          5.882774452796477
         ],
         "title": {
          "text": "Price"
         },
         "type": "log"
        }
       }
      },
      "image/png": "[encoded data removed]"
     },
     "metadata": {},
     "output_type": "display_data"
    },
    {
     "data": {
      "application/vnd.plotly.v1+json": {
       "config": {
        "plotlyServerURL": "https://plot.ly"
       },
       "data": [
        {
         "customdata": [
          [
           "Assault Rifle",
           320
          ],
          [
           "Stone Axe",
           20
          ],
          [
           "Metal Axe",
           30
          ],
          [
           "Refined Metal Axe",
           60
          ],
          [
           "Axe4",
           75
          ],
          [
           "Metal Detector",
           null
          ],
          [
           "Wooden Club",
           25
          ],
          [
           "Bat",
           50
          ],
          [
           "Meat Cleaver",
           25
          ],
          [
           "Stun Baton",
           10
          ],
          [
           "Crossbow",
           280
          ],
          [
           "Double-Barreled Shotgun",
           190
          ],
          [
           "Handgun",
           250
          ],
          [
           "Laser Rifle",
           1250
          ],
          [
           "Rocket Launcher",
           10000
          ],
          [
           "Stone Pickaxe",
           20
          ],
          [
           "Metal Pickaxe",
           30
          ],
          [
           "Refined Metal Pickaxe",
           60
          ],
          [
           "Pump-Action Shotgun",
           220
          ],
          [
           "Single-Shot Rifle",
           1100
          ],
          [
           "Sword",
           525
          ],
          [
           "Old Bow",
           65
          ],
          [
           "Poison Bow",
           65
          ],
          [
           "Fire Bow",
           65
          ],
          [
           "Poison Arrow Crossbow",
           280
          ],
          [
           "Fire Arrow Crossbow",
           280
          ],
          [
           "Three Shot Bow",
           40
          ],
          [
           "Five Shot Bow",
           30
          ],
          [
           "Hand-Held Torch",
           10
          ],
          [
           "Makeshift Handgun",
           320
          ],
          [
           "Stone Spear",
           35
          ],
          [
           "Metal Spear",
           80
          ],
          [
           "Refined Metal Spear",
           310
          ],
          [
           "Elizabee's Staff",
           150
          ],
          [
           "Beegarde's Spear",
           150
          ],
          [
           "Lily's Spear",
           450
          ],
          [
           "Musket",
           1000
          ],
          [
           "Old Bow",
           130
          ],
          [
           "Old Bow",
           169
          ],
          [
           "Old Bow",
           208
          ],
          [
           "Old Bow",
           247
          ],
          [
           "Crossbow",
           364
          ],
          [
           "Crossbow",
           406
          ],
          [
           "Crossbow",
           448
          ],
          [
           "Crossbow",
           490
          ],
          [
           "Assault Rifle",
           400
          ],
          [
           "Assault Rifle",
           448
          ],
          [
           "Assault Rifle",
           512
          ],
          [
           "Assault Rifle",
           560
          ],
          [
           "Pump-Action Shotgun",
           275
          ],
          [
           "Pump-Action Shotgun",
           308
          ],
          [
           "Pump-Action Shotgun",
           352
          ],
          [
           "Pump-Action Shotgun",
           385
          ],
          [
           "Handgun",
           437
          ],
          [
           "Handgun",
           500
          ],
          [
           "Handgun",
           562
          ],
          [
           "Handgun",
           625
          ],
          [
           "Rocket Launcher",
           11000
          ],
          [
           "Rocket Launcher",
           12000
          ],
          [
           "Rocket Launcher",
           13000
          ],
          [
           "Rocket Launcher",
           14000
          ],
          [
           "Musket",
           1400
          ],
          [
           "Musket",
           1600
          ],
          [
           "Musket",
           1800
          ],
          [
           "Musket",
           2000
          ],
          [
           "Double-Barreled Shotgun",
           285
          ],
          [
           "Double-Barreled Shotgun",
           323
          ],
          [
           "Double-Barreled Shotgun",
           361
          ],
          [
           "Double-Barreled Shotgun",
           399
          ],
          [
           "Single-Shot Rifle",
           1650
          ],
          [
           "Single-Shot Rifle",
           1870
          ],
          [
           "Single-Shot Rifle",
           2090
          ],
          [
           "Single-Shot Rifle",
           2310
          ],
          [
           "Gatling Gun",
           375
          ],
          [
           "Grenade Launcher",
           3000
          ],
          [
           "Guided Missile Launcher",
           5900
          ],
          [
           "Multi Guided Missile Launcher",
           5900
          ],
          [
           "Laser Gatling Gun",
           530
          ],
          [
           "Makeshift Handgun",
           560
          ],
          [
           "Makeshift Handgun",
           640
          ],
          [
           "Makeshift Handgun",
           720
          ],
          [
           "Makeshift Handgun",
           800
          ],
          [
           "Laser Rifle",
           1437
          ],
          [
           "Laser Rifle",
           1562
          ],
          [
           "Laser Rifle",
           1687
          ],
          [
           "Laser Rifle",
           1875
          ],
          [
           "Grenade Launcher",
           3450
          ],
          [
           "Grenade Launcher",
           3750
          ],
          [
           "Grenade Launcher",
           4050
          ],
          [
           "Grenade Launcher",
           4500
          ],
          [
           "Guided Missile Launcher",
           6785
          ],
          [
           "Guided Missile Launcher",
           7375
          ],
          [
           "Guided Missile Launcher",
           7965
          ],
          [
           "Guided Missile Launcher",
           8850
          ],
          [
           "Multi Guided Missile Launcher",
           6785
          ],
          [
           "Multi Guided Missile Launcher",
           7375
          ],
          [
           "Multi Guided Missile Launcher",
           7965
          ],
          [
           "Multi Guided Missile Launcher",
           8850
          ],
          [
           "Gatling Gun",
           431
          ],
          [
           "Gatling Gun",
           468
          ],
          [
           "Gatling Gun",
           506
          ],
          [
           "Gatling Gun",
           562
          ],
          [
           "Meteor Launcher",
           2000
          ],
          [
           "Katana",
           525
          ],
          [
           "Beam Sword",
           2000
          ],
          [
           "Semi-Auto Shotgun",
           195
          ],
          [
           "Plasma Cannon",
           10000
          ],
          [
           "Poison Arrow Crossbow",
           364
          ],
          [
           "Poison Arrow Crossbow",
           406
          ],
          [
           "Poison Arrow Crossbow",
           448
          ],
          [
           "Poison Arrow Crossbow",
           490
          ],
          [
           "Fire Arrow Crossbow",
           364
          ],
          [
           "Fire Arrow Crossbow",
           406
          ],
          [
           "Fire Arrow Crossbow",
           448
          ],
          [
           "Fire Arrow Crossbow",
           490
          ],
          [
           "Old Revolver",
           600
          ],
          [
           "Pal Metal Pickaxe",
           120
          ],
          [
           "Pal Metal Axe",
           120
          ],
          [
           "Makeshift Assault Rifle",
           170
          ],
          [
           "Semi-Auto Rifle",
           1150
          ],
          [
           "Makeshift SMG",
           100
          ],
          [
           "SMG",
           130
          ],
          [
           "Makeshift Shotgun",
           215
          ],
          [
           "Laser Gatling Gun",
           583
          ],
          [
           "Laser Gatling Gun",
           609
          ],
          [
           "Laser Gatling Gun",
           636
          ],
          [
           "Laser Gatling Gun",
           689
          ],
          [
           "Plasma Cannon",
           11000
          ],
          [
           "Plasma Cannon",
           11500
          ],
          [
           "Plasma Cannon",
           12000
          ],
          [
           "Plasma Cannon",
           13000
          ],
          [
           "Compound Bow",
           1100
          ],
          [
           "Advanced Bow",
           5800
          ],
          [
           "Semi-Auto Shotgun",
           214
          ],
          [
           "Semi-Auto Shotgun",
           234
          ],
          [
           "Semi-Auto Shotgun",
           253
          ],
          [
           "Semi-Auto Shotgun",
           282
          ],
          [
           "Old Revolver",
           1050
          ],
          [
           "Old Revolver",
           1200
          ],
          [
           "Old Revolver",
           1350
          ],
          [
           "Old Revolver",
           1500
          ],
          [
           "Makeshift Assault Rifle",
           204
          ],
          [
           "Makeshift Assault Rifle",
           229
          ],
          [
           "Makeshift Assault Rifle",
           255
          ],
          [
           "Makeshift Assault Rifle",
           297
          ],
          [
           "Semi-Auto Rifle",
           1265
          ],
          [
           "Semi-Auto Rifle",
           1380
          ],
          [
           "Semi-Auto Rifle",
           1495
          ],
          [
           "Semi-Auto Rifle",
           1610
          ],
          [
           "Makeshift SMG",
           120
          ],
          [
           "Makeshift SMG",
           135
          ],
          [
           "Makeshift SMG",
           150
          ],
          [
           "Makeshift SMG",
           175
          ],
          [
           "SMG",
           156
          ],
          [
           "SMG",
           175
          ],
          [
           "SMG",
           195
          ],
          [
           "SMG",
           227
          ],
          [
           "Makeshift Shotgun",
           258
          ],
          [
           "Makeshift Shotgun",
           290
          ],
          [
           "Makeshift Shotgun",
           322
          ],
          [
           "Makeshift Shotgun",
           376
          ],
          [
           "Meowmere",
           200
          ],
          [
           "Advanced Bow",
           6670
          ],
          [
           "Advanced Bow",
           7250
          ],
          [
           "Advanced Bow",
           7830
          ],
          [
           "Advanced Bow",
           8700
          ],
          [
           "Compound Bow",
           1265
          ],
          [
           "Compound Bow",
           1375
          ],
          [
           "Compound Bow",
           1485
          ],
          [
           "Compound Bow",
           1650
          ],
          [
           "Charge Rifle",
           12500
          ],
          [
           "Overheat Rifle",
           1225
          ],
          [
           "Energy Shotgun",
           402
          ],
          [
           "Boost Gun",
           250
          ],
          [
           "Megaboost Gun",
           250
          ],
          [
           "Energy Shotgun",
           422
          ],
          [
           "Energy Shotgun",
           442
          ],
          [
           "Energy Shotgun",
           462
          ],
          [
           "Energy Shotgun",
           482
          ],
          [
           "Charge Rifle",
           13125
          ],
          [
           "Charge Rifle",
           13750
          ],
          [
           "Charge Rifle",
           14375
          ],
          [
           "Charge Rifle",
           15000
          ],
          [
           "Overheat Rifle",
           1286
          ],
          [
           "Overheat Rifle",
           1347
          ],
          [
           "Overheat Rifle",
           1408
          ],
          [
           "Overheat Rifle",
           1470
          ],
          [
           "Terra Blade",
           425
          ],
          [
           "Terraprisma",
           90
          ],
          [
           "Vortex Beater",
           300
          ],
          [
           "Nightglow",
           50
          ],
          [
           "Excalibur",
           360
          ],
          [
           "Legendary Meowmere",
           222
          ],
          [
           "Beginner Fishing Rod (Chillet)",
           25
          ],
          [
           "Beginner Fishing Rod (Gumoss)",
           25
          ],
          [
           "Intermediate Fishing Rod (Cattiva)",
           25
          ],
          [
           "Intermediate Fishing Rod (Croajiro)",
           25
          ],
          [
           "Advanced Fishing Rod (Pengullet)",
           25
          ],
          [
           "Advanced Fishing Rod (Depresso)",
           25
          ],
          [
           "Terra Blade",
           467
          ],
          [
           "Terra Blade",
           510
          ],
          [
           "Terra Blade",
           552
          ],
          [
           "Terra Blade",
           637
          ],
          [
           "Terraprisma",
           100
          ],
          [
           "Terraprisma",
           110
          ],
          [
           "Terraprisma",
           125
          ],
          [
           "Terraprisma",
           150
          ],
          [
           "Vortex Beater",
           330
          ],
          [
           "Vortex Beater",
           360
          ],
          [
           "Vortex Beater",
           390
          ],
          [
           "Vortex Beater",
           450
          ],
          [
           "Nightglow",
           60
          ],
          [
           "Nightglow",
           70
          ],
          [
           "Nightglow",
           80
          ],
          [
           "Nightglow",
           100
          ],
          [
           "Excalibur",
           396
          ],
          [
           "Excalibur",
           432
          ],
          [
           "Excalibur",
           468
          ],
          [
           "Excalibur",
           540
          ],
          [
           "Meteor Launcher",
           10500
          ]
         ],
         "hovertemplate": "Durability=%{x}<br>Price=%{y}<br>Name=%{customdata[0]}<br>Physical Attack=%{customdata[1]}<extra></extra>",
         "legendgroup": "",
         "marker": {
          "color": "#1F77B4",
          "symbol": "circle"
         },
         "mode": "markers",
         "name": "",
         "orientation": "v",
         "showlegend": false,
         "type": "scatter",
         "x": {
          "_inputArray": {
           "0": 3000,
           "1": 150,
           "10": 300,
           "100": 18000,
           "101": 24000,
           "102": 300,
           "103": 500,
           "104": 500,
           "105": 300,
           "106": 300,
           "107": 800,
           "108": 1000,
           "109": 1200,
           "11": 200,
           "110": 1400,
           "111": 800,
           "112": 1000,
           "113": 1200,
           "114": 1400,
           "115": 400,
           "116": 400,
           "117": 400,
           "118": 1500,
           "119": 1000,
           "12": 400,
           "120": 1000,
           "121": 2000,
           "122": 200,
           "123": 12000,
           "124": 16000,
           "125": 24000,
           "126": 32000,
           "127": 450,
           "128": 600,
           "129": 900,
           "13": 3000,
           "130": 1200,
           "131": 400,
           "132": 500,
           "133": 450,
           "134": 600,
           "135": 900,
           "136": 1200,
           "137": 600,
           "138": 800,
           "139": 1200,
           "14": 300,
           "140": 1600,
           "141": 2250,
           "142": 3000,
           "143": 4500,
           "144": 6000,
           "145": 1500,
           "146": 2000,
           "147": 3000,
           "148": 4000,
           "149": 1500,
           "15": 150,
           "150": 2000,
           "151": 3000,
           "152": 4000,
           "153": 3000,
           "154": 4000,
           "155": 6000,
           "156": 8000,
           "157": 300,
           "158": 400,
           "159": 600,
           "16": 250,
           "160": 800,
           "161": 2222,
           "162": 750,
           "163": 1000,
           "164": 1500,
           "165": 2000,
           "166": 600,
           "167": 800,
           "168": 1200,
           "169": 1600,
           "17": 300,
           "170": 200,
           "171": 3000,
           "172": 300,
           "173": 400,
           "174": 400,
           "175": 450,
           "176": 600,
           "177": 900,
           "178": 1200,
           "179": 300,
           "18": 150,
           "180": 400,
           "181": 600,
           "182": 800,
           "183": 3000,
           "184": 4000,
           "185": 5000,
           "186": 6000,
           "187": 757,
           "188": 5000,
           "189": 3000,
           "19": 1000,
           "190": 3000,
           "191": 600,
           "192": 22222,
           "193": 120,
           "194": 180,
           "195": 240,
           "196": 360,
           "197": 480,
           "198": 720,
           "199": 1135,
           "2": 250,
           "20": 500,
           "200": 1514,
           "201": 2271,
           "202": 3028,
           "203": 6000,
           "204": 7200,
           "205": 8640,
           "206": 10368,
           "207": 3000,
           "208": 4000,
           "209": 5000,
           "21": 150,
           "210": 6000,
           "211": 3000,
           "212": 4000,
           "213": 5000,
           "214": 6000,
           "215": 900,
           "216": 1200,
           "217": 1800,
           "218": 2400,
           "219": 450,
           "22": 150,
           "23": 150,
           "24": 300,
           "25": 300,
           "26": 250,
           "27": 350,
           "28": 100,
           "29": 300,
           "3": 300,
           "30": 200,
           "31": 250,
           "32": 300,
           "33": 300,
           "34": 400,
           "35": 500,
           "36": 200,
           "37": 400,
           "38": 500,
           "39": 600,
           "4": 400,
           "40": 700,
           "41": 800,
           "42": 1000,
           "43": 1200,
           "44": 1400,
           "45": 3000,
           "46": 4000,
           "47": 5000,
           "48": 6000,
           "49": 500,
           "5": 400,
           "50": 600,
           "51": 700,
           "52": 800,
           "53": 1200,
           "54": 1600,
           "55": 2000,
           "56": 2400,
           "57": 800,
           "58": 1000,
           "59": 1200,
           "6": 150,
           "60": 1400,
           "61": 400,
           "62": 500,
           "63": 600,
           "64": 800,
           "65": 400,
           "66": 500,
           "67": 600,
           "68": 800,
           "69": 2000,
           "7": 150,
           "70": 2500,
           "71": 3000,
           "72": 4000,
           "73": 6000,
           "74": 600,
           "75": 300,
           "76": 300,
           "77": 8000,
           "78": 600,
           "79": 900,
           "8": 300,
           "80": 1200,
           "81": 1500,
           "82": 4500,
           "83": 6000,
           "84": 9000,
           "85": 12000,
           "86": 900,
           "87": 1200,
           "88": 1800,
           "89": 2400,
           "9": 300,
           "90": 450,
           "91": 600,
           "92": 900,
           "93": 1200,
           "94": 450,
           "95": 600,
           "96": 900,
           "97": 1200,
           "98": 9000,
           "99": 12000,
           "bdata": "AAAAAABwp0AAAAAAAMBiQAAAAAAAQG9AAAAAAADAckAAAAAAAAB5QAAAAAAAAHlAAAAAAADAYkAAAAAAAMBiQAAAAAAAwHJAAAAAAADAckAAAAAAAMByQAAAAAAAAGlAAAAAAAAAeUAAAAAAAHCnQAAAAAAAwHJAAAAAAADAYkAAAAAAAEBvQAAAAAAAwHJAAAAAAADAYkAAAAAAAECPQAAAAAAAQH9AAAAAAADAYkAAAAAAAMBiQAAAAAAAwGJAAAAAAADAckAAAAAAAMByQAAAAAAAQG9AAAAAAADgdUAAAAAAAABZQAAAAAAAwHJAAAAAAAAAaUAAAAAAAEBvQAAAAAAAwHJAAAAAAADAckAAAAAAAAB5QAAAAAAAQH9AAAAAAAAAaUAAAAAAAAB5QAAAAAAAQH9AAAAAAADAgkAAAAAAAOCFQAAAAAAAAIlAAAAAAABAj0AAAAAAAMCSQAAAAAAA4JVAAAAAAABwp0AAAAAAAECvQAAAAAAAiLNAAAAAAABwt0AAAAAAAEB/QAAAAAAAwIJAAAAAAADghUAAAAAAAACJQAAAAAAAwJJAAAAAAAAAmUAAAAAAAECfQAAAAAAAwKJAAAAAAAAAiUAAAAAAAECPQAAAAAAAwJJAAAAAAADglUAAAAAAAAB5QAAAAAAAQH9AAAAAAADAgkAAAAAAAACJQAAAAAAAAHlAAAAAAABAf0AAAAAAAMCCQAAAAAAAAIlAAAAAAABAn0AAAAAAAIijQAAAAAAAcKdAAAAAAABAr0AAAAAAAHC3QAAAAAAAwIJAAAAAAADAckAAAAAAAMByQAAAAAAAQL9AAAAAAADAgkAAAAAAACCMQAAAAAAAwJJAAAAAAABwl0AAAAAAAJSxQAAAAAAAcLdAAAAAAACUwUAAAAAAAHDHQAAAAAAAIIxAAAAAAADAkkAAAAAAACCcQAAAAAAAwKJAAAAAAAAgfEAAAAAAAMCCQAAAAAAAIIxAAAAAAADAkkAAAAAAACB8QAAAAAAAwIJAAAAAAAAgjEAAAAAAAMCSQAAAAAAAlMFAAAAAAABwx0AAAAAAAJTRQAAAAAAAcNdAAAAAAADAckAAAAAAAEB/QAAAAAAAQH9AAAAAAADAckAAAAAAAMByQAAAAAAAAIlAAAAAAABAj0AAAAAAAMCSQAAAAAAA4JVAAAAAAAAAiUAAAAAAAECPQAAAAAAAwJJAAAAAAADglUAAAAAAAAB5QAAAAAAAAHlAAAAAAAAAeUAAAAAAAHCXQAAAAAAAQI9AAAAAAABAj0AAAAAAAECfQAAAAAAAAGlAAAAAAABwx0AAAAAAAEDPQAAAAAAAcNdAAAAAAABA30AAAAAAACB8QAAAAAAAwIJAAAAAAAAgjEAAAAAAAMCSQAAAAAAAAHlAAAAAAABAf0AAAAAAACB8QAAAAAAAwIJAAAAAAAAgjEAAAAAAAMCSQAAAAAAAwIJAAAAAAAAAiUAAAAAAAMCSQAAAAAAAAJlAAAAAAACUoUAAAAAAAHCnQAAAAAAAlLFAAAAAAABwt0AAAAAAAHCXQAAAAAAAQJ9AAAAAAABwp0AAAAAAAECvQAAAAAAAcJdAAAAAAABAn0AAAAAAAHCnQAAAAAAAQK9AAAAAAABwp0AAAAAAAECvQAAAAAAAcLdAAAAAAABAv0AAAAAAAMByQAAAAAAAAHlAAAAAAADAgkAAAAAAAACJQAAAAAAAXKFAAAAAAABwh0AAAAAAAECPQAAAAAAAcJdAAAAAAABAn0AAAAAAAMCCQAAAAAAAAIlAAAAAAADAkkAAAAAAAACZQAAAAAAAAGlAAAAAAABwp0AAAAAAAMByQAAAAAAAAHlAAAAAAAAAeUAAAAAAACB8QAAAAAAAwIJAAAAAAAAgjEAAAAAAAMCSQAAAAAAAwHJAAAAAAAAAeUAAAAAAAMCCQAAAAAAAAIlAAAAAAABwp0AAAAAAAECvQAAAAAAAiLNAAAAAAABwt0AAAAAAAKiHQAAAAAAAiLNAAAAAAABwp0AAAAAAAHCnQAAAAAAAwIJAAAAAAICz1UAAAAAAAABeQAAAAAAAgGZAAAAAAAAAbkAAAAAAAIB2QAAAAAAAAH5AAAAAAACAhkAAAAAAALyRQAAAAAAAqJdAAAAAAAC+oUAAAAAAAKinQAAAAAAAcLdAAAAAAAAgvEAAAAAAAODAQAAAAAAAQMRAAAAAAABwp0AAAAAAAECvQAAAAAAAiLNAAAAAAABwt0AAAAAAAHCnQAAAAAAAQK9AAAAAAACIs0AAAAAAAHC3QAAAAAAAIIxAAAAAAADAkkAAAAAAACCcQAAAAAAAwKJAAAAAAAAgfEA=",
           "dtype": "f8",
           "shape": "220"
          },
          "bdata": "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",
          "dtype": "f8"
         },
         "xaxis": "x",
         "y": {
          "_inputArray": {
           "0": 82400,
           "1": 200,
           "10": 25200,
           "100": 324000,
           "101": 324000,
           "102": 324000,
           "103": 10440,
           "104": 10440,
           "105": 153600,
           "106": 324000,
           "107": 25200,
           "108": 25200,
           "109": 25200,
           "11": 55200,
           "110": 25200,
           "111": 25200,
           "112": 25200,
           "113": 25200,
           "114": 25200,
           "115": 33000,
           "116": 33000,
           "117": 33000,
           "118": 82400,
           "119": 37600,
           "12": 33000,
           "120": 82400,
           "121": 82400,
           "122": 55200,
           "123": 324000,
           "124": 324000,
           "125": 324000,
           "126": 324000,
           "127": 324000,
           "128": 324000,
           "129": 324000,
           "13": 324000,
           "130": 324000,
           "131": 25200,
           "132": 25200,
           "133": 153600,
           "134": 153600,
           "135": 153600,
           "136": 153600,
           "137": 33000,
           "138": 33000,
           "139": 33000,
           "14": 324000,
           "140": 33000,
           "141": 82400,
           "142": 82400,
           "143": 82400,
           "144": 82400,
           "145": 37600,
           "146": 37600,
           "147": 37600,
           "148": 37600,
           "149": 82400,
           "15": 200,
           "150": 82400,
           "151": 82400,
           "152": 82400,
           "153": 82400,
           "154": 82400,
           "155": 82400,
           "156": 82400,
           "157": 55200,
           "158": 55200,
           "159": 55200,
           "16": 2800,
           "160": 55200,
           "161": 200,
           "162": 25200,
           "163": 25200,
           "164": 25200,
           "165": 25200,
           "166": 25200,
           "167": 25200,
           "168": 25200,
           "169": 25200,
           "17": 7000,
           "170": 37600,
           "171": 82400,
           "172": 153600,
           "173": 33000,
           "174": 33000,
           "175": 153600,
           "176": 153600,
           "177": 153600,
           "178": 153600,
           "179": 37600,
           "18": 153600,
           "180": 37600,
           "181": 37600,
           "182": 37600,
           "183": 82400,
           "184": 82400,
           "185": 82400,
           "186": 82400,
           "187": 10000,
           "188": 10000,
           "189": 10000,
           "19": 37600,
           "190": 10000,
           "191": 10000,
           "192": 10000,
           "193": 350,
           "194": 520,
           "195": 800,
           "196": 840,
           "197": 980,
           "198": 1050,
           "199": 10000,
           "2": 2800,
           "20": 10440,
           "200": 10000,
           "201": 10000,
           "202": 10000,
           "203": 10000,
           "204": 10000,
           "205": 10000,
           "206": 10000,
           "207": 10000,
           "208": 10000,
           "209": 10000,
           "21": 360,
           "210": 10000,
           "211": 10000,
           "212": 10000,
           "213": 10000,
           "214": 10000,
           "215": 200,
           "216": 200,
           "217": 200,
           "218": 200,
           "219": 324000,
           "22": 480,
           "23": 480,
           "24": 25200,
           "25": 25200,
           "26": 1000,
           "27": 10,
           "28": 80,
           "29": 16600,
           "3": 7000,
           "30": 480,
           "31": 8780,
           "32": 13880,
           "33": 20000,
           "34": 20000,
           "35": 20000,
           "36": 37600,
           "37": 360,
           "38": 360,
           "39": 360,
           "4": 33000,
           "40": 360,
           "41": 25200,
           "42": 25200,
           "43": 25200,
           "44": 25200,
           "45": 82400,
           "46": 82400,
           "47": 82400,
           "48": 82400,
           "49": 153600,
           "5": 33000,
           "50": 153600,
           "51": 153600,
           "52": 153600,
           "53": 33000,
           "54": 33000,
           "55": 33000,
           "56": 33000,
           "57": 324000,
           "58": 324000,
           "59": 324000,
           "6": 80,
           "60": 324000,
           "61": 37600,
           "62": 37600,
           "63": 37600,
           "64": 37600,
           "65": 55200,
           "66": 55200,
           "67": 55200,
           "68": 55200,
           "69": 37600,
           "7": 80,
           "70": 37600,
           "71": 37600,
           "72": 37600,
           "73": 324000,
           "74": 324000,
           "75": 324000,
           "76": 324000,
           "77": 324000,
           "78": 16600,
           "79": 16600,
           "8": 100,
           "80": 16600,
           "81": 16600,
           "82": 324000,
           "83": 324000,
           "84": 324000,
           "85": 324000,
           "86": 324000,
           "87": 324000,
           "88": 324000,
           "89": 324000,
           "9": 19000,
           "90": 324000,
           "91": 324000,
           "92": 324000,
           "93": 324000,
           "94": 324000,
           "95": 324000,
           "96": 324000,
           "97": 324000,
           "98": 324000,
           "99": 324000,
           "bdata": "4EEBAMgAAADwCgAAWBsAAOiAAADogAAAUAAAAFAAAABkAAAAOEoAAHBiAACg1wAA6IAAAKDxBACg8QQAyAAAAPAKAABYGwAAAFgCAOCSAADIKAAAaAEAAOABAADgAQAAcGIAAHBiAADoAwAACgAAAFAAAADYQAAA4AEAAEwiAAA4NgAAIE4AACBOAAAgTgAA4JIAAGgBAABoAQAAaAEAAGgBAABwYgAAcGIAAHBiAABwYgAA4EEBAOBBAQDgQQEA4EEBAABYAgAAWAIAAFgCAABYAgDogAAA6IAAAOiAAADogAAAoPEEAKDxBACg8QQAoPEEAOCSAADgkgAA4JIAAOCSAACg1wAAoNcAAKDXAACg1wAA4JIAAOCSAADgkgAA4JIAAKDxBACg8QQAoPEEAKDxBACg8QQA2EAAANhAAADYQAAA2EAAAKDxBACg8QQAoPEEAKDxBACg8QQAoPEEAKDxBACg8QQAoPEEAKDxBACg8QQAoPEEAKDxBACg8QQAoPEEAKDxBACg8QQAoPEEAKDxBACg8QQAoPEEAMgoAADIKAAAAFgCAKDxBABwYgAAcGIAAHBiAABwYgAAcGIAAHBiAABwYgAAcGIAAOiAAADogAAA6IAAAOBBAQDgkgAA4EEBAOBBAQCg1wAAoPEEAKDxBACg8QQAoPEEAKDxBACg8QQAoPEEAKDxBABwYgAAcGIAAABYAgAAWAIAAFgCAABYAgDogAAA6IAAAOiAAADogAAA4EEBAOBBAQDgQQEA4EEBAOCSAADgkgAA4JIAAOCSAADgQQEA4EEBAOBBAQDgQQEA4EEBAOBBAQDgQQEA4EEBAKDXAACg1wAAoNcAAKDXAADIAAAAcGIAAHBiAABwYgAAcGIAAHBiAABwYgAAcGIAAHBiAADgkgAA4EEBAABYAgDogAAA6IAAAABYAgAAWAIAAFgCAABYAgDgkgAA4JIAAOCSAADgkgAA4EEBAOBBAQDgQQEA4EEBABAnAAAQJwAAECcAABAnAAAQJwAAECcAAF4BAAAIAgAAIAMAAEgDAADUAwAAGgQAABAnAAAQJwAAECcAABAnAAAQJwAAECcAABAnAAAQJwAAECcAABAnAAAQJwAAECcAABAnAAAQJwAAECcAABAnAADIAAAAyAAAAMgAAADIAAAAoPEEAA==",
           "dtype": "i4",
           "shape": "220"
          },
          "bdata": "4EEBAMgAAADwCgAAWBsAAOiAAADogAAAUAAAAFAAAABkAAAAOEoAAHBiAACg1wAA6IAAAKDxBACg8QQAyAAAAPAKAABYGwAAAFgCAOCSAADIKAAAaAEAAOABAADgAQAAcGIAAHBiAADoAwAACgAAAFAAAADYQAAA4AEAAEwiAAA4NgAAIE4AACBOAAAgTgAA4JIAAGgBAABoAQAAaAEAAGgBAABwYgAAcGIAAHBiAABwYgAA4EEBAOBBAQDgQQEA4EEBAABYAgAAWAIAAFgCAABYAgDogAAA6IAAAOiAAADogAAAoPEEAKDxBACg8QQAoPEEAOCSAADgkgAA4JIAAOCSAACg1wAAoNcAAKDXAACg1wAA4JIAAOCSAADgkgAA4JIAAKDxBACg8QQAoPEEAKDxBACg8QQA2EAAANhAAADYQAAA2EAAAKDxBACg8QQAoPEEAKDxBACg8QQAoPEEAKDxBACg8QQAoPEEAKDxBACg8QQAoPEEAKDxBACg8QQAoPEEAKDxBACg8QQAoPEEAKDxBACg8QQAoPEEAMgoAADIKAAAAFgCAKDxBABwYgAAcGIAAHBiAABwYgAAcGIAAHBiAABwYgAAcGIAAOiAAADogAAA6IAAAOBBAQDgkgAA4EEBAOBBAQCg1wAAoPEEAKDxBACg8QQAoPEEAKDxBACg8QQAoPEEAKDxBABwYgAAcGIAAABYAgAAWAIAAFgCAABYAgDogAAA6IAAAOiAAADogAAA4EEBAOBBAQDgQQEA4EEBAOCSAADgkgAA4JIAAOCSAADgQQEA4EEBAOBBAQDgQQEA4EEBAOBBAQDgQQEA4EEBAKDXAACg1wAAoNcAAKDXAADIAAAAcGIAAHBiAABwYgAAcGIAAHBiAABwYgAAcGIAAHBiAADgkgAA4EEBAABYAgDogAAA6IAAAABYAgAAWAIAAFgCAABYAgDgkgAA4JIAAOCSAADgkgAA4EEBAOBBAQDgQQEA4EEBABAnAAAQJwAAECcAABAnAAAQJwAAECcAAF4BAAAIAgAAIAMAAEgDAADUAwAAGgQAABAnAAAQJwAAECcAABAnAAAQJwAAECcAABAnAAAQJwAAECcAABAnAAAQJwAAECcAABAnAAAQJwAAECcAABAnAADIAAAAyAAAAMgAAADIAAAAoPEEAA==",
          "dtype": "i4"
         },
         "yaxis": "y"
        }
       ],
       "layout": {
        "autosize": true,
        "legend": {
         "tracegroupgap": 0
        },
        "template": {
         "data": {
          "bar": [
           {
            "error_x": {
             "color": "rgb(36,36,36)"
            },
            "error_y": {
             "color": "rgb(36,36,36)"
            },
            "marker": {
             "line": {
              "color": "white",
              "width": 0.5
             },
             "pattern": {
              "fillmode": "overlay",
              "size": 10,
              "solidity": 0.2
             }
            },
            "type": "bar"
           }
          ],
          "barpolar": [
           {
            "marker": {
             "line": {
              "color": "white",
              "width": 0.5
             },
             "pattern": {
              "fillmode": "overlay",
              "size": 10,
              "solidity": 0.2
             }
            },
            "type": "barpolar"
           }
          ],
          "carpet": [
           {
            "aaxis": {
             "endlinecolor": "rgb(36,36,36)",
             "gridcolor": "white",
             "linecolor": "white",
             "minorgridcolor": "white",
             "startlinecolor": "rgb(36,36,36)"
            },
            "baxis": {
             "endlinecolor": "rgb(36,36,36)",
             "gridcolor": "white",
             "linecolor": "white",
             "minorgridcolor": "white",
             "startlinecolor": "rgb(36,36,36)"
            },
            "type": "carpet"
           }
          ],
          "choropleth": [
           {
            "colorbar": {
             "outlinewidth": 1,
             "tickcolor": "rgb(36,36,36)",
             "ticks": "outside"
            },
            "type": "choropleth"
           }
          ],
          "contour": [
           {
            "colorbar": {
             "outlinewidth": 1,
             "tickcolor": "rgb(36,36,36)",
             "ticks": "outside"
            },
            "colorscale": [
             [
              0,
              "#440154"
             ],
             [
              0.1111111111111111,
              "#482878"
             ],
             [
              0.2222222222222222,
              "#3e4989"
             ],
             [
              0.3333333333333333,
              "#31688e"
             ],
             [
              0.4444444444444444,
              "#26828e"
             ],
             [
              0.5555555555555556,
              "#1f9e89"
             ],
             [
              0.6666666666666666,
              "#35b779"
             ],
             [
              0.7777777777777778,
              "#6ece58"
             ],
             [
              0.8888888888888888,
              "#b5de2b"
             ],
             [
              1,
              "#fde725"
             ]
            ],
            "type": "contour"
           }
          ],
          "contourcarpet": [
           {
            "colorbar": {
             "outlinewidth": 1,
             "tickcolor": "rgb(36,36,36)",
             "ticks": "outside"
            },
            "type": "contourcarpet"
           }
          ],
          "heatmap": [
           {
            "colorbar": {
             "outlinewidth": 1,
             "tickcolor": "rgb(36,36,36)",
             "ticks": "outside"
            },
            "colorscale": [
             [
              0,
              "#440154"
             ],
             [
              0.1111111111111111,
              "#482878"
             ],
             [
              0.2222222222222222,
              "#3e4989"
             ],
             [
              0.3333333333333333,
              "#31688e"
             ],
             [
              0.4444444444444444,
              "#26828e"
             ],
             [
              0.5555555555555556,
              "#1f9e89"
             ],
             [
              0.6666666666666666,
              "#35b779"
             ],
             [
              0.7777777777777778,
              "#6ece58"
             ],
             [
              0.8888888888888888,
              "#b5de2b"
             ],
             [
              1,
              "#fde725"
             ]
            ],
            "type": "heatmap"
           }
          ],
          "histogram": [
           {
            "marker": {
             "line": {
              "color": "white",
              "width": 0.6
             }
            },
            "type": "histogram"
           }
          ],
          "histogram2d": [
           {
            "colorbar": {
             "outlinewidth": 1,
             "tickcolor": "rgb(36,36,36)",
             "ticks": "outside"
            },
            "colorscale": [
             [
              0,
              "#440154"
             ],
             [
              0.1111111111111111,
              "#482878"
             ],
             [
              0.2222222222222222,
              "#3e4989"
             ],
             [
              0.3333333333333333,
              "#31688e"
             ],
             [
              0.4444444444444444,
              "#26828e"
             ],
             [
              0.5555555555555556,
              "#1f9e89"
             ],
             [
              0.6666666666666666,
              "#35b779"
             ],
             [
              0.7777777777777778,
              "#6ece58"
             ],
             [
              0.8888888888888888,
              "#b5de2b"
             ],
             [
              1,
              "#fde725"
             ]
            ],
            "type": "histogram2d"
           }
          ],
          "histogram2dcontour": [
           {
            "colorbar": {
             "outlinewidth": 1,
             "tickcolor": "rgb(36,36,36)",
             "ticks": "outside"
            },
            "colorscale": [
             [
              0,
              "#440154"
             ],
             [
              0.1111111111111111,
              "#482878"
             ],
             [
              0.2222222222222222,
              "#3e4989"
             ],
             [
              0.3333333333333333,
              "#31688e"
             ],
             [
              0.4444444444444444,
              "#26828e"
             ],
             [
              0.5555555555555556,
              "#1f9e89"
             ],
             [
              0.6666666666666666,
              "#35b779"
             ],
             [
              0.7777777777777778,
              "#6ece58"
             ],
             [
              0.8888888888888888,
              "#b5de2b"
             ],
             [
              1,
              "#fde725"
             ]
            ],
            "type": "histogram2dcontour"
           }
          ],
          "mesh3d": [
           {
            "colorbar": {
             "outlinewidth": 1,
             "tickcolor": "rgb(36,36,36)",
             "ticks": "outside"
            },
            "type": "mesh3d"
           }
          ],
          "parcoords": [
           {
            "line": {
             "colorbar": {
              "outlinewidth": 1,
              "tickcolor": "rgb(36,36,36)",
              "ticks": "outside"
             }
            },
            "type": "parcoords"
           }
          ],
          "pie": [
           {
            "automargin": true,
            "type": "pie"
           }
          ],
          "scatter": [
           {
            "fillpattern": {
             "fillmode": "overlay",
             "size": 10,
             "solidity": 0.2
            },
            "type": "scatter"
           }
          ],
          "scatter3d": [
           {
            "line": {
             "colorbar": {
              "outlinewidth": 1,
              "tickcolor": "rgb(36,36,36)",
              "ticks": "outside"
             }
            },
            "marker": {
             "colorbar": {
              "outlinewidth": 1,
              "tickcolor": "rgb(36,36,36)",
              "ticks": "outside"
             }
            },
            "type": "scatter3d"
           }
          ],
          "scattercarpet": [
           {
            "marker": {
             "colorbar": {
              "outlinewidth": 1,
              "tickcolor": "rgb(36,36,36)",
              "ticks": "outside"
             }
            },
            "type": "scattercarpet"
           }
          ],
          "scattergeo": [
           {
            "marker": {
             "colorbar": {
              "outlinewidth": 1,
              "tickcolor": "rgb(36,36,36)",
              "ticks": "outside"
             }
            },
            "type": "scattergeo"
           }
          ],
          "scattergl": [
           {
            "marker": {
             "colorbar": {
              "outlinewidth": 1,
              "tickcolor": "rgb(36,36,36)",
              "ticks": "outside"
             }
            },
            "type": "scattergl"
           }
          ],
          "scattermap": [
           {
            "marker": {
             "colorbar": {
              "outlinewidth": 1,
              "tickcolor": "rgb(36,36,36)",
              "ticks": "outside"
             }
            },
            "type": "scattermap"
           }
          ],
          "scattermapbox": [
           {
            "marker": {
             "colorbar": {
              "outlinewidth": 1,
              "tickcolor": "rgb(36,36,36)",
              "ticks": "outside"
             }
            },
            "type": "scattermapbox"
           }
          ],
          "scatterpolar": [
           {
            "marker": {
             "colorbar": {
              "outlinewidth": 1,
              "tickcolor": "rgb(36,36,36)",
              "ticks": "outside"
             }
            },
            "type": "scatterpolar"
           }
          ],
          "scatterpolargl": [
           {
            "marker": {
             "colorbar": {
              "outlinewidth": 1,
              "tickcolor": "rgb(36,36,36)",
              "ticks": "outside"
             }
            },
            "type": "scatterpolargl"
           }
          ],
          "scatterternary": [
           {
            "marker": {
             "colorbar": {
              "outlinewidth": 1,
              "tickcolor": "rgb(36,36,36)",
              "ticks": "outside"
             }
            },
            "type": "scatterternary"
           }
          ],
          "surface": [
           {
            "colorbar": {
             "outlinewidth": 1,
             "tickcolor": "rgb(36,36,36)",
             "ticks": "outside"
            },
            "colorscale": [
             [
              0,
              "#440154"
             ],
             [
              0.1111111111111111,
              "#482878"
             ],
             [
              0.2222222222222222,
              "#3e4989"
             ],
             [
              0.3333333333333333,
              "#31688e"
             ],
             [
              0.4444444444444444,
              "#26828e"
             ],
             [
              0.5555555555555556,
              "#1f9e89"
             ],
             [
              0.6666666666666666,
              "#35b779"
             ],
             [
              0.7777777777777778,
              "#6ece58"
             ],
             [
              0.8888888888888888,
              "#b5de2b"
             ],
             [
              1,
              "#fde725"
             ]
            ],
            "type": "surface"
           }
          ],
          "table": [
           {
            "cells": {
             "fill": {
              "color": "rgb(237,237,237)"
             },
             "line": {
              "color": "white"
             }
            },
            "header": {
             "fill": {
              "color": "rgb(217,217,217)"
             },
             "line": {
              "color": "white"
             }
            },
            "type": "table"
           }
          ]
         },
         "layout": {
          "annotationdefaults": {
           "arrowhead": 0,
           "arrowwidth": 1
          },
          "autotypenumbers": "strict",
          "coloraxis": {
           "colorbar": {
            "outlinewidth": 1,
            "tickcolor": "rgb(36,36,36)",
            "ticks": "outside"
           }
          },
          "colorscale": {
           "diverging": [
            [
             0,
             "rgb(103,0,31)"
            ],
            [
             0.1,
             "rgb(178,24,43)"
            ],
            [
             0.2,
             "rgb(214,96,77)"
            ],
            [
             0.3,
             "rgb(244,165,130)"
            ],
            [
             0.4,
             "rgb(253,219,199)"
            ],
            [
             0.5,
             "rgb(247,247,247)"
            ],
            [
             0.6,
             "rgb(209,229,240)"
            ],
            [
             0.7,
             "rgb(146,197,222)"
            ],
            [
             0.8,
             "rgb(67,147,195)"
            ],
            [
             0.9,
             "rgb(33,102,172)"
            ],
            [
             1,
             "rgb(5,48,97)"
            ]
           ],
           "sequential": [
            [
             0,
             "#440154"
            ],
            [
             0.1111111111111111,
             "#482878"
            ],
            [
             0.2222222222222222,
             "#3e4989"
            ],
            [
             0.3333333333333333,
             "#31688e"
            ],
            [
             0.4444444444444444,
             "#26828e"
            ],
            [
             0.5555555555555556,
             "#1f9e89"
            ],
            [
             0.6666666666666666,
             "#35b779"
            ],
            [
             0.7777777777777778,
             "#6ece58"
            ],
            [
             0.8888888888888888,
             "#b5de2b"
            ],
            [
             1,
             "#fde725"
            ]
           ],
           "sequentialminus": [
            [
             0,
             "#440154"
            ],
            [
             0.1111111111111111,
             "#482878"
            ],
            [
             0.2222222222222222,
             "#3e4989"
            ],
            [
             0.3333333333333333,
             "#31688e"
            ],
            [
             0.4444444444444444,
             "#26828e"
            ],
            [
             0.5555555555555556,
             "#1f9e89"
            ],
            [
             0.6666666666666666,
             "#35b779"
            ],
            [
             0.7777777777777778,
             "#6ece58"
            ],
            [
             0.8888888888888888,
             "#b5de2b"
            ],
            [
             1,
             "#fde725"
            ]
           ]
          },
          "colorway": [
           "#1F77B4",
           "#FF7F0E",
           "#2CA02C",
           "#D62728",
           "#9467BD",
           "#8C564B",
           "#E377C2",
           "#7F7F7F",
           "#BCBD22",
           "#17BECF"
          ],
          "font": {
           "color": "rgb(36,36,36)"
          },
          "geo": {
           "bgcolor": "white",
           "lakecolor": "white",
           "landcolor": "white",
           "showlakes": true,
           "showland": true,
           "subunitcolor": "white"
          },
          "hoverlabel": {
           "align": "left"
          },
          "hovermode": "closest",
          "mapbox": {
           "style": "light"
          },
          "paper_bgcolor": "white",
          "plot_bgcolor": "white",
          "polar": {
           "angularaxis": {
            "gridcolor": "rgb(232,232,232)",
            "linecolor": "rgb(36,36,36)",
            "showgrid": false,
            "showline": true,
            "ticks": "outside"
           },
           "bgcolor": "white",
           "radialaxis": {
            "gridcolor": "rgb(232,232,232)",
            "linecolor": "rgb(36,36,36)",
            "showgrid": false,
            "showline": true,
            "ticks": "outside"
           }
          },
          "scene": {
           "xaxis": {
            "backgroundcolor": "white",
            "gridcolor": "rgb(232,232,232)",
            "gridwidth": 2,
            "linecolor": "rgb(36,36,36)",
            "showbackground": true,
            "showgrid": false,
            "showline": true,
            "ticks": "outside",
            "zeroline": false,
            "zerolinecolor": "rgb(36,36,36)"
           },
           "yaxis": {
            "backgroundcolor": "white",
            "gridcolor": "rgb(232,232,232)",
            "gridwidth": 2,
            "linecolor": "rgb(36,36,36)",
            "showbackground": true,
            "showgrid": false,
            "showline": true,
            "ticks": "outside",
            "zeroline": false,
            "zerolinecolor": "rgb(36,36,36)"
           },
           "zaxis": {
            "backgroundcolor": "white",
            "gridcolor": "rgb(232,232,232)",
            "gridwidth": 2,
            "linecolor": "rgb(36,36,36)",
            "showbackground": true,
            "showgrid": false,
            "showline": true,
            "ticks": "outside",
            "zeroline": false,
            "zerolinecolor": "rgb(36,36,36)"
           }
          },
          "shapedefaults": {
           "fillcolor": "black",
           "line": {
            "width": 0
           },
           "opacity": 0.3
          },
          "ternary": {
           "aaxis": {
            "gridcolor": "rgb(232,232,232)",
            "linecolor": "rgb(36,36,36)",
            "showgrid": false,
            "showline": true,
            "ticks": "outside"
           },
           "baxis": {
            "gridcolor": "rgb(232,232,232)",
            "linecolor": "rgb(36,36,36)",
            "showgrid": false,
            "showline": true,
            "ticks": "outside"
           },
           "bgcolor": "white",
           "caxis": {
            "gridcolor": "rgb(232,232,232)",
            "linecolor": "rgb(36,36,36)",
            "showgrid": false,
            "showline": true,
            "ticks": "outside"
           }
          },
          "title": {
           "x": 0.05
          },
          "xaxis": {
           "automargin": true,
           "gridcolor": "rgb(232,232,232)",
           "linecolor": "rgb(36,36,36)",
           "showgrid": false,
           "showline": true,
           "ticks": "outside",
           "title": {
            "standoff": 15
           },
           "zeroline": false,
           "zerolinecolor": "rgb(36,36,36)"
          },
          "yaxis": {
           "automargin": true,
           "gridcolor": "rgb(232,232,232)",
           "linecolor": "rgb(36,36,36)",
           "showgrid": false,
           "showline": true,
           "ticks": "outside",
           "title": {
            "standoff": 15
           },
           "zeroline": false,
           "zerolinecolor": "rgb(36,36,36)"
          }
         }
        },
        "title": {
         "text": "Price vs Durability"
        },
        "xaxis": {
         "anchor": "y",
         "autorange": true,
         "domain": [
          0,
          1
         ],
         "range": [
          1.849349490090041,
          4.655800488229865
         ],
         "title": {
          "text": "Durability"
         },
         "type": "log"
        },
        "yaxis": {
         "anchor": "x",
         "autorange": true,
         "domain": [
          0,
          1
         ],
         "range": [
          0.627770557410134,
          5.882774452796477
         ],
         "title": {
          "text": "Price"
         },
         "type": "log"
        }
       }
      },
      "image/png": "[encoded data removed]"
     },
     "metadata": {},
     "output_type": "display_data"
    },
    {
     "data": {
      "application/vnd.plotly.v1+json": {
       "config": {
        "plotlyServerURL": "https://plot.ly"
       },
       "data": [
        {
         "customdata": [
          [
           "Assault Rifle",
           320
          ],
          [
           "Stone Axe",
           20
          ],
          [
           "Metal Axe",
           30
          ],
          [
           "Refined Metal Axe",
           60
          ],
          [
           "Axe4",
           75
          ],
          [
           "Metal Detector",
           null
          ],
          [
           "Wooden Club",
           25
          ],
          [
           "Bat",
           50
          ],
          [
           "Meat Cleaver",
           25
          ],
          [
           "Stun Baton",
           10
          ],
          [
           "Crossbow",
           280
          ],
          [
           "Double-Barreled Shotgun",
           190
          ],
          [
           "Handgun",
           250
          ],
          [
           "Laser Rifle",
           1250
          ],
          [
           "Rocket Launcher",
           10000
          ],
          [
           "Stone Pickaxe",
           20
          ],
          [
           "Metal Pickaxe",
           30
          ],
          [
           "Refined Metal Pickaxe",
           60
          ],
          [
           "Pump-Action Shotgun",
           220
          ],
          [
           "Single-Shot Rifle",
           1100
          ],
          [
           "Sword",
           525
          ],
          [
           "Old Bow",
           65
          ],
          [
           "Poison Bow",
           65
          ],
          [
           "Fire Bow",
           65
          ],
          [
           "Poison Arrow Crossbow",
           280
          ],
          [
           "Fire Arrow Crossbow",
           280
          ],
          [
           "Three Shot Bow",
           40
          ],
          [
           "Five Shot Bow",
           30
          ],
          [
           "Hand-Held Torch",
           10
          ],
          [
           "Makeshift Handgun",
           320
          ],
          [
           "Stone Spear",
           35
          ],
          [
           "Metal Spear",
           80
          ],
          [
           "Refined Metal Spear",
           310
          ],
          [
           "Elizabee's Staff",
           150
          ],
          [
           "Beegarde's Spear",
           150
          ],
          [
           "Lily's Spear",
           450
          ],
          [
           "Musket",
           1000
          ],
          [
           "Old Bow",
           130
          ],
          [
           "Old Bow",
           169
          ],
          [
           "Old Bow",
           208
          ],
          [
           "Old Bow",
           247
          ],
          [
           "Crossbow",
           364
          ],
          [
           "Crossbow",
           406
          ],
          [
           "Crossbow",
           448
          ],
          [
           "Crossbow",
           490
          ],
          [
           "Assault Rifle",
           400
          ],
          [
           "Assault Rifle",
           448
          ],
          [
           "Assault Rifle",
           512
          ],
          [
           "Assault Rifle",
           560
          ],
          [
           "Pump-Action Shotgun",
           275
          ],
          [
           "Pump-Action Shotgun",
           308
          ],
          [
           "Pump-Action Shotgun",
           352
          ],
          [
           "Pump-Action Shotgun",
           385
          ],
          [
           "Handgun",
           437
          ],
          [
           "Handgun",
           500
          ],
          [
           "Handgun",
           562
          ],
          [
           "Handgun",
           625
          ],
          [
           "Rocket Launcher",
           11000
          ],
          [
           "Rocket Launcher",
           12000
          ],
          [
           "Rocket Launcher",
           13000
          ],
          [
           "Rocket Launcher",
           14000
          ],
          [
           "Musket",
           1400
          ],
          [
           "Musket",
           1600
          ],
          [
           "Musket",
           1800
          ],
          [
           "Musket",
           2000
          ],
          [
           "Double-Barreled Shotgun",
           285
          ],
          [
           "Double-Barreled Shotgun",
           323
          ],
          [
           "Double-Barreled Shotgun",
           361
          ],
          [
           "Double-Barreled Shotgun",
           399
          ],
          [
           "Single-Shot Rifle",
           1650
          ],
          [
           "Single-Shot Rifle",
           1870
          ],
          [
           "Single-Shot Rifle",
           2090
          ],
          [
           "Single-Shot Rifle",
           2310
          ],
          [
           "Gatling Gun",
           375
          ],
          [
           "Grenade Launcher",
           3000
          ],
          [
           "Guided Missile Launcher",
           5900
          ],
          [
           "Multi Guided Missile Launcher",
           5900
          ],
          [
           "Laser Gatling Gun",
           530
          ],
          [
           "Makeshift Handgun",
           560
          ],
          [
           "Makeshift Handgun",
           640
          ],
          [
           "Makeshift Handgun",
           720
          ],
          [
           "Makeshift Handgun",
           800
          ],
          [
           "Laser Rifle",
           1437
          ],
          [
           "Laser Rifle",
           1562
          ],
          [
           "Laser Rifle",
           1687
          ],
          [
           "Laser Rifle",
           1875
          ],
          [
           "Grenade Launcher",
           3450
          ],
          [
           "Grenade Launcher",
           3750
          ],
          [
           "Grenade Launcher",
           4050
          ],
          [
           "Grenade Launcher",
           4500
          ],
          [
           "Guided Missile Launcher",
           6785
          ],
          [
           "Guided Missile Launcher",
           7375
          ],
          [
           "Guided Missile Launcher",
           7965
          ],
          [
           "Guided Missile Launcher",
           8850
          ],
          [
           "Multi Guided Missile Launcher",
           6785
          ],
          [
           "Multi Guided Missile Launcher",
           7375
          ],
          [
           "Multi Guided Missile Launcher",
           7965
          ],
          [
           "Multi Guided Missile Launcher",
           8850
          ],
          [
           "Gatling Gun",
           431
          ],
          [
           "Gatling Gun",
           468
          ],
          [
           "Gatling Gun",
           506
          ],
          [
           "Gatling Gun",
           562
          ],
          [
           "Meteor Launcher",
           2000
          ],
          [
           "Katana",
           525
          ],
          [
           "Beam Sword",
           2000
          ],
          [
           "Semi-Auto Shotgun",
           195
          ],
          [
           "Plasma Cannon",
           10000
          ],
          [
           "Poison Arrow Crossbow",
           364
          ],
          [
           "Poison Arrow Crossbow",
           406
          ],
          [
           "Poison Arrow Crossbow",
           448
          ],
          [
           "Poison Arrow Crossbow",
           490
          ],
          [
           "Fire Arrow Crossbow",
           364
          ],
          [
           "Fire Arrow Crossbow",
           406
          ],
          [
           "Fire Arrow Crossbow",
           448
          ],
          [
           "Fire Arrow Crossbow",
           490
          ],
          [
           "Old Revolver",
           600
          ],
          [
           "Pal Metal Pickaxe",
           120
          ],
          [
           "Pal Metal Axe",
           120
          ],
          [
           "Makeshift Assault Rifle",
           170
          ],
          [
           "Semi-Auto Rifle",
           1150
          ],
          [
           "Makeshift SMG",
           100
          ],
          [
           "SMG",
           130
          ],
          [
           "Makeshift Shotgun",
           215
          ],
          [
           "Laser Gatling Gun",
           583
          ],
          [
           "Laser Gatling Gun",
           609
          ],
          [
           "Laser Gatling Gun",
           636
          ],
          [
           "Laser Gatling Gun",
           689
          ],
          [
           "Plasma Cannon",
           11000
          ],
          [
           "Plasma Cannon",
           11500
          ],
          [
           "Plasma Cannon",
           12000
          ],
          [
           "Plasma Cannon",
           13000
          ],
          [
           "Compound Bow",
           1100
          ],
          [
           "Advanced Bow",
           5800
          ],
          [
           "Semi-Auto Shotgun",
           214
          ],
          [
           "Semi-Auto Shotgun",
           234
          ],
          [
           "Semi-Auto Shotgun",
           253
          ],
          [
           "Semi-Auto Shotgun",
           282
          ],
          [
           "Old Revolver",
           1050
          ],
          [
           "Old Revolver",
           1200
          ],
          [
           "Old Revolver",
           1350
          ],
          [
           "Old Revolver",
           1500
          ],
          [
           "Makeshift Assault Rifle",
           204
          ],
          [
           "Makeshift Assault Rifle",
           229
          ],
          [
           "Makeshift Assault Rifle",
           255
          ],
          [
           "Makeshift Assault Rifle",
           297
          ],
          [
           "Semi-Auto Rifle",
           1265
          ],
          [
           "Semi-Auto Rifle",
           1380
          ],
          [
           "Semi-Auto Rifle",
           1495
          ],
          [
           "Semi-Auto Rifle",
           1610
          ],
          [
           "Makeshift SMG",
           120
          ],
          [
           "Makeshift SMG",
           135
          ],
          [
           "Makeshift SMG",
           150
          ],
          [
           "Makeshift SMG",
           175
          ],
          [
           "SMG",
           156
          ],
          [
           "SMG",
           175
          ],
          [
           "SMG",
           195
          ],
          [
           "SMG",
           227
          ],
          [
           "Makeshift Shotgun",
           258
          ],
          [
           "Makeshift Shotgun",
           290
          ],
          [
           "Makeshift Shotgun",
           322
          ],
          [
           "Makeshift Shotgun",
           376
          ],
          [
           "Meowmere",
           200
          ],
          [
           "Advanced Bow",
           6670
          ],
          [
           "Advanced Bow",
           7250
          ],
          [
           "Advanced Bow",
           7830
          ],
          [
           "Advanced Bow",
           8700
          ],
          [
           "Compound Bow",
           1265
          ],
          [
           "Compound Bow",
           1375
          ],
          [
           "Compound Bow",
           1485
          ],
          [
           "Compound Bow",
           1650
          ],
          [
           "Charge Rifle",
           12500
          ],
          [
           "Overheat Rifle",
           1225
          ],
          [
           "Energy Shotgun",
           402
          ],
          [
           "Boost Gun",
           250
          ],
          [
           "Megaboost Gun",
           250
          ],
          [
           "Energy Shotgun",
           422
          ],
          [
           "Energy Shotgun",
           442
          ],
          [
           "Energy Shotgun",
           462
          ],
          [
           "Energy Shotgun",
           482
          ],
          [
           "Charge Rifle",
           13125
          ],
          [
           "Charge Rifle",
           13750
          ],
          [
           "Charge Rifle",
           14375
          ],
          [
           "Charge Rifle",
           15000
          ],
          [
           "Overheat Rifle",
           1286
          ],
          [
           "Overheat Rifle",
           1347
          ],
          [
           "Overheat Rifle",
           1408
          ],
          [
           "Overheat Rifle",
           1470
          ],
          [
           "Terra Blade",
           425
          ],
          [
           "Terraprisma",
           90
          ],
          [
           "Vortex Beater",
           300
          ],
          [
           "Nightglow",
           50
          ],
          [
           "Excalibur",
           360
          ],
          [
           "Legendary Meowmere",
           222
          ],
          [
           "Beginner Fishing Rod (Chillet)",
           25
          ],
          [
           "Beginner Fishing Rod (Gumoss)",
           25
          ],
          [
           "Intermediate Fishing Rod (Cattiva)",
           25
          ],
          [
           "Intermediate Fishing Rod (Croajiro)",
           25
          ],
          [
           "Advanced Fishing Rod (Pengullet)",
           25
          ],
          [
           "Advanced Fishing Rod (Depresso)",
           25
          ],
          [
           "Terra Blade",
           467
          ],
          [
           "Terra Blade",
           510
          ],
          [
           "Terra Blade",
           552
          ],
          [
           "Terra Blade",
           637
          ],
          [
           "Terraprisma",
           100
          ],
          [
           "Terraprisma",
           110
          ],
          [
           "Terraprisma",
           125
          ],
          [
           "Terraprisma",
           150
          ],
          [
           "Vortex Beater",
           330
          ],
          [
           "Vortex Beater",
           360
          ],
          [
           "Vortex Beater",
           390
          ],
          [
           "Vortex Beater",
           450
          ],
          [
           "Nightglow",
           60
          ],
          [
           "Nightglow",
           70
          ],
          [
           "Nightglow",
           80
          ],
          [
           "Nightglow",
           100
          ],
          [
           "Excalibur",
           396
          ],
          [
           "Excalibur",
           432
          ],
          [
           "Excalibur",
           468
          ],
          [
           "Excalibur",
           540
          ],
          [
           "Meteor Launcher",
           10500
          ]
         ],
         "hovertemplate": "Price=%{x}<br>Durability=%{y}<br>Name=%{customdata[0]}<br>Physical Attack=%{customdata[1]}<extra></extra>",
         "legendgroup": "",
         "marker": {
          "color": "#1F77B4",
          "symbol": "circle"
         },
         "mode": "markers",
         "name": "",
         "orientation": "v",
         "showlegend": false,
         "type": "scatter",
         "x": {
          "_inputArray": {
           "0": 82400,
           "1": 200,
           "10": 25200,
           "100": 324000,
           "101": 324000,
           "102": 324000,
           "103": 10440,
           "104": 10440,
           "105": 153600,
           "106": 324000,
           "107": 25200,
           "108": 25200,
           "109": 25200,
           "11": 55200,
           "110": 25200,
           "111": 25200,
           "112": 25200,
           "113": 25200,
           "114": 25200,
           "115": 33000,
           "116": 33000,
           "117": 33000,
           "118": 82400,
           "119": 37600,
           "12": 33000,
           "120": 82400,
           "121": 82400,
           "122": 55200,
           "123": 324000,
           "124": 324000,
           "125": 324000,
           "126": 324000,
           "127": 324000,
           "128": 324000,
           "129": 324000,
           "13": 324000,
           "130": 324000,
           "131": 25200,
           "132": 25200,
           "133": 153600,
           "134": 153600,
           "135": 153600,
           "136": 153600,
           "137": 33000,
           "138": 33000,
           "139": 33000,
           "14": 324000,
           "140": 33000,
           "141": 82400,
           "142": 82400,
           "143": 82400,
           "144": 82400,
           "145": 37600,
           "146": 37600,
           "147": 37600,
           "148": 37600,
           "149": 82400,
           "15": 200,
           "150": 82400,
           "151": 82400,
           "152": 82400,
           "153": 82400,
           "154": 82400,
           "155": 82400,
           "156": 82400,
           "157": 55200,
           "158": 55200,
           "159": 55200,
           "16": 2800,
           "160": 55200,
           "161": 200,
           "162": 25200,
           "163": 25200,
           "164": 25200,
           "165": 25200,
           "166": 25200,
           "167": 25200,
           "168": 25200,
           "169": 25200,
           "17": 7000,
           "170": 37600,
           "171": 82400,
           "172": 153600,
           "173": 33000,
           "174": 33000,
           "175": 153600,
           "176": 153600,
           "177": 153600,
           "178": 153600,
           "179": 37600,
           "18": 153600,
           "180": 37600,
           "181": 37600,
           "182": 37600,
           "183": 82400,
           "184": 82400,
           "185": 82400,
           "186": 82400,
           "187": 10000,
           "188": 10000,
           "189": 10000,
           "19": 37600,
           "190": 10000,
           "191": 10000,
           "192": 10000,
           "193": 350,
           "194": 520,
           "195": 800,
           "196": 840,
           "197": 980,
           "198": 1050,
           "199": 10000,
           "2": 2800,
           "20": 10440,
           "200": 10000,
           "201": 10000,
           "202": 10000,
           "203": 10000,
           "204": 10000,
           "205": 10000,
           "206": 10000,
           "207": 10000,
           "208": 10000,
           "209": 10000,
           "21": 360,
           "210": 10000,
           "211": 10000,
           "212": 10000,
           "213": 10000,
           "214": 10000,
           "215": 200,
           "216": 200,
           "217": 200,
           "218": 200,
           "219": 324000,
           "22": 480,
           "23": 480,
           "24": 25200,
           "25": 25200,
           "26": 1000,
           "27": 10,
           "28": 80,
           "29": 16600,
           "3": 7000,
           "30": 480,
           "31": 8780,
           "32": 13880,
           "33": 20000,
           "34": 20000,
           "35": 20000,
           "36": 37600,
           "37": 360,
           "38": 360,
           "39": 360,
           "4": 33000,
           "40": 360,
           "41": 25200,
           "42": 25200,
           "43": 25200,
           "44": 25200,
           "45": 82400,
           "46": 82400,
           "47": 82400,
           "48": 82400,
           "49": 153600,
           "5": 33000,
           "50": 153600,
           "51": 153600,
           "52": 153600,
           "53": 33000,
           "54": 33000,
           "55": 33000,
           "56": 33000,
           "57": 324000,
           "58": 324000,
           "59": 324000,
           "6": 80,
           "60": 324000,
           "61": 37600,
           "62": 37600,
           "63": 37600,
           "64": 37600,
           "65": 55200,
           "66": 55200,
           "67": 55200,
           "68": 55200,
           "69": 37600,
           "7": 80,
           "70": 37600,
           "71": 37600,
           "72": 37600,
           "73": 324000,
           "74": 324000,
           "75": 324000,
           "76": 324000,
           "77": 324000,
           "78": 16600,
           "79": 16600,
           "8": 100,
           "80": 16600,
           "81": 16600,
           "82": 324000,
           "83": 324000,
           "84": 324000,
           "85": 324000,
           "86": 324000,
           "87": 324000,
           "88": 324000,
           "89": 324000,
           "9": 19000,
           "90": 324000,
           "91": 324000,
           "92": 324000,
           "93": 324000,
           "94": 324000,
           "95": 324000,
           "96": 324000,
           "97": 324000,
           "98": 324000,
           "99": 324000,
           "bdata": "4EEBAMgAAADwCgAAWBsAAOiAAADogAAAUAAAAFAAAABkAAAAOEoAAHBiAACg1wAA6IAAAKDxBACg8QQAyAAAAPAKAABYGwAAAFgCAOCSAADIKAAAaAEAAOABAADgAQAAcGIAAHBiAADoAwAACgAAAFAAAADYQAAA4AEAAEwiAAA4NgAAIE4AACBOAAAgTgAA4JIAAGgBAABoAQAAaAEAAGgBAABwYgAAcGIAAHBiAABwYgAA4EEBAOBBAQDgQQEA4EEBAABYAgAAWAIAAFgCAABYAgDogAAA6IAAAOiAAADogAAAoPEEAKDxBACg8QQAoPEEAOCSAADgkgAA4JIAAOCSAACg1wAAoNcAAKDXAACg1wAA4JIAAOCSAADgkgAA4JIAAKDxBACg8QQAoPEEAKDxBACg8QQA2EAAANhAAADYQAAA2EAAAKDxBACg8QQAoPEEAKDxBACg8QQAoPEEAKDxBACg8QQAoPEEAKDxBACg8QQAoPEEAKDxBACg8QQAoPEEAKDxBACg8QQAoPEEAKDxBACg8QQAoPEEAMgoAADIKAAAAFgCAKDxBABwYgAAcGIAAHBiAABwYgAAcGIAAHBiAABwYgAAcGIAAOiAAADogAAA6IAAAOBBAQDgkgAA4EEBAOBBAQCg1wAAoPEEAKDxBACg8QQAoPEEAKDxBACg8QQAoPEEAKDxBABwYgAAcGIAAABYAgAAWAIAAFgCAABYAgDogAAA6IAAAOiAAADogAAA4EEBAOBBAQDgQQEA4EEBAOCSAADgkgAA4JIAAOCSAADgQQEA4EEBAOBBAQDgQQEA4EEBAOBBAQDgQQEA4EEBAKDXAACg1wAAoNcAAKDXAADIAAAAcGIAAHBiAABwYgAAcGIAAHBiAABwYgAAcGIAAHBiAADgkgAA4EEBAABYAgDogAAA6IAAAABYAgAAWAIAAFgCAABYAgDgkgAA4JIAAOCSAADgkgAA4EEBAOBBAQDgQQEA4EEBABAnAAAQJwAAECcAABAnAAAQJwAAECcAAF4BAAAIAgAAIAMAAEgDAADUAwAAGgQAABAnAAAQJwAAECcAABAnAAAQJwAAECcAABAnAAAQJwAAECcAABAnAAAQJwAAECcAABAnAAAQJwAAECcAABAnAADIAAAAyAAAAMgAAADIAAAAoPEEAA==",
           "dtype": "i4",
           "shape": "220"
          },
          "bdata": "4EEBAMgAAADwCgAAWBsAAOiAAADogAAAUAAAAFAAAABkAAAAOEoAAHBiAACg1wAA6IAAAKDxBACg8QQAyAAAAPAKAABYGwAAAFgCAOCSAADIKAAAaAEAAOABAADgAQAAcGIAAHBiAADoAwAACgAAAFAAAADYQAAA4AEAAEwiAAA4NgAAIE4AACBOAAAgTgAA4JIAAGgBAABoAQAAaAEAAGgBAABwYgAAcGIAAHBiAABwYgAA4EEBAOBBAQDgQQEA4EEBAABYAgAAWAIAAFgCAABYAgDogAAA6IAAAOiAAADogAAAoPEEAKDxBACg8QQAoPEEAOCSAADgkgAA4JIAAOCSAACg1wAAoNcAAKDXAACg1wAA4JIAAOCSAADgkgAA4JIAAKDxBACg8QQAoPEEAKDxBACg8QQA2EAAANhAAADYQAAA2EAAAKDxBACg8QQAoPEEAKDxBACg8QQAoPEEAKDxBACg8QQAoPEEAKDxBACg8QQAoPEEAKDxBACg8QQAoPEEAKDxBACg8QQAoPEEAKDxBACg8QQAoPEEAMgoAADIKAAAAFgCAKDxBABwYgAAcGIAAHBiAABwYgAAcGIAAHBiAABwYgAAcGIAAOiAAADogAAA6IAAAOBBAQDgkgAA4EEBAOBBAQCg1wAAoPEEAKDxBACg8QQAoPEEAKDxBACg8QQAoPEEAKDxBABwYgAAcGIAAABYAgAAWAIAAFgCAABYAgDogAAA6IAAAOiAAADogAAA4EEBAOBBAQDgQQEA4EEBAOCSAADgkgAA4JIAAOCSAADgQQEA4EEBAOBBAQDgQQEA4EEBAOBBAQDgQQEA4EEBAKDXAACg1wAAoNcAAKDXAADIAAAAcGIAAHBiAABwYgAAcGIAAHBiAABwYgAAcGIAAHBiAADgkgAA4EEBAABYAgDogAAA6IAAAABYAgAAWAIAAFgCAABYAgDgkgAA4JIAAOCSAADgkgAA4EEBAOBBAQDgQQEA4EEBABAnAAAQJwAAECcAABAnAAAQJwAAECcAAF4BAAAIAgAAIAMAAEgDAADUAwAAGgQAABAnAAAQJwAAECcAABAnAAAQJwAAECcAABAnAAAQJwAAECcAABAnAAAQJwAAECcAABAnAAAQJwAAECcAABAnAADIAAAAyAAAAMgAAADIAAAAoPEEAA==",
          "dtype": "i4"
         },
         "xaxis": "x",
         "y": {
          "_inputArray": {
           "0": 3000,
           "1": 150,
           "10": 300,
           "100": 18000,
           "101": 24000,
           "102": 300,
           "103": 500,
           "104": 500,
           "105": 300,
           "106": 300,
           "107": 800,
           "108": 1000,
           "109": 1200,
           "11": 200,
           "110": 1400,
           "111": 800,
           "112": 1000,
           "113": 1200,
           "114": 1400,
           "115": 400,
           "116": 400,
           "117": 400,
           "118": 1500,
           "119": 1000,
           "12": 400,
           "120": 1000,
           "121": 2000,
           "122": 200,
           "123": 12000,
           "124": 16000,
           "125": 24000,
           "126": 32000,
           "127": 450,
           "128": 600,
           "129": 900,
           "13": 3000,
           "130": 1200,
           "131": 400,
           "132": 500,
           "133": 450,
           "134": 600,
           "135": 900,
           "136": 1200,
           "137": 600,
           "138": 800,
           "139": 1200,
           "14": 300,
           "140": 1600,
           "141": 2250,
           "142": 3000,
           "143": 4500,
           "144": 6000,
           "145": 1500,
           "146": 2000,
           "147": 3000,
           "148": 4000,
           "149": 1500,
           "15": 150,
           "150": 2000,
           "151": 3000,
           "152": 4000,
           "153": 3000,
           "154": 4000,
           "155": 6000,
           "156": 8000,
           "157": 300,
           "158": 400,
           "159": 600,
           "16": 250,
           "160": 800,
           "161": 2222,
           "162": 750,
           "163": 1000,
           "164": 1500,
           "165": 2000,
           "166": 600,
           "167": 800,
           "168": 1200,
           "169": 1600,
           "17": 300,
           "170": 200,
           "171": 3000,
           "172": 300,
           "173": 400,
           "174": 400,
           "175": 450,
           "176": 600,
           "177": 900,
           "178": 1200,
           "179": 300,
           "18": 150,
           "180": 400,
           "181": 600,
           "182": 800,
           "183": 3000,
           "184": 4000,
           "185": 5000,
           "186": 6000,
           "187": 757,
           "188": 5000,
           "189": 3000,
           "19": 1000,
           "190": 3000,
           "191": 600,
           "192": 22222,
           "193": 120,
           "194": 180,
           "195": 240,
           "196": 360,
           "197": 480,
           "198": 720,
           "199": 1135,
           "2": 250,
           "20": 500,
           "200": 1514,
           "201": 2271,
           "202": 3028,
           "203": 6000,
           "204": 7200,
           "205": 8640,
           "206": 10368,
           "207": 3000,
           "208": 4000,
           "209": 5000,
           "21": 150,
           "210": 6000,
           "211": 3000,
           "212": 4000,
           "213": 5000,
           "214": 6000,
           "215": 900,
           "216": 1200,
           "217": 1800,
           "218": 2400,
           "219": 450,
           "22": 150,
           "23": 150,
           "24": 300,
           "25": 300,
           "26": 250,
           "27": 350,
           "28": 100,
           "29": 300,
           "3": 300,
           "30": 200,
           "31": 250,
           "32": 300,
           "33": 300,
           "34": 400,
           "35": 500,
           "36": 200,
           "37": 400,
           "38": 500,
           "39": 600,
           "4": 400,
           "40": 700,
           "41": 800,
           "42": 1000,
           "43": 1200,
           "44": 1400,
           "45": 3000,
           "46": 4000,
           "47": 5000,
           "48": 6000,
           "49": 500,
           "5": 400,
           "50": 600,
           "51": 700,
           "52": 800,
           "53": 1200,
           "54": 1600,
           "55": 2000,
           "56": 2400,
           "57": 800,
           "58": 1000,
           "59": 1200,
           "6": 150,
           "60": 1400,
           "61": 400,
           "62": 500,
           "63": 600,
           "64": 800,
           "65": 400,
           "66": 500,
           "67": 600,
           "68": 800,
           "69": 2000,
           "7": 150,
           "70": 2500,
           "71": 3000,
           "72": 4000,
           "73": 6000,
           "74": 600,
           "75": 300,
           "76": 300,
           "77": 8000,
           "78": 600,
           "79": 900,
           "8": 300,
           "80": 1200,
           "81": 1500,
           "82": 4500,
           "83": 6000,
           "84": 9000,
           "85": 12000,
           "86": 900,
           "87": 1200,
           "88": 1800,
           "89": 2400,
           "9": 300,
           "90": 450,
           "91": 600,
           "92": 900,
           "93": 1200,
           "94": 450,
           "95": 600,
           "96": 900,
           "97": 1200,
           "98": 9000,
           "99": 12000,
           "bdata": "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",
           "dtype": "f8",
           "shape": "220"
          },
          "bdata": "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",
          "dtype": "f8"
         },
         "yaxis": "y"
        }
       ],
       "layout": {
        "autosize": true,
        "legend": {
         "tracegroupgap": 0
        },
        "template": {
         "data": {
          "bar": [
           {
            "error_x": {
             "color": "rgb(36,36,36)"
            },
            "error_y": {
             "color": "rgb(36,36,36)"
            },
            "marker": {
             "line": {
              "color": "white",
              "width": 0.5
             },
             "pattern": {
              "fillmode": "overlay",
              "size": 10,
              "solidity": 0.2
             }
            },
            "type": "bar"
           }
          ],
          "barpolar": [
           {
            "marker": {
             "line": {
              "color": "white",
              "width": 0.5
             },
             "pattern": {
              "fillmode": "overlay",
              "size": 10,
              "solidity": 0.2
             }
            },
            "type": "barpolar"
           }
          ],
          "carpet": [
           {
            "aaxis": {
             "endlinecolor": "rgb(36,36,36)",
             "gridcolor": "white",
             "linecolor": "white",
             "minorgridcolor": "white",
             "startlinecolor": "rgb(36,36,36)"
            },
            "baxis": {
             "endlinecolor": "rgb(36,36,36)",
             "gridcolor": "white",
             "linecolor": "white",
             "minorgridcolor": "white",
             "startlinecolor": "rgb(36,36,36)"
            },
            "type": "carpet"
           }
          ],
          "choropleth": [
           {
            "colorbar": {
             "outlinewidth": 1,
             "tickcolor": "rgb(36,36,36)",
             "ticks": "outside"
            },
            "type": "choropleth"
           }
          ],
          "contour": [
           {
            "colorbar": {
             "outlinewidth": 1,
             "tickcolor": "rgb(36,36,36)",
             "ticks": "outside"
            },
            "colorscale": [
             [
              0,
              "#440154"
             ],
             [
              0.1111111111111111,
              "#482878"
             ],
             [
              0.2222222222222222,
              "#3e4989"
             ],
             [
              0.3333333333333333,
              "#31688e"
             ],
             [
              0.4444444444444444,
              "#26828e"
             ],
             [
              0.5555555555555556,
              "#1f9e89"
             ],
             [
              0.6666666666666666,
              "#35b779"
             ],
             [
              0.7777777777777778,
              "#6ece58"
             ],
             [
              0.8888888888888888,
              "#b5de2b"
             ],
             [
              1,
              "#fde725"
             ]
            ],
            "type": "contour"
           }
          ],
          "contourcarpet": [
           {
            "colorbar": {
             "outlinewidth": 1,
             "tickcolor": "rgb(36,36,36)",
             "ticks": "outside"
            },
            "type": "contourcarpet"
           }
          ],
          "heatmap": [
           {
            "colorbar": {
             "outlinewidth": 1,
             "tickcolor": "rgb(36,36,36)",
             "ticks": "outside"
            },
            "colorscale": [
             [
              0,
              "#440154"
             ],
             [
              0.1111111111111111,
              "#482878"
             ],
             [
              0.2222222222222222,
              "#3e4989"
             ],
             [
              0.3333333333333333,
              "#31688e"
             ],
             [
              0.4444444444444444,
              "#26828e"
             ],
             [
              0.5555555555555556,
              "#1f9e89"
             ],
             [
              0.6666666666666666,
              "#35b779"
             ],
             [
              0.7777777777777778,
              "#6ece58"
             ],
             [
              0.8888888888888888,
              "#b5de2b"
             ],
             [
              1,
              "#fde725"
             ]
            ],
            "type": "heatmap"
           }
          ],
          "histogram": [
           {
            "marker": {
             "line": {
              "color": "white",
              "width": 0.6
             }
            },
            "type": "histogram"
           }
          ],
          "histogram2d": [
           {
            "colorbar": {
             "outlinewidth": 1,
             "tickcolor": "rgb(36,36,36)",
             "ticks": "outside"
            },
            "colorscale": [
             [
              0,
              "#440154"
             ],
             [
              0.1111111111111111,
              "#482878"
             ],
             [
              0.2222222222222222,
              "#3e4989"
             ],
             [
              0.3333333333333333,
              "#31688e"
             ],
             [
              0.4444444444444444,
              "#26828e"
             ],
             [
              0.5555555555555556,
              "#1f9e89"
             ],
             [
              0.6666666666666666,
              "#35b779"
             ],
             [
              0.7777777777777778,
              "#6ece58"
             ],
             [
              0.8888888888888888,
              "#b5de2b"
             ],
             [
              1,
              "#fde725"
             ]
            ],
            "type": "histogram2d"
           }
          ],
          "histogram2dcontour": [
           {
            "colorbar": {
             "outlinewidth": 1,
             "tickcolor": "rgb(36,36,36)",
             "ticks": "outside"
            },
            "colorscale": [
             [
              0,
              "#440154"
             ],
             [
              0.1111111111111111,
              "#482878"
             ],
             [
              0.2222222222222222,
              "#3e4989"
             ],
             [
              0.3333333333333333,
              "#31688e"
             ],
             [
              0.4444444444444444,
              "#26828e"
             ],
             [
              0.5555555555555556,
              "#1f9e89"
             ],
             [
              0.6666666666666666,
              "#35b779"
             ],
             [
              0.7777777777777778,
              "#6ece58"
             ],
             [
              0.8888888888888888,
              "#b5de2b"
             ],
             [
              1,
              "#fde725"
             ]
            ],
            "type": "histogram2dcontour"
           }
          ],
          "mesh3d": [
           {
            "colorbar": {
             "outlinewidth": 1,
             "tickcolor": "rgb(36,36,36)",
             "ticks": "outside"
            },
            "type": "mesh3d"
           }
          ],
          "parcoords": [
           {
            "line": {
             "colorbar": {
              "outlinewidth": 1,
              "tickcolor": "rgb(36,36,36)",
              "ticks": "outside"
             }
            },
            "type": "parcoords"
           }
          ],
          "pie": [
           {
            "automargin": true,
            "type": "pie"
           }
          ],
          "scatter": [
           {
            "fillpattern": {
             "fillmode": "overlay",
             "size": 10,
             "solidity": 0.2
            },
            "type": "scatter"
           }
          ],
          "scatter3d": [
           {
            "line": {
             "colorbar": {
              "outlinewidth": 1,
              "tickcolor": "rgb(36,36,36)",
              "ticks": "outside"
             }
            },
            "marker": {
             "colorbar": {
              "outlinewidth": 1,
              "tickcolor": "rgb(36,36,36)",
              "ticks": "outside"
             }
            },
            "type": "scatter3d"
           }
          ],
          "scattercarpet": [
           {
            "marker": {
             "colorbar": {
              "outlinewidth": 1,
              "tickcolor": "rgb(36,36,36)",
              "ticks": "outside"
             }
            },
            "type": "scattercarpet"
           }
          ],
          "scattergeo": [
           {
            "marker": {
             "colorbar": {
              "outlinewidth": 1,
              "tickcolor": "rgb(36,36,36)",
              "ticks": "outside"
             }
            },
            "type": "scattergeo"
           }
          ],
          "scattergl": [
           {
            "marker": {
             "colorbar": {
              "outlinewidth": 1,
              "tickcolor": "rgb(36,36,36)",
              "ticks": "outside"
             }
            },
            "type": "scattergl"
           }
          ],
          "scattermap": [
           {
            "marker": {
             "colorbar": {
              "outlinewidth": 1,
              "tickcolor": "rgb(36,36,36)",
              "ticks": "outside"
             }
            },
            "type": "scattermap"
           }
          ],
          "scattermapbox": [
           {
            "marker": {
             "colorbar": {
              "outlinewidth": 1,
              "tickcolor": "rgb(36,36,36)",
              "ticks": "outside"
             }
            },
            "type": "scattermapbox"
           }
          ],
          "scatterpolar": [
           {
            "marker": {
             "colorbar": {
              "outlinewidth": 1,
              "tickcolor": "rgb(36,36,36)",
              "ticks": "outside"
             }
            },
            "type": "scatterpolar"
           }
          ],
          "scatterpolargl": [
           {
            "marker": {
             "colorbar": {
              "outlinewidth": 1,
              "tickcolor": "rgb(36,36,36)",
              "ticks": "outside"
             }
            },
            "type": "scatterpolargl"
           }
          ],
          "scatterternary": [
           {
            "marker": {
             "colorbar": {
              "outlinewidth": 1,
              "tickcolor": "rgb(36,36,36)",
              "ticks": "outside"
             }
            },
            "type": "scatterternary"
           }
          ],
          "surface": [
           {
            "colorbar": {
             "outlinewidth": 1,
             "tickcolor": "rgb(36,36,36)",
             "ticks": "outside"
            },
            "colorscale": [
             [
              0,
              "#440154"
             ],
             [
              0.1111111111111111,
              "#482878"
             ],
             [
              0.2222222222222222,
              "#3e4989"
             ],
             [
              0.3333333333333333,
              "#31688e"
             ],
             [
              0.4444444444444444,
              "#26828e"
             ],
             [
              0.5555555555555556,
              "#1f9e89"
             ],
             [
              0.6666666666666666,
              "#35b779"
             ],
             [
              0.7777777777777778,
              "#6ece58"
             ],
             [
              0.8888888888888888,
              "#b5de2b"
             ],
             [
              1,
              "#fde725"
             ]
            ],
            "type": "surface"
           }
          ],
          "table": [
           {
            "cells": {
             "fill": {
              "color": "rgb(237,237,237)"
             },
             "line": {
              "color": "white"
             }
            },
            "header": {
             "fill": {
              "color": "rgb(217,217,217)"
             },
             "line": {
              "color": "white"
             }
            },
            "type": "table"
           }
          ]
         },
         "layout": {
          "annotationdefaults": {
           "arrowhead": 0,
           "arrowwidth": 1
          },
          "autotypenumbers": "strict",
          "coloraxis": {
           "colorbar": {
            "outlinewidth": 1,
            "tickcolor": "rgb(36,36,36)",
            "ticks": "outside"
           }
          },
          "colorscale": {
           "diverging": [
            [
             0,
             "rgb(103,0,31)"
            ],
            [
             0.1,
             "rgb(178,24,43)"
            ],
            [
             0.2,
             "rgb(214,96,77)"
            ],
            [
             0.3,
             "rgb(244,165,130)"
            ],
            [
             0.4,
             "rgb(253,219,199)"
            ],
            [
             0.5,
             "rgb(247,247,247)"
            ],
            [
             0.6,
             "rgb(209,229,240)"
            ],
            [
             0.7,
             "rgb(146,197,222)"
            ],
            [
             0.8,
             "rgb(67,147,195)"
            ],
            [
             0.9,
             "rgb(33,102,172)"
            ],
            [
             1,
             "rgb(5,48,97)"
            ]
           ],
           "sequential": [
            [
             0,
             "#440154"
            ],
            [
             0.1111111111111111,
             "#482878"
            ],
            [
             0.2222222222222222,
             "#3e4989"
            ],
            [
             0.3333333333333333,
             "#31688e"
            ],
            [
             0.4444444444444444,
             "#26828e"
            ],
            [
             0.5555555555555556,
             "#1f9e89"
            ],
            [
             0.6666666666666666,
             "#35b779"
            ],
            [
             0.7777777777777778,
             "#6ece58"
            ],
            [
             0.8888888888888888,
             "#b5de2b"
            ],
            [
             1,
             "#fde725"
            ]
           ],
           "sequentialminus": [
            [
             0,
             "#440154"
            ],
            [
             0.1111111111111111,
             "#482878"
            ],
            [
             0.2222222222222222,
             "#3e4989"
            ],
            [
             0.3333333333333333,
             "#31688e"
            ],
            [
             0.4444444444444444,
             "#26828e"
            ],
            [
             0.5555555555555556,
             "#1f9e89"
            ],
            [
             0.6666666666666666,
             "#35b779"
            ],
            [
             0.7777777777777778,
             "#6ece58"
            ],
            [
             0.8888888888888888,
             "#b5de2b"
            ],
            [
             1,
             "#fde725"
            ]
           ]
          },
          "colorway": [
           "#1F77B4",
           "#FF7F0E",
           "#2CA02C",
           "#D62728",
           "#9467BD",
           "#8C564B",
           "#E377C2",
           "#7F7F7F",
           "#BCBD22",
           "#17BECF"
          ],
          "font": {
           "color": "rgb(36,36,36)"
          },
          "geo": {
           "bgcolor": "white",
           "lakecolor": "white",
           "landcolor": "white",
           "showlakes": true,
           "showland": true,
           "subunitcolor": "white"
          },
          "hoverlabel": {
           "align": "left"
          },
          "hovermode": "closest",
          "mapbox": {
           "style": "light"
          },
          "paper_bgcolor": "white",
          "plot_bgcolor": "white",
          "polar": {
           "angularaxis": {
            "gridcolor": "rgb(232,232,232)",
            "linecolor": "rgb(36,36,36)",
            "showgrid": false,
            "showline": true,
            "ticks": "outside"
           },
           "bgcolor": "white",
           "radialaxis": {
            "gridcolor": "rgb(232,232,232)",
            "linecolor": "rgb(36,36,36)",
            "showgrid": false,
            "showline": true,
            "ticks": "outside"
           }
          },
          "scene": {
           "xaxis": {
            "backgroundcolor": "white",
            "gridcolor": "rgb(232,232,232)",
            "gridwidth": 2,
            "linecolor": "rgb(36,36,36)",
            "showbackground": true,
            "showgrid": false,
            "showline": true,
            "ticks": "outside",
            "zeroline": false,
            "zerolinecolor": "rgb(36,36,36)"
           },
           "yaxis": {
            "backgroundcolor": "white",
            "gridcolor": "rgb(232,232,232)",
            "gridwidth": 2,
            "linecolor": "rgb(36,36,36)",
            "showbackground": true,
            "showgrid": false,
            "showline": true,
            "ticks": "outside",
            "zeroline": false,
            "zerolinecolor": "rgb(36,36,36)"
           },
           "zaxis": {
            "backgroundcolor": "white",
            "gridcolor": "rgb(232,232,232)",
            "gridwidth": 2,
            "linecolor": "rgb(36,36,36)",
            "showbackground": true,
            "showgrid": false,
            "showline": true,
            "ticks": "outside",
            "zeroline": false,
            "zerolinecolor": "rgb(36,36,36)"
           }
          },
          "shapedefaults": {
           "fillcolor": "black",
           "line": {
            "width": 0
           },
           "opacity": 0.3
          },
          "ternary": {
           "aaxis": {
            "gridcolor": "rgb(232,232,232)",
            "linecolor": "rgb(36,36,36)",
            "showgrid": false,
            "showline": true,
            "ticks": "outside"
           },
           "baxis": {
            "gridcolor": "rgb(232,232,232)",
            "linecolor": "rgb(36,36,36)",
            "showgrid": false,
            "showline": true,
            "ticks": "outside"
           },
           "bgcolor": "white",
           "caxis": {
            "gridcolor": "rgb(232,232,232)",
            "linecolor": "rgb(36,36,36)",
            "showgrid": false,
            "showline": true,
            "ticks": "outside"
           }
          },
          "title": {
           "x": 0.05
          },
          "xaxis": {
           "automargin": true,
           "gridcolor": "rgb(232,232,232)",
           "linecolor": "rgb(36,36,36)",
           "showgrid": false,
           "showline": true,
           "ticks": "outside",
           "title": {
            "standoff": 15
           },
           "zeroline": false,
           "zerolinecolor": "rgb(36,36,36)"
          },
          "yaxis": {
           "automargin": true,
           "gridcolor": "rgb(232,232,232)",
           "linecolor": "rgb(36,36,36)",
           "showgrid": false,
           "showline": true,
           "ticks": "outside",
           "title": {
            "standoff": 15
           },
           "zeroline": false,
           "zerolinecolor": "rgb(36,36,36)"
          }
         }
        },
        "title": {
         "text": "Durability vs Price"
        },
        "xaxis": {
         "anchor": "y",
         "autorange": true,
         "domain": [
          0,
          1
         ],
         "range": [
          0.7287524053888503,
          5.781792604817761
         ],
         "title": {
          "text": "Price"
         },
         "type": "log"
        },
        "yaxis": {
         "anchor": "x",
         "autorange": true,
         "domain": [
          0,
          1
         ],
         "range": [
          1.7932643221774835,
          4.711885656142422
         ],
         "title": {
          "text": "Durability"
         },
         "type": "log"
        }
       }
      },
      "image/png": "[encoded data removed]"
     },
     "metadata": {},
     "output_type": "display_data"
    }
   ],
   "source": [
    "plot_interactive_relationships(weapons_df, log_axes=True)\n"
   ]
  },
  {
   "cell_type": "code",
   "execution_count": 33,
   "metadata": {},
   "outputs": [
    {
     "data": {
      "application/vnd.jupyter.widget-view+json": {
       "model_id": "700ce08418d749d097f22d96d41bee74",
       "version_major": 2,
       "version_minor": 0
      },
      "text/plain": [
       "ToggleButtons(options=('Single Weapon', 'Compare'), value='Single Weapon')"
      ]
     },
     "metadata": {},
     "output_type": "display_data"
    },
    {
     "data": {
      "application/vnd.jupyter.widget-view+json": {
       "model_id": "9cf52d04cf064ca4a879ceabf7ebc509",
       "version_major": 2,
       "version_minor": 0
      },
      "text/plain": [
       "Output()"
      ]
     },
     "metadata": {},
     "output_type": "display_data"
    },
    {
     "data": {
      "application/vnd.jupyter.widget-view+json": {
       "model_id": "d9d7914328b646d38275cfa6f3e62807",
       "version_major": 2,
       "version_minor": 0
      },
      "text/plain": [
       "Output()"
      ]
     },
     "metadata": {},
     "output_type": "display_data"
    }
   ],
   "source": [
    "# !pip install plotly ipywidgets pandas numpy\n",
    "\n",
    "\"\"\"\n",
    "Interactive Weapon Value Dashboard (Jupyter) — with Variant Handling\n",
    "--------------------------------------------------------------------\n",
    "- Computes a configurable \"Value %\" score for Palworld weapons.\n",
    "- Supports variant aggregation: Per-variant, Pareto→Best, Best by Value, Median Stats.\n",
    "- Displays Single Weapon gauges and Compare mode (bar + radar).\n",
    "- Shows a \"Top Value Picks\" table at the bottom based on DEFAULT weights + chosen aggregation.\n",
    "\"\"\"\n",
    "\n",
    "import numpy as np\n",
    "import pandas as pd\n",
    "import plotly.express as px\n",
    "import plotly.graph_objects as go\n",
    "import ipywidgets as w\n",
    "from IPython.display import display, clear_output\n",
    "from typing import Tuple\n",
    "\n",
    "\n",
    "# ----------------------------------------------------------------------\n",
    "# 0) Load data\n",
    "# ----------------------------------------------------------------------\n",
    "try:\n",
    "    df = weapons_df.copy()\n",
    "except NameError as e:\n",
    "    raise RuntimeError(\n",
    "        \"Expected a DataFrame named 'weapons_df' in memory with columns \"\n",
    "        \"['Name', 'Price', 'Physical Attack', 'Durability'].\"\n",
    "    ) from e\n",
    "\n",
    "REQUIRED_COLS = {'Name', 'Price', 'Physical Attack', 'Durability'}\n",
    "missing = REQUIRED_COLS - set(df.columns)\n",
    "if missing:\n",
    "    raise ValueError(f\"Missing required columns: {missing}\")\n",
    "\n",
    "# Ensure numeric for relevant cols\n",
    "for col in ['Price', 'Physical Attack', 'Durability']:\n",
    "    df[col] = pd.to_numeric(df[col], errors='coerce')\n",
    "df['Name'] = df['Name'].astype(str)\n",
    "\n",
    "\n",
    "# ----------------------------------------------------------------------\n",
    "# 1) Scoring + Variant Functions\n",
    "# ----------------------------------------------------------------------\n",
    "def compute_value_scores(\n",
    "    data: pd.DataFrame,\n",
    "    w_attack: float = 1/3,\n",
    "    w_durability: float = 1/3,\n",
    "    w_price_inverse: float = 1/3,\n",
    "    clamp_0_1: bool = True\n",
    ") -> pd.DataFrame:\n",
    "    \"\"\"Compute Value %, Attack Score, Durability Score, and Price Efficiency %.\"\"\"\n",
    "    d = data.copy()\n",
    "\n",
    "    def minmax(x):\n",
    "        x_min = np.nanmin(x)\n",
    "        x_max = np.nanmax(x)\n",
    "        if not np.isfinite(x_min) or not np.isfinite(x_max) or x_max == x_min:\n",
    "            return np.zeros_like(x, dtype=float)\n",
    "        return (x - x_min) / (x_max - x_min)\n",
    "\n",
    "    a_norm = minmax(d['Physical Attack'].to_numpy())\n",
    "    d_norm = minmax(d['Durability'].to_numpy())\n",
    "\n",
    "    price = d['Price'].to_numpy()\n",
    "    p_min, p_max = np.nanmin(price), np.nanmax(price)\n",
    "    if np.isfinite(p_min) and np.isfinite(p_max) and p_max != p_min:\n",
    "        p_inv = (p_max - price) / (p_max - p_min)\n",
    "    else:\n",
    "        p_inv = np.zeros_like(price, dtype=float)\n",
    "\n",
    "    w_sum = w_attack + w_durability + w_price_inverse\n",
    "    if w_sum == 0:\n",
    "        w_attack = w_durability = w_price_inverse = 1/3\n",
    "        w_sum = 1.0\n",
    "    wa, wd, wp = w_attack / w_sum, w_durability / w_sum, w_price_inverse / w_sum\n",
    "\n",
    "    combined = wa * a_norm + wd * d_norm + wp * p_inv\n",
    "    if clamp_0_1:\n",
    "        combined = np.clip(combined, 0, 1)\n",
    "\n",
    "    d['Value %'] = np.round(combined * 100.0, 2)\n",
    "    d['Attack Score'] = np.round(a_norm * 100.0, 1)\n",
    "    d['Durability Score'] = np.round(d_norm * 100.0, 1)\n",
    "    d['Price Efficiency %'] = np.round(p_inv * 100.0, 1)\n",
    "    return d\n",
    "\n",
    "\n",
    "def annotate_variant_counts(df_raw: pd.DataFrame) -> pd.DataFrame:\n",
    "    \"\"\"Add 'Variants @Price' column showing count of variants for each (Name, Price).\"\"\"\n",
    "    counts = (\n",
    "        df_raw\n",
    "        .groupby(['Name', 'Price'])['Physical Attack']\n",
    "        .size()\n",
    "        .rename('Variants @Price')\n",
    "        .reset_index()\n",
    "    )\n",
    "    return df_raw.merge(counts, on=['Name', 'Price'], how='left')\n",
    "\n",
    "\n",
    "def pareto_front(group: pd.DataFrame) -> pd.DataFrame:\n",
    "    \"\"\"Keep non-dominated variants (better in at least one stat, not worse in the other).\"\"\"\n",
    "    g = group.copy()\n",
    "    A = g['Physical Attack'].to_numpy()\n",
    "    D = g['Durability'].to_numpy()\n",
    "    keep = np.ones(len(g), dtype=bool)\n",
    "    for i in range(len(g)):\n",
    "        dom = (A >= A[i]) & (D >= D[i]) & ((A > A[i]) | (D > D[i]))\n",
    "        if np.any(dom):\n",
    "            keep[i] = False\n",
    "    return g.loc[keep]\n",
    "\n",
    "\n",
    "def reduce_variants(scored: pd.DataFrame, how: str = \"pareto_or_best\") -> pd.DataFrame:\n",
    "    \"\"\"\n",
    "    Reduce same-name/same-price variants according to 'how':\n",
    "      - 'per_variant': no reduction.\n",
    "      - 'pareto_or_best': Pareto front, then keep best Value%.\n",
    "      - 'best_by_value': best Value% variant per (Name, Price).\n",
    "      - 'median_stats': median Attack & Durability per (Name, Price), recompute Value later.\n",
    "    \"\"\"\n",
    "    if how == \"per_variant\":\n",
    "        return scored\n",
    "\n",
    "    base = scored.dropna(subset=['Name', 'Price', 'Physical Attack', 'Durability']).copy()\n",
    "\n",
    "    if how == \"best_by_value\":\n",
    "        idx = base.groupby(['Name', 'Price'])['Value %'].idxmax()\n",
    "        return base.loc[idx].reset_index(drop=True)\n",
    "\n",
    "    if how == \"median_stats\":\n",
    "        agg = (\n",
    "            base.groupby(['Name', 'Price'], as_index=False)\n",
    "            .agg({'Physical Attack': 'median', 'Durability': 'median', 'Price': 'first'})\n",
    "        )\n",
    "        return agg\n",
    "\n",
    "    # Default: Pareto→Best\n",
    "    reduced = []\n",
    "    for _, grp in base.groupby(['Name', 'Price']):\n",
    "        pf = pareto_front(grp)\n",
    "        if len(pf) > 1:\n",
    "            best_idx = pf['Value %'].idxmax()\n",
    "            pf = pf.loc[[best_idx]]\n",
    "        reduced.append(pf)\n",
    "    return pd.concat(reduced, ignore_index=True)\n",
    "\n",
    "\n",
    "# ----------------------------------------------------------------------\n",
    "# 2) Plot helper\n",
    "# ----------------------------------------------------------------------\n",
    "def ring_gauge(title: str, value_percent: float, height: int = 260) -> go.Figure:\n",
    "    fig = go.Figure(go.Indicator(\n",
    "        mode=\"gauge+number\",\n",
    "        value=float(np.nan_to_num(value_percent)),\n",
    "        number={'suffix': '%', 'font': {'size': 24}},\n",
    "        gauge={\n",
    "            \"axis\": {\"range\": [0, 100]},\n",
    "            \"bar\": {\"thickness\": 0.25},\n",
    "            \"borderwidth\": 1,\n",
    "            \"threshold\": {\"line\": {\"width\": 2}, \"thickness\": 0.75,\n",
    "                          \"value\": float(np.nan_to_num(value_percent))}\n",
    "        },\n",
    "        title={'text': title}\n",
    "    ))\n",
    "    fig.update_layout(height=height, margin=dict(l=30, r=30, t=60, b=20))\n",
    "    return fig\n",
    "\n",
    "\n",
    "# ----------------------------------------------------------------------\n",
    "# 3) Widgets\n",
    "# ----------------------------------------------------------------------\n",
    "preset = w.Dropdown(\n",
    "    description='Preset',\n",
    "    options=['Balanced (1/3 each)', 'Budget Buyer (Price⁻¹↑)', 'Power User (Attack↑)', 'Tanky (Durability↑)'],\n",
    "    value='Balanced (1/3 each)'\n",
    ")\n",
    "\n",
    "attack_w = w.FloatSlider(description='Attack weight', min=0.0, max=1.0, step=0.01,\n",
    "                         value=1/3, continuous_update=False)\n",
    "dur_w    = w.FloatSlider(description='Durability weight', min=0.0, max=1.0, step=0.01,\n",
    "                         value=1/3, continuous_update=False)\n",
    "price_w  = w.FloatSlider(description='Price⁻¹ weight', min=0.0, max=1.0, step=0.01,\n",
    "                         value=1/3, continuous_update=False)\n",
    "\n",
    "agg_mode = w.Dropdown(\n",
    "    description='Variant mode',\n",
    "    options=[\n",
    "        ('Per-variant (no aggregation)', 'per_variant'),\n",
    "        ('Aggregate: Pareto→Best', 'pareto_or_best'),\n",
    "        ('Aggregate: Best by Value', 'best_by_value'),\n",
    "        ('Aggregate: Median Stats', 'median_stats')\n",
    "    ],\n",
    "    value='pareto_or_best'\n",
    ")\n",
    "\n",
    "mode = w.ToggleButtons(options=['Single Weapon', 'Compare'], value='Single Weapon')\n",
    "\n",
    "weapon_dd = w.Dropdown(description='Weapon', options=sorted(df['Name'].dropna().unique().tolist()))\n",
    "compare_ms = w.SelectMultiple(description='Compare',\n",
    "                              options=sorted(df['Name'].dropna().unique().tolist()),\n",
    "                              value=tuple(sorted(df['Name'].dropna().unique().tolist())[:5]))\n",
    "\n",
    "top_n_slider = w.IntSlider(description='Top picks', min=5, max=50, step=1,\n",
    "                           value=15, continuous_update=False)\n",
    "\n",
    "out_main = w.Output()\n",
    "out_bottom = w.Output()\n",
    "\n",
    "\n",
    "# ----------------------------------------------------------------------\n",
    "# 4) Preset logic\n",
    "# ----------------------------------------------------------------------\n",
    "def apply_preset(label: str) -> Tuple[float, float, float]:\n",
    "    if label.startswith('Balanced'):\n",
    "        return (1/3, 1/3, 1/3)\n",
    "    if label.startswith('Budget Buyer'):\n",
    "        return (0.2, 0.2, 0.6)\n",
    "    if label.startswith('Power User'):\n",
    "        return (0.6, 0.2, 0.2)\n",
    "    if label.startswith('Tanky'):\n",
    "        return (0.2, 0.6, 0.2)\n",
    "    return (1/3, 1/3, 1/3)\n",
    "\n",
    "\n",
    "# ----------------------------------------------------------------------\n",
    "# 5) Render function\n",
    "# ----------------------------------------------------------------------\n",
    "def render(_=None):\n",
    "    with out_main:\n",
    "        clear_output(wait=True)\n",
    "\n",
    "        # Apply preset → sliders\n",
    "        pa, pd, pp = apply_preset(preset.value)\n",
    "        attack_w.value, dur_w.value, price_w.value = pa, pd, pp\n",
    "\n",
    "        # Normalize weights\n",
    "        total_w = attack_w.value + dur_w.value + price_w.value\n",
    "        wa, wd, wp = (attack_w.value / total_w), (dur_w.value / total_w), (price_w.value / total_w)\n",
    "\n",
    "        # Compute per-variant scores\n",
    "        scored_per_variant = compute_value_scores(df, wa, wd, wp)\n",
    "        scored_per_variant = annotate_variant_counts(scored_per_variant)\n",
    "\n",
    "        # Aggregate if needed\n",
    "        scored = reduce_variants(scored_per_variant, how=agg_mode.value)\n",
    "        if agg_mode.value == 'median_stats':\n",
    "            scored = compute_value_scores(scored, wa, wd, wp)\n",
    "            scored = annotate_variant_counts(scored)\n",
    "\n",
    "        display(w.HBox([preset, attack_w, dur_w, price_w, agg_mode]))\n",
    "        display(w.HTML(f\"<b>Effective weights</b>: Attack {wa:.2f}, Durability {wd:.2f}, Price⁻¹ {wp:.2f}\"))\n",
    "\n",
    "        # Single weapon mode\n",
    "        if mode.value == 'Single Weapon':\n",
    "            display(weapon_dd)\n",
    "            row = scored.loc[scored['Name'] == weapon_dd.value]\n",
    "            if not row.empty:\n",
    "                r = row.iloc[0]\n",
    "                figs = [\n",
    "                    ring_gauge(\"Overall Value\", r['Value %']),\n",
    "                    ring_gauge(\"Price Efficiency\", r['Price Efficiency %']),\n",
    "                    ring_gauge(\"Attack Score\", r['Attack Score']),\n",
    "                    ring_gauge(\"Durability Score\", r['Durability Score'])\n",
    "                ]\n",
    "                boxes = [w.Output() for _ in figs]\n",
    "                for fig, box in zip(figs, boxes):\n",
    "                    with box:\n",
    "                        display(fig)\n",
    "                display(w.HBox(boxes))\n",
    "\n",
    "        # Compare mode\n",
    "        else:\n",
    "            display(compare_ms)\n",
    "            selected = list(compare_ms.value)\n",
    "            comp = scored[scored['Name'].isin(selected)].copy()\n",
    "            if not comp.empty:\n",
    "                fig_bar = px.bar(\n",
    "                    comp.sort_values('Value %', ascending=False),\n",
    "                    x='Name', y='Value %',\n",
    "                    hover_data=['Price', 'Physical Attack', 'Durability', 'Variants @Price',\n",
    "                                'Price Efficiency %', 'Attack Score', 'Durability Score'],\n",
    "                    title='Overall Value %'\n",
    "                )\n",
    "                fig_radar = px.line_polar(\n",
    "                    comp.melt(id_vars='Name', value_vars=['Price Efficiency %', 'Attack Score', 'Durability Score'],\n",
    "                              var_name='Metric', value_name='Score'),\n",
    "                    r='Score', theta='Metric', color='Name', line_close=True,\n",
    "                    title='Component Scores'\n",
    "                )\n",
    "                left, right = w.Output(), w.Output()\n",
    "                with left: display(fig_bar)\n",
    "                with right: display(fig_radar)\n",
    "                display(w.HBox([left, right]))\n",
    "\n",
    "    # Bottom: Top Value Picks (Default weights, current agg mode)\n",
    "    with out_bottom:\n",
    "        clear_output(wait=True)\n",
    "        wa, wd, wp = 1/3, 1/3, 1/3\n",
    "        scored_per_variant = compute_value_scores(df, wa, wd, wp)\n",
    "        scored_per_variant = annotate_variant_counts(scored_per_variant)\n",
    "        scored_def = reduce_variants(scored_per_variant, how=agg_mode.value)\n",
    "        if agg_mode.value == 'median_stats':\n",
    "            scored_def = compute_value_scores(scored_def, wa, wd, wp)\n",
    "            scored_def = annotate_variant_counts(scored_def)\n",
    "        top_n = int(top_n_slider.value)\n",
    "        top_default = scored_def.sort_values('Value %', ascending=False).head(top_n)\n",
    "        display(w.HTML(\"<hr>\"))\n",
    "        display(w.HTML(\"<h3>Top Value Picks (Default Weights, Current Variant Mode)</h3>\"))\n",
    "        display(top_n_slider)\n",
    "        display(top_default)\n",
    "\n",
    "\n",
    "# ----------------------------------------------------------------------\n",
    "# 6) Wire events & launch\n",
    "# ----------------------------------------------------------------------\n",
    "for ctl in (preset, attack_w, dur_w, price_w, agg_mode, mode, weapon_dd, compare_ms, top_n_slider):\n",
    "    ctl.observe(render, names='value')\n",
    "\n",
    "display(mode)\n",
    "render()\n",
    "display(out_main)\n",
    "display(out_bottom)\n"
   ]
  }
 ],
 "metadata": {
  "kernelspec": {
   "display_name": "Python 3 (ipykernel)",
   "language": "python",
   "name": "python3"
  },
  "language_info": {
   "codemirror_mode": {
    "name": "ipython",
    "version": 3
   },
   "file_extension": ".py",
   "mimetype": "text/x-python",
   "name": "python",
   "nbconvert_exporter": "python",
   "pygments_lexer": "ipython3",
   "version": "3.10.13"
  },
  "widgets": {
   "application/vnd.jupyter.widget-state+json": {
    "state": {},
    "version_major": 2,
    "version_minor": 0
   }
  }
 },
 "nbformat": 4,
 "nbformat_minor": 4
}
